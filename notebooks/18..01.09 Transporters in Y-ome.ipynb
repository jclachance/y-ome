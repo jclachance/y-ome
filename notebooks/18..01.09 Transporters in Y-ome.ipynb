{
 "cells": [
  {
   "cell_type": "code",
   "execution_count": 81,
   "metadata": {},
   "outputs": [],
   "source": [
    "import json\n",
    "import pandas as pd\n",
    "import numpy as np\n",
    "from yome import Session\n",
    "from yome.models import *\n",
    "from yome.util import to_df, report\n",
    "import re\n",
    "from sqlalchemy import or_, and_\n",
    "from sqlalchemy.orm import aliased\n",
    "import itertools as it\n",
    "import seaborn as sns"
   ]
  },
  {
   "cell_type": "code",
   "execution_count": 17,
   "metadata": {},
   "outputs": [
    {
     "name": "stdout",
     "output_type": "stream",
     "text": [
      "Populating the interactive namespace from numpy and matplotlib\n"
     ]
    }
   ],
   "source": [
    "from mpl_recipes import mpl_setup\n",
    "%mpl_setup"
   ]
  },
  {
   "cell_type": "code",
   "execution_count": 18,
   "metadata": {},
   "outputs": [],
   "source": [
    "session = Session()"
   ]
  },
  {
   "cell_type": "markdown",
   "metadata": {},
   "source": [
    "# Load putative transporter list from ecocyc"
   ]
  },
  {
   "cell_type": "code",
   "execution_count": 59,
   "metadata": {},
   "outputs": [],
   "source": [
    "ec_putative_transporters = pd.read_table('../sources/ecocyc/ecocyc-putative-inner-membrane-transporters.tsv', header=0)"
   ]
  },
  {
   "cell_type": "code",
   "execution_count": 60,
   "metadata": {},
   "outputs": [
    {
     "data": {
      "text/plain": [
       "163"
      ]
     },
     "execution_count": 60,
     "metadata": {},
     "output_type": "execute_result"
    }
   ],
   "source": [
    "len(ec_putative_transporters)"
   ]
  },
  {
   "cell_type": "code",
   "execution_count": 61,
   "metadata": {},
   "outputs": [
    {
     "data": {
      "text/html": [
       "<div>\n",
       "<style scoped>\n",
       "    .dataframe tbody tr th:only-of-type {\n",
       "        vertical-align: middle;\n",
       "    }\n",
       "\n",
       "    .dataframe tbody tr th {\n",
       "        vertical-align: top;\n",
       "    }\n",
       "\n",
       "    .dataframe thead th {\n",
       "        text-align: right;\n",
       "    }\n",
       "</style>\n",
       "<table border=\"1\" class=\"dataframe\">\n",
       "  <thead>\n",
       "    <tr style=\"text-align: right;\">\n",
       "      <th></th>\n",
       "      <th>primary_name</th>\n",
       "      <th>gene_product</th>\n",
       "    </tr>\n",
       "  </thead>\n",
       "  <tbody>\n",
       "  </tbody>\n",
       "</table>\n",
       "</div>"
      ],
      "text/plain": [
       "Empty DataFrame\n",
       "Columns: [primary_name, gene_product]\n",
       "Index: []"
      ]
     },
     "execution_count": 61,
     "metadata": {},
     "output_type": "execute_result"
    }
   ],
   "source": [
    "ec_putative_transporters[ec_putative_transporters.duplicated(subset='primary_name')]"
   ]
  },
  {
   "cell_type": "markdown",
   "metadata": {},
   "source": [
    "# Get db Y-ome transporters"
   ]
  },
  {
   "cell_type": "code",
   "execution_count": 146,
   "metadata": {},
   "outputs": [],
   "source": [
    "transporter_summary_html_strings = [\n",
    "    'is a member of the Multi Antimicrobial Extrusion (MATE) Family of transporters',\n",
    "]\n",
    "transporter_strings = [\n",
    "    'transporter',\n",
    "    'antiporter',\n",
    "    'exporter',\n",
    "    'permease',\n",
    "    'transport protein',\n",
    "    'PTS enzyme',\n",
    "    'efflux pump',\n",
    "]"
   ]
  },
  {
   "cell_type": "code",
   "execution_count": 147,
   "metadata": {},
   "outputs": [],
   "source": [
    "Knowledgebase2 = aliased(Knowledgebase)\n",
    "KnowledgebaseGene2 = aliased(KnowledgebaseGene)\n",
    "KnowledgebaseFeature2 = aliased(KnowledgebaseFeature)"
   ]
  },
  {
   "cell_type": "code",
   "execution_count": 148,
   "metadata": {},
   "outputs": [],
   "source": [
    "transporters = to_df(\n",
    "    session.query(\n",
    "        Gene.locus_id,\n",
    "        KnowledgebaseGene.primary_name,\n",
    "        KnowledgebaseFeature.feature,\n",
    "        Knowledgebase2.name,\n",
    "        KnowledgebaseGene2.annotation_quality\n",
    "    )\n",
    "    .join(KnowledgebaseGene, KnowledgebaseGene.gene_id == Gene.id)\n",
    "    .join(Knowledgebase, Knowledgebase.id == KnowledgebaseGene.knowledgebase_id)\n",
    "    .join(KnowledgebaseFeature, KnowledgebaseFeature.knowledgebase_gene_id == KnowledgebaseGene.id)\n",
    "    .filter(or_(\n",
    "        and_(\n",
    "            or_(*[KnowledgebaseFeature.feature.ilike(f'%{x}%') for x in transporter_strings]),\n",
    "            KnowledgebaseFeature.feature_type.notin_(['summary_html']),\n",
    "        ),\n",
    "        and_(\n",
    "            or_(*[KnowledgebaseFeature.feature.ilike(f'%{x}%') for x in transporter_summary_html_strings]),\n",
    "            KnowledgebaseFeature.feature_type == 'summary_html',\n",
    "        ),\n",
    "    ))\n",
    "    .join(KnowledgebaseGene2, KnowledgebaseGene2.gene_id == Gene.id)\n",
    "    .join(Knowledgebase2, Knowledgebase2.id == KnowledgebaseGene2.knowledgebase_id)\n",
    "    .filter(Knowledgebase2.name == 'Y-ome')\n",
    "    .filter(KnowledgebaseGene2.annotation_quality == 'low')\n",
    ")"
   ]
  },
  {
   "cell_type": "code",
   "execution_count": 151,
   "metadata": {},
   "outputs": [],
   "source": [
    "transporters_ar = (\n",
    "    transporters\n",
    "    .groupby('primary_name')\n",
    "    .agg(lambda x: list(x))\n",
    "    .drop(['locus_id', 'name', 'annotation_quality'], axis=1)\n",
    ")"
   ]
  },
  {
   "cell_type": "code",
   "execution_count": 152,
   "metadata": {},
   "outputs": [
    {
     "data": {
      "text/plain": [
       "220"
      ]
     },
     "execution_count": 152,
     "metadata": {},
     "output_type": "execute_result"
    }
   ],
   "source": [
    "len(transporters_ar)"
   ]
  },
  {
   "cell_type": "code",
   "execution_count": 161,
   "metadata": {},
   "outputs": [
    {
     "data": {
      "text/plain": [
       "False"
      ]
     },
     "execution_count": 161,
     "metadata": {},
     "output_type": "execute_result"
    }
   ],
   "source": [
    "'ydaN' in transporters_ar.index"
   ]
  },
  {
   "cell_type": "markdown",
   "metadata": {},
   "source": [
    "# Merge"
   ]
  },
  {
   "cell_type": "code",
   "execution_count": 153,
   "metadata": {},
   "outputs": [],
   "source": [
    "merged = transporters_ar.merge(ec_putative_transporters, how='outer', left_index=True, right_on='primary_name')"
   ]
  },
  {
   "cell_type": "code",
   "execution_count": 154,
   "metadata": {},
   "outputs": [
    {
     "data": {
      "text/html": [
       "<div>\n",
       "<style scoped>\n",
       "    .dataframe tbody tr th:only-of-type {\n",
       "        vertical-align: middle;\n",
       "    }\n",
       "\n",
       "    .dataframe tbody tr th {\n",
       "        vertical-align: top;\n",
       "    }\n",
       "\n",
       "    .dataframe thead th {\n",
       "        text-align: right;\n",
       "    }\n",
       "</style>\n",
       "<table border=\"1\" class=\"dataframe\">\n",
       "  <thead>\n",
       "    <tr style=\"text-align: right;\">\n",
       "      <th></th>\n",
       "      <th>feature</th>\n",
       "      <th>primary_name</th>\n",
       "      <th>gene_product</th>\n",
       "    </tr>\n",
       "  </thead>\n",
       "  <tbody>\n",
       "    <tr>\n",
       "      <th>162</th>\n",
       "      <td>[DUF1656 family putative inner membrane efflux...</td>\n",
       "      <td>aaeX</td>\n",
       "      <td>NaN</td>\n",
       "    </tr>\n",
       "    <tr>\n",
       "      <th>162</th>\n",
       "      <td>[CP4-6 prophage; ABC transporter ATP-binding p...</td>\n",
       "      <td>afuC</td>\n",
       "      <td>NaN</td>\n",
       "    </tr>\n",
       "    <tr>\n",
       "      <th>162</th>\n",
       "      <td>[L-asparagine transporter, transporter, L-aspa...</td>\n",
       "      <td>ansP</td>\n",
       "      <td>NaN</td>\n",
       "    </tr>\n",
       "    <tr>\n",
       "      <th>0</th>\n",
       "      <td>[putative major facilitator superfamily transp...</td>\n",
       "      <td>araJ</td>\n",
       "      <td>putative major facilitator superfamily transpo...</td>\n",
       "    </tr>\n",
       "    <tr>\n",
       "      <th>162</th>\n",
       "      <td>[putative ABC transporter periplasmic binding ...</td>\n",
       "      <td>artI</td>\n",
       "      <td>NaN</td>\n",
       "    </tr>\n",
       "  </tbody>\n",
       "</table>\n",
       "</div>"
      ],
      "text/plain": [
       "                                               feature primary_name  \\\n",
       "162  [DUF1656 family putative inner membrane efflux...         aaeX   \n",
       "162  [CP4-6 prophage; ABC transporter ATP-binding p...         afuC   \n",
       "162  [L-asparagine transporter, transporter, L-aspa...         ansP   \n",
       "0    [putative major facilitator superfamily transp...         araJ   \n",
       "162  [putative ABC transporter periplasmic binding ...         artI   \n",
       "\n",
       "                                          gene_product  \n",
       "162                                                NaN  \n",
       "162                                                NaN  \n",
       "162                                                NaN  \n",
       "0    putative major facilitator superfamily transpo...  \n",
       "162                                                NaN  "
      ]
     },
     "execution_count": 154,
     "metadata": {},
     "output_type": "execute_result"
    }
   ],
   "source": [
    "merged.head()"
   ]
  },
  {
   "cell_type": "code",
   "execution_count": 168,
   "metadata": {},
   "outputs": [
    {
     "name": "stdout",
     "output_type": "stream",
     "text": [
      "163\n"
     ]
    }
   ],
   "source": [
    "print(len(merged[~merged.gene_product.isnull()]))"
   ]
  },
  {
   "cell_type": "code",
   "execution_count": 169,
   "metadata": {},
   "outputs": [
    {
     "name": "stdout",
     "output_type": "stream",
     "text": [
      "220\n"
     ]
    }
   ],
   "source": [
    "print(len(merged[~merged.feature.isnull()]))"
   ]
  },
  {
   "cell_type": "code",
   "execution_count": 170,
   "metadata": {},
   "outputs": [
    {
     "data": {
      "text/plain": [
       "124"
      ]
     },
     "execution_count": 170,
     "metadata": {},
     "output_type": "execute_result"
    }
   ],
   "source": [
    "len(merged[~merged.gene_product.isnull() & ~merged.feature.isnull()])"
   ]
  },
  {
   "cell_type": "code",
   "execution_count": 171,
   "metadata": {},
   "outputs": [
    {
     "data": {
      "text/plain": [
       "0"
      ]
     },
     "execution_count": 171,
     "metadata": {},
     "output_type": "execute_result"
    }
   ],
   "source": [
    "len(merged[merged.gene_product.isnull() & merged.feature.isnull()])"
   ]
  },
  {
   "cell_type": "markdown",
   "metadata": {},
   "source": [
    "# set up for export"
   ]
  },
  {
   "cell_type": "markdown",
   "metadata": {},
   "source": [
    "NOTES\n",
    "- b3682 / glvB excluded as pseudogene\n",
    "- b1342 / ydaN evidence from EcoCyc makes this not in the Y-ome \"Assay of unpurified protein [Worlock02]\"\n",
    "- might want to pull some out like b4662 / sgrT"
   ]
  },
  {
   "cell_type": "code",
   "execution_count": 180,
   "metadata": {},
   "outputs": [
    {
     "data": {
      "text/html": [
       "<div>\n",
       "<style scoped>\n",
       "    .dataframe tbody tr th:only-of-type {\n",
       "        vertical-align: middle;\n",
       "    }\n",
       "\n",
       "    .dataframe tbody tr th {\n",
       "        vertical-align: top;\n",
       "    }\n",
       "\n",
       "    .dataframe thead th {\n",
       "        text-align: right;\n",
       "    }\n",
       "</style>\n",
       "<table border=\"1\" class=\"dataframe\">\n",
       "  <thead>\n",
       "    <tr style=\"text-align: right;\">\n",
       "      <th></th>\n",
       "      <th>locus_tag</th>\n",
       "      <th>primary_name</th>\n",
       "      <th>matched_features</th>\n",
       "    </tr>\n",
       "  </thead>\n",
       "  <tbody>\n",
       "    <tr>\n",
       "      <th>0</th>\n",
       "      <td>b0007</td>\n",
       "      <td>yaaJ</td>\n",
       "      <td>putative alanine/glycine:cation symporter fami...</td>\n",
       "    </tr>\n",
       "    <tr>\n",
       "      <th>1</th>\n",
       "      <td>b0045</td>\n",
       "      <td>yaaU</td>\n",
       "      <td>putative major facilitator superfamily transpo...</td>\n",
       "    </tr>\n",
       "    <tr>\n",
       "      <th>2</th>\n",
       "      <td>b0106</td>\n",
       "      <td>hofC</td>\n",
       "      <td>Protein transport protein HofC homolog</td>\n",
       "    </tr>\n",
       "    <tr>\n",
       "      <th>3</th>\n",
       "      <td>b0107</td>\n",
       "      <td>hofB</td>\n",
       "      <td>Protein transport protein HofB homolog</td>\n",
       "    </tr>\n",
       "    <tr>\n",
       "      <th>4</th>\n",
       "      <td>b0127</td>\n",
       "      <td>yadG</td>\n",
       "      <td>putative ABC transporter ATP-binding protein Y...</td>\n",
       "    </tr>\n",
       "  </tbody>\n",
       "</table>\n",
       "</div>"
      ],
      "text/plain": [
       "  locus_tag primary_name                                   matched_features\n",
       "0     b0007         yaaJ  putative alanine/glycine:cation symporter fami...\n",
       "1     b0045         yaaU  putative major facilitator superfamily transpo...\n",
       "2     b0106         hofC             Protein transport protein HofC homolog\n",
       "3     b0107         hofB             Protein transport protein HofB homolog\n",
       "4     b0127         yadG  putative ABC transporter ATP-binding protein Y..."
      ]
     },
     "execution_count": 180,
     "metadata": {},
     "output_type": "execute_result"
    }
   ],
   "source": [
    "yome_transporters = (\n",
    "    transporters\n",
    "    .groupby('locus_id')\n",
    "    .agg(lambda x: list(x))\n",
    "    .drop(['name', 'annotation_quality'], axis=1)\n",
    "    .reset_index()\n",
    "    .rename(columns={'locus_id': 'locus_tag', 'feature': 'matched_features'})\n",
    ")\n",
    "yome_transporters.primary_name = yome_transporters.primary_name.apply(lambda x: x[0])\n",
    "yome_transporters.matched_features = yome_transporters.matched_features.apply(lambda x: '; '.join(x))\n",
    "yome_transporters.head()"
   ]
  },
  {
   "cell_type": "code",
   "execution_count": 181,
   "metadata": {},
   "outputs": [],
   "source": [
    "yome_transporters.to_csv('../yome_transporters.tsv', sep='\\t', index=False)"
   ]
  },
  {
   "cell_type": "code",
   "execution_count": null,
   "metadata": {},
   "outputs": [],
   "source": []
  }
 ],
 "metadata": {
  "kernelspec": {
   "display_name": "Python 3",
   "language": "python",
   "name": "python3"
  },
  "language_info": {
   "codemirror_mode": {
    "name": "ipython",
    "version": 3
   },
   "file_extension": ".py",
   "mimetype": "text/x-python",
   "name": "python",
   "nbconvert_exporter": "python",
   "pygments_lexer": "ipython3",
   "version": "3.6.3"
  }
 },
 "nbformat": 4,
 "nbformat_minor": 2
}
