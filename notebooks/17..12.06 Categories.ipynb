{
 "cells": [
  {
   "cell_type": "code",
   "execution_count": 1,
   "metadata": {
    "collapsed": true
   },
   "outputs": [],
   "source": [
    "import json\n",
    "import pandas as pd\n",
    "from yome import Session\n",
    "from yome.models import *\n",
    "from yome.util import to_df\n",
    "import re\n",
    "from sqlalchemy.orm import aliased\n",
    "import itertools as it\n",
    "import seaborn as sns\n",
    "from IPython.display import HTML"
   ]
  },
  {
   "cell_type": "code",
   "execution_count": 2,
   "metadata": {
    "collapsed": true
   },
   "outputs": [],
   "source": [
    "pd.set_option('display.max_colwidth', -1)"
   ]
  },
  {
   "cell_type": "code",
   "execution_count": 3,
   "metadata": {},
   "outputs": [
    {
     "name": "stdout",
     "output_type": "stream",
     "text": [
      "Populating the interactive namespace from numpy and matplotlib\n"
     ]
    }
   ],
   "source": [
    "from mpl_recipes import mpl_setup\n",
    "%mpl_setup"
   ]
  },
  {
   "cell_type": "code",
   "execution_count": 4,
   "metadata": {
    "collapsed": true
   },
   "outputs": [],
   "source": [
    "session = Session()"
   ]
  },
  {
   "cell_type": "markdown",
   "metadata": {},
   "source": [
    "# Psuedogenes "
   ]
  },
  {
   "cell_type": "code",
   "execution_count": 5,
   "metadata": {
    "collapsed": true
   },
   "outputs": [],
   "source": [
    "# Genes maked pseudo in EcoGene\n",
    "ecogene_pseudo = (\n",
    "    session.query(Gene.locus_id,\n",
    "                  KnowledgebaseGene.primary_name,\n",
    "                  KnowledgebaseFeature.feature)\n",
    "    .join(KnowledgebaseGene)\n",
    "    .join(Knowledgebase)\n",
    "    .join(KnowledgebaseFeature)\n",
    "    .filter(Knowledgebase.name == 'EcoGene')\n",
    "    .filter(KnowledgebaseFeature.feature_type == 'is_pseudogene')\n",
    "    .filter(KnowledgebaseFeature.feature == 't')\n",
    ")"
   ]
  },
  {
   "cell_type": "code",
   "execution_count": 6,
   "metadata": {},
   "outputs": [
    {
     "data": {
      "text/plain": [
       "184"
      ]
     },
     "execution_count": 6,
     "metadata": {},
     "output_type": "execute_result"
    }
   ],
   "source": [
    "ecogene_pseudo.count()"
   ]
  },
  {
   "cell_type": "markdown",
   "metadata": {},
   "source": [
    "# Genes without b-number"
   ]
  },
  {
   "cell_type": "code",
   "execution_count": 7,
   "metadata": {
    "collapsed": true
   },
   "outputs": [],
   "source": [
    "# Genes b4309 pseudo in EcoGene\n",
    "no_b_number = to_df(\n",
    "    session.query(KnowledgebaseGene.primary_name,\n",
    "                  KnowledgebaseGene.annotation_quality,\n",
    "                  Knowledgebase.name.label('kb_name'))\n",
    "    .join(Knowledgebase)\n",
    "    .filter(KnowledgebaseGene.gene_id == None)\n",
    ")"
   ]
  },
  {
   "cell_type": "code",
   "execution_count": 8,
   "metadata": {},
   "outputs": [
    {
     "data": {
      "text/html": [
       "<div>\n",
       "<style>\n",
       "    .dataframe thead tr:only-child th {\n",
       "        text-align: right;\n",
       "    }\n",
       "\n",
       "    .dataframe thead th {\n",
       "        text-align: left;\n",
       "    }\n",
       "\n",
       "    .dataframe tbody tr th {\n",
       "        vertical-align: top;\n",
       "    }\n",
       "</style>\n",
       "<table border=\"1\" class=\"dataframe\">\n",
       "  <thead>\n",
       "    <tr style=\"text-align: right;\">\n",
       "      <th></th>\n",
       "      <th>primary_name</th>\n",
       "      <th>annotation_quality</th>\n",
       "    </tr>\n",
       "    <tr>\n",
       "      <th>kb_name</th>\n",
       "      <th></th>\n",
       "      <th></th>\n",
       "    </tr>\n",
       "  </thead>\n",
       "  <tbody>\n",
       "    <tr>\n",
       "      <th>EcoCyc</th>\n",
       "      <td>55</td>\n",
       "      <td>55</td>\n",
       "    </tr>\n",
       "    <tr>\n",
       "      <th>UniProt</th>\n",
       "      <td>1</td>\n",
       "      <td>1</td>\n",
       "    </tr>\n",
       "  </tbody>\n",
       "</table>\n",
       "</div>"
      ],
      "text/plain": [
       "         primary_name  annotation_quality\n",
       "kb_name                                  \n",
       "EcoCyc   55            55                \n",
       "UniProt  1             1                 "
      ]
     },
     "execution_count": 8,
     "metadata": {},
     "output_type": "execute_result"
    }
   ],
   "source": [
    "no_b_number.groupby('kb_name').agg('count')"
   ]
  },
  {
   "cell_type": "markdown",
   "metadata": {},
   "source": [
    "# Find locus tags with multiple genes"
   ]
  },
  {
   "cell_type": "code",
   "execution_count": 9,
   "metadata": {
    "collapsed": true
   },
   "outputs": [],
   "source": [
    "KnowledgebaseGene2 = aliased(KnowledgebaseGene)"
   ]
  },
  {
   "cell_type": "code",
   "execution_count": 10,
   "metadata": {
    "collapsed": true
   },
   "outputs": [],
   "source": [
    "duplicates = to_df(\n",
    "    session.query(Gene.locus_id,\n",
    "                  KnowledgebaseGene.primary_name,\n",
    "                  KnowledgebaseGene2.primary_name.label('primary_name2'),\n",
    "                  Knowledgebase.name)\n",
    "    .join(KnowledgebaseGene, KnowledgebaseGene.gene_id == Gene.id)\n",
    "    .join(KnowledgebaseGene2, KnowledgebaseGene2.gene_id == Gene.id)\n",
    "    .join(Knowledgebase, KnowledgebaseGene.knowledgebase_id == Knowledgebase.id)\n",
    "    .filter(KnowledgebaseGene2.knowledgebase_id == Knowledgebase.id)\n",
    "    .filter(KnowledgebaseGene.id != KnowledgebaseGene2.id)\n",
    ")"
   ]
  },
  {
   "cell_type": "code",
   "execution_count": 11,
   "metadata": {},
   "outputs": [
    {
     "data": {
      "text/html": [
       "<div>\n",
       "<style>\n",
       "    .dataframe thead tr:only-child th {\n",
       "        text-align: right;\n",
       "    }\n",
       "\n",
       "    .dataframe thead th {\n",
       "        text-align: left;\n",
       "    }\n",
       "\n",
       "    .dataframe tbody tr th {\n",
       "        vertical-align: top;\n",
       "    }\n",
       "</style>\n",
       "<table border=\"1\" class=\"dataframe\">\n",
       "  <thead>\n",
       "    <tr style=\"text-align: right;\">\n",
       "      <th></th>\n",
       "      <th>locus_id</th>\n",
       "      <th>primary_name</th>\n",
       "      <th>primary_name2</th>\n",
       "      <th>name</th>\n",
       "    </tr>\n",
       "  </thead>\n",
       "  <tbody>\n",
       "    <tr>\n",
       "      <th>0</th>\n",
       "      <td>b3504</td>\n",
       "      <td>yhiS_2</td>\n",
       "      <td>yhiS_1</td>\n",
       "      <td>EcoCyc</td>\n",
       "    </tr>\n",
       "    <tr>\n",
       "      <th>1</th>\n",
       "      <td>b0240</td>\n",
       "      <td>crl_1</td>\n",
       "      <td>crl_2</td>\n",
       "      <td>EcoCyc</td>\n",
       "    </tr>\n",
       "    <tr>\n",
       "      <th>2</th>\n",
       "      <td>b0240</td>\n",
       "      <td>crl_2</td>\n",
       "      <td>crl_1</td>\n",
       "      <td>EcoCyc</td>\n",
       "    </tr>\n",
       "    <tr>\n",
       "      <th>3</th>\n",
       "      <td>b3504</td>\n",
       "      <td>yhiS_1</td>\n",
       "      <td>yhiS_2</td>\n",
       "      <td>EcoCyc</td>\n",
       "    </tr>\n",
       "    <tr>\n",
       "      <th>4</th>\n",
       "      <td>b4581</td>\n",
       "      <td>ybeM</td>\n",
       "      <td>ybeH</td>\n",
       "      <td>UniProt</td>\n",
       "    </tr>\n",
       "    <tr>\n",
       "      <th>5</th>\n",
       "      <td>b4581</td>\n",
       "      <td>ybeH</td>\n",
       "      <td>ybeM</td>\n",
       "      <td>UniProt</td>\n",
       "    </tr>\n",
       "  </tbody>\n",
       "</table>\n",
       "</div>"
      ],
      "text/plain": [
       "  locus_id primary_name primary_name2     name\n",
       "0  b3504    yhiS_2       yhiS_1        EcoCyc \n",
       "1  b0240    crl_1        crl_2         EcoCyc \n",
       "2  b0240    crl_2        crl_1         EcoCyc \n",
       "3  b3504    yhiS_1       yhiS_2        EcoCyc \n",
       "4  b4581    ybeM         ybeH          UniProt\n",
       "5  b4581    ybeH         ybeM          UniProt"
      ]
     },
     "execution_count": 11,
     "metadata": {},
     "output_type": "execute_result"
    }
   ],
   "source": [
    "duplicates"
   ]
  },
  {
   "cell_type": "markdown",
   "metadata": {},
   "source": [
    "# Kbase comparison plot\n",
    "NOTE: 55 EcoCyc & 1 UniProt genes without a locus tag and 4 EcoCyc genes with duplicated locus tags are ignored in this plot"
   ]
  },
  {
   "cell_type": "code",
   "execution_count": 12,
   "metadata": {
    "collapsed": true
   },
   "outputs": [],
   "source": [
    "kbases = to_df(\n",
    "    session.query(Gene.locus_id,\n",
    "                  KnowledgebaseGene.primary_name,\n",
    "                  KnowledgebaseGene.annotation_quality,\n",
    "                  Knowledgebase.name.label('knowledgebase_name'))\n",
    "    .join(KnowledgebaseGene)\n",
    "    .join(Knowledgebase)\n",
    ")"
   ]
  },
  {
   "cell_type": "code",
   "execution_count": 13,
   "metadata": {
    "collapsed": true
   },
   "outputs": [],
   "source": [
    "def calculate_y_ome(row):\n",
    "    any_high =     any(x == 'high'     for x in row)\n",
    "    any_low =      any(x == 'low'      for x in row)\n",
    "    any_excluded = any(x == 'excluded' for x in row)\n",
    "    \n",
    "    return 'high'     if (any_high     and not any_low  and not any_excluded) \\\n",
    "      else 'low'      if (any_low      and not any_high and not any_excluded) \\\n",
    "      else 'excluded' if (any_excluded and not any_high) \\\n",
    "      else 'tbd'"
   ]
  },
  {
   "cell_type": "code",
   "execution_count": 14,
   "metadata": {
    "collapsed": true
   },
   "outputs": [],
   "source": [
    "# remove duplicate genes\n",
    "kbases_unstacked = kbases.set_index(['locus_id', 'knowledgebase_name'])\n",
    "kbases_unstacked = kbases_unstacked[~kbases_unstacked.index.duplicated(keep='first')]\n",
    "kbases_unstacked = kbases_unstacked.drop('primary_name', axis=1).unstack()\n",
    "kbases_unstacked.columns = kbases_unstacked.columns.droplevel(0)\n",
    "# calculate Y-ome; don't rely on ME-model\n",
    "kbases_unstacked['Y-ome'] = kbases_unstacked[kbases_unstacked.columns.drop('iJL1678b')].apply(calculate_y_ome, axis=1)"
   ]
  },
  {
   "cell_type": "code",
   "execution_count": 15,
   "metadata": {},
   "outputs": [
    {
     "data": {
      "text/plain": [
       "high        2362\n",
       "low         1520\n",
       "tbd         468 \n",
       "excluded    303 \n",
       "Name: Y-ome, dtype: int64"
      ]
     },
     "execution_count": 15,
     "metadata": {},
     "output_type": "execute_result"
    }
   ],
   "source": [
    "# Y-ome counts\n",
    "kbases_unstacked['Y-ome'].value_counts()"
   ]
  },
  {
   "cell_type": "code",
   "execution_count": 16,
   "metadata": {
    "collapsed": true
   },
   "outputs": [],
   "source": [
    "levels = {\n",
    "    'excluded': 0,\n",
    "    'tbd': 1,\n",
    "    'low': 2,\n",
    "    'high': 3,\n",
    "    None: 4\n",
    "}"
   ]
  },
  {
   "cell_type": "code",
   "execution_count": 17,
   "metadata": {
    "collapsed": true
   },
   "outputs": [],
   "source": [
    "colors = {\n",
    "    0: [ 0.85453713,  0.22957019,  0.27623218,  1.        ], # bright red\n",
    "    1: [ 0.9170408 ,  0.56061475,  0.58722664,  1.        ], # red\n",
    "    2: [ 0.57653009,  0.72175186,  0.76633449,  1.        ], # light blue green\n",
    "    3: [ 0.24715576,  0.49918708,  0.57655991,  1.        ], # dark blue green\n",
    "    4: [ 0.6,         0.6,         0.6,         1.        ], # grey\n",
    "}"
   ]
  },
  {
   "cell_type": "code",
   "execution_count": 18,
   "metadata": {},
   "outputs": [
    {
     "data": {
      "text/html": [
       "<div>\n",
       "<style>\n",
       "    .dataframe thead tr:only-child th {\n",
       "        text-align: right;\n",
       "    }\n",
       "\n",
       "    .dataframe thead th {\n",
       "        text-align: left;\n",
       "    }\n",
       "\n",
       "    .dataframe tbody tr th {\n",
       "        vertical-align: top;\n",
       "    }\n",
       "</style>\n",
       "<table border=\"1\" class=\"dataframe\">\n",
       "  <thead>\n",
       "    <tr style=\"text-align: right;\">\n",
       "      <th>knowledgebase_name</th>\n",
       "      <th>EcoCyc</th>\n",
       "      <th>EcoGene</th>\n",
       "      <th>RefSeq</th>\n",
       "      <th>UniProt</th>\n",
       "      <th>iJL1678b</th>\n",
       "      <th>Y-ome</th>\n",
       "    </tr>\n",
       "    <tr>\n",
       "      <th>locus_id</th>\n",
       "      <th></th>\n",
       "      <th></th>\n",
       "      <th></th>\n",
       "      <th></th>\n",
       "      <th></th>\n",
       "      <th></th>\n",
       "    </tr>\n",
       "  </thead>\n",
       "  <tbody>\n",
       "    <tr>\n",
       "      <th>b0229</th>\n",
       "      <td>0</td>\n",
       "      <td>0</td>\n",
       "      <td>1</td>\n",
       "      <td>2</td>\n",
       "      <td>4</td>\n",
       "      <td>0</td>\n",
       "    </tr>\n",
       "    <tr>\n",
       "      <th>b0230</th>\n",
       "      <td>0</td>\n",
       "      <td>0</td>\n",
       "      <td>1</td>\n",
       "      <td>2</td>\n",
       "      <td>4</td>\n",
       "      <td>0</td>\n",
       "    </tr>\n",
       "    <tr>\n",
       "      <th>b0235</th>\n",
       "      <td>0</td>\n",
       "      <td>0</td>\n",
       "      <td>1</td>\n",
       "      <td>2</td>\n",
       "      <td>4</td>\n",
       "      <td>0</td>\n",
       "    </tr>\n",
       "    <tr>\n",
       "      <th>b0236</th>\n",
       "      <td>0</td>\n",
       "      <td>0</td>\n",
       "      <td>1</td>\n",
       "      <td>2</td>\n",
       "      <td>4</td>\n",
       "      <td>0</td>\n",
       "    </tr>\n",
       "    <tr>\n",
       "      <th>b0263</th>\n",
       "      <td>0</td>\n",
       "      <td>0</td>\n",
       "      <td>1</td>\n",
       "      <td>2</td>\n",
       "      <td>4</td>\n",
       "      <td>0</td>\n",
       "    </tr>\n",
       "  </tbody>\n",
       "</table>\n",
       "</div>"
      ],
      "text/plain": [
       "knowledgebase_name  EcoCyc  EcoGene  RefSeq  UniProt  iJL1678b  Y-ome\n",
       "locus_id                                                             \n",
       "b0229               0       0        1       2        4         0    \n",
       "b0230               0       0        1       2        4         0    \n",
       "b0235               0       0        1       2        4         0    \n",
       "b0236               0       0        1       2        4         0    \n",
       "b0263               0       0        1       2        4         0    "
      ]
     },
     "execution_count": 18,
     "metadata": {},
     "output_type": "execute_result"
    }
   ],
   "source": [
    "knowledgebase_names = list(kbases_unstacked.columns)\n",
    "kbases_plot = kbases_unstacked.applymap(lambda x: levels[x]).sort_values(by=list(kbases_unstacked.columns))\n",
    "kbases_plot.head()"
   ]
  },
  {
   "cell_type": "code",
   "execution_count": 19,
   "metadata": {
    "collapsed": true
   },
   "outputs": [],
   "source": [
    "# create bars based on consecutive colors\n",
    "last_value = {kbase: None for kbase in knowledgebase_names}\n",
    "bars = {kbase: [] for kbase in knowledgebase_names}\n",
    "for locus_tag, row in kbases_plot.iterrows():\n",
    "    for kbase, value in row.iteritems():\n",
    "        if len(bars[kbase]) == 0 or bars[kbase][-1]['value'] != value:\n",
    "            bars[kbase].append({'value': value, 'height': 1})\n",
    "            last_value[kbase] = value\n",
    "        else:\n",
    "            bars[kbase][-1]['height'] += 1"
   ]
  },
  {
   "cell_type": "code",
   "execution_count": 20,
   "metadata": {},
   "outputs": [
    {
     "data": {
      "text/plain": [
       "[array([ 0.85453713,  0.22957019,  0.27623218,  1.        ]),\n",
       " array([ 0.9170408 ,  0.56061475,  0.58722664,  1.        ]),\n",
       " array([ 0.98157711,  0.90242499,  0.90833474,  1.        ]),\n",
       " array([ 0.95,  0.95,  0.95,  1.  ]),\n",
       " array([ 0.91661578,  0.95155452,  0.9622806 ,  1.        ]),\n",
       " array([ 0.57653009,  0.72175186,  0.76633449,  1.        ]),\n",
       " array([ 0.24715576,  0.49918708,  0.57655991,  1.        ])]"
      ]
     },
     "execution_count": 20,
     "metadata": {},
     "output_type": "execute_result"
    },
    {
     "data": {
      "image/png": "[encoded data removed]",
      "text/plain": [
       "<matplotlib.figure.Figure at 0x10ad9eb00>"
      ]
     },
     "metadata": {},
     "output_type": "display_data"
    }
   ],
   "source": [
    "pal = sns.diverging_palette(10, 220, sep=80, n=7)\n",
    "sns.palplot(pal)\n",
    "pal"
   ]
  },
  {
   "cell_type": "code",
   "execution_count": 21,
   "metadata": {},
   "outputs": [
    {
     "name": "stderr",
     "output_type": "stream",
     "text": [
      "/usr/local/lib/python3.6/site-packages/matplotlib/font_manager.py:1297: UserWarning: findfont: Font family ['sans-serif'] not found. Falling back to DejaVu Sans\n",
      "  (prop.get_family(), self.defaultFamily[fontext]))\n"
     ]
    },
    {
     "data": {
      "image/png": "[encoded data removed]",
      "text/plain": [
       "<matplotlib.figure.Figure at 0x1125b84a8>"
      ]
     },
     "metadata": {},
     "output_type": "display_data"
    }
   ],
   "source": [
    "fig, ax = plt.subplots(figsize=(11, 11))\n",
    "last_heights = [0 for _ in knowledgebase_names]\n",
    "for bar_list in it.zip_longest(*bars.values()):\n",
    "    left = [x + 0.1 for x in range(len(knowledgebase_names))]\n",
    "    height = [x['height'] if x is not None else 0 for x in bar_list]\n",
    "    bottom = last_heights\n",
    "    last_heights = [x + y for x, y in zip(height, last_heights)]\n",
    "    color = [colors[x['value']] if x is not None else 'k' for x in bar_list]\n",
    "    ax.bar(left, height, bottom=bottom, color=color, linewidth=0)\n",
    "ax.set_xlabel('Knowledgebase')\n",
    "ax.set_ylabel('Gene')\n",
    "ax.xaxis.set_ticks([x + 0.1 for x in range(len(kbases_plot.columns))])\n",
    "ax.xaxis.set_ticklabels(kbases_plot.columns)\n",
    "fig.savefig('/Users/zaking/lab/y-ome/figs/y-ome-latest.png')"
   ]
  },
  {
   "cell_type": "markdown",
   "metadata": {},
   "source": [
    "## cases to check:\n",
    "\n",
    "### High in one DB, low in another\n",
    "\n",
    "+ High in EcoCyc and low in EcoGene\n",
    "  + result: based on *caiC*, give \"high\" priority over \"low\" because EcoCyc has more up-to-date information for \"high\" cases\n",
    "+ High in UniProt and low in EcoCyc\n",
    "  + result: based on *yadI / b0129*, don't rely on EC number in UniProt; use annotation score instead\n",
    "  + result: based on *mrdB*, don't categorize \"family protein\" as poor annotation in EcoCyc\n",
    "  + result: based on *YdcE / b1461*, UniProt high should override EcoCyc because EcoCyc missed the experimental validation in the linked paper\n",
    "    + good example for the text\n",
    "  + result: based on *dgcJ / b1786*, uniprot level 5 annotation should be \"low\", because even putative functions are given this level of annotation\n",
    "    + also a good example for the text\n",
    "+ High in ME-model, low in EcoCyc\n",
    "  + result: ME-model includes putative annotations (e.g. YaaJ). Don't mark these as high\n",
    "  + TODO provide an analysis of them in the text\n",
    "+ High in EcoCyc and low in UniProt\n",
    "  + result: based on thrL; UniProt got this one wrong, should be high"
   ]
  },
  {
   "cell_type": "markdown",
   "metadata": {},
   "source": [
    "## Assertions\n",
    "The literature points to a particular answer for these genes\n",
    "\n",
    "TODO merge these with Y-ome Updates"
   ]
  },
  {
   "cell_type": "code",
   "execution_count": 22,
   "metadata": {},
   "outputs": [
    {
     "data": {
      "text/html": [
       "<div>\n",
       "<style>\n",
       "    .dataframe thead tr:only-child th {\n",
       "        text-align: right;\n",
       "    }\n",
       "\n",
       "    .dataframe thead th {\n",
       "        text-align: left;\n",
       "    }\n",
       "\n",
       "    .dataframe tbody tr th {\n",
       "        vertical-align: top;\n",
       "    }\n",
       "</style>\n",
       "<table border=\"1\" class=\"dataframe\">\n",
       "  <thead>\n",
       "    <tr style=\"text-align: right;\">\n",
       "      <th>knowledgebase_name</th>\n",
       "      <th>EcoCyc</th>\n",
       "      <th>EcoGene</th>\n",
       "      <th>RefSeq</th>\n",
       "      <th>UniProt</th>\n",
       "      <th>iJL1678b</th>\n",
       "      <th>Y-ome</th>\n",
       "    </tr>\n",
       "    <tr>\n",
       "      <th>locus_id</th>\n",
       "      <th></th>\n",
       "      <th></th>\n",
       "      <th></th>\n",
       "      <th></th>\n",
       "      <th></th>\n",
       "      <th></th>\n",
       "    </tr>\n",
       "  </thead>\n",
       "  <tbody>\n",
       "    <tr>\n",
       "      <th>b0001</th>\n",
       "      <td>high</td>\n",
       "      <td>tbd</td>\n",
       "      <td>tbd</td>\n",
       "      <td>low</td>\n",
       "      <td>None</td>\n",
       "      <td>tbd</td>\n",
       "    </tr>\n",
       "    <tr>\n",
       "      <th>b0006</th>\n",
       "      <td>tbd</td>\n",
       "      <td>tbd</td>\n",
       "      <td>tbd</td>\n",
       "      <td>low</td>\n",
       "      <td>None</td>\n",
       "      <td>low</td>\n",
       "    </tr>\n",
       "    <tr>\n",
       "      <th>b0022</th>\n",
       "      <td>tbd</td>\n",
       "      <td>tbd</td>\n",
       "      <td>tbd</td>\n",
       "      <td>low</td>\n",
       "      <td>None</td>\n",
       "      <td>low</td>\n",
       "    </tr>\n",
       "    <tr>\n",
       "      <th>b0034</th>\n",
       "      <td>high</td>\n",
       "      <td>tbd</td>\n",
       "      <td>tbd</td>\n",
       "      <td>low</td>\n",
       "      <td>None</td>\n",
       "      <td>tbd</td>\n",
       "    </tr>\n",
       "    <tr>\n",
       "      <th>b0037</th>\n",
       "      <td>high</td>\n",
       "      <td>low</td>\n",
       "      <td>high</td>\n",
       "      <td>tbd</td>\n",
       "      <td>high</td>\n",
       "      <td>tbd</td>\n",
       "    </tr>\n",
       "    <tr>\n",
       "      <th>b0040</th>\n",
       "      <td>high</td>\n",
       "      <td>low</td>\n",
       "      <td>tbd</td>\n",
       "      <td>high</td>\n",
       "      <td>high</td>\n",
       "      <td>tbd</td>\n",
       "    </tr>\n",
       "    <tr>\n",
       "      <th>b0260</th>\n",
       "      <td>high</td>\n",
       "      <td>low</td>\n",
       "      <td>tbd</td>\n",
       "      <td>low</td>\n",
       "      <td>high</td>\n",
       "      <td>tbd</td>\n",
       "    </tr>\n",
       "    <tr>\n",
       "      <th>b1461</th>\n",
       "      <td>low</td>\n",
       "      <td>tbd</td>\n",
       "      <td>high</td>\n",
       "      <td>high</td>\n",
       "      <td>None</td>\n",
       "      <td>tbd</td>\n",
       "    </tr>\n",
       "    <tr>\n",
       "      <th>b4354</th>\n",
       "      <td>low</td>\n",
       "      <td>tbd</td>\n",
       "      <td>tbd</td>\n",
       "      <td>high</td>\n",
       "      <td>None</td>\n",
       "      <td>tbd</td>\n",
       "    </tr>\n",
       "  </tbody>\n",
       "</table>\n",
       "</div>"
      ],
      "text/plain": [
       "knowledgebase_name EcoCyc EcoGene RefSeq UniProt iJL1678b Y-ome\n",
       "locus_id                                                       \n",
       "b0001               high   tbd     tbd    low     None     tbd \n",
       "b0006               tbd    tbd     tbd    low     None     low \n",
       "b0022               tbd    tbd     tbd    low     None     low \n",
       "b0034               high   tbd     tbd    low     None     tbd \n",
       "b0037               high   low     high   tbd     high     tbd \n",
       "b0040               high   low     tbd    high    high     tbd \n",
       "b0260               high   low     tbd    low     high     tbd \n",
       "b1461               low    tbd     high   high    None     tbd \n",
       "b4354               low    tbd     tbd    high    None     tbd "
      ]
     },
     "execution_count": 22,
     "metadata": {},
     "output_type": "execute_result"
    }
   ],
   "source": [
    "assertions = [\n",
    "    ('b1461', 'high'), # see literature validation (correct in UniProt)\n",
    "    ('b0129', 'low'),\n",
    "    ('b1786', 'low'),\n",
    "    ('b0260', 'high'), \n",
    "    ('b0022', 'high'), # I think we know enough by this insertion element to call it \"high\"\n",
    "    ('b4354', 'high'), # new evidence in Y-ome Updates\n",
    "    ('b0022', 'high'), # see EcoCyc\n",
    "    ('b0001', 'high'), # see EcoCyc\n",
    "    ('b0020', 'high'), # see EcoCyc\n",
    "    ('b0034', 'high'), # see EcoCyc\n",
    "    ('b0037', 'high'), # see EcoCyc\n",
    "    ('b0040', 'high'), # see EcoCyc\n",
    "    ('b0006', 'read more')\n",
    "]\n",
    "# print an incorrect assertions\n",
    "def check_for_row(row):\n",
    "    return any(row.name == locus_tag and row['Y-ome'] != val \n",
    "               for locus_tag, val in assertions)\n",
    "kbases_unstacked[kbases_unstacked.apply(check_for_row, axis=1)]"
   ]
  },
  {
   "cell_type": "markdown",
   "metadata": {},
   "source": [
    "# Make a report for a gene"
   ]
  },
  {
   "cell_type": "code",
   "execution_count": 23,
   "metadata": {
    "collapsed": true
   },
   "outputs": [],
   "source": [
    "def report(locus_tag):\n",
    "    # Get TBD genes for EcoGene but high for Eco\n",
    "    report = to_df(\n",
    "        session.query(Gene.locus_id,\n",
    "                      KnowledgebaseGene.primary_name,\n",
    "                      KnowledgebaseGene.annotation_quality,\n",
    "                      Knowledgebase.name.label('knowledgebase_name'),\n",
    "                      KnowledgebaseFeature.feature_type,\n",
    "                      KnowledgebaseFeature.feature)\n",
    "        .join(KnowledgebaseGene)\n",
    "        .join(Knowledgebase)\n",
    "        .join(KnowledgebaseFeature)\n",
    "        .filter(Gene.locus_id == locus_tag)\n",
    "    )\n",
    "\n",
    "    print(report.iloc[0, 0:2])\n",
    "\n",
    "    report.knowledgebase_name = report.apply(lambda row: f\"{row['knowledgebase_name']} ({row['annotation_quality']})\", axis=1)\n",
    "    report = report.drop(['locus_id', 'primary_name', 'annotation_quality'], axis=1)\n",
    "    report = report.set_index(['knowledgebase_name', 'feature_type'])\n",
    "    s = report.style.set_properties(**{'text-align': 'left'})\n",
    "    return HTML(s.render())"
   ]
  },
  {
   "cell_type": "markdown",
   "metadata": {},
   "source": [
    "# TBD genes"
   ]
  },
  {
   "cell_type": "code",
   "execution_count": 24,
   "metadata": {},
   "outputs": [
    {
     "name": "stdout",
     "output_type": "stream",
     "text": [
      "461 genes; next locus: b0089\n"
     ]
    }
   ],
   "source": [
    "tbd = kbases_unstacked[(kbases_unstacked['Y-ome'] == 'tbd') & ~kbases_unstacked.index.isin([x[0] for x in assertions])]\n",
    "tbd_locus_tag = tbd.index[1]\n",
    "print(f'{len(tbd)} genes; next locus: {tbd_locus_tag}')"
   ]
  },
  {
   "cell_type": "code",
   "execution_count": 25,
   "metadata": {},
   "outputs": [
    {
     "data": {
      "text/html": [
       "<div>\n",
       "<style>\n",
       "    .dataframe thead tr:only-child th {\n",
       "        text-align: right;\n",
       "    }\n",
       "\n",
       "    .dataframe thead th {\n",
       "        text-align: left;\n",
       "    }\n",
       "\n",
       "    .dataframe tbody tr th {\n",
       "        vertical-align: top;\n",
       "    }\n",
       "</style>\n",
       "<table border=\"1\" class=\"dataframe\">\n",
       "  <thead>\n",
       "    <tr style=\"text-align: right;\">\n",
       "      <th>knowledgebase_name</th>\n",
       "      <th>EcoCyc</th>\n",
       "      <th>EcoGene</th>\n",
       "      <th>RefSeq</th>\n",
       "      <th>UniProt</th>\n",
       "      <th>iJL1678b</th>\n",
       "      <th>Y-ome</th>\n",
       "    </tr>\n",
       "    <tr>\n",
       "      <th>locus_id</th>\n",
       "      <th></th>\n",
       "      <th></th>\n",
       "      <th></th>\n",
       "      <th></th>\n",
       "      <th></th>\n",
       "      <th></th>\n",
       "    </tr>\n",
       "  </thead>\n",
       "  <tbody>\n",
       "    <tr>\n",
       "      <th>b0089</th>\n",
       "      <td>high</td>\n",
       "      <td>low</td>\n",
       "      <td>tbd</td>\n",
       "      <td>tbd</td>\n",
       "      <td>None</td>\n",
       "      <td>tbd</td>\n",
       "    </tr>\n",
       "  </tbody>\n",
       "</table>\n",
       "</div>"
      ],
      "text/plain": [
       "knowledgebase_name EcoCyc EcoGene RefSeq UniProt iJL1678b Y-ome\n",
       "locus_id                                                       \n",
       "b0089               high   low     tbd    tbd     None     tbd "
      ]
     },
     "execution_count": 25,
     "metadata": {},
     "output_type": "execute_result"
    }
   ],
   "source": [
    "kbases_unstacked[kbases_unstacked.index == tbd_locus_tag]"
   ]
  },
  {
   "cell_type": "code",
   "execution_count": 26,
   "metadata": {},
   "outputs": [
    {
     "name": "stdout",
     "output_type": "stream",
     "text": [
      "locus_id        b0089\n",
      "primary_name    ftsW \n",
      "Name: 0, dtype: object\n"
     ]
    },
    {
     "data": {
      "text/html": [
       "<style  type=\"text/css\" >\n",
       "    #T_d232d7c0_e21e_11e7_9108_a60024489901row0_col0 {\n",
       "            text-align:  left;\n",
       "        }    #T_d232d7c0_e21e_11e7_9108_a60024489901row1_col0 {\n",
       "            text-align:  left;\n",
       "        }    #T_d232d7c0_e21e_11e7_9108_a60024489901row2_col0 {\n",
       "            text-align:  left;\n",
       "        }    #T_d232d7c0_e21e_11e7_9108_a60024489901row3_col0 {\n",
       "            text-align:  left;\n",
       "        }    #T_d232d7c0_e21e_11e7_9108_a60024489901row4_col0 {\n",
       "            text-align:  left;\n",
       "        }    #T_d232d7c0_e21e_11e7_9108_a60024489901row5_col0 {\n",
       "            text-align:  left;\n",
       "        }    #T_d232d7c0_e21e_11e7_9108_a60024489901row6_col0 {\n",
       "            text-align:  left;\n",
       "        }    #T_d232d7c0_e21e_11e7_9108_a60024489901row7_col0 {\n",
       "            text-align:  left;\n",
       "        }    #T_d232d7c0_e21e_11e7_9108_a60024489901row8_col0 {\n",
       "            text-align:  left;\n",
       "        }    #T_d232d7c0_e21e_11e7_9108_a60024489901row9_col0 {\n",
       "            text-align:  left;\n",
       "        }    #T_d232d7c0_e21e_11e7_9108_a60024489901row10_col0 {\n",
       "            text-align:  left;\n",
       "        }    #T_d232d7c0_e21e_11e7_9108_a60024489901row11_col0 {\n",
       "            text-align:  left;\n",
       "        }    #T_d232d7c0_e21e_11e7_9108_a60024489901row12_col0 {\n",
       "            text-align:  left;\n",
       "        }    #T_d232d7c0_e21e_11e7_9108_a60024489901row13_col0 {\n",
       "            text-align:  left;\n",
       "        }    #T_d232d7c0_e21e_11e7_9108_a60024489901row14_col0 {\n",
       "            text-align:  left;\n",
       "        }    #T_d232d7c0_e21e_11e7_9108_a60024489901row15_col0 {\n",
       "            text-align:  left;\n",
       "        }    #T_d232d7c0_e21e_11e7_9108_a60024489901row16_col0 {\n",
       "            text-align:  left;\n",
       "        }    #T_d232d7c0_e21e_11e7_9108_a60024489901row17_col0 {\n",
       "            text-align:  left;\n",
       "        }    #T_d232d7c0_e21e_11e7_9108_a60024489901row18_col0 {\n",
       "            text-align:  left;\n",
       "        }    #T_d232d7c0_e21e_11e7_9108_a60024489901row19_col0 {\n",
       "            text-align:  left;\n",
       "        }    #T_d232d7c0_e21e_11e7_9108_a60024489901row20_col0 {\n",
       "            text-align:  left;\n",
       "        }    #T_d232d7c0_e21e_11e7_9108_a60024489901row21_col0 {\n",
       "            text-align:  left;\n",
       "        }</style>  \n",
       "<table id=\"T_d232d7c0_e21e_11e7_9108_a60024489901\" > \n",
       "<thead>    <tr> \n",
       "        <th class=\"blank\" ></th> \n",
       "        <th class=\"blank level0\" ></th> \n",
       "        <th class=\"col_heading level0 col0\" >feature</th> \n",
       "    </tr>    <tr> \n",
       "        <th class=\"index_name level0\" >knowledgebase_name</th> \n",
       "        <th class=\"index_name level1\" >feature_type</th> \n",
       "        <th class=\"blank\" ></th> \n",
       "    </tr></thead> \n",
       "<tbody>    <tr> \n",
       "        <th id=\"T_d232d7c0_e21e_11e7_9108_a60024489901level0_row0\" class=\"row_heading level0 row0\" rowspan=7>EcoCyc (high)</th> \n",
       "        <th id=\"T_d232d7c0_e21e_11e7_9108_a60024489901level1_row0\" class=\"row_heading level1 row0\" >description</th> \n",
       "        <td id=\"T_d232d7c0_e21e_11e7_9108_a60024489901row0_col0\" class=\"data row0 col0\" >putative lipid II flippase FtsW</td> \n",
       "    </tr>    <tr> \n",
       "        <th id=\"T_d232d7c0_e21e_11e7_9108_a60024489901level1_row1\" class=\"row_heading level1 row1\" >summary_html</th> \n",
       "        <td id=\"T_d232d7c0_e21e_11e7_9108_a60024489901row1_col0\" class=\"data row1 col0\" >SummaryFtsW is an essential cell division protein that is conserved in most walled bacteria; the protein is produced at low levels and localizes to the septum [Khattar94, Boyle97, Wang98a]. FtsW functions as a Lipid II flippase, transporting lipid-linked peptidoglycan precursors across the inner membrane [Mohammadi11]; the interaction of FtsW with lipid II substrate is regulated by FtsI (PBP3) [Leclercq17]. The inner membrane protein MurJ is also proposed to act as a lipid II flippase [Ruiz08a, Inoue08]. Lipid II flippase function is retained in strains lacking rodA and depleted for ftsW [Sham14]Localization of FtsW is dependent on FtsZ, FtsA, FtsQ, and FtsL but not FtsI. FtsW is required for subsequent recruitment of FtsI to the cell division site [Mercer02, Goehring06]; artificially targeted FtsI can also \"back-recruit\" FtsW, and artificially targeted FtsW can \"back-recruit\" FtsQ, FtsL and FtsB [Goehring06]. FtsW interacts directly with FtsN [Alexeeva10] and forms a subcomplex with FtsI [Fraipont11]. Overproduction of FtsW inhibits cell growth [Khattar94].FtsW is an integral membrane protein belonging to the SEDS (shape, elongation, division, sporulation) family; it is predicted to consist of 10 transmembrane (TM) segments with both the N- and C-terminal end located in the cytoplasm [Lara02]. Subcomplexes of SEDS proteins with class 2 penicillin binding proteins are proposed to be the primary peptidoglycan synthases in cell elongation and division [Meeske16]. FtsW and FtsI may function as the glycosyltransferase and transpeptidase respectively, for peptidoglycan synthesis within the divisome [Cho16]. Neither FtsW nor a FtsW-FtsI complex are able to catalyse lipid II polymerization in vitro; the ternary complex FtsW-FtsI-MrcB is the core enzyme of the divisome which interacts with lipid II substrate [Leclercq17]. The periplasmic loop between TM 9 and 10 is required for recruitment of FtsI to the septum, and certain amino acids in the periplasmic loop between TM 7 and 8 are essential for FtsW function [Pastoret04]. The loop between TM 7 and 8 contributes to the interaction with FtsI but not with MrcB (PBP1B) [Leclercq17]. FtsW has a role in stabilizing the Z ring [Khattar94, Khattar97a, Boyle97]; FtsW is not required for FtsZ localization to the division site [Mercer02].Overproduction of FtsW can rescue the growth defect caused by high levels of L-serine in a strain that does not produce either of the three L-serine deaminases [Zhang10a]. ftsW has been the subject of a pilot study to screen for genetic interactions with null alleles in the Keio collection [Yong13].Selected reviews: [Weiss04, Errington03]  Additional Citations: \n",
       "[Ovchinnikov15, \n",
       "Vicente98, \n",
       "MenginLecreulx98, \n",
       "Hara97]  </td> \n",
       "    </tr>    <tr> \n",
       "        <th id=\"T_d232d7c0_e21e_11e7_9108_a60024489901level1_row2\" class=\"row_heading level1 row2\" >product_type</th> \n",
       "        <td id=\"T_d232d7c0_e21e_11e7_9108_a60024489901row2_col0\" class=\"data row2 col0\" >transporter</td> \n",
       "    </tr>    <tr> \n",
       "        <th id=\"T_d232d7c0_e21e_11e7_9108_a60024489901level1_row3\" class=\"row_heading level1 row3\" >reaction_equation</th> \n",
       "        <td id=\"T_d232d7c0_e21e_11e7_9108_a60024489901row3_col0\" class=\"data row3 col0\" >  \n",
       "\n",
       "WebGraphics.Load('/tmp/ptools-images/ECOLI/TRANS-RXN0-286_TRANSPORT-RXN_IRREVERSIBLE.wg', 'WG_TRANS_RXN0_286_TRANSPORT_RXN_IRREVERSIBLE-div');\n",
       "\n",
       "                                   \n",
       "\n",
       "  </td> \n",
       "    </tr>    <tr> \n",
       "        <th id=\"T_d232d7c0_e21e_11e7_9108_a60024489901level1_row4\" class=\"row_heading level1 row4\" >is_pseudogene</th> \n",
       "        <td id=\"T_d232d7c0_e21e_11e7_9108_a60024489901row4_col0\" class=\"data row4 col0\" >f</td> \n",
       "    </tr>    <tr> \n",
       "        <th id=\"T_d232d7c0_e21e_11e7_9108_a60024489901level1_row5\" class=\"row_heading level1 row5\" >is_phantom_gene</th> \n",
       "        <td id=\"T_d232d7c0_e21e_11e7_9108_a60024489901row5_col0\" class=\"data row5 col0\" >f</td> \n",
       "    </tr>    <tr> \n",
       "        <th id=\"T_d232d7c0_e21e_11e7_9108_a60024489901level1_row6\" class=\"row_heading level1 row6\" >evidence_html</th> \n",
       "        <td id=\"T_d232d7c0_e21e_11e7_9108_a60024489901row6_col0\" class=\"data row6 col0\" >\n",
       "\n",
       "\n",
       "\n",
       "\n",
       "Assay of protein purified to homogeneity from its native host [Mohammadi11]\n",
       "\n",
       "</td> \n",
       "    </tr>    <tr> \n",
       "        <th id=\"T_d232d7c0_e21e_11e7_9108_a60024489901level0_row7\" class=\"row_heading level0 row7\" rowspan=5>EcoGene (low)</th> \n",
       "        <th id=\"T_d232d7c0_e21e_11e7_9108_a60024489901level1_row7\" class=\"row_heading level1 row7\" >protein</th> \n",
       "        <td id=\"T_d232d7c0_e21e_11e7_9108_a60024489901row7_col0\" class=\"data row7 col0\" >putative lipid II flippase; integral membrane protein; FtsZ ring stabilizer</td> \n",
       "    </tr>    <tr> \n",
       "        <th id=\"T_d232d7c0_e21e_11e7_9108_a60024489901level1_row8\" class=\"row_heading level1 row8\" >function</th> \n",
       "        <td id=\"T_d232d7c0_e21e_11e7_9108_a60024489901row8_col0\" class=\"data row8 col0\" >Membrane; Cell division</td> \n",
       "    </tr>    <tr> \n",
       "        <th id=\"T_d232d7c0_e21e_11e7_9108_a60024489901level1_row9\" class=\"row_heading level1 row9\" >description</th> \n",
       "        <td id=\"T_d232d7c0_e21e_11e7_9108_a60024489901row9_col0\" class=\"data row9 col0\" >Putative lipid II flippase; divisome protein recruiting FtsI; SEDS protein</td> \n",
       "    </tr>    <tr> \n",
       "        <th id=\"T_d232d7c0_e21e_11e7_9108_a60024489901level1_row10\" class=\"row_heading level1 row10\" >comments</th> \n",
       "        <td id=\"T_d232d7c0_e21e_11e7_9108_a60024489901row10_col0\" class=\"data row10 col0\" >Inactivation of MurJ in vivo, but not FtsW, blocks lipid II translocation (Sham, 2014). Overproduced FtsW but not overproduced MurJ increases lipid II translocation across the cytoplasmic membrane in crude reconstituted vesicles (Mohammadi, 2011). Both FtsW and MurJ are involved in lipid II translocation but which one is the actual flippase is controversial with conflicting in vivo and in vitro results; the in vitro results utilize crude membrane vesicles that also contain MurJ, which may not be limiting; the in vivo results do not demonstrate flippase activity directly and FtsW inactivation could be incomplete, so one of the two proteins could be stimulating the other which has the flippase activity; MurJ is related to known flippase exporters and FtsW is not, suggesting that MurJ may indeed be the actual flippase (Young, 2014). FtsW faciltates septal petidoglycan synthesis by recruiting the cognate FtsI transpeptidase. FtsW is required for mrdA(PBP2) expression. ftsW is paralogous to mrdB(rodA). ftsW is an essential gene. Divisome protein. FtsN has been shown by FRET to directly interact with itself, FtsW, FtsI and ZapA (Alexeeva, 2010).</td> \n",
       "    </tr>    <tr> \n",
       "        <th id=\"T_d232d7c0_e21e_11e7_9108_a60024489901level1_row11\" class=\"row_heading level1 row11\" >is_pseudogene</th> \n",
       "        <td id=\"T_d232d7c0_e21e_11e7_9108_a60024489901row11_col0\" class=\"data row11 col0\" >f</td> \n",
       "    </tr>    <tr> \n",
       "        <th id=\"T_d232d7c0_e21e_11e7_9108_a60024489901level0_row12\" class=\"row_heading level0 row12\" rowspan=7>UniProt (tbd)</th> \n",
       "        <th id=\"T_d232d7c0_e21e_11e7_9108_a60024489901level1_row12\" class=\"row_heading level1 row12\" >upid</th> \n",
       "        <td id=\"T_d232d7c0_e21e_11e7_9108_a60024489901row12_col0\" class=\"data row12 col0\" >P0ABG4</td> \n",
       "    </tr>    <tr> \n",
       "        <th id=\"T_d232d7c0_e21e_11e7_9108_a60024489901level1_row13\" class=\"row_heading level1 row13\" >protein</th> \n",
       "        <td id=\"T_d232d7c0_e21e_11e7_9108_a60024489901row13_col0\" class=\"data row13 col0\" >Probable peptidoglycan glycosyltransferase FtsW (PGT) (EC 2.4.1.129) (Cell division protein FtsW) (Cell wall polymerase) (Lipid II flippase FtsW) (Peptidoglycan polymerase) (PG polymerase)</td> \n",
       "    </tr>    <tr> \n",
       "        <th id=\"T_d232d7c0_e21e_11e7_9108_a60024489901level1_row14\" class=\"row_heading level1 row14\" >ec_number</th> \n",
       "        <td id=\"T_d232d7c0_e21e_11e7_9108_a60024489901row14_col0\" class=\"data row14 col0\" >2.4.1.129</td> \n",
       "    </tr>    <tr> \n",
       "        <th id=\"T_d232d7c0_e21e_11e7_9108_a60024489901level1_row15\" class=\"row_heading level1 row15\" >reaction</th> \n",
       "        <td id=\"T_d232d7c0_e21e_11e7_9108_a60024489901row15_col0\" class=\"data row15 col0\" >CATALYTIC ACTIVITY: (GlcNAc-(1->4)-Mur2Ac(oyl-L-Ala-gamma-D-Glu-L-Lys-D-Ala-D-Ala))(n)-diphosphoundecaprenol + GlcNAc-(1->4)-Mur2Ac(oyl-L-Ala-gamma-D-Glu-L-Lys-D-Ala-D-Ala)-diphosphoundecaprenol = (GlcNAc-(1->4)-Mur2Ac(oyl-L-Ala-gamma-D-Glu-L-Lys-D-Ala-D-Ala))(n+1)-diphosphoundecaprenol + undecaprenyl diphosphate. {ECO:0000255|HAMAP-Rule:MF_00913}.</td> \n",
       "    </tr>    <tr> \n",
       "        <th id=\"T_d232d7c0_e21e_11e7_9108_a60024489901level1_row16\" class=\"row_heading level1 row16\" >function</th> \n",
       "        <td id=\"T_d232d7c0_e21e_11e7_9108_a60024489901row16_col0\" class=\"data row16 col0\" >FUNCTION: Peptidoglycan polymerase that is essential for cell division (Probable). Functions probably in conjunction with the penicillin-binding protein 3 (ftsI) (PubMed:9603865, PubMed:11807049). Required for localization of FtsI (PubMed:11807049). {ECO:0000269|PubMed:11807049, ECO:0000269|PubMed:9603865, ECO:0000305|PubMed:27643381, ECO:0000305|PubMed:9218774}.</td> \n",
       "    </tr>    <tr> \n",
       "        <th id=\"T_d232d7c0_e21e_11e7_9108_a60024489901level1_row17\" class=\"row_heading level1 row17\" >features</th> \n",
       "        <td id=\"T_d232d7c0_e21e_11e7_9108_a60024489901row17_col0\" class=\"data row17 col0\" >Chain (1); Mutagenesis (13); Topological domain (11); Transmembrane (10)</td> \n",
       "    </tr>    <tr> \n",
       "        <th id=\"T_d232d7c0_e21e_11e7_9108_a60024489901level1_row18\" class=\"row_heading level1 row18\" >annotation_score</th> \n",
       "        <td id=\"T_d232d7c0_e21e_11e7_9108_a60024489901row18_col0\" class=\"data row18 col0\" >5</td> \n",
       "    </tr>    <tr> \n",
       "        <th id=\"T_d232d7c0_e21e_11e7_9108_a60024489901level0_row19\" class=\"row_heading level0 row19\" rowspan=3>RefSeq (tbd)</th> \n",
       "        <th id=\"T_d232d7c0_e21e_11e7_9108_a60024489901level1_row19\" class=\"row_heading level1 row19\" >ec_numbers</th> \n",
       "        <td id=\"T_d232d7c0_e21e_11e7_9108_a60024489901row19_col0\" class=\"data row19 col0\" >{}</td> \n",
       "    </tr>    <tr> \n",
       "        <th id=\"T_d232d7c0_e21e_11e7_9108_a60024489901level1_row20\" class=\"row_heading level1 row20\" >product</th> \n",
       "        <td id=\"T_d232d7c0_e21e_11e7_9108_a60024489901row20_col0\" class=\"data row20 col0\" >putative lipid II flippase; integral membrane protein; FtsZ ring stabilizer</td> \n",
       "    </tr>    <tr> \n",
       "        <th id=\"T_d232d7c0_e21e_11e7_9108_a60024489901level1_row21\" class=\"row_heading level1 row21\" >function</th> \n",
       "        <td id=\"T_d232d7c0_e21e_11e7_9108_a60024489901row21_col0\" class=\"data row21 col0\" >membrane; Cell division</td> \n",
       "    </tr></tbody> \n",
       "</table> "
      ],
      "text/plain": [
       "<IPython.core.display.HTML object>"
      ]
     },
     "execution_count": 26,
     "metadata": {},
     "output_type": "execute_result"
    }
   ],
   "source": [
    "report(tbd_locus_tag)"
   ]
  },
  {
   "cell_type": "markdown",
   "metadata": {
    "collapsed": true
   },
   "source": [
    "# Genes where Y-ome disagrees with EcoCyc"
   ]
  },
  {
   "cell_type": "markdown",
   "metadata": {},
   "source": [
    "Result: After spot-checking a number of cases where EcoCyc is not in agreement with the final Y-ome:\n",
    "\n",
    "- pseudogenes called by EcoGene are just listed as poorly characterized genes in EcoCyc (OK)\n",
    "- UniProt gives annotation scores to help clarify annotation for a number of genes. These are present and annotated in EcoCyc, but the annotation level cannot be determined automatically (OK)"
   ]
  },
  {
   "cell_type": "code",
   "execution_count": 27,
   "metadata": {},
   "outputs": [],
   "source": [
    "ecocyc_diffs = kbases_unstacked[(kbases_unstacked['EcoCyc'] == 'tbd') \n",
    "                              & (kbases_unstacked['EcoCyc'] != kbases_unstacked['Y-ome'])\n",
    "                              & (kbases_unstacked['Y-ome']  != 'tbd')]"
   ]
  },
  {
   "cell_type": "code",
   "execution_count": 28,
   "metadata": {},
   "outputs": [
    {
     "name": "stdout",
     "output_type": "stream",
     "text": [
      "702 genes; next locus: b1051\n"
     ]
    }
   ],
   "source": [
    "ecocyc_diffs_locus_tag = ecocyc_diffs.index[150]\n",
    "print(f'{len(ecocyc_diffs)} genes; next locus: {ecocyc_diffs_locus_tag}')"
   ]
  },
  {
   "cell_type": "code",
   "execution_count": 29,
   "metadata": {},
   "outputs": [
    {
     "data": {
      "text/html": [
       "<div>\n",
       "<style>\n",
       "    .dataframe thead tr:only-child th {\n",
       "        text-align: right;\n",
       "    }\n",
       "\n",
       "    .dataframe thead th {\n",
       "        text-align: left;\n",
       "    }\n",
       "\n",
       "    .dataframe tbody tr th {\n",
       "        vertical-align: top;\n",
       "    }\n",
       "</style>\n",
       "<table border=\"1\" class=\"dataframe\">\n",
       "  <thead>\n",
       "    <tr style=\"text-align: right;\">\n",
       "      <th>knowledgebase_name</th>\n",
       "      <th>EcoCyc</th>\n",
       "      <th>EcoGene</th>\n",
       "      <th>RefSeq</th>\n",
       "      <th>UniProt</th>\n",
       "      <th>iJL1678b</th>\n",
       "      <th>Y-ome</th>\n",
       "    </tr>\n",
       "    <tr>\n",
       "      <th>locus_id</th>\n",
       "      <th></th>\n",
       "      <th></th>\n",
       "      <th></th>\n",
       "      <th></th>\n",
       "      <th></th>\n",
       "      <th></th>\n",
       "    </tr>\n",
       "  </thead>\n",
       "  <tbody>\n",
       "    <tr>\n",
       "      <th>b1051</th>\n",
       "      <td>tbd</td>\n",
       "      <td>tbd</td>\n",
       "      <td>tbd</td>\n",
       "      <td>low</td>\n",
       "      <td>None</td>\n",
       "      <td>low</td>\n",
       "    </tr>\n",
       "  </tbody>\n",
       "</table>\n",
       "</div>"
      ],
      "text/plain": [
       "knowledgebase_name EcoCyc EcoGene RefSeq UniProt iJL1678b Y-ome\n",
       "locus_id                                                       \n",
       "b1051               tbd    tbd     tbd    low     None     low "
      ]
     },
     "execution_count": 29,
     "metadata": {},
     "output_type": "execute_result"
    }
   ],
   "source": [
    "ecocyc_diffs[ecocyc_diffs.index == ecocyc_diffs_locus_tag]"
   ]
  },
  {
   "cell_type": "code",
   "execution_count": 30,
   "metadata": {},
   "outputs": [
    {
     "name": "stdout",
     "output_type": "stream",
     "text": [
      "locus_id        b1051\n",
      "primary_name    msyB \n",
      "Name: 0, dtype: object\n"
     ]
    },
    {
     "data": {
      "text/html": [
       "<style  type=\"text/css\" >\n",
       "    #T_d248b054_e21e_11e7_bdb2_a60024489901row0_col0 {\n",
       "            text-align:  left;\n",
       "        }    #T_d248b054_e21e_11e7_bdb2_a60024489901row1_col0 {\n",
       "            text-align:  left;\n",
       "        }    #T_d248b054_e21e_11e7_bdb2_a60024489901row2_col0 {\n",
       "            text-align:  left;\n",
       "        }    #T_d248b054_e21e_11e7_bdb2_a60024489901row3_col0 {\n",
       "            text-align:  left;\n",
       "        }    #T_d248b054_e21e_11e7_bdb2_a60024489901row4_col0 {\n",
       "            text-align:  left;\n",
       "        }    #T_d248b054_e21e_11e7_bdb2_a60024489901row5_col0 {\n",
       "            text-align:  left;\n",
       "        }    #T_d248b054_e21e_11e7_bdb2_a60024489901row6_col0 {\n",
       "            text-align:  left;\n",
       "        }    #T_d248b054_e21e_11e7_bdb2_a60024489901row7_col0 {\n",
       "            text-align:  left;\n",
       "        }    #T_d248b054_e21e_11e7_bdb2_a60024489901row8_col0 {\n",
       "            text-align:  left;\n",
       "        }    #T_d248b054_e21e_11e7_bdb2_a60024489901row9_col0 {\n",
       "            text-align:  left;\n",
       "        }    #T_d248b054_e21e_11e7_bdb2_a60024489901row10_col0 {\n",
       "            text-align:  left;\n",
       "        }    #T_d248b054_e21e_11e7_bdb2_a60024489901row11_col0 {\n",
       "            text-align:  left;\n",
       "        }    #T_d248b054_e21e_11e7_bdb2_a60024489901row12_col0 {\n",
       "            text-align:  left;\n",
       "        }    #T_d248b054_e21e_11e7_bdb2_a60024489901row13_col0 {\n",
       "            text-align:  left;\n",
       "        }    #T_d248b054_e21e_11e7_bdb2_a60024489901row14_col0 {\n",
       "            text-align:  left;\n",
       "        }    #T_d248b054_e21e_11e7_bdb2_a60024489901row15_col0 {\n",
       "            text-align:  left;\n",
       "        }    #T_d248b054_e21e_11e7_bdb2_a60024489901row16_col0 {\n",
       "            text-align:  left;\n",
       "        }    #T_d248b054_e21e_11e7_bdb2_a60024489901row17_col0 {\n",
       "            text-align:  left;\n",
       "        }    #T_d248b054_e21e_11e7_bdb2_a60024489901row18_col0 {\n",
       "            text-align:  left;\n",
       "        }</style>  \n",
       "<table id=\"T_d248b054_e21e_11e7_bdb2_a60024489901\" > \n",
       "<thead>    <tr> \n",
       "        <th class=\"blank\" ></th> \n",
       "        <th class=\"blank level0\" ></th> \n",
       "        <th class=\"col_heading level0 col0\" >feature</th> \n",
       "    </tr>    <tr> \n",
       "        <th class=\"index_name level0\" >knowledgebase_name</th> \n",
       "        <th class=\"index_name level1\" >feature_type</th> \n",
       "        <th class=\"blank\" ></th> \n",
       "    </tr></thead> \n",
       "<tbody>    <tr> \n",
       "        <th id=\"T_d248b054_e21e_11e7_bdb2_a60024489901level0_row0\" class=\"row_heading level0 row0\" rowspan=6>EcoCyc (tbd)</th> \n",
       "        <th id=\"T_d248b054_e21e_11e7_bdb2_a60024489901level1_row0\" class=\"row_heading level1 row0\" >description</th> \n",
       "        <td id=\"T_d248b054_e21e_11e7_bdb2_a60024489901row0_col0\" class=\"data row0 col0\" >acidic protein that suppresses heat sensitivity of a</td> \n",
       "    </tr>    <tr> \n",
       "        <th id=\"T_d248b054_e21e_11e7_bdb2_a60024489901level1_row1\" class=\"row_heading level1 row1\" >summary_html</th> \n",
       "        <td id=\"T_d248b054_e21e_11e7_bdb2_a60024489901row1_col0\" class=\"data row1 col0\" >SummaryThe msyB gene is a multicopy suppressor of the heat sensitivity of a secY24 mutant [Ueguchi92]. MsyB is rich in acidic amino acids, which may cause abnormal migration in SDS gels [Ueguchi92].  As a fusion partner for overexpression of heterologous proteins in E. coli, MsyB improves solubility [Su07a, Zou08].MsyB: \"multicopy suppressor of secY24 B\" [Ueguchi92]</td> \n",
       "    </tr>    <tr> \n",
       "        <th id=\"T_d248b054_e21e_11e7_bdb2_a60024489901level1_row2\" class=\"row_heading level1 row2\" >product_type</th> \n",
       "        <td id=\"T_d248b054_e21e_11e7_bdb2_a60024489901row2_col0\" class=\"data row2 col0\" >polypeptide</td> \n",
       "    </tr>    <tr> \n",
       "        <th id=\"T_d248b054_e21e_11e7_bdb2_a60024489901level1_row3\" class=\"row_heading level1 row3\" >is_pseudogene</th> \n",
       "        <td id=\"T_d248b054_e21e_11e7_bdb2_a60024489901row3_col0\" class=\"data row3 col0\" >f</td> \n",
       "    </tr>    <tr> \n",
       "        <th id=\"T_d248b054_e21e_11e7_bdb2_a60024489901level1_row4\" class=\"row_heading level1 row4\" >is_phantom_gene</th> \n",
       "        <td id=\"T_d248b054_e21e_11e7_bdb2_a60024489901row4_col0\" class=\"data row4 col0\" >f</td> \n",
       "    </tr>    <tr> \n",
       "        <th id=\"T_d248b054_e21e_11e7_bdb2_a60024489901level1_row5\" class=\"row_heading level1 row5\" >evidence_html</th> \n",
       "        <td id=\"T_d248b054_e21e_11e7_bdb2_a60024489901row5_col0\" class=\"data row5 col0\" ></td> \n",
       "    </tr>    <tr> \n",
       "        <th id=\"T_d248b054_e21e_11e7_bdb2_a60024489901level0_row6\" class=\"row_heading level0 row6\" rowspan=5>EcoGene (tbd)</th> \n",
       "        <th id=\"T_d248b054_e21e_11e7_bdb2_a60024489901level1_row6\" class=\"row_heading level1 row6\" >protein</th> \n",
       "        <td id=\"T_d248b054_e21e_11e7_bdb2_a60024489901row6_col0\" class=\"data row6 col0\" >multicopy suppressor of secY and secA</td> \n",
       "    </tr>    <tr> \n",
       "        <th id=\"T_d248b054_e21e_11e7_bdb2_a60024489901level1_row7\" class=\"row_heading level1 row7\" >function</th> \n",
       "        <td id=\"T_d248b054_e21e_11e7_bdb2_a60024489901row7_col0\" class=\"data row7 col0\" >Phenotype; Protein, peptide secretion</td> \n",
       "    </tr>    <tr> \n",
       "        <th id=\"T_d248b054_e21e_11e7_bdb2_a60024489901level1_row8\" class=\"row_heading level1 row8\" >description</th> \n",
       "        <td id=\"T_d248b054_e21e_11e7_bdb2_a60024489901row8_col0\" class=\"data row8 col0\" >In multicopy restores growth and protein export functions of secY and secA mutants</td> \n",
       "    </tr>    <tr> \n",
       "        <th id=\"T_d248b054_e21e_11e7_bdb2_a60024489901level1_row9\" class=\"row_heading level1 row9\" >comments</th> \n",
       "        <td id=\"T_d248b054_e21e_11e7_bdb2_a60024489901row9_col0\" class=\"data row9 col0\" >Null</td> \n",
       "    </tr>    <tr> \n",
       "        <th id=\"T_d248b054_e21e_11e7_bdb2_a60024489901level1_row10\" class=\"row_heading level1 row10\" >is_pseudogene</th> \n",
       "        <td id=\"T_d248b054_e21e_11e7_bdb2_a60024489901row10_col0\" class=\"data row10 col0\" >f</td> \n",
       "    </tr>    <tr> \n",
       "        <th id=\"T_d248b054_e21e_11e7_bdb2_a60024489901level0_row11\" class=\"row_heading level0 row11\" rowspan=5>UniProt (low)</th> \n",
       "        <th id=\"T_d248b054_e21e_11e7_bdb2_a60024489901level1_row11\" class=\"row_heading level1 row11\" >upid</th> \n",
       "        <td id=\"T_d248b054_e21e_11e7_bdb2_a60024489901row11_col0\" class=\"data row11 col0\" >P25738</td> \n",
       "    </tr>    <tr> \n",
       "        <th id=\"T_d248b054_e21e_11e7_bdb2_a60024489901level1_row12\" class=\"row_heading level1 row12\" >protein</th> \n",
       "        <td id=\"T_d248b054_e21e_11e7_bdb2_a60024489901row12_col0\" class=\"data row12 col0\" >Acidic protein MsyB</td> \n",
       "    </tr>    <tr> \n",
       "        <th id=\"T_d248b054_e21e_11e7_bdb2_a60024489901level1_row13\" class=\"row_heading level1 row13\" >function</th> \n",
       "        <td id=\"T_d248b054_e21e_11e7_bdb2_a60024489901row13_col0\" class=\"data row13 col0\" >FUNCTION: Could participate in the normal pathway of protein export.</td> \n",
       "    </tr>    <tr> \n",
       "        <th id=\"T_d248b054_e21e_11e7_bdb2_a60024489901level1_row14\" class=\"row_heading level1 row14\" >features</th> \n",
       "        <td id=\"T_d248b054_e21e_11e7_bdb2_a60024489901row14_col0\" class=\"data row14 col0\" >Chain (1)</td> \n",
       "    </tr>    <tr> \n",
       "        <th id=\"T_d248b054_e21e_11e7_bdb2_a60024489901level1_row15\" class=\"row_heading level1 row15\" >annotation_score</th> \n",
       "        <td id=\"T_d248b054_e21e_11e7_bdb2_a60024489901row15_col0\" class=\"data row15 col0\" >2</td> \n",
       "    </tr>    <tr> \n",
       "        <th id=\"T_d248b054_e21e_11e7_bdb2_a60024489901level0_row16\" class=\"row_heading level0 row16\" rowspan=3>RefSeq (tbd)</th> \n",
       "        <th id=\"T_d248b054_e21e_11e7_bdb2_a60024489901level1_row16\" class=\"row_heading level1 row16\" >ec_numbers</th> \n",
       "        <td id=\"T_d248b054_e21e_11e7_bdb2_a60024489901row16_col0\" class=\"data row16 col0\" >{}</td> \n",
       "    </tr>    <tr> \n",
       "        <th id=\"T_d248b054_e21e_11e7_bdb2_a60024489901level1_row17\" class=\"row_heading level1 row17\" >product</th> \n",
       "        <td id=\"T_d248b054_e21e_11e7_bdb2_a60024489901row17_col0\" class=\"data row17 col0\" >multicopy suppressor of secY and secA</td> \n",
       "    </tr>    <tr> \n",
       "        <th id=\"T_d248b054_e21e_11e7_bdb2_a60024489901level1_row18\" class=\"row_heading level1 row18\" >function</th> \n",
       "        <td id=\"T_d248b054_e21e_11e7_bdb2_a60024489901row18_col0\" class=\"data row18 col0\" >phenotype; Protein, peptide secretion</td> \n",
       "    </tr></tbody> \n",
       "</table> "
      ],
      "text/plain": [
       "<IPython.core.display.HTML object>"
      ]
     },
     "execution_count": 30,
     "metadata": {},
     "output_type": "execute_result"
    }
   ],
   "source": [
    "report(ecocyc_diffs_locus_tag)"
   ]
  },
  {
   "cell_type": "code",
   "execution_count": null,
   "metadata": {
    "collapsed": true
   },
   "outputs": [],
   "source": []
  }
 ],
 "metadata": {
  "kernelspec": {
   "display_name": "Python 3",
   "language": "python",
   "name": "python3"
  },
  "language_info": {
   "codemirror_mode": {
    "name": "ipython",
    "version": 3
   },
   "file_extension": ".py",
   "mimetype": "text/x-python",
   "name": "python",
   "nbconvert_exporter": "python",
   "pygments_lexer": "ipython3",
   "version": "3.6.3"
  }
 },
 "nbformat": 4,
 "nbformat_minor": 2
}
