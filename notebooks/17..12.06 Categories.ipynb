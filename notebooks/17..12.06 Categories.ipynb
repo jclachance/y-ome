{
 "cells": [
  {
   "cell_type": "code",
   "execution_count": 1,
   "metadata": {
    "collapsed": true
   },
   "outputs": [],
   "source": [
    "import json\n",
    "import pandas as pd\n",
    "from yome import Session\n",
    "from yome.models import *\n",
    "from yome.util import to_df\n",
    "import re\n",
    "from sqlalchemy.orm import aliased\n",
    "import itertools as it\n",
    "import seaborn as sns\n",
    "from IPython.display import HTML"
   ]
  },
  {
   "cell_type": "code",
   "execution_count": 2,
   "metadata": {
    "collapsed": true
   },
   "outputs": [],
   "source": [
    "pd.set_option('display.max_colwidth', -1)"
   ]
  },
  {
   "cell_type": "code",
   "execution_count": 3,
   "metadata": {},
   "outputs": [
    {
     "name": "stdout",
     "output_type": "stream",
     "text": [
      "Populating the interactive namespace from numpy and matplotlib\n"
     ]
    }
   ],
   "source": [
    "from mpl_recipes import mpl_setup\n",
    "%mpl_setup"
   ]
  },
  {
   "cell_type": "code",
   "execution_count": 4,
   "metadata": {
    "collapsed": true
   },
   "outputs": [],
   "source": [
    "session = Session()"
   ]
  },
  {
   "cell_type": "markdown",
   "metadata": {},
   "source": [
    "# Make a report for a gene"
   ]
  },
  {
   "cell_type": "code",
   "execution_count": 5,
   "metadata": {
    "collapsed": true
   },
   "outputs": [],
   "source": [
    "def report(locus_tag):\n",
    "    # Get TBD genes for EcoGene but high for Eco\n",
    "    report = to_df(\n",
    "        session.query(Gene.locus_id,\n",
    "                      KnowledgebaseGene.primary_name,\n",
    "                      KnowledgebaseGene.annotation_quality,\n",
    "                      Knowledgebase.name.label('knowledgebase_name'),\n",
    "                      KnowledgebaseFeature.feature_type,\n",
    "                      KnowledgebaseFeature.feature)\n",
    "        .join(KnowledgebaseGene)\n",
    "        .join(Knowledgebase)\n",
    "        .join(KnowledgebaseFeature)\n",
    "        .filter(Gene.locus_id == locus_tag)\n",
    "    )\n",
    "\n",
    "    print(report.iloc[0, 0:2])\n",
    "\n",
    "    report.knowledgebase_name = report.apply(lambda row: f\"{row['knowledgebase_name']} ({row['annotation_quality']})\", axis=1)\n",
    "    report = report.drop(['locus_id', 'primary_name', 'annotation_quality'], axis=1)\n",
    "    report = report.set_index(['knowledgebase_name', 'feature_type'])\n",
    "    s = report.style.set_properties(**{'text-align': 'left'})\n",
    "    return HTML(s.render())"
   ]
  },
  {
   "cell_type": "markdown",
   "metadata": {},
   "source": [
    "# Genes without b-number"
   ]
  },
  {
   "cell_type": "code",
   "execution_count": 6,
   "metadata": {
    "collapsed": true
   },
   "outputs": [],
   "source": [
    "# Genes b4309 pseudo in EcoGene\n",
    "no_b_number = to_df(\n",
    "    session.query(KnowledgebaseGene.primary_name,\n",
    "                  KnowledgebaseGene.annotation_quality,\n",
    "                  Knowledgebase.name.label('kb_name'))\n",
    "    .join(Knowledgebase)\n",
    "    .filter(KnowledgebaseGene.gene_id == None)\n",
    ")"
   ]
  },
  {
   "cell_type": "code",
   "execution_count": 7,
   "metadata": {},
   "outputs": [
    {
     "data": {
      "text/html": [
       "<div>\n",
       "<style>\n",
       "    .dataframe thead tr:only-child th {\n",
       "        text-align: right;\n",
       "    }\n",
       "\n",
       "    .dataframe thead th {\n",
       "        text-align: left;\n",
       "    }\n",
       "\n",
       "    .dataframe tbody tr th {\n",
       "        vertical-align: top;\n",
       "    }\n",
       "</style>\n",
       "<table border=\"1\" class=\"dataframe\">\n",
       "  <thead>\n",
       "    <tr style=\"text-align: right;\">\n",
       "      <th></th>\n",
       "      <th>primary_name</th>\n",
       "      <th>annotation_quality</th>\n",
       "    </tr>\n",
       "    <tr>\n",
       "      <th>kb_name</th>\n",
       "      <th></th>\n",
       "      <th></th>\n",
       "    </tr>\n",
       "  </thead>\n",
       "  <tbody>\n",
       "    <tr>\n",
       "      <th>EcoCyc</th>\n",
       "      <td>55</td>\n",
       "      <td>55</td>\n",
       "    </tr>\n",
       "    <tr>\n",
       "      <th>UniProt</th>\n",
       "      <td>1</td>\n",
       "      <td>1</td>\n",
       "    </tr>\n",
       "  </tbody>\n",
       "</table>\n",
       "</div>"
      ],
      "text/plain": [
       "         primary_name  annotation_quality\n",
       "kb_name                                  \n",
       "EcoCyc   55            55                \n",
       "UniProt  1             1                 "
      ]
     },
     "execution_count": 7,
     "metadata": {},
     "output_type": "execute_result"
    }
   ],
   "source": [
    "no_b_number.groupby('kb_name').agg('count')"
   ]
  },
  {
   "cell_type": "markdown",
   "metadata": {},
   "source": [
    "# Find locus tags with multiple genes"
   ]
  },
  {
   "cell_type": "code",
   "execution_count": 8,
   "metadata": {
    "collapsed": true
   },
   "outputs": [],
   "source": [
    "KnowledgebaseGene2 = aliased(KnowledgebaseGene)"
   ]
  },
  {
   "cell_type": "code",
   "execution_count": 9,
   "metadata": {
    "collapsed": true
   },
   "outputs": [],
   "source": [
    "duplicates = to_df(\n",
    "    session.query(Gene.locus_id,\n",
    "                  KnowledgebaseGene.primary_name,\n",
    "                  KnowledgebaseGene2.primary_name.label('primary_name2'),\n",
    "                  Knowledgebase.name)\n",
    "    .join(KnowledgebaseGene, KnowledgebaseGene.gene_id == Gene.id)\n",
    "    .join(KnowledgebaseGene2, KnowledgebaseGene2.gene_id == Gene.id)\n",
    "    .join(Knowledgebase, KnowledgebaseGene.knowledgebase_id == Knowledgebase.id)\n",
    "    .filter(KnowledgebaseGene2.knowledgebase_id == Knowledgebase.id)\n",
    "    .filter(KnowledgebaseGene.id != KnowledgebaseGene2.id)\n",
    ")"
   ]
  },
  {
   "cell_type": "code",
   "execution_count": 10,
   "metadata": {},
   "outputs": [
    {
     "data": {
      "text/html": [
       "<div>\n",
       "<style>\n",
       "    .dataframe thead tr:only-child th {\n",
       "        text-align: right;\n",
       "    }\n",
       "\n",
       "    .dataframe thead th {\n",
       "        text-align: left;\n",
       "    }\n",
       "\n",
       "    .dataframe tbody tr th {\n",
       "        vertical-align: top;\n",
       "    }\n",
       "</style>\n",
       "<table border=\"1\" class=\"dataframe\">\n",
       "  <thead>\n",
       "    <tr style=\"text-align: right;\">\n",
       "      <th></th>\n",
       "      <th>locus_id</th>\n",
       "      <th>primary_name</th>\n",
       "      <th>primary_name2</th>\n",
       "      <th>name</th>\n",
       "    </tr>\n",
       "  </thead>\n",
       "  <tbody>\n",
       "    <tr>\n",
       "      <th>0</th>\n",
       "      <td>b3504</td>\n",
       "      <td>yhiS_2</td>\n",
       "      <td>yhiS_1</td>\n",
       "      <td>EcoCyc</td>\n",
       "    </tr>\n",
       "    <tr>\n",
       "      <th>1</th>\n",
       "      <td>b0240</td>\n",
       "      <td>crl_1</td>\n",
       "      <td>crl_2</td>\n",
       "      <td>EcoCyc</td>\n",
       "    </tr>\n",
       "    <tr>\n",
       "      <th>2</th>\n",
       "      <td>b0240</td>\n",
       "      <td>crl_2</td>\n",
       "      <td>crl_1</td>\n",
       "      <td>EcoCyc</td>\n",
       "    </tr>\n",
       "    <tr>\n",
       "      <th>3</th>\n",
       "      <td>b3504</td>\n",
       "      <td>yhiS_1</td>\n",
       "      <td>yhiS_2</td>\n",
       "      <td>EcoCyc</td>\n",
       "    </tr>\n",
       "    <tr>\n",
       "      <th>4</th>\n",
       "      <td>b4581</td>\n",
       "      <td>ybeM</td>\n",
       "      <td>ybeH</td>\n",
       "      <td>UniProt</td>\n",
       "    </tr>\n",
       "    <tr>\n",
       "      <th>5</th>\n",
       "      <td>b4581</td>\n",
       "      <td>ybeH</td>\n",
       "      <td>ybeM</td>\n",
       "      <td>UniProt</td>\n",
       "    </tr>\n",
       "  </tbody>\n",
       "</table>\n",
       "</div>"
      ],
      "text/plain": [
       "  locus_id primary_name primary_name2     name\n",
       "0  b3504    yhiS_2       yhiS_1        EcoCyc \n",
       "1  b0240    crl_1        crl_2         EcoCyc \n",
       "2  b0240    crl_2        crl_1         EcoCyc \n",
       "3  b3504    yhiS_1       yhiS_2        EcoCyc \n",
       "4  b4581    ybeM         ybeH          UniProt\n",
       "5  b4581    ybeH         ybeM          UniProt"
      ]
     },
     "execution_count": 10,
     "metadata": {},
     "output_type": "execute_result"
    }
   ],
   "source": [
    "duplicates"
   ]
  },
  {
   "cell_type": "markdown",
   "metadata": {},
   "source": [
    "# Kbase comparison plot\n",
    "NOTE: 55 EcoCyc & 1 UniProt genes without a locus tag and 2 EcoCyc and 1 Uniprot genes with duplicated locus tags are ignored in this plot"
   ]
  },
  {
   "cell_type": "code",
   "execution_count": 11,
   "metadata": {
    "collapsed": true
   },
   "outputs": [],
   "source": [
    "kbases = to_df(\n",
    "    session.query(Gene.locus_id,\n",
    "                  KnowledgebaseGene.primary_name,\n",
    "                  KnowledgebaseGene.annotation_quality,\n",
    "                  Knowledgebase.name.label('knowledgebase_name'))\n",
    "    .join(KnowledgebaseGene)\n",
    "    .join(Knowledgebase)\n",
    ")"
   ]
  },
  {
   "cell_type": "code",
   "execution_count": 12,
   "metadata": {
    "collapsed": true
   },
   "outputs": [],
   "source": [
    "# EcoCyc assay evidence should override everything, e.g. b0089 / ftsW \n",
    "ecocyc_evidence = to_df(\n",
    "    session.query(Gene.locus_id,\n",
    "                  KnowledgebaseFeature.feature)\n",
    "    .join(KnowledgebaseGene)\n",
    "    .join(Knowledgebase)\n",
    "    .join(KnowledgebaseFeature)\n",
    "    .filter(Knowledgebase.name == 'EcoCyc')\n",
    "    .filter(KnowledgebaseFeature.feature_type == 'evidence_html')\n",
    ")\n",
    "ecocyc_evidence_has_assay = ecocyc_evidence[ecocyc_evidence.feature.str.contains('assay', flags=re.IGNORECASE)\n",
    "                                            | ecocyc_evidence.feature.str.contains('traceable author statement to experimental support', flags=re.IGNORECASE)]"
   ]
  },
  {
   "cell_type": "code",
   "execution_count": 13,
   "metadata": {
    "collapsed": true
   },
   "outputs": [],
   "source": [
    "def calculate_y_ome(row):\n",
    "    any_high =     any(x == 'high'     for x in row)\n",
    "    any_low =      any(x == 'low'      for x in row)\n",
    "    any_excluded = any(x == 'excluded' for x in row)\n",
    "    has_experimental_assay = row.name in ecocyc_evidence_has_assay.locus_id.values\n",
    "    \n",
    "    return 'high'     if (has_experimental_assay or \n",
    "                          (any_high     and not any_low  and not any_excluded)) \\\n",
    "      else 'low'      if ( any_low      and not any_high and not any_excluded) \\\n",
    "      else 'excluded' if ( any_excluded and not any_high) \\\n",
    "      else 'tbd'"
   ]
  },
  {
   "cell_type": "code",
   "execution_count": 14,
   "metadata": {
    "collapsed": true
   },
   "outputs": [],
   "source": [
    "# remove duplicate genes\n",
    "kbases_unstacked = kbases.set_index(['locus_id', 'knowledgebase_name'])\n",
    "kbases_unstacked = kbases_unstacked[~kbases_unstacked.index.duplicated(keep='first')]\n",
    "kbases_unstacked = kbases_unstacked.drop('primary_name', axis=1).unstack()\n",
    "kbases_unstacked.columns = kbases_unstacked.columns.droplevel(0)\n",
    "# calculate Y-ome; don't rely on ME-model\n",
    "kbases_unstacked['Y-ome'] = kbases_unstacked[kbases_unstacked.columns.drop('iJL1678b')].apply(calculate_y_ome, axis=1)"
   ]
  },
  {
   "cell_type": "code",
   "execution_count": 15,
   "metadata": {},
   "outputs": [
    {
     "data": {
      "text/plain": [
       "high        2534\n",
       "low         1527\n",
       "excluded    307 \n",
       "tbd         285 \n",
       "Name: Y-ome, dtype: int64"
      ]
     },
     "execution_count": 15,
     "metadata": {},
     "output_type": "execute_result"
    }
   ],
   "source": [
    "# Y-ome counts\n",
    "kbases_unstacked['Y-ome'].value_counts()"
   ]
  },
  {
   "cell_type": "code",
   "execution_count": 16,
   "metadata": {
    "collapsed": true
   },
   "outputs": [],
   "source": [
    "levels = {\n",
    "    'excluded': 0,\n",
    "    'tbd': 1,\n",
    "    'low': 2,\n",
    "    'high': 3,\n",
    "    None: 4\n",
    "}"
   ]
  },
  {
   "cell_type": "code",
   "execution_count": 17,
   "metadata": {
    "collapsed": true
   },
   "outputs": [],
   "source": [
    "colors = {\n",
    "    0: [ 0.85453713,  0.22957019,  0.27623218,  1.        ], # bright red\n",
    "    1: [ 0.9170408 ,  0.56061475,  0.58722664,  1.        ], # red\n",
    "    2: [ 0.57653009,  0.72175186,  0.76633449,  1.        ], # light blue green\n",
    "    3: [ 0.24715576,  0.49918708,  0.57655991,  1.        ], # dark blue green\n",
    "    4: [ 0.6,         0.6,         0.6,         1.        ], # grey\n",
    "}\n",
    "# pal = sns.diverging_palette(10, 220, sep=80, n=7)\n",
    "# sns.palplot(pal)\n",
    "# pal"
   ]
  },
  {
   "cell_type": "code",
   "execution_count": 18,
   "metadata": {
    "collapsed": true
   },
   "outputs": [],
   "source": [
    "knowledgebase_names = list(kbases_unstacked.columns)\n",
    "kbases_plot = kbases_unstacked.applymap(lambda x: levels[x]).sort_values(by=list(kbases_unstacked.columns))"
   ]
  },
  {
   "cell_type": "code",
   "execution_count": 19,
   "metadata": {
    "collapsed": true
   },
   "outputs": [],
   "source": [
    "# create bars based on consecutive colors\n",
    "last_value = {kbase: None for kbase in knowledgebase_names}\n",
    "bars = {kbase: [] for kbase in knowledgebase_names}\n",
    "for locus_tag, row in kbases_plot.iterrows():\n",
    "    for kbase, value in row.iteritems():\n",
    "        if len(bars[kbase]) == 0 or bars[kbase][-1]['value'] != value:\n",
    "            bars[kbase].append({'value': value, 'height': 1})\n",
    "            last_value[kbase] = value\n",
    "        else:\n",
    "            bars[kbase][-1]['height'] += 1"
   ]
  },
  {
   "cell_type": "code",
   "execution_count": 20,
   "metadata": {},
   "outputs": [
    {
     "name": "stderr",
     "output_type": "stream",
     "text": [
      "/usr/local/lib/python3.6/site-packages/matplotlib/font_manager.py:1297: UserWarning: findfont: Font family ['sans-serif'] not found. Falling back to DejaVu Sans\n",
      "  (prop.get_family(), self.defaultFamily[fontext]))\n"
     ]
    },
    {
     "data": {
      "image/png": "[encoded data removed]",
      "text/plain": [
       "<matplotlib.figure.Figure at 0x119772c18>"
      ]
     },
     "metadata": {},
     "output_type": "display_data"
    }
   ],
   "source": [
    "fig, ax = plt.subplots(figsize=(11, 11))\n",
    "last_heights = [0 for _ in knowledgebase_names]\n",
    "for bar_list in it.zip_longest(*bars.values()):\n",
    "    left = [x + 0.1 for x in range(len(knowledgebase_names))]\n",
    "    height = [x['height'] if x is not None else 0 for x in bar_list]\n",
    "    bottom = last_heights\n",
    "    last_heights = [x + y for x, y in zip(height, last_heights)]\n",
    "    color = [colors[x['value']] if x is not None else 'k' for x in bar_list]\n",
    "    ax.bar(left, height, bottom=bottom, color=color, linewidth=0)\n",
    "ax.set_xlabel('Knowledgebase')\n",
    "ax.set_ylabel('Gene')\n",
    "ax.xaxis.set_ticks([x + 0.1 for x in range(len(kbases_plot.columns))])\n",
    "ax.xaxis.set_ticklabels(kbases_plot.columns)\n",
    "fig.savefig('/Users/zaking/lab/y-ome/figs/y-ome-latest.png')"
   ]
  },
  {
   "cell_type": "markdown",
   "metadata": {},
   "source": [
    "# cases to check:\n",
    "\n",
    "### High in one DB, low in another\n",
    "\n",
    "+ High in EcoCyc and low in EcoGene\n",
    "  + result: based on *caiC*, give \"high\" priority over \"low\" because EcoCyc has more up-to-date information for \"high\" cases\n",
    "+ High in UniProt and low in EcoCyc\n",
    "  + result: based on *yadI / b0129*, don't rely on EC number in UniProt; use annotation score instead\n",
    "  + result: based on *mrdB*, don't categorize \"family protein\" as poor annotation in EcoCyc\n",
    "  + result: based on *YdcE / b1461*, UniProt high should override EcoCyc because EcoCyc missed the experimental validation in the linked paper (good example for the text)\n",
    "  + result: based on *dgcJ / b1786*, uniprot level 5 annotation should be \"low\", because even putative functions are given this level of annotation (also a good example for the text)\n",
    "+ High in ME-model, low in EcoCyc\n",
    "  + result: ME-model includes putative annotations (e.g. YaaJ). Don't mark these as high\n",
    "  + TODO provide an analysis of them in the text\n",
    "+ High in EcoCyc and low in UniProt\n",
    "  + result: based on thrL; UniProt got this one wrong, should be high\n",
    "+ dicuss how to prefer b0240 / crl to `_1` and `_2` \n",
    "  + https://biocyc.org/gene?orgid=ECOLI&id=G0-16683\n",
    "  + https://biocyc.org/gene?orgid=ECOLI&id=G0-16684\n",
    "  + https://biocyc.org/gene?orgid=ECOLI&id=EG11092\n",
    "  + one solution: devote a paragraph to the discussin in https://biocyc.org/gene?orgid=ECOLI&id=EG11092, noting that UniProt marks this one as \"high\", and EcoCyc marks it as a pseudogene even though there is a clear function\n",
    "\n",
    "### Other E. coli evidence tags\n",
    "\n",
    "+ \"gene expression analysis\" is promising, but a number of transcription factors in E. coli have this evidence, but do not have known conditions of binding or binding targets. E.g. yeiL / b2163 and adiY / b4116\n",
    "+ \"inferred by functional complementation\" is used with poorly characterized genes like b2952 / yggT\n",
    "+ \"binding of purified proteins\" doesn't catch anything new\n",
    "+ \"Inferred from genetic interaction\" will get b0461 wrong\n",
    "+ \"Author hypothesis\" is too vague\n",
    "+ TODO \"inferred from mutant phenotype\"\n",
    "\n",
    "### Genes where Y-ome disagrees with EcoCyc\n",
    "\n",
    "Result: After spot-checking a number of cases where EcoCyc is not in agreement with the final Y-ome:\n",
    "\n",
    "- pseudogenes called by EcoGene are just listed as poorly characterized genes in EcoCyc (OK)\n",
    "- UniProt gives annotation scores to help clarify annotation for a number of genes. These are present and annotated in EcoCyc, but the annotation level cannot be determined automatically (OK)\n",
    "\n",
    "\n"
   ]
  },
  {
   "cell_type": "markdown",
   "metadata": {},
   "source": [
    "## Assertions\n",
    "The literature points to a particular answer for these genes\n",
    "\n",
    "TODO merge these with Y-ome Updates"
   ]
  },
  {
   "cell_type": "code",
   "execution_count": 33,
   "metadata": {
    "collapsed": true
   },
   "outputs": [],
   "source": [
    "assertions = pd.read_table('../sources/manual/manual.tsv', sep='\\t', index_col='locus_tag')"
   ]
  },
  {
   "cell_type": "code",
   "execution_count": 35,
   "metadata": {},
   "outputs": [
    {
     "data": {
      "text/html": [
       "<div>\n",
       "<style>\n",
       "    .dataframe thead tr:only-child th {\n",
       "        text-align: right;\n",
       "    }\n",
       "\n",
       "    .dataframe thead th {\n",
       "        text-align: left;\n",
       "    }\n",
       "\n",
       "    .dataframe tbody tr th {\n",
       "        vertical-align: top;\n",
       "    }\n",
       "</style>\n",
       "<table border=\"1\" class=\"dataframe\">\n",
       "  <thead>\n",
       "    <tr style=\"text-align: right;\">\n",
       "      <th>knowledgebase_name</th>\n",
       "      <th>EcoCyc</th>\n",
       "      <th>EcoGene</th>\n",
       "      <th>RefSeq</th>\n",
       "      <th>UniProt</th>\n",
       "      <th>iJL1678b</th>\n",
       "      <th>Y-ome</th>\n",
       "    </tr>\n",
       "    <tr>\n",
       "      <th>locus_id</th>\n",
       "      <th></th>\n",
       "      <th></th>\n",
       "      <th></th>\n",
       "      <th></th>\n",
       "      <th></th>\n",
       "      <th></th>\n",
       "    </tr>\n",
       "  </thead>\n",
       "  <tbody>\n",
       "    <tr>\n",
       "      <th>b0022</th>\n",
       "      <td>tbd</td>\n",
       "      <td>tbd</td>\n",
       "      <td>tbd</td>\n",
       "      <td>low</td>\n",
       "      <td>None</td>\n",
       "      <td>low</td>\n",
       "    </tr>\n",
       "  </tbody>\n",
       "</table>\n",
       "</div>"
      ],
      "text/plain": [
       "knowledgebase_name EcoCyc EcoGene RefSeq UniProt iJL1678b Y-ome\n",
       "locus_id                                                       \n",
       "b0022               tbd    tbd     tbd    low     None     low "
      ]
     },
     "execution_count": 35,
     "metadata": {},
     "output_type": "execute_result"
    }
   ],
   "source": [
    "# print an incorrect assertions\n",
    "def check_for_row(row):\n",
    "    return any(row.name == locus_tag and row['Y-ome'] != val and row['Y-ome'] != 'tbd' and val != 'read'\n",
    "               for locus_tag, val in assertions.new_annotation_quality.iteritems())\n",
    "kbases_unstacked[kbases_unstacked.apply(check_for_row, axis=1)]"
   ]
  },
  {
   "cell_type": "code",
   "execution_count": 37,
   "metadata": {},
   "outputs": [
    {
     "name": "stdout",
     "output_type": "stream",
     "text": [
      "locus_id        b0022 \n",
      "primary_name    insA-1\n",
      "Name: 0, dtype: object\n"
     ]
    },
    {
     "data": {
      "text/html": [
       "<style  type=\"text/css\" >\n",
       "    #T_b9389774_e2c7_11e7_b2b8_a60024489901row0_col0 {\n",
       "            text-align:  left;\n",
       "        }    #T_b9389774_e2c7_11e7_b2b8_a60024489901row1_col0 {\n",
       "            text-align:  left;\n",
       "        }    #T_b9389774_e2c7_11e7_b2b8_a60024489901row2_col0 {\n",
       "            text-align:  left;\n",
       "        }    #T_b9389774_e2c7_11e7_b2b8_a60024489901row3_col0 {\n",
       "            text-align:  left;\n",
       "        }    #T_b9389774_e2c7_11e7_b2b8_a60024489901row4_col0 {\n",
       "            text-align:  left;\n",
       "        }    #T_b9389774_e2c7_11e7_b2b8_a60024489901row5_col0 {\n",
       "            text-align:  left;\n",
       "        }    #T_b9389774_e2c7_11e7_b2b8_a60024489901row6_col0 {\n",
       "            text-align:  left;\n",
       "        }    #T_b9389774_e2c7_11e7_b2b8_a60024489901row7_col0 {\n",
       "            text-align:  left;\n",
       "        }    #T_b9389774_e2c7_11e7_b2b8_a60024489901row8_col0 {\n",
       "            text-align:  left;\n",
       "        }    #T_b9389774_e2c7_11e7_b2b8_a60024489901row9_col0 {\n",
       "            text-align:  left;\n",
       "        }    #T_b9389774_e2c7_11e7_b2b8_a60024489901row10_col0 {\n",
       "            text-align:  left;\n",
       "        }    #T_b9389774_e2c7_11e7_b2b8_a60024489901row11_col0 {\n",
       "            text-align:  left;\n",
       "        }    #T_b9389774_e2c7_11e7_b2b8_a60024489901row12_col0 {\n",
       "            text-align:  left;\n",
       "        }    #T_b9389774_e2c7_11e7_b2b8_a60024489901row13_col0 {\n",
       "            text-align:  left;\n",
       "        }    #T_b9389774_e2c7_11e7_b2b8_a60024489901row14_col0 {\n",
       "            text-align:  left;\n",
       "        }    #T_b9389774_e2c7_11e7_b2b8_a60024489901row15_col0 {\n",
       "            text-align:  left;\n",
       "        }    #T_b9389774_e2c7_11e7_b2b8_a60024489901row16_col0 {\n",
       "            text-align:  left;\n",
       "        }    #T_b9389774_e2c7_11e7_b2b8_a60024489901row17_col0 {\n",
       "            text-align:  left;\n",
       "        }    #T_b9389774_e2c7_11e7_b2b8_a60024489901row18_col0 {\n",
       "            text-align:  left;\n",
       "        }</style>  \n",
       "<table id=\"T_b9389774_e2c7_11e7_b2b8_a60024489901\" > \n",
       "<thead>    <tr> \n",
       "        <th class=\"blank\" ></th> \n",
       "        <th class=\"blank level0\" ></th> \n",
       "        <th class=\"col_heading level0 col0\" >feature</th> \n",
       "    </tr>    <tr> \n",
       "        <th class=\"index_name level0\" >knowledgebase_name</th> \n",
       "        <th class=\"index_name level1\" >feature_type</th> \n",
       "        <th class=\"blank\" ></th> \n",
       "    </tr></thead> \n",
       "<tbody>    <tr> \n",
       "        <th id=\"T_b9389774_e2c7_11e7_b2b8_a60024489901level0_row0\" class=\"row_heading level0 row0\" rowspan=6>EcoCyc (tbd)</th> \n",
       "        <th id=\"T_b9389774_e2c7_11e7_b2b8_a60024489901level1_row0\" class=\"row_heading level1 row0\" >description</th> \n",
       "        <td id=\"T_b9389774_e2c7_11e7_b2b8_a60024489901row0_col0\" class=\"data row0 col0\" >IS1 protein InsA</td> \n",
       "    </tr>    <tr> \n",
       "        <th id=\"T_b9389774_e2c7_11e7_b2b8_a60024489901level1_row1\" class=\"row_heading level1 row1\" >summary_html</th> \n",
       "        <td id=\"T_b9389774_e2c7_11e7_b2b8_a60024489901row1_col0\" class=\"data row1 col0\" >SummaryIS1 is the smallest insertion sequence in E. coli.  It codes for three proteins, InsA, InsB and InsAB'.InsAB' is the transposase for IS1 [Escoubas94]. Its translation depends on a -1 frameshift within the 3' end region of insA which allows translational readthrough into insB [Sekine89]. In the absence of this frameshift, the IS1 transcriptional repressor protein InsA is produced instead [Sekine89, Escoubas94, Matsutani97].</td> \n",
       "    </tr>    <tr> \n",
       "        <th id=\"T_b9389774_e2c7_11e7_b2b8_a60024489901level1_row2\" class=\"row_heading level1 row2\" >product_type</th> \n",
       "        <td id=\"T_b9389774_e2c7_11e7_b2b8_a60024489901row2_col0\" class=\"data row2 col0\" >polypeptide</td> \n",
       "    </tr>    <tr> \n",
       "        <th id=\"T_b9389774_e2c7_11e7_b2b8_a60024489901level1_row3\" class=\"row_heading level1 row3\" >is_pseudogene</th> \n",
       "        <td id=\"T_b9389774_e2c7_11e7_b2b8_a60024489901row3_col0\" class=\"data row3 col0\" >f</td> \n",
       "    </tr>    <tr> \n",
       "        <th id=\"T_b9389774_e2c7_11e7_b2b8_a60024489901level1_row4\" class=\"row_heading level1 row4\" >is_phantom_gene</th> \n",
       "        <td id=\"T_b9389774_e2c7_11e7_b2b8_a60024489901row4_col0\" class=\"data row4 col0\" >f</td> \n",
       "    </tr>    <tr> \n",
       "        <th id=\"T_b9389774_e2c7_11e7_b2b8_a60024489901level1_row5\" class=\"row_heading level1 row5\" >evidence_html</th> \n",
       "        <td id=\"T_b9389774_e2c7_11e7_b2b8_a60024489901row5_col0\" class=\"data row5 col0\" >\n",
       "\n",
       "\n",
       "\n",
       "\n",
       "Inferred from mutant phenotype [Escoubas94]\n",
       "\n",
       "</td> \n",
       "    </tr>    <tr> \n",
       "        <th id=\"T_b9389774_e2c7_11e7_b2b8_a60024489901level0_row6\" class=\"row_heading level0 row6\" rowspan=5>EcoGene (tbd)</th> \n",
       "        <th id=\"T_b9389774_e2c7_11e7_b2b8_a60024489901level1_row6\" class=\"row_heading level1 row6\" >protein</th> \n",
       "        <td id=\"T_b9389774_e2c7_11e7_b2b8_a60024489901row6_col0\" class=\"data row6 col0\" >IS1 repressor TnpA</td> \n",
       "    </tr>    <tr> \n",
       "        <th id=\"T_b9389774_e2c7_11e7_b2b8_a60024489901level1_row7\" class=\"row_heading level1 row7\" >function</th> \n",
       "        <td id=\"T_b9389774_e2c7_11e7_b2b8_a60024489901row7_col0\" class=\"data row7 col0\" >IS, phage, Tn; Transposon-related functions; extrachromosomal; transposon related</td> \n",
       "    </tr>    <tr> \n",
       "        <th id=\"T_b9389774_e2c7_11e7_b2b8_a60024489901level1_row8\" class=\"row_heading level1 row8\" >description</th> \n",
       "        <td id=\"T_b9389774_e2c7_11e7_b2b8_a60024489901row8_col0\" class=\"data row8 col0\" >IS1 transposase A</td> \n",
       "    </tr>    <tr> \n",
       "        <th id=\"T_b9389774_e2c7_11e7_b2b8_a60024489901level1_row9\" class=\"row_heading level1 row9\" >comments</th> \n",
       "        <td id=\"T_b9389774_e2c7_11e7_b2b8_a60024489901row9_col0\" class=\"data row9 col0\" >Null</td> \n",
       "    </tr>    <tr> \n",
       "        <th id=\"T_b9389774_e2c7_11e7_b2b8_a60024489901level1_row10\" class=\"row_heading level1 row10\" >is_pseudogene</th> \n",
       "        <td id=\"T_b9389774_e2c7_11e7_b2b8_a60024489901row10_col0\" class=\"data row10 col0\" >f</td> \n",
       "    </tr>    <tr> \n",
       "        <th id=\"T_b9389774_e2c7_11e7_b2b8_a60024489901level0_row11\" class=\"row_heading level0 row11\" rowspan=5>UniProt (low)</th> \n",
       "        <th id=\"T_b9389774_e2c7_11e7_b2b8_a60024489901level1_row11\" class=\"row_heading level1 row11\" >upid</th> \n",
       "        <td id=\"T_b9389774_e2c7_11e7_b2b8_a60024489901row11_col0\" class=\"data row11 col0\" >P0CF07</td> \n",
       "    </tr>    <tr> \n",
       "        <th id=\"T_b9389774_e2c7_11e7_b2b8_a60024489901level1_row12\" class=\"row_heading level1 row12\" >protein</th> \n",
       "        <td id=\"T_b9389774_e2c7_11e7_b2b8_a60024489901row12_col0\" class=\"data row12 col0\" >Insertion element IS1 1 protein InsA (IS1a)</td> \n",
       "    </tr>    <tr> \n",
       "        <th id=\"T_b9389774_e2c7_11e7_b2b8_a60024489901level1_row13\" class=\"row_heading level1 row13\" >function</th> \n",
       "        <td id=\"T_b9389774_e2c7_11e7_b2b8_a60024489901row13_col0\" class=\"data row13 col0\" >FUNCTION: Absolutely required for transposition of IS1.</td> \n",
       "    </tr>    <tr> \n",
       "        <th id=\"T_b9389774_e2c7_11e7_b2b8_a60024489901level1_row14\" class=\"row_heading level1 row14\" >features</th> \n",
       "        <td id=\"T_b9389774_e2c7_11e7_b2b8_a60024489901row14_col0\" class=\"data row14 col0\" >Chain (1)</td> \n",
       "    </tr>    <tr> \n",
       "        <th id=\"T_b9389774_e2c7_11e7_b2b8_a60024489901level1_row15\" class=\"row_heading level1 row15\" >annotation_score</th> \n",
       "        <td id=\"T_b9389774_e2c7_11e7_b2b8_a60024489901row15_col0\" class=\"data row15 col0\" >2</td> \n",
       "    </tr>    <tr> \n",
       "        <th id=\"T_b9389774_e2c7_11e7_b2b8_a60024489901level0_row16\" class=\"row_heading level0 row16\" rowspan=3>RefSeq (tbd)</th> \n",
       "        <th id=\"T_b9389774_e2c7_11e7_b2b8_a60024489901level1_row16\" class=\"row_heading level1 row16\" >ec_numbers</th> \n",
       "        <td id=\"T_b9389774_e2c7_11e7_b2b8_a60024489901row16_col0\" class=\"data row16 col0\" >{}</td> \n",
       "    </tr>    <tr> \n",
       "        <th id=\"T_b9389774_e2c7_11e7_b2b8_a60024489901level1_row17\" class=\"row_heading level1 row17\" >product</th> \n",
       "        <td id=\"T_b9389774_e2c7_11e7_b2b8_a60024489901row17_col0\" class=\"data row17 col0\" >IS1 repressor TnpA</td> \n",
       "    </tr>    <tr> \n",
       "        <th id=\"T_b9389774_e2c7_11e7_b2b8_a60024489901level1_row18\" class=\"row_heading level1 row18\" >function</th> \n",
       "        <td id=\"T_b9389774_e2c7_11e7_b2b8_a60024489901row18_col0\" class=\"data row18 col0\" >IS, phage, Tn; Transposon-related functions; extrachromosomal; transposon related</td> \n",
       "    </tr></tbody> \n",
       "</table> "
      ],
      "text/plain": [
       "<IPython.core.display.HTML object>"
      ]
     },
     "execution_count": 37,
     "metadata": {},
     "output_type": "execute_result"
    }
   ],
   "source": [
    "report('b0022')"
   ]
  },
  {
   "cell_type": "markdown",
   "metadata": {},
   "source": [
    "# TBD genes"
   ]
  },
  {
   "cell_type": "code",
   "execution_count": 22,
   "metadata": {},
   "outputs": [
    {
     "name": "stdout",
     "output_type": "stream",
     "text": [
      "623 genes; next locus: b0018\n"
     ]
    }
   ],
   "source": [
    "tbd = kbases_unstacked[(kbases_unstacked['Y-ome'] == 'tbd') & ~kbases_unstacked.index.isin([x[0] for x in assertions])]\n",
    "tbd_locus_tag = tbd.index[1]\n",
    "print(f'{len(tbd)} genes; next locus: {tbd_locus_tag}')"
   ]
  },
  {
   "cell_type": "code",
   "execution_count": 23,
   "metadata": {},
   "outputs": [
    {
     "data": {
      "text/html": [
       "<div>\n",
       "<style>\n",
       "    .dataframe thead tr:only-child th {\n",
       "        text-align: right;\n",
       "    }\n",
       "\n",
       "    .dataframe thead th {\n",
       "        text-align: left;\n",
       "    }\n",
       "\n",
       "    .dataframe tbody tr th {\n",
       "        vertical-align: top;\n",
       "    }\n",
       "</style>\n",
       "<table border=\"1\" class=\"dataframe\">\n",
       "  <thead>\n",
       "    <tr style=\"text-align: right;\">\n",
       "      <th>knowledgebase_name</th>\n",
       "      <th>EcoCyc</th>\n",
       "      <th>EcoGene</th>\n",
       "      <th>RefSeq</th>\n",
       "      <th>UniProt</th>\n",
       "      <th>iJL1678b</th>\n",
       "      <th>Y-ome</th>\n",
       "    </tr>\n",
       "    <tr>\n",
       "      <th>locus_id</th>\n",
       "      <th></th>\n",
       "      <th></th>\n",
       "      <th></th>\n",
       "      <th></th>\n",
       "      <th></th>\n",
       "      <th></th>\n",
       "    </tr>\n",
       "  </thead>\n",
       "  <tbody>\n",
       "    <tr>\n",
       "      <th>b0018</th>\n",
       "      <td>high</td>\n",
       "      <td>tbd</td>\n",
       "      <td>tbd</td>\n",
       "      <td>low</td>\n",
       "      <td>None</td>\n",
       "      <td>tbd</td>\n",
       "    </tr>\n",
       "  </tbody>\n",
       "</table>\n",
       "</div>"
      ],
      "text/plain": [
       "knowledgebase_name EcoCyc EcoGene RefSeq UniProt iJL1678b Y-ome\n",
       "locus_id                                                       \n",
       "b0018               high   tbd     tbd    low     None     tbd "
      ]
     },
     "execution_count": 23,
     "metadata": {},
     "output_type": "execute_result"
    }
   ],
   "source": [
    "kbases_unstacked[kbases_unstacked.index == tbd_locus_tag]"
   ]
  },
  {
   "cell_type": "code",
   "execution_count": 24,
   "metadata": {},
   "outputs": [
    {
     "name": "stdout",
     "output_type": "stream",
     "text": [
      "locus_id        b0018\n",
      "primary_name    mokC \n",
      "Name: 0, dtype: object\n"
     ]
    },
    {
     "data": {
      "text/html": [
       "<style  type=\"text/css\" >\n",
       "    #T_a2a83c1e_e2c0_11e7_bb91_a60024489901row0_col0 {\n",
       "            text-align:  left;\n",
       "        }    #T_a2a83c1e_e2c0_11e7_bb91_a60024489901row1_col0 {\n",
       "            text-align:  left;\n",
       "        }    #T_a2a83c1e_e2c0_11e7_bb91_a60024489901row2_col0 {\n",
       "            text-align:  left;\n",
       "        }    #T_a2a83c1e_e2c0_11e7_bb91_a60024489901row3_col0 {\n",
       "            text-align:  left;\n",
       "        }    #T_a2a83c1e_e2c0_11e7_bb91_a60024489901row4_col0 {\n",
       "            text-align:  left;\n",
       "        }    #T_a2a83c1e_e2c0_11e7_bb91_a60024489901row5_col0 {\n",
       "            text-align:  left;\n",
       "        }    #T_a2a83c1e_e2c0_11e7_bb91_a60024489901row6_col0 {\n",
       "            text-align:  left;\n",
       "        }    #T_a2a83c1e_e2c0_11e7_bb91_a60024489901row7_col0 {\n",
       "            text-align:  left;\n",
       "        }    #T_a2a83c1e_e2c0_11e7_bb91_a60024489901row8_col0 {\n",
       "            text-align:  left;\n",
       "        }    #T_a2a83c1e_e2c0_11e7_bb91_a60024489901row9_col0 {\n",
       "            text-align:  left;\n",
       "        }    #T_a2a83c1e_e2c0_11e7_bb91_a60024489901row10_col0 {\n",
       "            text-align:  left;\n",
       "        }    #T_a2a83c1e_e2c0_11e7_bb91_a60024489901row11_col0 {\n",
       "            text-align:  left;\n",
       "        }    #T_a2a83c1e_e2c0_11e7_bb91_a60024489901row12_col0 {\n",
       "            text-align:  left;\n",
       "        }    #T_a2a83c1e_e2c0_11e7_bb91_a60024489901row13_col0 {\n",
       "            text-align:  left;\n",
       "        }    #T_a2a83c1e_e2c0_11e7_bb91_a60024489901row14_col0 {\n",
       "            text-align:  left;\n",
       "        }    #T_a2a83c1e_e2c0_11e7_bb91_a60024489901row15_col0 {\n",
       "            text-align:  left;\n",
       "        }    #T_a2a83c1e_e2c0_11e7_bb91_a60024489901row16_col0 {\n",
       "            text-align:  left;\n",
       "        }    #T_a2a83c1e_e2c0_11e7_bb91_a60024489901row17_col0 {\n",
       "            text-align:  left;\n",
       "        }</style>  \n",
       "<table id=\"T_a2a83c1e_e2c0_11e7_bb91_a60024489901\" > \n",
       "<thead>    <tr> \n",
       "        <th class=\"blank\" ></th> \n",
       "        <th class=\"blank level0\" ></th> \n",
       "        <th class=\"col_heading level0 col0\" >feature</th> \n",
       "    </tr>    <tr> \n",
       "        <th class=\"index_name level0\" >knowledgebase_name</th> \n",
       "        <th class=\"index_name level1\" >feature_type</th> \n",
       "        <th class=\"blank\" ></th> \n",
       "    </tr></thead> \n",
       "<tbody>    <tr> \n",
       "        <th id=\"T_a2a83c1e_e2c0_11e7_bb91_a60024489901level0_row0\" class=\"row_heading level0 row0\" rowspan=6>EcoCyc (high)</th> \n",
       "        <th id=\"T_a2a83c1e_e2c0_11e7_bb91_a60024489901level1_row0\" class=\"row_heading level1 row0\" >description</th> \n",
       "        <td id=\"T_a2a83c1e_e2c0_11e7_bb91_a60024489901row0_col0\" class=\"data row0 col0\" >regulatory protein MokC</td> \n",
       "    </tr>    <tr> \n",
       "        <th id=\"T_a2a83c1e_e2c0_11e7_bb91_a60024489901level1_row1\" class=\"row_heading level1 row1\" >summary_html</th> \n",
       "        <td id=\"T_a2a83c1e_e2c0_11e7_bb91_a60024489901row1_col0\" class=\"data row1 col0\" >SummarySequence analysis indicates that the hokC gene is a homologue of the hok (host killing) gene which is responsible for mediating plasmid stabilization by post-segregational killing (PSK) in plasmid R1. hok encodes a stable mRNA whose translation is inhibited by a less stable mRNA encoded by sok. The stable mRNA from hokC encodes a polypeptide that induction experiments have shown to be toxic to Escherichia coli host cells, resulting in cell growth arrest, morphological changes, and rapid cell killing. The hokC system is inactive due to insertion of the insertion element IS186 22 bp downstream of the gene. Sequence analysis shows that after the removal of the IS186 element sequence, the hokC system contains regulatory elements described for the hok/sok system from plasmid R1 including a fold-back inhibition element (fbi), a translational activation element (tac), a promoter, and an overlapping open reading frame named mokC.  Northern analysis using the hokC sysem from ECOR24 which does not contain the IS186 element has shown that the fbi sequence is exonucleolytically removed during post-transcriptional processing, and that the hokC locus also encodes a small, less stable antisense RNA complimentary to the hokC mRNA leader in the mokC open reading frame. The antisense RNA is homologous to Sok-RNA from plasmid R1, and is believed to be designed to regulate hokC translation by inhibiting translation of the overlapping mokC. It has been shown that hokC is unable to mediate PSK [Pedersen99].</td> \n",
       "    </tr>    <tr> \n",
       "        <th id=\"T_a2a83c1e_e2c0_11e7_bb91_a60024489901level1_row2\" class=\"row_heading level1 row2\" >product_type</th> \n",
       "        <td id=\"T_a2a83c1e_e2c0_11e7_bb91_a60024489901row2_col0\" class=\"data row2 col0\" >polypeptide</td> \n",
       "    </tr>    <tr> \n",
       "        <th id=\"T_a2a83c1e_e2c0_11e7_bb91_a60024489901level1_row3\" class=\"row_heading level1 row3\" >is_pseudogene</th> \n",
       "        <td id=\"T_a2a83c1e_e2c0_11e7_bb91_a60024489901row3_col0\" class=\"data row3 col0\" >f</td> \n",
       "    </tr>    <tr> \n",
       "        <th id=\"T_a2a83c1e_e2c0_11e7_bb91_a60024489901level1_row4\" class=\"row_heading level1 row4\" >is_phantom_gene</th> \n",
       "        <td id=\"T_a2a83c1e_e2c0_11e7_bb91_a60024489901row4_col0\" class=\"data row4 col0\" >f</td> \n",
       "    </tr>    <tr> \n",
       "        <th id=\"T_a2a83c1e_e2c0_11e7_bb91_a60024489901level1_row5\" class=\"row_heading level1 row5\" >evidence_html</th> \n",
       "        <td id=\"T_a2a83c1e_e2c0_11e7_bb91_a60024489901row5_col0\" class=\"data row5 col0\" >\n",
       "\n",
       "\n",
       "\n",
       "\n",
       "Human inference of function from sequence [Pedersen99]\n",
       "\n",
       "</td> \n",
       "    </tr>    <tr> \n",
       "        <th id=\"T_a2a83c1e_e2c0_11e7_bb91_a60024489901level0_row6\" class=\"row_heading level0 row6\" rowspan=5>EcoGene (tbd)</th> \n",
       "        <th id=\"T_a2a83c1e_e2c0_11e7_bb91_a60024489901level1_row6\" class=\"row_heading level1 row6\" >protein</th> \n",
       "        <td id=\"T_a2a83c1e_e2c0_11e7_bb91_a60024489901row6_col0\" class=\"data row6 col0\" >regulatory protein for HokC, overlaps CDS of hokC</td> \n",
       "    </tr>    <tr> \n",
       "        <th id=\"T_a2a83c1e_e2c0_11e7_bb91_a60024489901level1_row7\" class=\"row_heading level1 row7\" >function</th> \n",
       "        <td id=\"T_a2a83c1e_e2c0_11e7_bb91_a60024489901row7_col0\" class=\"data row7 col0\" >Null</td> \n",
       "    </tr>    <tr> \n",
       "        <th id=\"T_a2a83c1e_e2c0_11e7_bb91_a60024489901level1_row8\" class=\"row_heading level1 row8\" >description</th> \n",
       "        <td id=\"T_a2a83c1e_e2c0_11e7_bb91_a60024489901row8_col0\" class=\"data row8 col0\" >Overlapping regulatory peptide, enables hokC expression</td> \n",
       "    </tr>    <tr> \n",
       "        <th id=\"T_a2a83c1e_e2c0_11e7_bb91_a60024489901level1_row9\" class=\"row_heading level1 row9\" >comments</th> \n",
       "        <td id=\"T_a2a83c1e_e2c0_11e7_bb91_a60024489901row9_col0\" class=\"data row9 col0\" >MokC translation enables HokC translation when MokC is not inhibited by the sokC sRNA.</td> \n",
       "    </tr>    <tr> \n",
       "        <th id=\"T_a2a83c1e_e2c0_11e7_bb91_a60024489901level1_row10\" class=\"row_heading level1 row10\" >is_pseudogene</th> \n",
       "        <td id=\"T_a2a83c1e_e2c0_11e7_bb91_a60024489901row10_col0\" class=\"data row10 col0\" >f</td> \n",
       "    </tr>    <tr> \n",
       "        <th id=\"T_a2a83c1e_e2c0_11e7_bb91_a60024489901level0_row11\" class=\"row_heading level0 row11\" rowspan=5>UniProt (low)</th> \n",
       "        <th id=\"T_a2a83c1e_e2c0_11e7_bb91_a60024489901level1_row11\" class=\"row_heading level1 row11\" >upid</th> \n",
       "        <td id=\"T_a2a83c1e_e2c0_11e7_bb91_a60024489901row11_col0\" class=\"data row11 col0\" >P33236</td> \n",
       "    </tr>    <tr> \n",
       "        <th id=\"T_a2a83c1e_e2c0_11e7_bb91_a60024489901level1_row12\" class=\"row_heading level1 row12\" >protein</th> \n",
       "        <td id=\"T_a2a83c1e_e2c0_11e7_bb91_a60024489901row12_col0\" class=\"data row12 col0\" >Regulatory protein MokC</td> \n",
       "    </tr>    <tr> \n",
       "        <th id=\"T_a2a83c1e_e2c0_11e7_bb91_a60024489901level1_row13\" class=\"row_heading level1 row13\" >function</th> \n",
       "        <td id=\"T_a2a83c1e_e2c0_11e7_bb91_a60024489901row13_col0\" class=\"data row13 col0\" >FUNCTION: Overlapping regulatory peptide whose translation enables hokC expression. {ECO:0000305}.</td> \n",
       "    </tr>    <tr> \n",
       "        <th id=\"T_a2a83c1e_e2c0_11e7_bb91_a60024489901level1_row14\" class=\"row_heading level1 row14\" >features</th> \n",
       "        <td id=\"T_a2a83c1e_e2c0_11e7_bb91_a60024489901row14_col0\" class=\"data row14 col0\" >Chain (1); Transmembrane (1)</td> \n",
       "    </tr>    <tr> \n",
       "        <th id=\"T_a2a83c1e_e2c0_11e7_bb91_a60024489901level1_row15\" class=\"row_heading level1 row15\" >annotation_score</th> \n",
       "        <td id=\"T_a2a83c1e_e2c0_11e7_bb91_a60024489901row15_col0\" class=\"data row15 col0\" >2</td> \n",
       "    </tr>    <tr> \n",
       "        <th id=\"T_a2a83c1e_e2c0_11e7_bb91_a60024489901level0_row16\" class=\"row_heading level0 row16\" rowspan=2>RefSeq (tbd)</th> \n",
       "        <th id=\"T_a2a83c1e_e2c0_11e7_bb91_a60024489901level1_row16\" class=\"row_heading level1 row16\" >ec_numbers</th> \n",
       "        <td id=\"T_a2a83c1e_e2c0_11e7_bb91_a60024489901row16_col0\" class=\"data row16 col0\" >{}</td> \n",
       "    </tr>    <tr> \n",
       "        <th id=\"T_a2a83c1e_e2c0_11e7_bb91_a60024489901level1_row17\" class=\"row_heading level1 row17\" >product</th> \n",
       "        <td id=\"T_a2a83c1e_e2c0_11e7_bb91_a60024489901row17_col0\" class=\"data row17 col0\" >regulatory protein for HokC, overlaps CDS of hokC</td> \n",
       "    </tr></tbody> \n",
       "</table> "
      ],
      "text/plain": [
       "<IPython.core.display.HTML object>"
      ]
     },
     "execution_count": 24,
     "metadata": {},
     "output_type": "execute_result"
    }
   ],
   "source": [
    "report(tbd_locus_tag)"
   ]
  },
  {
   "cell_type": "markdown",
   "metadata": {
    "collapsed": true
   },
   "source": [
    "# check on \"inferred from mutant phenotype\""
   ]
  },
  {
   "cell_type": "code",
   "execution_count": null,
   "metadata": {
    "collapsed": true
   },
   "outputs": [],
   "source": [
    "mut"
   ]
  },
  {
   "cell_type": "code",
   "execution_count": null,
   "metadata": {
    "collapsed": true
   },
   "outputs": [],
   "source": []
  },
  {
   "cell_type": "code",
   "execution_count": null,
   "metadata": {
    "collapsed": true
   },
   "outputs": [],
   "source": []
  }
 ],
 "metadata": {
  "kernelspec": {
   "display_name": "Python 3",
   "language": "python",
   "name": "python3"
  },
  "language_info": {
   "codemirror_mode": {
    "name": "ipython",
    "version": 3
   },
   "file_extension": ".py",
   "mimetype": "text/x-python",
   "name": "python",
   "nbconvert_exporter": "python",
   "pygments_lexer": "ipython3",
   "version": "3.6.3"
  }
 },
 "nbformat": 4,
 "nbformat_minor": 2
}
