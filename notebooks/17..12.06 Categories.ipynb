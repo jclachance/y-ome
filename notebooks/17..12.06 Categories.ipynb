{
 "cells": [
  {
   "cell_type": "code",
   "execution_count": 30,
   "metadata": {
    "collapsed": true
   },
   "outputs": [],
   "source": [
    "import json\n",
    "import pandas as pd\n",
    "from yome import Session\n",
    "from yome.models import *\n",
    "from yome.util import to_df\n",
    "import re\n",
    "from sqlalchemy.orm import aliased\n",
    "import itertools as it"
   ]
  },
  {
   "cell_type": "code",
   "execution_count": 2,
   "metadata": {},
   "outputs": [
    {
     "name": "stdout",
     "output_type": "stream",
     "text": [
      "Populating the interactive namespace from numpy and matplotlib\n"
     ]
    }
   ],
   "source": [
    "from mpl_recipes import mpl_setup\n",
    "%mpl_setup"
   ]
  },
  {
   "cell_type": "code",
   "execution_count": 3,
   "metadata": {
    "collapsed": true
   },
   "outputs": [],
   "source": [
    "session = Session()"
   ]
  },
  {
   "cell_type": "markdown",
   "metadata": {},
   "source": [
    "# Psuedogenes "
   ]
  },
  {
   "cell_type": "code",
   "execution_count": null,
   "metadata": {
    "collapsed": true
   },
   "outputs": [],
   "source": [
    "# session.rollback()"
   ]
  },
  {
   "cell_type": "code",
   "execution_count": null,
   "metadata": {
    "collapsed": true
   },
   "outputs": [],
   "source": [
    "# Genes maked pseudo in EcoGene\n",
    "ecogene_pseudo = (\n",
    "    session.query(Gene.locus_id,\n",
    "                  KnowledgebaseGene.primary_name,\n",
    "                  KnowledgebaseFeature.feature)\n",
    "    .join(KnowledgebaseGene)\n",
    "    .join(Knowledgebase)\n",
    "    .join(KnowledgebaseFeature)\n",
    "    .filter(Knowledgebase.name == 'EcoGene')\n",
    "    .filter(KnowledgebaseFeature.feature_type == 'is_pseudogene')\n",
    "    .filter(KnowledgebaseFeature.feature == 't')\n",
    ")"
   ]
  },
  {
   "cell_type": "code",
   "execution_count": null,
   "metadata": {},
   "outputs": [],
   "source": [
    "ecogene_pseudo.count()"
   ]
  },
  {
   "cell_type": "markdown",
   "metadata": {},
   "source": [
    "# Genes without b-number"
   ]
  },
  {
   "cell_type": "code",
   "execution_count": 46,
   "metadata": {},
   "outputs": [],
   "source": [
    "# Genes b4309 pseudo in EcoGene\n",
    "no_b_number = to_df(\n",
    "    session.query(KnowledgebaseGene.primary_name,\n",
    "                  KnowledgebaseGene.annotation_quality,\n",
    "                  Knowledgebase.name.label('kb_name'))\n",
    "    .join(Knowledgebase)\n",
    "    .filter(KnowledgebaseGene.gene_id == None)\n",
    ")"
   ]
  },
  {
   "cell_type": "code",
   "execution_count": 47,
   "metadata": {},
   "outputs": [
    {
     "data": {
      "text/html": [
       "<div>\n",
       "<style>\n",
       "    .dataframe thead tr:only-child th {\n",
       "        text-align: right;\n",
       "    }\n",
       "\n",
       "    .dataframe thead th {\n",
       "        text-align: left;\n",
       "    }\n",
       "\n",
       "    .dataframe tbody tr th {\n",
       "        vertical-align: top;\n",
       "    }\n",
       "</style>\n",
       "<table border=\"1\" class=\"dataframe\">\n",
       "  <thead>\n",
       "    <tr style=\"text-align: right;\">\n",
       "      <th></th>\n",
       "      <th>primary_name</th>\n",
       "      <th>annotation_quality</th>\n",
       "    </tr>\n",
       "    <tr>\n",
       "      <th>kb_name</th>\n",
       "      <th></th>\n",
       "      <th></th>\n",
       "    </tr>\n",
       "  </thead>\n",
       "  <tbody>\n",
       "    <tr>\n",
       "      <th>EcoCyc</th>\n",
       "      <td>55</td>\n",
       "      <td>55</td>\n",
       "    </tr>\n",
       "  </tbody>\n",
       "</table>\n",
       "</div>"
      ],
      "text/plain": [
       "         primary_name  annotation_quality\n",
       "kb_name                                  \n",
       "EcoCyc             55                  55"
      ]
     },
     "execution_count": 47,
     "metadata": {},
     "output_type": "execute_result"
    }
   ],
   "source": [
    "no_b_number.groupby('kb_name').agg('count')"
   ]
  },
  {
   "cell_type": "markdown",
   "metadata": {},
   "source": [
    "# Find locus tags with multiple genes"
   ]
  },
  {
   "cell_type": "code",
   "execution_count": 41,
   "metadata": {
    "collapsed": true
   },
   "outputs": [],
   "source": [
    "KnowledgebaseGene2 = aliased(KnowledgebaseGene)"
   ]
  },
  {
   "cell_type": "code",
   "execution_count": 42,
   "metadata": {
    "collapsed": true
   },
   "outputs": [],
   "source": [
    "duplicates = to_df(\n",
    "    session.query(Gene.locus_id,\n",
    "                  KnowledgebaseGene.primary_name,\n",
    "                  KnowledgebaseGene2.primary_name.label('primary_name2'),\n",
    "                  Knowledgebase.name)\n",
    "    .join(KnowledgebaseGene, KnowledgebaseGene.gene_id == Gene.id)\n",
    "    .join(KnowledgebaseGene2, KnowledgebaseGene2.gene_id == Gene.id)\n",
    "    .join(Knowledgebase, KnowledgebaseGene.knowledgebase_id == Knowledgebase.id)\n",
    "    .filter(KnowledgebaseGene2.knowledgebase_id == Knowledgebase.id)\n",
    "    .filter(KnowledgebaseGene.id != KnowledgebaseGene2.id)\n",
    ")"
   ]
  },
  {
   "cell_type": "code",
   "execution_count": 43,
   "metadata": {},
   "outputs": [
    {
     "data": {
      "text/html": [
       "<div>\n",
       "<style>\n",
       "    .dataframe thead tr:only-child th {\n",
       "        text-align: right;\n",
       "    }\n",
       "\n",
       "    .dataframe thead th {\n",
       "        text-align: left;\n",
       "    }\n",
       "\n",
       "    .dataframe tbody tr th {\n",
       "        vertical-align: top;\n",
       "    }\n",
       "</style>\n",
       "<table border=\"1\" class=\"dataframe\">\n",
       "  <thead>\n",
       "    <tr style=\"text-align: right;\">\n",
       "      <th></th>\n",
       "      <th>locus_id</th>\n",
       "      <th>primary_name</th>\n",
       "      <th>primary_name2</th>\n",
       "      <th>name</th>\n",
       "    </tr>\n",
       "  </thead>\n",
       "  <tbody>\n",
       "    <tr>\n",
       "      <th>0</th>\n",
       "      <td>b3504</td>\n",
       "      <td>yhiS_2</td>\n",
       "      <td>yhiS_1</td>\n",
       "      <td>EcoCyc</td>\n",
       "    </tr>\n",
       "    <tr>\n",
       "      <th>1</th>\n",
       "      <td>b0240</td>\n",
       "      <td>crl_1</td>\n",
       "      <td>crl_2</td>\n",
       "      <td>EcoCyc</td>\n",
       "    </tr>\n",
       "    <tr>\n",
       "      <th>2</th>\n",
       "      <td>b0240</td>\n",
       "      <td>crl_2</td>\n",
       "      <td>crl_1</td>\n",
       "      <td>EcoCyc</td>\n",
       "    </tr>\n",
       "    <tr>\n",
       "      <th>3</th>\n",
       "      <td>b3504</td>\n",
       "      <td>yhiS_1</td>\n",
       "      <td>yhiS_2</td>\n",
       "      <td>EcoCyc</td>\n",
       "    </tr>\n",
       "  </tbody>\n",
       "</table>\n",
       "</div>"
      ],
      "text/plain": [
       "  locus_id primary_name primary_name2    name\n",
       "0    b3504       yhiS_2        yhiS_1  EcoCyc\n",
       "1    b0240        crl_1         crl_2  EcoCyc\n",
       "2    b0240        crl_2         crl_1  EcoCyc\n",
       "3    b3504       yhiS_1        yhiS_2  EcoCyc"
      ]
     },
     "execution_count": 43,
     "metadata": {},
     "output_type": "execute_result"
    }
   ],
   "source": [
    "duplicates"
   ]
  },
  {
   "cell_type": "markdown",
   "metadata": {},
   "source": [
    "# Kbase comparison plot\n",
    "NOTE: 55 EcoCyc genes without a locus tag and 4 EcoCyc genes with duplicated locud tags are ignored in this plot"
   ]
  },
  {
   "cell_type": "code",
   "execution_count": 4,
   "metadata": {},
   "outputs": [],
   "source": [
    "kbases = to_df(\n",
    "    session.query(Gene.locus_id,\n",
    "                  KnowledgebaseGene.primary_name,\n",
    "                  KnowledgebaseGene.annotation_quality,\n",
    "                  Knowledgebase.name.label('knowledgebase_name'))\n",
    "    .join(KnowledgebaseGene)\n",
    "    .join(Knowledgebase)\n",
    ")"
   ]
  },
  {
   "cell_type": "code",
   "execution_count": 5,
   "metadata": {},
   "outputs": [
    {
     "data": {
      "text/plain": [
       "['EcoCyc', 'EcoGene', 'UniProt']"
      ]
     },
     "execution_count": 5,
     "metadata": {},
     "output_type": "execute_result"
    }
   ],
   "source": [
    "knowledgebase_names = [x[0] for x in session.query(Knowledgebase.name).all()]\n",
    "knowledgebase_names"
   ]
  },
  {
   "cell_type": "code",
   "execution_count": 6,
   "metadata": {},
   "outputs": [],
   "source": [
    "levels = {\n",
    "    'excluded': 0,\n",
    "    'tbd': 1,\n",
    "    'low': 2,\n",
    "    'high': 3,\n",
    "    None: 4\n",
    "}"
   ]
  },
  {
   "cell_type": "code",
   "execution_count": 7,
   "metadata": {},
   "outputs": [
    {
     "data": {
      "text/html": [
       "<div>\n",
       "<style>\n",
       "    .dataframe thead tr:only-child th {\n",
       "        text-align: right;\n",
       "    }\n",
       "\n",
       "    .dataframe thead th {\n",
       "        text-align: left;\n",
       "    }\n",
       "\n",
       "    .dataframe tbody tr th {\n",
       "        vertical-align: top;\n",
       "    }\n",
       "</style>\n",
       "<table border=\"1\" class=\"dataframe\">\n",
       "  <thead>\n",
       "    <tr style=\"text-align: right;\">\n",
       "      <th>knowledgebase_name</th>\n",
       "      <th>EcoCyc</th>\n",
       "      <th>EcoGene</th>\n",
       "      <th>UniProt</th>\n",
       "    </tr>\n",
       "    <tr>\n",
       "      <th>locus_id</th>\n",
       "      <th></th>\n",
       "      <th></th>\n",
       "      <th></th>\n",
       "    </tr>\n",
       "  </thead>\n",
       "  <tbody>\n",
       "    <tr>\n",
       "      <th>b0501</th>\n",
       "      <td>0</td>\n",
       "      <td>1</td>\n",
       "      <td>2</td>\n",
       "    </tr>\n",
       "    <tr>\n",
       "      <th>b4274</th>\n",
       "      <td>0</td>\n",
       "      <td>1</td>\n",
       "      <td>2</td>\n",
       "    </tr>\n",
       "    <tr>\n",
       "      <th>b0017</th>\n",
       "      <td>0</td>\n",
       "      <td>4</td>\n",
       "      <td>4</td>\n",
       "    </tr>\n",
       "    <tr>\n",
       "      <th>b0079</th>\n",
       "      <td>0</td>\n",
       "      <td>4</td>\n",
       "      <td>4</td>\n",
       "    </tr>\n",
       "    <tr>\n",
       "      <th>b0100</th>\n",
       "      <td>0</td>\n",
       "      <td>4</td>\n",
       "      <td>4</td>\n",
       "    </tr>\n",
       "  </tbody>\n",
       "</table>\n",
       "</div>"
      ],
      "text/plain": [
       "knowledgebase_name  EcoCyc  EcoGene  UniProt\n",
       "locus_id                                    \n",
       "b0501                    0        1        2\n",
       "b4274                    0        1        2\n",
       "b0017                    0        4        4\n",
       "b0079                    0        4        4\n",
       "b0100                    0        4        4"
      ]
     },
     "execution_count": 7,
     "metadata": {},
     "output_type": "execute_result"
    }
   ],
   "source": [
    "# remove duplicate genes\n",
    "d = kbases.set_index(['locus_id', 'knowledgebase_name'])\n",
    "d = d[~d.index.duplicated(keep='first')]\n",
    "d = d.drop('primary_name', axis=1).unstack()\n",
    "d.columns = d.columns.droplevel(0)\n",
    "dfp = d.applymap(lambda x: levels[x]).sort_values(by=knowledgebase_names)\n",
    "dfp.head()"
   ]
  },
  {
   "cell_type": "code",
   "execution_count": 19,
   "metadata": {},
   "outputs": [],
   "source": [
    "# create bars based on consecutive colors\n",
    "last_value = {kbase: None for kbase in knowledgebase_names}\n",
    "bars = {kbase: [] for kbase in knowledgebase_names}\n",
    "for locus_tag, row in dfp.iterrows():\n",
    "    for kbase, value in row.iteritems():\n",
    "        if len(bars[kbase]) == 0 or bars[kbase][-1]['value'] != value:\n",
    "            bars[kbase].append({'value': value, 'height': 1})\n",
    "            last_value[kbase] = value\n",
    "        else:\n",
    "            bars[kbase][-1]['height'] += 1"
   ]
  },
  {
   "cell_type": "code",
   "execution_count": 12,
   "metadata": {
    "collapsed": true
   },
   "outputs": [],
   "source": [
    "colors = {\n",
    "    0: 'black',\n",
    "    1: 'yellow',\n",
    "    2: 'red',\n",
    "    3: 'green', \n",
    "    4: 'black',\n",
    "}"
   ]
  },
  {
   "cell_type": "code",
   "execution_count": 45,
   "metadata": {},
   "outputs": [
    {
     "data": {
      "text/plain": [
       "{'EcoCyc': [{'height': 37, 'value': 0},\n",
       "  {'height': 1132, 'value': 1},\n",
       "  {'height': 1289, 'value': 2},\n",
       "  {'height': 2150, 'value': 3},\n",
       "  {'height': 43, 'value': 4}],\n",
       " 'EcoGene': [{'height': 2, 'value': 1},\n",
       "  {'height': 35, 'value': 4},\n",
       "  {'height': 728, 'value': 1},\n",
       "  {'height': 350, 'value': 2},\n",
       "  {'height': 54, 'value': 4},\n",
       "  {'height': 243, 'value': 1},\n",
       "  {'height': 987, 'value': 2},\n",
       "  {'height': 59, 'value': 4},\n",
       "  {'height': 1959, 'value': 1},\n",
       "  {'height': 190, 'value': 2},\n",
       "  {'height': 1, 'value': 4},\n",
       "  {'height': 34, 'value': 1},\n",
       "  {'height': 9, 'value': 2}],\n",
       " 'UniProt': [{'height': 2, 'value': 2},\n",
       "  {'height': 35, 'value': 4},\n",
       "  {'height': 134, 'value': 1},\n",
       "  {'height': 203, 'value': 2},\n",
       "  {'height': 323, 'value': 3},\n",
       "  {'height': 68, 'value': 4},\n",
       "  {'height': 45, 'value': 1},\n",
       "  {'height': 231, 'value': 2},\n",
       "  {'height': 49, 'value': 3},\n",
       "  {'height': 25, 'value': 4},\n",
       "  {'height': 1, 'value': 2},\n",
       "  {'height': 53, 'value': 4},\n",
       "  {'height': 24, 'value': 1},\n",
       "  {'height': 190, 'value': 2},\n",
       "  {'height': 25, 'value': 3},\n",
       "  {'height': 4, 'value': 4},\n",
       "  {'height': 50, 'value': 1},\n",
       "  {'height': 878, 'value': 2},\n",
       "  {'height': 58, 'value': 3},\n",
       "  {'height': 1, 'value': 4},\n",
       "  {'height': 23, 'value': 2},\n",
       "  {'height': 1, 'value': 3},\n",
       "  {'height': 35, 'value': 4},\n",
       "  {'height': 194, 'value': 1},\n",
       "  {'height': 63, 'value': 2},\n",
       "  {'height': 1591, 'value': 3},\n",
       "  {'height': 111, 'value': 4},\n",
       "  {'height': 16, 'value': 1},\n",
       "  {'height': 54, 'value': 2},\n",
       "  {'height': 120, 'value': 3},\n",
       "  {'height': 1, 'value': 4},\n",
       "  {'height': 15, 'value': 2},\n",
       "  {'height': 3, 'value': 3},\n",
       "  {'height': 16, 'value': 4},\n",
       "  {'height': 8, 'value': 2},\n",
       "  {'height': 1, 'value': 4}]}"
      ]
     },
     "execution_count": 45,
     "metadata": {},
     "output_type": "execute_result"
    }
   ],
   "source": [
    "bars"
   ]
  },
  {
   "cell_type": "code",
   "execution_count": 49,
   "metadata": {},
   "outputs": [
    {
     "data": {
      "text/plain": [
       "[<matplotlib.text.Text at 0x1241e6a58>,\n",
       " <matplotlib.text.Text at 0x1241d63c8>,\n",
       " <matplotlib.text.Text at 0x124451278>]"
      ]
     },
     "execution_count": 49,
     "metadata": {},
     "output_type": "execute_result"
    },
    {
     "name": "stderr",
     "output_type": "stream",
     "text": [
      "/usr/local/lib/python3.6/site-packages/matplotlib/font_manager.py:1297: UserWarning: findfont: Font family ['sans-serif'] not found. Falling back to DejaVu Sans\n",
      "  (prop.get_family(), self.defaultFamily[fontext]))\n"
     ]
    },
    {
     "data": {
      "image/png": "[encoded data removed]",
      "text/plain": [
       "<matplotlib.figure.Figure at 0x124075f98>"
      ]
     },
     "metadata": {},
     "output_type": "display_data"
    }
   ],
   "source": [
    "fig, ax = plt.subplots(figsize=(11, 11))\n",
    "last_heights = [0 for _ in knowledgebase_names]\n",
    "for bar_list in it.zip_longest(*bars.values()):\n",
    "    left = [x + 0.1 for x in range(len(knowledgebase_names))]\n",
    "    height = [x['height'] if x is not None else 0 for x in bar_list]\n",
    "    bottom = last_heights\n",
    "    last_heights = [x + y for x, y in zip(height, last_heights)]\n",
    "    color = [colors[x['value']] if x is not None else 'k' for x in bar_list]\n",
    "    ax.bar(left, height, bottom=bottom, color=color, linewidth=0)\n",
    "ax.set_xlabel('Knowledgebase')\n",
    "ax.set_ylabel('Gene')\n",
    "ax.xaxis.set_ticks([x + 0.1 for x in range(len(dfp.columns))])\n",
    "ax.xaxis.set_ticklabels(dfp.columns)"
   ]
  },
  {
   "cell_type": "code",
   "execution_count": null,
   "metadata": {
    "collapsed": true
   },
   "outputs": [],
   "source": []
  }
 ],
 "metadata": {
  "kernelspec": {
   "display_name": "Python 3",
   "language": "python",
   "name": "python3"
  },
  "language_info": {
   "codemirror_mode": {
    "name": "ipython",
    "version": 3
   },
   "file_extension": ".py",
   "mimetype": "text/x-python",
   "name": "python",
   "nbconvert_exporter": "python",
   "pygments_lexer": "ipython3",
   "version": "3.6.3"
  }
 },
 "nbformat": 4,
 "nbformat_minor": 2
}
