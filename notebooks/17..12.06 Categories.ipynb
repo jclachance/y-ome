{
 "cells": [
  {
   "cell_type": "code",
   "execution_count": 144,
   "metadata": {
    "collapsed": true
   },
   "outputs": [],
   "source": [
    "import json\n",
    "import pandas as pd\n",
    "import numpy as np\n",
    "from yome import Session\n",
    "from yome.models import *\n",
    "from yome.util import to_df\n",
    "import re\n",
    "from sqlalchemy.orm import aliased\n",
    "import itertools as it\n",
    "import seaborn as sns\n",
    "from IPython.display import HTML"
   ]
  },
  {
   "cell_type": "code",
   "execution_count": 145,
   "metadata": {
    "collapsed": true
   },
   "outputs": [],
   "source": [
    "pd.set_option('display.max_colwidth', -1)"
   ]
  },
  {
   "cell_type": "code",
   "execution_count": 146,
   "metadata": {},
   "outputs": [
    {
     "name": "stdout",
     "output_type": "stream",
     "text": [
      "Populating the interactive namespace from numpy and matplotlib\n"
     ]
    }
   ],
   "source": [
    "from mpl_recipes import mpl_setup\n",
    "%mpl_setup"
   ]
  },
  {
   "cell_type": "code",
   "execution_count": 147,
   "metadata": {
    "collapsed": true
   },
   "outputs": [],
   "source": [
    "session = Session()"
   ]
  },
  {
   "cell_type": "markdown",
   "metadata": {},
   "source": [
    "# Functions"
   ]
  },
  {
   "cell_type": "code",
   "execution_count": 148,
   "metadata": {
    "collapsed": true
   },
   "outputs": [],
   "source": [
    "def report(locus_tag):\n",
    "    # Get TBD genes for EcoGene but high for Eco\n",
    "    report = to_df(\n",
    "        session.query(Gene.locus_id,\n",
    "                      KnowledgebaseGene.primary_name,\n",
    "                      KnowledgebaseGene.annotation_quality,\n",
    "                      Knowledgebase.name.label('knowledgebase_name'),\n",
    "                      KnowledgebaseFeature.feature_type,\n",
    "                      KnowledgebaseFeature.feature)\n",
    "        .join(KnowledgebaseGene)\n",
    "        .join(Knowledgebase)\n",
    "        .join(KnowledgebaseFeature)\n",
    "        .filter(Gene.locus_id == locus_tag)\n",
    "    )\n",
    "\n",
    "    print(report.iloc[0, 0:2])\n",
    "\n",
    "    report.knowledgebase_name = report.apply(lambda row: f\"{row['knowledgebase_name']} ({row['annotation_quality']})\", axis=1)\n",
    "    report = report.drop(['locus_id', 'primary_name', 'annotation_quality'], axis=1)\n",
    "    report = report.set_index(['knowledgebase_name', 'feature_type'])\n",
    "    s = report.style.set_properties(**{'text-align': 'left'})\n",
    "    return HTML(s.render())"
   ]
  },
  {
   "cell_type": "markdown",
   "metadata": {},
   "source": [
    "# Genes without b-number"
   ]
  },
  {
   "cell_type": "code",
   "execution_count": 149,
   "metadata": {
    "collapsed": true
   },
   "outputs": [],
   "source": [
    "# Genes b4309 pseudo in EcoGene\n",
    "no_b_number = to_df(\n",
    "    session.query(KnowledgebaseGene.primary_name,\n",
    "                  KnowledgebaseGene.annotation_quality,\n",
    "                  Knowledgebase.name.label('kb_name'))\n",
    "    .join(Knowledgebase)\n",
    "    .filter(KnowledgebaseGene.gene_id == None)\n",
    ")"
   ]
  },
  {
   "cell_type": "code",
   "execution_count": 150,
   "metadata": {},
   "outputs": [
    {
     "data": {
      "text/html": [
       "<div>\n",
       "<style>\n",
       "    .dataframe thead tr:only-child th {\n",
       "        text-align: right;\n",
       "    }\n",
       "\n",
       "    .dataframe thead th {\n",
       "        text-align: left;\n",
       "    }\n",
       "\n",
       "    .dataframe tbody tr th {\n",
       "        vertical-align: top;\n",
       "    }\n",
       "</style>\n",
       "<table border=\"1\" class=\"dataframe\">\n",
       "  <thead>\n",
       "    <tr style=\"text-align: right;\">\n",
       "      <th></th>\n",
       "      <th>primary_name</th>\n",
       "      <th>annotation_quality</th>\n",
       "    </tr>\n",
       "    <tr>\n",
       "      <th>kb_name</th>\n",
       "      <th></th>\n",
       "      <th></th>\n",
       "    </tr>\n",
       "  </thead>\n",
       "  <tbody>\n",
       "    <tr>\n",
       "      <th>EcoCyc</th>\n",
       "      <td>55</td>\n",
       "      <td>55</td>\n",
       "    </tr>\n",
       "    <tr>\n",
       "      <th>UniProt</th>\n",
       "      <td>1</td>\n",
       "      <td>1</td>\n",
       "    </tr>\n",
       "  </tbody>\n",
       "</table>\n",
       "</div>"
      ],
      "text/plain": [
       "         primary_name  annotation_quality\n",
       "kb_name                                  \n",
       "EcoCyc   55            55                \n",
       "UniProt  1             1                 "
      ]
     },
     "execution_count": 150,
     "metadata": {},
     "output_type": "execute_result"
    }
   ],
   "source": [
    "no_b_number.groupby('kb_name').agg('count')"
   ]
  },
  {
   "cell_type": "markdown",
   "metadata": {},
   "source": [
    "# Find locus tags with multiple genes"
   ]
  },
  {
   "cell_type": "code",
   "execution_count": 151,
   "metadata": {
    "collapsed": true
   },
   "outputs": [],
   "source": [
    "KnowledgebaseGene2 = aliased(KnowledgebaseGene)"
   ]
  },
  {
   "cell_type": "code",
   "execution_count": 152,
   "metadata": {
    "collapsed": true
   },
   "outputs": [],
   "source": [
    "duplicates = to_df(\n",
    "    session.query(Gene.locus_id,\n",
    "                  KnowledgebaseGene.primary_name,\n",
    "                  KnowledgebaseGene2.primary_name.label('primary_name2'),\n",
    "                  Knowledgebase.name)\n",
    "    .join(KnowledgebaseGene, KnowledgebaseGene.gene_id == Gene.id)\n",
    "    .join(KnowledgebaseGene2, KnowledgebaseGene2.gene_id == Gene.id)\n",
    "    .join(Knowledgebase, KnowledgebaseGene.knowledgebase_id == Knowledgebase.id)\n",
    "    .filter(KnowledgebaseGene2.knowledgebase_id == Knowledgebase.id)\n",
    "    .filter(KnowledgebaseGene.id != KnowledgebaseGene2.id)\n",
    ")"
   ]
  },
  {
   "cell_type": "code",
   "execution_count": 153,
   "metadata": {},
   "outputs": [
    {
     "data": {
      "text/html": [
       "<div>\n",
       "<style>\n",
       "    .dataframe thead tr:only-child th {\n",
       "        text-align: right;\n",
       "    }\n",
       "\n",
       "    .dataframe thead th {\n",
       "        text-align: left;\n",
       "    }\n",
       "\n",
       "    .dataframe tbody tr th {\n",
       "        vertical-align: top;\n",
       "    }\n",
       "</style>\n",
       "<table border=\"1\" class=\"dataframe\">\n",
       "  <thead>\n",
       "    <tr style=\"text-align: right;\">\n",
       "      <th></th>\n",
       "      <th>locus_id</th>\n",
       "      <th>primary_name</th>\n",
       "      <th>primary_name2</th>\n",
       "      <th>name</th>\n",
       "    </tr>\n",
       "  </thead>\n",
       "  <tbody>\n",
       "    <tr>\n",
       "      <th>0</th>\n",
       "      <td>b3504</td>\n",
       "      <td>yhiS_2</td>\n",
       "      <td>yhiS_1</td>\n",
       "      <td>EcoCyc</td>\n",
       "    </tr>\n",
       "    <tr>\n",
       "      <th>1</th>\n",
       "      <td>b0240</td>\n",
       "      <td>crl_1</td>\n",
       "      <td>crl_2</td>\n",
       "      <td>EcoCyc</td>\n",
       "    </tr>\n",
       "    <tr>\n",
       "      <th>2</th>\n",
       "      <td>b0240</td>\n",
       "      <td>crl_2</td>\n",
       "      <td>crl_1</td>\n",
       "      <td>EcoCyc</td>\n",
       "    </tr>\n",
       "    <tr>\n",
       "      <th>3</th>\n",
       "      <td>b3504</td>\n",
       "      <td>yhiS_1</td>\n",
       "      <td>yhiS_2</td>\n",
       "      <td>EcoCyc</td>\n",
       "    </tr>\n",
       "    <tr>\n",
       "      <th>4</th>\n",
       "      <td>b4581</td>\n",
       "      <td>ybeM</td>\n",
       "      <td>ybeH</td>\n",
       "      <td>UniProt</td>\n",
       "    </tr>\n",
       "    <tr>\n",
       "      <th>5</th>\n",
       "      <td>b4581</td>\n",
       "      <td>ybeH</td>\n",
       "      <td>ybeM</td>\n",
       "      <td>UniProt</td>\n",
       "    </tr>\n",
       "  </tbody>\n",
       "</table>\n",
       "</div>"
      ],
      "text/plain": [
       "  locus_id primary_name primary_name2     name\n",
       "0  b3504    yhiS_2       yhiS_1        EcoCyc \n",
       "1  b0240    crl_1        crl_2         EcoCyc \n",
       "2  b0240    crl_2        crl_1         EcoCyc \n",
       "3  b3504    yhiS_1       yhiS_2        EcoCyc \n",
       "4  b4581    ybeM         ybeH          UniProt\n",
       "5  b4581    ybeH         ybeM          UniProt"
      ]
     },
     "execution_count": 153,
     "metadata": {},
     "output_type": "execute_result"
    }
   ],
   "source": [
    "duplicates"
   ]
  },
  {
   "cell_type": "markdown",
   "metadata": {},
   "source": [
    "# Kbase comparison plot\n",
    "NOTE: 55 EcoCyc & 1 UniProt genes without a locus tag and 2 EcoCyc and 1 Uniprot genes with duplicated locus tags are ignored in this plot"
   ]
  },
  {
   "cell_type": "code",
   "execution_count": 154,
   "metadata": {
    "collapsed": true
   },
   "outputs": [],
   "source": [
    "kbases = to_df(\n",
    "    session.query(Gene.locus_id,\n",
    "                  KnowledgebaseGene.primary_name,\n",
    "                  KnowledgebaseGene.annotation_quality,\n",
    "                  Knowledgebase.name.label('knowledgebase_name'))\n",
    "    .join(KnowledgebaseGene)\n",
    "    .join(Knowledgebase)\n",
    ")"
   ]
  },
  {
   "cell_type": "code",
   "execution_count": 155,
   "metadata": {
    "collapsed": true
   },
   "outputs": [],
   "source": [
    "# high quality EcoCyc evidence should override everything, e.g. b0089 / ftsW \n",
    "ecocyc_evidence = to_df(\n",
    "    session.query(Gene.locus_id,\n",
    "                  KnowledgebaseFeature.feature)\n",
    "    .join(KnowledgebaseGene)\n",
    "    .join(Knowledgebase)\n",
    "    .join(KnowledgebaseFeature)\n",
    "    .filter(Knowledgebase.name == 'EcoCyc')\n",
    "    .filter(KnowledgebaseFeature.feature_type == 'evidence_html')\n",
    ")\n",
    "ecocyc_evidence_has_assay = ecocyc_evidence[ecocyc_evidence.feature.str.contains('assay', flags=re.IGNORECASE)\n",
    "                                            | ecocyc_evidence.feature.str.contains('reaction blocked in mutant', flags=re.IGNORECASE)\n",
    "                                            | ecocyc_evidence.feature.str.contains('traceable author statement to experimental support', flags=re.IGNORECASE)]"
   ]
  },
  {
   "cell_type": "code",
   "execution_count": 156,
   "metadata": {
    "collapsed": true
   },
   "outputs": [],
   "source": [
    "# high quality EcoCyc evidence should override everything, e.g. b0089 / ftsW \n",
    "ecocyc_insertion = to_df(\n",
    "    session.query(Gene.locus_id,\n",
    "                  KnowledgebaseFeature.feature)\n",
    "    .join(KnowledgebaseGene)\n",
    "    .join(Knowledgebase)\n",
    "    .join(KnowledgebaseFeature)\n",
    "    .filter(Knowledgebase.name == 'EcoCyc')\n",
    "    .filter(KnowledgebaseFeature.feature_type == 'is_insertion_element')\n",
    ")\n",
    "ecocyc_is_insertion = ecocyc_insertion[ecocyc_insertion.feature == 't']"
   ]
  },
  {
   "cell_type": "code",
   "execution_count": 157,
   "metadata": {
    "collapsed": true
   },
   "outputs": [],
   "source": [
    "def calculate_y_ome(row):\n",
    "    any_high =     any(x == 'high'     for x in row)\n",
    "    any_low =      any(x == 'low'      for x in row)\n",
    "    any_excluded = any(x == 'excluded' for x in row)\n",
    "    # good results when EcoCyc and UniProt agree\n",
    "    ecocyc_uniprot_high = (row['EcoCyc'] == 'high' and row['UniProt'] == 'high')\n",
    "    # high quality EcoCyc evidence should override everything, e.g. b0089 / ftsW \n",
    "    has_experimental_assay = row.name in ecocyc_evidence_has_assay.locus_id.values\n",
    "    # RegulonDB should override everything\n",
    "    regulon_db_high = row['RegulonDB'] == 'high'\n",
    "    # Insertion element call overrides everything\n",
    "    is_insertion = row.name in ecocyc_is_insertion.locus_id.values\n",
    "    \n",
    "    return (\n",
    "        'high'          if ( has_experimental_assay or \n",
    "                             regulon_db_high or \n",
    "                             ecocyc_uniprot_high or\n",
    "                             is_insertion or\n",
    "                            (any_high     and not any_low  and not any_excluded))\n",
    "        else 'low'      if ( any_low      and not any_high and not any_excluded)\n",
    "        else 'excluded' if ( any_excluded )\n",
    "        else 'tbd'\n",
    "    )"
   ]
  },
  {
   "cell_type": "code",
   "execution_count": 158,
   "metadata": {
    "collapsed": true
   },
   "outputs": [],
   "source": [
    "# remove duplicate genes\n",
    "kbases_unstacked = kbases.set_index(['locus_id', 'knowledgebase_name'])\n",
    "kbases_unstacked = kbases_unstacked[~kbases_unstacked.index.duplicated(keep='first')]\n",
    "kbases_unstacked = kbases_unstacked.drop('primary_name', axis=1).unstack()\n",
    "kbases_unstacked.columns = kbases_unstacked.columns.droplevel(0)"
   ]
  },
  {
   "cell_type": "code",
   "execution_count": 159,
   "metadata": {
    "collapsed": true
   },
   "outputs": [],
   "source": [
    "# calculate Y-ome; don't rely on ME-model\n",
    "kbases_unstacked['Y-ome'] = kbases_unstacked[kbases_unstacked.columns.drop('iJL1678b')].apply(calculate_y_ome, axis=1)"
   ]
  },
  {
   "cell_type": "code",
   "execution_count": 160,
   "metadata": {},
   "outputs": [
    {
     "data": {
      "text/plain": [
       "high        2650\n",
       "low         1470\n",
       "excluded    307 \n",
       "tbd         226 \n",
       "Name: Y-ome, dtype: int64"
      ]
     },
     "execution_count": 160,
     "metadata": {},
     "output_type": "execute_result"
    }
   ],
   "source": [
    "# Y-ome counts\n",
    "kbases_unstacked['Y-ome'].value_counts()"
   ]
  },
  {
   "cell_type": "code",
   "execution_count": 161,
   "metadata": {
    "collapsed": true
   },
   "outputs": [],
   "source": [
    "# get list of genes starting with y in EcoCyc\n",
    "# high quality EcoCyc evidence should override everything, e.g. b0089 / ftsW "
   ]
  },
  {
   "cell_type": "code",
   "execution_count": 162,
   "metadata": {
    "collapsed": true
   },
   "outputs": [],
   "source": [
    "ecocyc_names = {x[0]: x[1] for x in (\n",
    "    session.query(Gene.locus_id,\n",
    "                  KnowledgebaseGene.primary_name)\n",
    "    .join(KnowledgebaseGene)\n",
    "    .join(Knowledgebase)\n",
    "    .filter(Knowledgebase.name == 'EcoCyc')\n",
    ").all()}"
   ]
  },
  {
   "cell_type": "code",
   "execution_count": 163,
   "metadata": {
    "collapsed": true
   },
   "outputs": [],
   "source": [
    "def starts_y(row):\n",
    "    primary_name = ecocyc_names.get(row.name, None)\n",
    "    return 'low' if primary_name and primary_name.startswith('y') \\\n",
    "        else 'high' if primary_name \\\n",
    "        else 'excluded'"
   ]
  },
  {
   "cell_type": "code",
   "execution_count": 164,
   "metadata": {
    "collapsed": true
   },
   "outputs": [],
   "source": [
    "kbases_unstacked['starts_y'] = kbases_unstacked.apply(starts_y, axis=1)"
   ]
  },
  {
   "cell_type": "code",
   "execution_count": 165,
   "metadata": {
    "collapsed": true
   },
   "outputs": [],
   "source": [
    "levels = {\n",
    "    'excluded': 0,\n",
    "    'tbd': 1,\n",
    "    'low': 2,\n",
    "    'high': 3,\n",
    "    None: 4\n",
    "}"
   ]
  },
  {
   "cell_type": "code",
   "execution_count": 166,
   "metadata": {
    "collapsed": true
   },
   "outputs": [],
   "source": [
    "colors = {\n",
    "    0: [ 0.85453713,  0.22957019,  0.27623218,  1.        ], # bright red\n",
    "    1: [ 0.9170408 ,  0.56061475,  0.58722664,  1.        ], # red\n",
    "    2: [ 0.57653009,  0.72175186,  0.76633449,  1.        ], # light blue green\n",
    "    3: [ 0.24715576,  0.49918708,  0.57655991,  1.        ], # dark blue green\n",
    "    4: [ 0.6,         0.6,         0.6,         1.        ], # grey\n",
    "}\n",
    "# pal = sns.diverging_palette(10, 220, sep=80, n=7)\n",
    "# sns.palplot(pal)\n",
    "# pal"
   ]
  },
  {
   "cell_type": "code",
   "execution_count": 167,
   "metadata": {
    "collapsed": true
   },
   "outputs": [],
   "source": [
    "knowledgebase_names = list(kbases_unstacked.columns)\n",
    "kbases_plot = kbases_unstacked.applymap(lambda x: levels[x]).sort_values(by=list(kbases_unstacked.columns))"
   ]
  },
  {
   "cell_type": "code",
   "execution_count": 168,
   "metadata": {
    "collapsed": true
   },
   "outputs": [],
   "source": [
    "# create bars based on consecutive colors\n",
    "last_value = {kbase: None for kbase in knowledgebase_names}\n",
    "bars = {kbase: [] for kbase in knowledgebase_names}\n",
    "for locus_tag, row in kbases_plot.iterrows():\n",
    "    for kbase, value in row.iteritems():\n",
    "        if len(bars[kbase]) == 0 or bars[kbase][-1]['value'] != value:\n",
    "            bars[kbase].append({'value': value, 'height': 1})\n",
    "            last_value[kbase] = value\n",
    "        else:\n",
    "            bars[kbase][-1]['height'] += 1"
   ]
  },
  {
   "cell_type": "code",
   "execution_count": 169,
   "metadata": {},
   "outputs": [
    {
     "name": "stderr",
     "output_type": "stream",
     "text": [
      "/usr/local/lib/python3.6/site-packages/matplotlib/font_manager.py:1297: UserWarning: findfont: Font family ['sans-serif'] not found. Falling back to DejaVu Sans\n",
      "  (prop.get_family(), self.defaultFamily[fontext]))\n"
     ]
    },
    {
     "data": {
      "image/png": "[encoded data removed]",
      "text/plain": [
       "<matplotlib.figure.Figure at 0x113f92400>"
      ]
     },
     "metadata": {},
     "output_type": "display_data"
    }
   ],
   "source": [
    "fig, ax = plt.subplots(figsize=(11, 11))\n",
    "last_heights = [0 for _ in knowledgebase_names]\n",
    "for bar_list in it.zip_longest(*bars.values()):\n",
    "    left = [x + 0.1 for x in range(len(knowledgebase_names))]\n",
    "    height = [x['height'] if x is not None else 0 for x in bar_list]\n",
    "    bottom = last_heights\n",
    "    last_heights = [x + y for x, y in zip(height, last_heights)]\n",
    "    color = [colors[x['value']] if x is not None else 'k' for x in bar_list]\n",
    "    ax.bar(left, height, bottom=bottom, color=color, linewidth=0)\n",
    "ax.set_xlabel('Knowledgebase')\n",
    "ax.set_ylabel('Gene')\n",
    "ax.xaxis.set_ticks([x + 0.1 for x in range(len(kbases_plot.columns))])\n",
    "ax.xaxis.set_ticklabels(kbases_plot.columns)\n",
    "fig.savefig('/Users/zaking/lab/y-ome/figs/y-ome-latest.png')"
   ]
  },
  {
   "cell_type": "markdown",
   "metadata": {},
   "source": [
    "# cases to check:\n",
    "\n",
    "### High in one DB, low in another\n",
    "\n",
    "+ High in EcoCyc and low in EcoGene\n",
    "  + result: based on *caiC*, give \"high\" priority over \"low\" because EcoCyc has more up-to-date information for \"high\" cases\n",
    "+ High in UniProt and low in EcoCyc\n",
    "  + result: based on *yadI / b0129*, don't rely on EC number in UniProt; use annotation score instead\n",
    "  + result: based on *mrdB*, don't categorize \"family protein\" as poor annotation in EcoCyc\n",
    "  + result: based on *YdcE / b1461*, UniProt high should override EcoCyc because EcoCyc missed the experimental validation in the linked paper (good example for the text)\n",
    "  + result: based on *dgcJ / b1786*, uniprot level 5 annotation should be \"low\", because even putative functions are given this level of annotation (also a good example for the text)\n",
    "+ High in ME-model, low in EcoCyc\n",
    "  + result: ME-model includes putative annotations (e.g. YaaJ). Don't mark these as high\n",
    "  + TODO provide an analysis of them in the text\n",
    "+ High in EcoCyc and low in UniProt\n",
    "  + result: based on thrL; UniProt got this one wrong, should be high\n",
    "+ dicuss how to prefer b0240 / crl to `_1` and `_2` \n",
    "  + https://biocyc.org/gene?orgid=ECOLI&id=G0-16683\n",
    "  + https://biocyc.org/gene?orgid=ECOLI&id=G0-16684\n",
    "  + https://biocyc.org/gene?orgid=ECOLI&id=EG11092\n",
    "  + one solution: devote a paragraph to the discussin in https://biocyc.org/gene?orgid=ECOLI&id=EG11092, noting that UniProt marks this one as \"high\", and EcoCyc marks it as a pseudogene even though there is a clear function\n",
    "+ consider EcoCyc 'family protein' as a low keyword\n",
    "  + result: would only have re-categorized fepE / b0587\n",
    "\n",
    "### Other E. coli evidence tags\n",
    "\n",
    "+ \"gene expression analysis\" is promising, but a number of transcription factors in E. coli have this evidence, but do not have known conditions of binding or binding targets. E.g. yeiL / b2163 and adiY / b4116\n",
    "+ \"inferred by functional complementation\" is used with poorly characterized genes like b2952 / yggT\n",
    "+ \"binding of purified proteins\" doesn't catch anything new\n",
    "+ \"Inferred from genetic interaction\" will get b0461 wrong\n",
    "+ \"Author hypothesis\" is too vague\n",
    "+ \"inferred from mutant phenotype\" appears on lots of poorly annotated genes, e.g. dctR / b3507\n",
    "+ 'phage or prophage related' in EcoGene does not mean uncharacterized. e.g. icd / b1136\n",
    "\n",
    "### Genes where Y-ome disagrees with EcoCyc\n",
    "\n",
    "Result: After spot-checking a number of cases where EcoCyc is not in agreement with the final Y-ome:\n",
    "\n",
    "- pseudogenes called by EcoGene are just listed as poorly characterized genes in EcoCyc (OK)\n",
    "- UniProt gives annotation scores to help clarify annotation for a number of genes. These are present and annotated in EcoCyc, but the annotation level cannot be determined automatically (OK)\n",
    "\n",
    "### TODO bring in regulonDB\n"
   ]
  },
  {
   "cell_type": "markdown",
   "metadata": {},
   "source": [
    "## Assertions\n",
    "The literature points to a particular answer for these genes"
   ]
  },
  {
   "cell_type": "code",
   "execution_count": 330,
   "metadata": {},
   "outputs": [
    {
     "name": "stdout",
     "output_type": "stream",
     "text": [
      "Empty DataFrame\n",
      "Columns: [EcoCyc, EcoGene, RefSeq, RegulonDB, UniProt, iJL1678b, Y-ome, starts_y]\n",
      "Index: []\n"
     ]
    }
   ],
   "source": [
    "assertions = pd.read_table('../sources/manual/manual.tsv', sep='\\t', index_col='locus_tag')\n",
    "\n",
    "# these differences check out\n",
    "ok = ['b0268', 'b1695', 'b2844', 'b0240']\n",
    "\n",
    "# Check for any incorrect assertions\n",
    "def check_for_row(row):\n",
    "    return any(row.name == locus_tag and row['Y-ome'] != val and row['Y-ome'] != 'tbd' and val != 'read' and locus_tag not in ok\n",
    "               for locus_tag, val in assertions.new_qual.iteritems())\n",
    "res = kbases_unstacked[kbases_unstacked.apply(check_for_row, axis=1)]\n",
    "print(res)\n",
    "assert(len(res) == 0)"
   ]
  },
  {
   "cell_type": "code",
   "execution_count": 331,
   "metadata": {},
   "outputs": [
    {
     "name": "stdout",
     "output_type": "stream",
     "text": [
      "49 genes; next locus: b4424\n"
     ]
    },
    {
     "data": {
      "text/html": [
       "<div>\n",
       "<style>\n",
       "    .dataframe thead tr:only-child th {\n",
       "        text-align: right;\n",
       "    }\n",
       "\n",
       "    .dataframe thead th {\n",
       "        text-align: left;\n",
       "    }\n",
       "\n",
       "    .dataframe tbody tr th {\n",
       "        vertical-align: top;\n",
       "    }\n",
       "</style>\n",
       "<table border=\"1\" class=\"dataframe\">\n",
       "  <thead>\n",
       "    <tr style=\"text-align: right;\">\n",
       "      <th>knowledgebase_name</th>\n",
       "      <th>EcoCyc</th>\n",
       "      <th>EcoGene</th>\n",
       "      <th>RefSeq</th>\n",
       "      <th>RegulonDB</th>\n",
       "      <th>UniProt</th>\n",
       "      <th>iJL1678b</th>\n",
       "      <th>Y-ome</th>\n",
       "      <th>starts_y</th>\n",
       "    </tr>\n",
       "    <tr>\n",
       "      <th>locus_id</th>\n",
       "      <th></th>\n",
       "      <th></th>\n",
       "      <th></th>\n",
       "      <th></th>\n",
       "      <th></th>\n",
       "      <th></th>\n",
       "      <th></th>\n",
       "      <th></th>\n",
       "    </tr>\n",
       "  </thead>\n",
       "  <tbody>\n",
       "    <tr>\n",
       "      <th>b4424</th>\n",
       "      <td>tbd</td>\n",
       "      <td>tbd</td>\n",
       "      <td>None</td>\n",
       "      <td>None</td>\n",
       "      <td>None</td>\n",
       "      <td>None</td>\n",
       "      <td>tbd</td>\n",
       "      <td>high</td>\n",
       "    </tr>\n",
       "  </tbody>\n",
       "</table>\n",
       "</div>"
      ],
      "text/plain": [
       "knowledgebase_name EcoCyc EcoGene RefSeq RegulonDB UniProt iJL1678b Y-ome  \\\n",
       "locus_id                                                                    \n",
       "b4424               tbd    tbd     None   None      None    None     tbd    \n",
       "\n",
       "knowledgebase_name starts_y  \n",
       "locus_id                     \n",
       "b4424               high     "
      ]
     },
     "execution_count": 331,
     "metadata": {},
     "output_type": "execute_result"
    }
   ],
   "source": [
    "tbd = kbases_unstacked[(kbases_unstacked['Y-ome'] == 'tbd') & ~kbases_unstacked.index.isin(assertions.index)]\n",
    "tbd_locus_tag = tbd.index[1]\n",
    "print(f'{len(tbd)} genes; next locus: {tbd_locus_tag}')\n",
    "\n",
    "kbases_unstacked[kbases_unstacked.index == tbd_locus_tag]"
   ]
  },
  {
   "cell_type": "code",
   "execution_count": 332,
   "metadata": {},
   "outputs": [
    {
     "name": "stdout",
     "output_type": "stream",
     "text": [
      "locus_id        b4424\n",
      "primary_name    rdlC \n",
      "Name: 0, dtype: object\n"
     ]
    },
    {
     "data": {
      "text/html": [
       "<style  type=\"text/css\" >\n",
       "    #T_b85e2c86_ec38_11e7_8384_a60024489901row0_col0 {\n",
       "            text-align:  left;\n",
       "        }    #T_b85e2c86_ec38_11e7_8384_a60024489901row1_col0 {\n",
       "            text-align:  left;\n",
       "        }    #T_b85e2c86_ec38_11e7_8384_a60024489901row2_col0 {\n",
       "            text-align:  left;\n",
       "        }    #T_b85e2c86_ec38_11e7_8384_a60024489901row3_col0 {\n",
       "            text-align:  left;\n",
       "        }    #T_b85e2c86_ec38_11e7_8384_a60024489901row4_col0 {\n",
       "            text-align:  left;\n",
       "        }    #T_b85e2c86_ec38_11e7_8384_a60024489901row5_col0 {\n",
       "            text-align:  left;\n",
       "        }    #T_b85e2c86_ec38_11e7_8384_a60024489901row6_col0 {\n",
       "            text-align:  left;\n",
       "        }    #T_b85e2c86_ec38_11e7_8384_a60024489901row7_col0 {\n",
       "            text-align:  left;\n",
       "        }    #T_b85e2c86_ec38_11e7_8384_a60024489901row8_col0 {\n",
       "            text-align:  left;\n",
       "        }    #T_b85e2c86_ec38_11e7_8384_a60024489901row9_col0 {\n",
       "            text-align:  left;\n",
       "        }    #T_b85e2c86_ec38_11e7_8384_a60024489901row10_col0 {\n",
       "            text-align:  left;\n",
       "        }    #T_b85e2c86_ec38_11e7_8384_a60024489901row11_col0 {\n",
       "            text-align:  left;\n",
       "        }</style>  \n",
       "<table id=\"T_b85e2c86_ec38_11e7_8384_a60024489901\" > \n",
       "<thead>    <tr> \n",
       "        <th class=\"blank\" ></th> \n",
       "        <th class=\"blank level0\" ></th> \n",
       "        <th class=\"col_heading level0 col0\" >feature</th> \n",
       "    </tr>    <tr> \n",
       "        <th class=\"index_name level0\" >knowledgebase_name</th> \n",
       "        <th class=\"index_name level1\" >feature_type</th> \n",
       "        <th class=\"blank\" ></th> \n",
       "    </tr></thead> \n",
       "<tbody>    <tr> \n",
       "        <th id=\"T_b85e2c86_ec38_11e7_8384_a60024489901level0_row0\" class=\"row_heading level0 row0\" rowspan=7>EcoCyc (tbd)</th> \n",
       "        <th id=\"T_b85e2c86_ec38_11e7_8384_a60024489901level1_row0\" class=\"row_heading level1 row0\" >description</th> \n",
       "        <td id=\"T_b85e2c86_ec38_11e7_8384_a60024489901row0_col0\" class=\"data row0 col0\" >small regulatory antisense RNA RdlC</td> \n",
       "    </tr>    <tr> \n",
       "        <th id=\"T_b85e2c86_ec38_11e7_8384_a60024489901level1_row1\" class=\"row_heading level1 row1\" >summary_html</th> \n",
       "        <td id=\"T_b85e2c86_ec38_11e7_8384_a60024489901row1_col0\" class=\"data row1 col0\" >SummaryrdlC is one of a set of four rdl genes, one of which (rdlD) has been shown to code for the antisense regulatory RNA component of a toxin-antitoxin pair.  All of the rdl genes are associated with a matched ldr gene [Kawano02].  cDNA clones of RdlC RNA have been obtained [Kawano05].Overexpression of RdlC decreases swarming motility [Bak15].</td> \n",
       "    </tr>    <tr> \n",
       "        <th id=\"T_b85e2c86_ec38_11e7_8384_a60024489901level1_row2\" class=\"row_heading level1 row2\" >product_type</th> \n",
       "        <td id=\"T_b85e2c86_ec38_11e7_8384_a60024489901row2_col0\" class=\"data row2 col0\" >RNA</td> \n",
       "    </tr>    <tr> \n",
       "        <th id=\"T_b85e2c86_ec38_11e7_8384_a60024489901level1_row3\" class=\"row_heading level1 row3\" >is_pseudogene</th> \n",
       "        <td id=\"T_b85e2c86_ec38_11e7_8384_a60024489901row3_col0\" class=\"data row3 col0\" >f</td> \n",
       "    </tr>    <tr> \n",
       "        <th id=\"T_b85e2c86_ec38_11e7_8384_a60024489901level1_row4\" class=\"row_heading level1 row4\" >is_phantom_gene</th> \n",
       "        <td id=\"T_b85e2c86_ec38_11e7_8384_a60024489901row4_col0\" class=\"data row4 col0\" >f</td> \n",
       "    </tr>    <tr> \n",
       "        <th id=\"T_b85e2c86_ec38_11e7_8384_a60024489901level1_row5\" class=\"row_heading level1 row5\" >evidence_html</th> \n",
       "        <td id=\"T_b85e2c86_ec38_11e7_8384_a60024489901row5_col0\" class=\"data row5 col0\" >\n",
       "\n",
       "\n",
       "\n",
       "\n",
       "Human inference of function from sequence [Kawano02]Inferred from mutant phenotype [Bak15]\n",
       "\n",
       "</td> \n",
       "    </tr>    <tr> \n",
       "        <th id=\"T_b85e2c86_ec38_11e7_8384_a60024489901level1_row6\" class=\"row_heading level1 row6\" >is_insertion_element</th> \n",
       "        <td id=\"T_b85e2c86_ec38_11e7_8384_a60024489901row6_col0\" class=\"data row6 col0\" >f</td> \n",
       "    </tr>    <tr> \n",
       "        <th id=\"T_b85e2c86_ec38_11e7_8384_a60024489901level0_row7\" class=\"row_heading level0 row7\" rowspan=5>EcoGene (tbd)</th> \n",
       "        <th id=\"T_b85e2c86_ec38_11e7_8384_a60024489901level1_row7\" class=\"row_heading level1 row7\" >protein</th> \n",
       "        <td id=\"T_b85e2c86_ec38_11e7_8384_a60024489901row7_col0\" class=\"data row7 col0\" >Null</td> \n",
       "    </tr>    <tr> \n",
       "        <th id=\"T_b85e2c86_ec38_11e7_8384_a60024489901level1_row8\" class=\"row_heading level1 row8\" >function</th> \n",
       "        <td id=\"T_b85e2c86_ec38_11e7_8384_a60024489901row8_col0\" class=\"data row8 col0\" >Null</td> \n",
       "    </tr>    <tr> \n",
       "        <th id=\"T_b85e2c86_ec38_11e7_8384_a60024489901level1_row9\" class=\"row_heading level1 row9\" >description</th> \n",
       "        <td id=\"T_b85e2c86_ec38_11e7_8384_a60024489901row9_col0\" class=\"data row9 col0\" >Antisense sRNA RdlC affects LdrC translation; proposed addiction module in LDR-C repeat, with toxic peptide LdrC</td> \n",
       "    </tr>    <tr> \n",
       "        <th id=\"T_b85e2c86_ec38_11e7_8384_a60024489901level1_row10\" class=\"row_heading level1 row10\" >comments</th> \n",
       "        <td id=\"T_b85e2c86_ec38_11e7_8384_a60024489901row10_col0\" class=\"data row10 col0\" >Intact rdl cDNA clones were sequenced, confirming the 5' ends and experimentally establishing the 3' ends (Kawano, 2005).</td> \n",
       "    </tr>    <tr> \n",
       "        <th id=\"T_b85e2c86_ec38_11e7_8384_a60024489901level1_row11\" class=\"row_heading level1 row11\" >is_pseudogene</th> \n",
       "        <td id=\"T_b85e2c86_ec38_11e7_8384_a60024489901row11_col0\" class=\"data row11 col0\" >f</td> \n",
       "    </tr></tbody> \n",
       "</table> "
      ],
      "text/plain": [
       "<IPython.core.display.HTML object>"
      ]
     },
     "execution_count": 332,
     "metadata": {},
     "output_type": "execute_result"
    }
   ],
   "source": [
    "report(tbd_locus_tag)"
   ]
  },
  {
   "cell_type": "markdown",
   "metadata": {
    "collapsed": true
   },
   "source": [
    "# check on evidence type"
   ]
  },
  {
   "cell_type": "code",
   "execution_count": 175,
   "metadata": {
    "collapsed": true
   },
   "outputs": [],
   "source": [
    "ev = to_df(\n",
    "    session.query(\n",
    "        Gene.locus_id,\n",
    "        KnowledgebaseGene.primary_name,\n",
    "        KnowledgebaseFeature.feature,\n",
    "    )\n",
    "    .join(KnowledgebaseGene)\n",
    "    .join(Knowledgebase)\n",
    "    .join(KnowledgebaseFeature)\n",
    "    .filter(Knowledgebase.name == 'EcoCyc')\n",
    "    .filter(KnowledgebaseFeature.feature_type == 'description')\n",
    "    .filter(KnowledgebaseFeature.feature.ilike('%domain-containing protein%'))\n",
    ")"
   ]
  },
  {
   "cell_type": "code",
   "execution_count": 176,
   "metadata": {
    "scrolled": false
   },
   "outputs": [
    {
     "data": {
      "text/html": [
       "<div>\n",
       "<style>\n",
       "    .dataframe thead tr:only-child th {\n",
       "        text-align: right;\n",
       "    }\n",
       "\n",
       "    .dataframe thead th {\n",
       "        text-align: left;\n",
       "    }\n",
       "\n",
       "    .dataframe tbody tr th {\n",
       "        vertical-align: top;\n",
       "    }\n",
       "</style>\n",
       "<table border=\"1\" class=\"dataframe\">\n",
       "  <thead>\n",
       "    <tr style=\"text-align: right;\">\n",
       "      <th></th>\n",
       "      <th>locus_id</th>\n",
       "      <th>primary_name</th>\n",
       "      <th>feature</th>\n",
       "      <th>EcoCyc</th>\n",
       "      <th>EcoGene</th>\n",
       "      <th>RefSeq</th>\n",
       "      <th>RegulonDB</th>\n",
       "      <th>UniProt</th>\n",
       "      <th>iJL1678b</th>\n",
       "      <th>Y-ome</th>\n",
       "      <th>starts_y</th>\n",
       "    </tr>\n",
       "  </thead>\n",
       "  <tbody>\n",
       "    <tr>\n",
       "      <th>39</th>\n",
       "      <td>b1088</td>\n",
       "      <td>yceD</td>\n",
       "      <td>DUF177 domain-containing protein YceD</td>\n",
       "      <td>tbd</td>\n",
       "      <td>tbd</td>\n",
       "      <td>tbd</td>\n",
       "      <td>None</td>\n",
       "      <td>tbd</td>\n",
       "      <td>None</td>\n",
       "      <td>tbd</td>\n",
       "      <td>low</td>\n",
       "    </tr>\n",
       "    <tr>\n",
       "      <th>145</th>\n",
       "      <td>b2144</td>\n",
       "      <td>sanA</td>\n",
       "      <td>DUF218 domain-containing protein SanA</td>\n",
       "      <td>tbd</td>\n",
       "      <td>tbd</td>\n",
       "      <td>tbd</td>\n",
       "      <td>None</td>\n",
       "      <td>tbd</td>\n",
       "      <td>None</td>\n",
       "      <td>tbd</td>\n",
       "      <td>high</td>\n",
       "    </tr>\n",
       "    <tr>\n",
       "      <th>150</th>\n",
       "      <td>b3362</td>\n",
       "      <td>yhfG</td>\n",
       "      <td>DUF2559 domain-containing protein YhfG</td>\n",
       "      <td>high</td>\n",
       "      <td>low</td>\n",
       "      <td>tbd</td>\n",
       "      <td>None</td>\n",
       "      <td>low</td>\n",
       "      <td>None</td>\n",
       "      <td>tbd</td>\n",
       "      <td>low</td>\n",
       "    </tr>\n",
       "  </tbody>\n",
       "</table>\n",
       "</div>"
      ],
      "text/plain": [
       "    locus_id primary_name                                 feature EcoCyc  \\\n",
       "39   b1088    yceD         DUF177 domain-containing protein YceD   tbd     \n",
       "145  b2144    sanA         DUF218 domain-containing protein SanA   tbd     \n",
       "150  b3362    yhfG         DUF2559 domain-containing protein YhfG  high    \n",
       "\n",
       "    EcoGene RefSeq RegulonDB UniProt iJL1678b Y-ome starts_y  \n",
       "39   tbd     tbd    None      tbd     None     tbd   low      \n",
       "145  tbd     tbd    None      tbd     None     tbd   high     \n",
       "150  low     tbd    None      low     None     tbd   low      "
      ]
     },
     "execution_count": 176,
     "metadata": {},
     "output_type": "execute_result"
    }
   ],
   "source": [
    "evm = ev.merge(kbases_unstacked, left_on='locus_id', right_index=True) #['Y-ome'].value_counts()\n",
    "evm[evm['Y-ome'] == 'tbd']"
   ]
  },
  {
   "cell_type": "code",
   "execution_count": 177,
   "metadata": {},
   "outputs": [
    {
     "name": "stdout",
     "output_type": "stream",
     "text": [
      "locus_id        b0240\n",
      "primary_name    crl_1\n",
      "Name: 0, dtype: object\n"
     ]
    },
    {
     "ename": "ValueError",
     "evalue": "style is not supported for non-unique indicies.",
     "output_type": "error",
     "traceback": [
      "\u001b[0;31m---------------------------------------------------------------------------\u001b[0m",
      "\u001b[0;31mValueError\u001b[0m                                Traceback (most recent call last)",
      "\u001b[0;32m<ipython-input-177-7dd590129a49>\u001b[0m in \u001b[0;36m<module>\u001b[0;34m()\u001b[0m\n\u001b[0;32m----> 1\u001b[0;31m \u001b[0mreport\u001b[0m\u001b[0;34m(\u001b[0m\u001b[0;34m'b0240'\u001b[0m\u001b[0;34m)\u001b[0m\u001b[0;34m\u001b[0m\u001b[0m\n\u001b[0m",
      "\u001b[0;32m<ipython-input-148-0338ba51cf85>\u001b[0m in \u001b[0;36mreport\u001b[0;34m(locus_tag)\u001b[0m\n\u001b[1;32m     19\u001b[0m     \u001b[0mreport\u001b[0m \u001b[0;34m=\u001b[0m \u001b[0mreport\u001b[0m\u001b[0;34m.\u001b[0m\u001b[0mdrop\u001b[0m\u001b[0;34m(\u001b[0m\u001b[0;34m[\u001b[0m\u001b[0;34m'locus_id'\u001b[0m\u001b[0;34m,\u001b[0m \u001b[0;34m'primary_name'\u001b[0m\u001b[0;34m,\u001b[0m \u001b[0;34m'annotation_quality'\u001b[0m\u001b[0;34m]\u001b[0m\u001b[0;34m,\u001b[0m \u001b[0maxis\u001b[0m\u001b[0;34m=\u001b[0m\u001b[0;36m1\u001b[0m\u001b[0;34m)\u001b[0m\u001b[0;34m\u001b[0m\u001b[0m\n\u001b[1;32m     20\u001b[0m     \u001b[0mreport\u001b[0m \u001b[0;34m=\u001b[0m \u001b[0mreport\u001b[0m\u001b[0;34m.\u001b[0m\u001b[0mset_index\u001b[0m\u001b[0;34m(\u001b[0m\u001b[0;34m[\u001b[0m\u001b[0;34m'knowledgebase_name'\u001b[0m\u001b[0;34m,\u001b[0m \u001b[0;34m'feature_type'\u001b[0m\u001b[0;34m]\u001b[0m\u001b[0;34m)\u001b[0m\u001b[0;34m\u001b[0m\u001b[0m\n\u001b[0;32m---> 21\u001b[0;31m     \u001b[0ms\u001b[0m \u001b[0;34m=\u001b[0m \u001b[0mreport\u001b[0m\u001b[0;34m.\u001b[0m\u001b[0mstyle\u001b[0m\u001b[0;34m.\u001b[0m\u001b[0mset_properties\u001b[0m\u001b[0;34m(\u001b[0m\u001b[0;34m**\u001b[0m\u001b[0;34m{\u001b[0m\u001b[0;34m'text-align'\u001b[0m\u001b[0;34m:\u001b[0m \u001b[0;34m'left'\u001b[0m\u001b[0;34m}\u001b[0m\u001b[0;34m)\u001b[0m\u001b[0;34m\u001b[0m\u001b[0m\n\u001b[0m\u001b[1;32m     22\u001b[0m     \u001b[0;32mreturn\u001b[0m \u001b[0mHTML\u001b[0m\u001b[0;34m(\u001b[0m\u001b[0ms\u001b[0m\u001b[0;34m.\u001b[0m\u001b[0mrender\u001b[0m\u001b[0;34m(\u001b[0m\u001b[0;34m)\u001b[0m\u001b[0;34m)\u001b[0m\u001b[0;34m\u001b[0m\u001b[0m\n",
      "\u001b[0;32m/usr/local/lib/python3.6/site-packages/pandas/core/frame.py\u001b[0m in \u001b[0;36mstyle\u001b[0;34m(self)\u001b[0m\n\u001b[1;32m    632\u001b[0m         \"\"\"\n\u001b[1;32m    633\u001b[0m         \u001b[0;32mfrom\u001b[0m \u001b[0mpandas\u001b[0m\u001b[0;34m.\u001b[0m\u001b[0mio\u001b[0m\u001b[0;34m.\u001b[0m\u001b[0mformats\u001b[0m\u001b[0;34m.\u001b[0m\u001b[0mstyle\u001b[0m \u001b[0;32mimport\u001b[0m \u001b[0mStyler\u001b[0m\u001b[0;34m\u001b[0m\u001b[0m\n\u001b[0;32m--> 634\u001b[0;31m         \u001b[0;32mreturn\u001b[0m \u001b[0mStyler\u001b[0m\u001b[0;34m(\u001b[0m\u001b[0mself\u001b[0m\u001b[0;34m)\u001b[0m\u001b[0;34m\u001b[0m\u001b[0m\n\u001b[0m\u001b[1;32m    635\u001b[0m \u001b[0;34m\u001b[0m\u001b[0m\n\u001b[1;32m    636\u001b[0m     \u001b[0;32mdef\u001b[0m \u001b[0miteritems\u001b[0m\u001b[0;34m(\u001b[0m\u001b[0mself\u001b[0m\u001b[0;34m)\u001b[0m\u001b[0;34m:\u001b[0m\u001b[0;34m\u001b[0m\u001b[0m\n",
      "\u001b[0;32m/usr/local/lib/python3.6/site-packages/pandas/io/formats/style.py\u001b[0m in \u001b[0;36m__init__\u001b[0;34m(self, data, precision, table_styles, uuid, caption, table_attributes)\u001b[0m\n\u001b[1;32m    128\u001b[0m             \u001b[0mdata\u001b[0m \u001b[0;34m=\u001b[0m \u001b[0mdata\u001b[0m\u001b[0;34m.\u001b[0m\u001b[0mto_frame\u001b[0m\u001b[0;34m(\u001b[0m\u001b[0;34m)\u001b[0m\u001b[0;34m\u001b[0m\u001b[0m\n\u001b[1;32m    129\u001b[0m         \u001b[0;32mif\u001b[0m \u001b[0;32mnot\u001b[0m \u001b[0mdata\u001b[0m\u001b[0;34m.\u001b[0m\u001b[0mindex\u001b[0m\u001b[0;34m.\u001b[0m\u001b[0mis_unique\u001b[0m \u001b[0;32mor\u001b[0m \u001b[0;32mnot\u001b[0m \u001b[0mdata\u001b[0m\u001b[0;34m.\u001b[0m\u001b[0mcolumns\u001b[0m\u001b[0;34m.\u001b[0m\u001b[0mis_unique\u001b[0m\u001b[0;34m:\u001b[0m\u001b[0;34m\u001b[0m\u001b[0m\n\u001b[0;32m--> 130\u001b[0;31m             \u001b[0;32mraise\u001b[0m \u001b[0mValueError\u001b[0m\u001b[0;34m(\u001b[0m\u001b[0;34m\"style is not supported for non-unique indicies.\"\u001b[0m\u001b[0;34m)\u001b[0m\u001b[0;34m\u001b[0m\u001b[0m\n\u001b[0m\u001b[1;32m    131\u001b[0m \u001b[0;34m\u001b[0m\u001b[0m\n\u001b[1;32m    132\u001b[0m         \u001b[0mself\u001b[0m\u001b[0;34m.\u001b[0m\u001b[0mdata\u001b[0m \u001b[0;34m=\u001b[0m \u001b[0mdata\u001b[0m\u001b[0;34m\u001b[0m\u001b[0m\n",
      "\u001b[0;31mValueError\u001b[0m: style is not supported for non-unique indicies."
     ]
    }
   ],
   "source": [
    "report('b0240')"
   ]
  },
  {
   "cell_type": "code",
   "execution_count": null,
   "metadata": {
    "collapsed": true
   },
   "outputs": [],
   "source": []
  }
 ],
 "metadata": {
  "kernelspec": {
   "display_name": "Python 3",
   "language": "python",
   "name": "python3"
  },
  "language_info": {
   "codemirror_mode": {
    "name": "ipython",
    "version": 3
   },
   "file_extension": ".py",
   "mimetype": "text/x-python",
   "name": "python",
   "nbconvert_exporter": "python",
   "pygments_lexer": "ipython3",
   "version": "3.6.3"
  }
 },
 "nbformat": 4,
 "nbformat_minor": 2
}
