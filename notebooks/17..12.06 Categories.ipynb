{
 "cells": [
  {
   "cell_type": "code",
   "execution_count": 1,
   "metadata": {
    "collapsed": true
   },
   "outputs": [],
   "source": [
    "import json\n",
    "import pandas as pd\n",
    "from yome import Session\n",
    "from yome.models import *\n",
    "from yome.util import to_df\n",
    "import re\n",
    "from sqlalchemy.orm import aliased\n",
    "import itertools as it\n",
    "import seaborn as sns\n",
    "from IPython.display import HTML"
   ]
  },
  {
   "cell_type": "code",
   "execution_count": 2,
   "metadata": {
    "collapsed": true
   },
   "outputs": [],
   "source": [
    "pd.set_option('display.max_colwidth', -1)"
   ]
  },
  {
   "cell_type": "code",
   "execution_count": 3,
   "metadata": {},
   "outputs": [
    {
     "name": "stdout",
     "output_type": "stream",
     "text": [
      "Populating the interactive namespace from numpy and matplotlib\n"
     ]
    }
   ],
   "source": [
    "from mpl_recipes import mpl_setup\n",
    "%mpl_setup"
   ]
  },
  {
   "cell_type": "code",
   "execution_count": 4,
   "metadata": {
    "collapsed": true
   },
   "outputs": [],
   "source": [
    "session = Session()"
   ]
  },
  {
   "cell_type": "markdown",
   "metadata": {},
   "source": [
    "# Psuedogenes "
   ]
  },
  {
   "cell_type": "code",
   "execution_count": 5,
   "metadata": {
    "collapsed": true
   },
   "outputs": [],
   "source": [
    "# Genes maked pseudo in EcoGene\n",
    "ecogene_pseudo = (\n",
    "    session.query(Gene.locus_id,\n",
    "                  KnowledgebaseGene.primary_name,\n",
    "                  KnowledgebaseFeature.feature)\n",
    "    .join(KnowledgebaseGene)\n",
    "    .join(Knowledgebase)\n",
    "    .join(KnowledgebaseFeature)\n",
    "    .filter(Knowledgebase.name == 'EcoGene')\n",
    "    .filter(KnowledgebaseFeature.feature_type == 'is_pseudogene')\n",
    "    .filter(KnowledgebaseFeature.feature == 't')\n",
    ")"
   ]
  },
  {
   "cell_type": "code",
   "execution_count": 6,
   "metadata": {},
   "outputs": [
    {
     "data": {
      "text/plain": [
       "184"
      ]
     },
     "execution_count": 6,
     "metadata": {},
     "output_type": "execute_result"
    }
   ],
   "source": [
    "ecogene_pseudo.count()"
   ]
  },
  {
   "cell_type": "markdown",
   "metadata": {},
   "source": [
    "# Genes without b-number"
   ]
  },
  {
   "cell_type": "code",
   "execution_count": 7,
   "metadata": {
    "collapsed": true
   },
   "outputs": [],
   "source": [
    "# Genes b4309 pseudo in EcoGene\n",
    "no_b_number = to_df(\n",
    "    session.query(KnowledgebaseGene.primary_name,\n",
    "                  KnowledgebaseGene.annotation_quality,\n",
    "                  Knowledgebase.name.label('kb_name'))\n",
    "    .join(Knowledgebase)\n",
    "    .filter(KnowledgebaseGene.gene_id == None)\n",
    ")"
   ]
  },
  {
   "cell_type": "code",
   "execution_count": 8,
   "metadata": {},
   "outputs": [
    {
     "data": {
      "text/html": [
       "<div>\n",
       "<style>\n",
       "    .dataframe thead tr:only-child th {\n",
       "        text-align: right;\n",
       "    }\n",
       "\n",
       "    .dataframe thead th {\n",
       "        text-align: left;\n",
       "    }\n",
       "\n",
       "    .dataframe tbody tr th {\n",
       "        vertical-align: top;\n",
       "    }\n",
       "</style>\n",
       "<table border=\"1\" class=\"dataframe\">\n",
       "  <thead>\n",
       "    <tr style=\"text-align: right;\">\n",
       "      <th></th>\n",
       "      <th>primary_name</th>\n",
       "      <th>annotation_quality</th>\n",
       "    </tr>\n",
       "    <tr>\n",
       "      <th>kb_name</th>\n",
       "      <th></th>\n",
       "      <th></th>\n",
       "    </tr>\n",
       "  </thead>\n",
       "  <tbody>\n",
       "    <tr>\n",
       "      <th>EcoCyc</th>\n",
       "      <td>55</td>\n",
       "      <td>55</td>\n",
       "    </tr>\n",
       "    <tr>\n",
       "      <th>UniProt</th>\n",
       "      <td>1</td>\n",
       "      <td>1</td>\n",
       "    </tr>\n",
       "  </tbody>\n",
       "</table>\n",
       "</div>"
      ],
      "text/plain": [
       "         primary_name  annotation_quality\n",
       "kb_name                                  \n",
       "EcoCyc   55            55                \n",
       "UniProt  1             1                 "
      ]
     },
     "execution_count": 8,
     "metadata": {},
     "output_type": "execute_result"
    }
   ],
   "source": [
    "no_b_number.groupby('kb_name').agg('count')"
   ]
  },
  {
   "cell_type": "markdown",
   "metadata": {},
   "source": [
    "# Find locus tags with multiple genes"
   ]
  },
  {
   "cell_type": "code",
   "execution_count": 9,
   "metadata": {
    "collapsed": true
   },
   "outputs": [],
   "source": [
    "KnowledgebaseGene2 = aliased(KnowledgebaseGene)"
   ]
  },
  {
   "cell_type": "code",
   "execution_count": 10,
   "metadata": {
    "collapsed": true
   },
   "outputs": [],
   "source": [
    "duplicates = to_df(\n",
    "    session.query(Gene.locus_id,\n",
    "                  KnowledgebaseGene.primary_name,\n",
    "                  KnowledgebaseGene2.primary_name.label('primary_name2'),\n",
    "                  Knowledgebase.name)\n",
    "    .join(KnowledgebaseGene, KnowledgebaseGene.gene_id == Gene.id)\n",
    "    .join(KnowledgebaseGene2, KnowledgebaseGene2.gene_id == Gene.id)\n",
    "    .join(Knowledgebase, KnowledgebaseGene.knowledgebase_id == Knowledgebase.id)\n",
    "    .filter(KnowledgebaseGene2.knowledgebase_id == Knowledgebase.id)\n",
    "    .filter(KnowledgebaseGene.id != KnowledgebaseGene2.id)\n",
    ")"
   ]
  },
  {
   "cell_type": "code",
   "execution_count": 11,
   "metadata": {},
   "outputs": [
    {
     "data": {
      "text/html": [
       "<div>\n",
       "<style>\n",
       "    .dataframe thead tr:only-child th {\n",
       "        text-align: right;\n",
       "    }\n",
       "\n",
       "    .dataframe thead th {\n",
       "        text-align: left;\n",
       "    }\n",
       "\n",
       "    .dataframe tbody tr th {\n",
       "        vertical-align: top;\n",
       "    }\n",
       "</style>\n",
       "<table border=\"1\" class=\"dataframe\">\n",
       "  <thead>\n",
       "    <tr style=\"text-align: right;\">\n",
       "      <th></th>\n",
       "      <th>locus_id</th>\n",
       "      <th>primary_name</th>\n",
       "      <th>primary_name2</th>\n",
       "      <th>name</th>\n",
       "    </tr>\n",
       "  </thead>\n",
       "  <tbody>\n",
       "    <tr>\n",
       "      <th>0</th>\n",
       "      <td>b3504</td>\n",
       "      <td>yhiS_2</td>\n",
       "      <td>yhiS_1</td>\n",
       "      <td>EcoCyc</td>\n",
       "    </tr>\n",
       "    <tr>\n",
       "      <th>1</th>\n",
       "      <td>b0240</td>\n",
       "      <td>crl_1</td>\n",
       "      <td>crl_2</td>\n",
       "      <td>EcoCyc</td>\n",
       "    </tr>\n",
       "    <tr>\n",
       "      <th>2</th>\n",
       "      <td>b0240</td>\n",
       "      <td>crl_2</td>\n",
       "      <td>crl_1</td>\n",
       "      <td>EcoCyc</td>\n",
       "    </tr>\n",
       "    <tr>\n",
       "      <th>3</th>\n",
       "      <td>b3504</td>\n",
       "      <td>yhiS_1</td>\n",
       "      <td>yhiS_2</td>\n",
       "      <td>EcoCyc</td>\n",
       "    </tr>\n",
       "    <tr>\n",
       "      <th>4</th>\n",
       "      <td>b4581</td>\n",
       "      <td>ybeM</td>\n",
       "      <td>ybeH</td>\n",
       "      <td>UniProt</td>\n",
       "    </tr>\n",
       "    <tr>\n",
       "      <th>5</th>\n",
       "      <td>b4581</td>\n",
       "      <td>ybeH</td>\n",
       "      <td>ybeM</td>\n",
       "      <td>UniProt</td>\n",
       "    </tr>\n",
       "  </tbody>\n",
       "</table>\n",
       "</div>"
      ],
      "text/plain": [
       "  locus_id primary_name primary_name2     name\n",
       "0  b3504    yhiS_2       yhiS_1        EcoCyc \n",
       "1  b0240    crl_1        crl_2         EcoCyc \n",
       "2  b0240    crl_2        crl_1         EcoCyc \n",
       "3  b3504    yhiS_1       yhiS_2        EcoCyc \n",
       "4  b4581    ybeM         ybeH          UniProt\n",
       "5  b4581    ybeH         ybeM          UniProt"
      ]
     },
     "execution_count": 11,
     "metadata": {},
     "output_type": "execute_result"
    }
   ],
   "source": [
    "duplicates"
   ]
  },
  {
   "cell_type": "markdown",
   "metadata": {},
   "source": [
    "# Kbase comparison plot\n",
    "NOTE: 55 EcoCyc & 1 UniProt genes without a locus tag and 4 EcoCyc genes with duplicated locus tags are ignored in this plot"
   ]
  },
  {
   "cell_type": "code",
   "execution_count": 12,
   "metadata": {
    "collapsed": true
   },
   "outputs": [],
   "source": [
    "kbases = to_df(\n",
    "    session.query(Gene.locus_id,\n",
    "                  KnowledgebaseGene.primary_name,\n",
    "                  KnowledgebaseGene.annotation_quality,\n",
    "                  Knowledgebase.name.label('knowledgebase_name'))\n",
    "    .join(KnowledgebaseGene)\n",
    "    .join(Knowledgebase)\n",
    ")"
   ]
  },
  {
   "cell_type": "code",
   "execution_count": 13,
   "metadata": {},
   "outputs": [],
   "source": [
    "def calculate_y_ome(row):\n",
    "    any_high =     any(x == 'high'     for x in row)\n",
    "    any_low =      any(x == 'low'      for x in row)\n",
    "    any_excluded = any(x == 'excluded' for x in row)\n",
    "    \n",
    "    return 'high'     if (any_high     and not any_low  and not any_excluded) \\\n",
    "      else 'low'      if (any_low      and not any_high and not any_excluded) \\\n",
    "      else 'excluded' if (any_excluded and not any_high) \\\n",
    "      else 'tbd'"
   ]
  },
  {
   "cell_type": "code",
   "execution_count": 14,
   "metadata": {
    "collapsed": true
   },
   "outputs": [],
   "source": [
    "# remove duplicate genes\n",
    "kbases_unstacked = kbases.set_index(['locus_id', 'knowledgebase_name'])\n",
    "kbases_unstacked = kbases_unstacked[~kbases_unstacked.index.duplicated(keep='first')]\n",
    "kbases_unstacked = kbases_unstacked.drop('primary_name', axis=1).unstack()\n",
    "kbases_unstacked.columns = kbases_unstacked.columns.droplevel(0)\n",
    "# calculate Y-ome; don't rely on ME-model\n",
    "kbases_unstacked['Y-ome'] = kbases_unstacked[kbases_unstacked.columns.drop('iJL1678b')].apply(calculate_y_ome, axis=1)"
   ]
  },
  {
   "cell_type": "code",
   "execution_count": 15,
   "metadata": {},
   "outputs": [
    {
     "data": {
      "text/plain": [
       "high        2463\n",
       "low         1394\n",
       "tbd         493 \n",
       "excluded    303 \n",
       "Name: Y-ome, dtype: int64"
      ]
     },
     "execution_count": 15,
     "metadata": {},
     "output_type": "execute_result"
    }
   ],
   "source": [
    "# Y-ome counts\n",
    "kbases_unstacked['Y-ome'].value_counts()"
   ]
  },
  {
   "cell_type": "code",
   "execution_count": 16,
   "metadata": {
    "collapsed": true
   },
   "outputs": [],
   "source": [
    "levels = {\n",
    "    'excluded': 0,\n",
    "    'tbd': 1,\n",
    "    'low': 2,\n",
    "    'high': 3,\n",
    "    None: 4\n",
    "}"
   ]
  },
  {
   "cell_type": "code",
   "execution_count": 17,
   "metadata": {
    "collapsed": true
   },
   "outputs": [],
   "source": [
    "colors = {\n",
    "    0: [ 0.85453713,  0.22957019,  0.27623218,  1.        ], # bright red\n",
    "    1: [ 0.9170408 ,  0.56061475,  0.58722664,  1.        ], # red\n",
    "    2: [ 0.57653009,  0.72175186,  0.76633449,  1.        ], # light blue green\n",
    "    3: [ 0.24715576,  0.49918708,  0.57655991,  1.        ], # dark blue green\n",
    "    4: [ 0.6,         0.6,         0.6,         1.        ], # grey\n",
    "}"
   ]
  },
  {
   "cell_type": "code",
   "execution_count": 18,
   "metadata": {},
   "outputs": [
    {
     "data": {
      "text/html": [
       "<div>\n",
       "<style>\n",
       "    .dataframe thead tr:only-child th {\n",
       "        text-align: right;\n",
       "    }\n",
       "\n",
       "    .dataframe thead th {\n",
       "        text-align: left;\n",
       "    }\n",
       "\n",
       "    .dataframe tbody tr th {\n",
       "        vertical-align: top;\n",
       "    }\n",
       "</style>\n",
       "<table border=\"1\" class=\"dataframe\">\n",
       "  <thead>\n",
       "    <tr style=\"text-align: right;\">\n",
       "      <th>knowledgebase_name</th>\n",
       "      <th>EcoCyc</th>\n",
       "      <th>EcoGene</th>\n",
       "      <th>RefSeq</th>\n",
       "      <th>UniProt</th>\n",
       "      <th>iJL1678b</th>\n",
       "      <th>Y-ome</th>\n",
       "    </tr>\n",
       "    <tr>\n",
       "      <th>locus_id</th>\n",
       "      <th></th>\n",
       "      <th></th>\n",
       "      <th></th>\n",
       "      <th></th>\n",
       "      <th></th>\n",
       "      <th></th>\n",
       "    </tr>\n",
       "  </thead>\n",
       "  <tbody>\n",
       "    <tr>\n",
       "      <th>b0229</th>\n",
       "      <td>0</td>\n",
       "      <td>0</td>\n",
       "      <td>1</td>\n",
       "      <td>2</td>\n",
       "      <td>4</td>\n",
       "      <td>0</td>\n",
       "    </tr>\n",
       "    <tr>\n",
       "      <th>b0230</th>\n",
       "      <td>0</td>\n",
       "      <td>0</td>\n",
       "      <td>1</td>\n",
       "      <td>2</td>\n",
       "      <td>4</td>\n",
       "      <td>0</td>\n",
       "    </tr>\n",
       "    <tr>\n",
       "      <th>b0235</th>\n",
       "      <td>0</td>\n",
       "      <td>0</td>\n",
       "      <td>1</td>\n",
       "      <td>2</td>\n",
       "      <td>4</td>\n",
       "      <td>0</td>\n",
       "    </tr>\n",
       "    <tr>\n",
       "      <th>b0236</th>\n",
       "      <td>0</td>\n",
       "      <td>0</td>\n",
       "      <td>1</td>\n",
       "      <td>2</td>\n",
       "      <td>4</td>\n",
       "      <td>0</td>\n",
       "    </tr>\n",
       "    <tr>\n",
       "      <th>b0263</th>\n",
       "      <td>0</td>\n",
       "      <td>0</td>\n",
       "      <td>1</td>\n",
       "      <td>2</td>\n",
       "      <td>4</td>\n",
       "      <td>0</td>\n",
       "    </tr>\n",
       "  </tbody>\n",
       "</table>\n",
       "</div>"
      ],
      "text/plain": [
       "knowledgebase_name  EcoCyc  EcoGene  RefSeq  UniProt  iJL1678b  Y-ome\n",
       "locus_id                                                             \n",
       "b0229               0       0        1       2        4         0    \n",
       "b0230               0       0        1       2        4         0    \n",
       "b0235               0       0        1       2        4         0    \n",
       "b0236               0       0        1       2        4         0    \n",
       "b0263               0       0        1       2        4         0    "
      ]
     },
     "execution_count": 18,
     "metadata": {},
     "output_type": "execute_result"
    }
   ],
   "source": [
    "knowledgebase_names = list(kbases_unstacked.columns)\n",
    "kbases_plot = kbases_unstacked.applymap(lambda x: levels[x]).sort_values(by=list(kbases_unstacked.columns))\n",
    "kbases_plot.head()"
   ]
  },
  {
   "cell_type": "code",
   "execution_count": 19,
   "metadata": {
    "collapsed": true
   },
   "outputs": [],
   "source": [
    "# create bars based on consecutive colors\n",
    "last_value = {kbase: None for kbase in knowledgebase_names}\n",
    "bars = {kbase: [] for kbase in knowledgebase_names}\n",
    "for locus_tag, row in kbases_plot.iterrows():\n",
    "    for kbase, value in row.iteritems():\n",
    "        if len(bars[kbase]) == 0 or bars[kbase][-1]['value'] != value:\n",
    "            bars[kbase].append({'value': value, 'height': 1})\n",
    "            last_value[kbase] = value\n",
    "        else:\n",
    "            bars[kbase][-1]['height'] += 1"
   ]
  },
  {
   "cell_type": "code",
   "execution_count": 20,
   "metadata": {},
   "outputs": [
    {
     "data": {
      "text/plain": [
       "[array([ 0.85453713,  0.22957019,  0.27623218,  1.        ]),\n",
       " array([ 0.9170408 ,  0.56061475,  0.58722664,  1.        ]),\n",
       " array([ 0.98157711,  0.90242499,  0.90833474,  1.        ]),\n",
       " array([ 0.95,  0.95,  0.95,  1.  ]),\n",
       " array([ 0.91661578,  0.95155452,  0.9622806 ,  1.        ]),\n",
       " array([ 0.57653009,  0.72175186,  0.76633449,  1.        ]),\n",
       " array([ 0.24715576,  0.49918708,  0.57655991,  1.        ])]"
      ]
     },
     "execution_count": 20,
     "metadata": {},
     "output_type": "execute_result"
    },
    {
     "data": {
      "image/png": "[encoded data removed]",
      "text/plain": [
       "<matplotlib.figure.Figure at 0x116ae7eb8>"
      ]
     },
     "metadata": {},
     "output_type": "display_data"
    }
   ],
   "source": [
    "pal = sns.diverging_palette(10, 220, sep=80, n=7)\n",
    "sns.palplot(pal)\n",
    "pal"
   ]
  },
  {
   "cell_type": "code",
   "execution_count": 21,
   "metadata": {},
   "outputs": [
    {
     "data": {
      "text/plain": [
       "[<matplotlib.text.Text at 0x116b5a6d8>,\n",
       " <matplotlib.text.Text at 0x116b6cb38>,\n",
       " <matplotlib.text.Text at 0x11702f080>,\n",
       " <matplotlib.text.Text at 0x117033128>,\n",
       " <matplotlib.text.Text at 0x1170361d0>,\n",
       " <matplotlib.text.Text at 0x11703a278>]"
      ]
     },
     "execution_count": 21,
     "metadata": {},
     "output_type": "execute_result"
    },
    {
     "name": "stderr",
     "output_type": "stream",
     "text": [
      "/usr/local/lib/python3.6/site-packages/matplotlib/font_manager.py:1297: UserWarning: findfont: Font family ['sans-serif'] not found. Falling back to DejaVu Sans\n",
      "  (prop.get_family(), self.defaultFamily[fontext]))\n"
     ]
    },
    {
     "data": {
      "image/png": "[encoded data removed]",
      "text/plain": [
       "<matplotlib.figure.Figure at 0x116ae80b8>"
      ]
     },
     "metadata": {},
     "output_type": "display_data"
    }
   ],
   "source": [
    "fig, ax = plt.subplots(figsize=(11, 11))\n",
    "last_heights = [0 for _ in knowledgebase_names]\n",
    "for bar_list in it.zip_longest(*bars.values()):\n",
    "    left = [x + 0.1 for x in range(len(knowledgebase_names))]\n",
    "    height = [x['height'] if x is not None else 0 for x in bar_list]\n",
    "    bottom = last_heights\n",
    "    last_heights = [x + y for x, y in zip(height, last_heights)]\n",
    "    color = [colors[x['value']] if x is not None else 'k' for x in bar_list]\n",
    "    ax.bar(left, height, bottom=bottom, color=color, linewidth=0)\n",
    "ax.set_xlabel('Knowledgebase')\n",
    "ax.set_ylabel('Gene')\n",
    "ax.xaxis.set_ticks([x + 0.1 for x in range(len(kbases_plot.columns))])\n",
    "ax.xaxis.set_ticklabels(kbases_plot.columns)"
   ]
  },
  {
   "cell_type": "markdown",
   "metadata": {},
   "source": [
    "## cases to check:\n",
    "\n",
    "### High in one DB, low in another\n",
    "\n",
    "+ High in EcoCyc and low in EcoGene\n",
    "  + result: based on *caiC*, give \"high\" priority over \"low\" because EcoCyc has more up-to-date information for \"high\" cases\n",
    "+ High in UniProt and low in EcoCyc\n",
    "  + result: based on *yadI / b0129*, don't rely on EC number in UniProt; use annotation score instead\n",
    "  + result: based on *mrdB*, don't categorize \"family protein\" as poor annotation in EcoCyc\n",
    "  + result: based on *YdcE / b1461*, UniProt high should override EcoCyc because EcoCyc missed the experimental validation in the linked paper\n",
    "    + good example for the text\n",
    "  + result: based on *dgcJ / b1786*, uniprot level 5 annotation should be \"low\", because even putative functions are given this level of annotation\n",
    "    + also a good example for the text\n",
    "+ High in ME-model, low in EcoCyc\n",
    "  + result: ME-model includes putative annotations (e.g. YaaJ). Don't mark these as high\n",
    "  + TODO provide an analysis of them in the text\n",
    "+ High in EcoCyc and low in UniProt\n",
    "  + result: based on thrL; UniProt got this one wrong, should be high"
   ]
  },
  {
   "cell_type": "markdown",
   "metadata": {},
   "source": [
    "## Assertions\n",
    "The literature points to a particular answer for these genes"
   ]
  },
  {
   "cell_type": "code",
   "execution_count": 22,
   "metadata": {},
   "outputs": [
    {
     "data": {
      "text/html": [
       "<div>\n",
       "<style>\n",
       "    .dataframe thead tr:only-child th {\n",
       "        text-align: right;\n",
       "    }\n",
       "\n",
       "    .dataframe thead th {\n",
       "        text-align: left;\n",
       "    }\n",
       "\n",
       "    .dataframe tbody tr th {\n",
       "        vertical-align: top;\n",
       "    }\n",
       "</style>\n",
       "<table border=\"1\" class=\"dataframe\">\n",
       "  <thead>\n",
       "    <tr style=\"text-align: right;\">\n",
       "      <th>knowledgebase_name</th>\n",
       "      <th>EcoCyc</th>\n",
       "      <th>EcoGene</th>\n",
       "      <th>RefSeq</th>\n",
       "      <th>UniProt</th>\n",
       "      <th>iJL1678b</th>\n",
       "      <th>Y-ome</th>\n",
       "    </tr>\n",
       "    <tr>\n",
       "      <th>locus_id</th>\n",
       "      <th></th>\n",
       "      <th></th>\n",
       "      <th></th>\n",
       "      <th></th>\n",
       "      <th></th>\n",
       "      <th></th>\n",
       "    </tr>\n",
       "  </thead>\n",
       "  <tbody>\n",
       "    <tr>\n",
       "      <th>b0001</th>\n",
       "      <td>high</td>\n",
       "      <td>tbd</td>\n",
       "      <td>tbd</td>\n",
       "      <td>low</td>\n",
       "      <td>None</td>\n",
       "      <td>tbd</td>\n",
       "    </tr>\n",
       "    <tr>\n",
       "      <th>b0006</th>\n",
       "      <td>high</td>\n",
       "      <td>tbd</td>\n",
       "      <td>tbd</td>\n",
       "      <td>low</td>\n",
       "      <td>None</td>\n",
       "      <td>tbd</td>\n",
       "    </tr>\n",
       "    <tr>\n",
       "      <th>b0022</th>\n",
       "      <td>high</td>\n",
       "      <td>tbd</td>\n",
       "      <td>tbd</td>\n",
       "      <td>low</td>\n",
       "      <td>None</td>\n",
       "      <td>tbd</td>\n",
       "    </tr>\n",
       "    <tr>\n",
       "      <th>b0034</th>\n",
       "      <td>high</td>\n",
       "      <td>tbd</td>\n",
       "      <td>tbd</td>\n",
       "      <td>low</td>\n",
       "      <td>None</td>\n",
       "      <td>tbd</td>\n",
       "    </tr>\n",
       "    <tr>\n",
       "      <th>b0037</th>\n",
       "      <td>high</td>\n",
       "      <td>low</td>\n",
       "      <td>high</td>\n",
       "      <td>tbd</td>\n",
       "      <td>high</td>\n",
       "      <td>tbd</td>\n",
       "    </tr>\n",
       "    <tr>\n",
       "      <th>b0040</th>\n",
       "      <td>high</td>\n",
       "      <td>low</td>\n",
       "      <td>tbd</td>\n",
       "      <td>high</td>\n",
       "      <td>high</td>\n",
       "      <td>tbd</td>\n",
       "    </tr>\n",
       "    <tr>\n",
       "      <th>b0260</th>\n",
       "      <td>high</td>\n",
       "      <td>low</td>\n",
       "      <td>tbd</td>\n",
       "      <td>low</td>\n",
       "      <td>high</td>\n",
       "      <td>tbd</td>\n",
       "    </tr>\n",
       "    <tr>\n",
       "      <th>b1461</th>\n",
       "      <td>low</td>\n",
       "      <td>tbd</td>\n",
       "      <td>high</td>\n",
       "      <td>high</td>\n",
       "      <td>None</td>\n",
       "      <td>tbd</td>\n",
       "    </tr>\n",
       "    <tr>\n",
       "      <th>b4354</th>\n",
       "      <td>low</td>\n",
       "      <td>tbd</td>\n",
       "      <td>tbd</td>\n",
       "      <td>high</td>\n",
       "      <td>None</td>\n",
       "      <td>tbd</td>\n",
       "    </tr>\n",
       "  </tbody>\n",
       "</table>\n",
       "</div>"
      ],
      "text/plain": [
       "knowledgebase_name EcoCyc EcoGene RefSeq UniProt iJL1678b Y-ome\n",
       "locus_id                                                       \n",
       "b0001               high   tbd     tbd    low     None     tbd \n",
       "b0006               high   tbd     tbd    low     None     tbd \n",
       "b0022               high   tbd     tbd    low     None     tbd \n",
       "b0034               high   tbd     tbd    low     None     tbd \n",
       "b0037               high   low     high   tbd     high     tbd \n",
       "b0040               high   low     tbd    high    high     tbd \n",
       "b0260               high   low     tbd    low     high     tbd \n",
       "b1461               low    tbd     high   high    None     tbd \n",
       "b4354               low    tbd     tbd    high    None     tbd "
      ]
     },
     "execution_count": 22,
     "metadata": {},
     "output_type": "execute_result"
    }
   ],
   "source": [
    "assertions = [\n",
    "    ('b1461', 'high'), # see literature validation (correct in UniProt)\n",
    "    ('b0129', 'low'),\n",
    "    ('b1786', 'low'),\n",
    "    ('b0260', 'high'), \n",
    "    ('b0022', 'high'), # I think we know enough by this insertion element to call it \"high\"\n",
    "    ('b4354', 'high'), # new evidence in Y-ome Updates\n",
    "    ('b0022', 'high'), # see EcoCyc\n",
    "    ('b0001', 'high'), # see EcoCyc\n",
    "    ('b0020', 'high'), # see EcoCyc\n",
    "    ('b0034', 'high'), # see EcoCyc\n",
    "    ('b0037', 'high'), # see EcoCyc\n",
    "    ('b0040', 'high'), # see EcoCyc\n",
    "    ('b0006', 'read more')\n",
    "]\n",
    "# print an incorrect assertions\n",
    "def check_for_row(row):\n",
    "    return any(row.name == locus_tag and row['Y-ome'] != val \n",
    "               for locus_tag, val in assertions)\n",
    "kbases_unstacked[kbases_unstacked.apply(check_for_row, axis=1)]"
   ]
  },
  {
   "cell_type": "markdown",
   "metadata": {},
   "source": [
    "# TBD genes"
   ]
  },
  {
   "cell_type": "code",
   "execution_count": 27,
   "metadata": {},
   "outputs": [
    {
     "name": "stdout",
     "output_type": "stream",
     "text": [
      "484 genes; next locus: b0132\n"
     ]
    }
   ],
   "source": [
    "tbd = kbases_unstacked[(kbases_unstacked['Y-ome'] == 'tbd') & ~kbases_unstacked.index.isin([x[0] for x in assertions])]\n",
    "tbd_locus_tag = tbd.index[1]\n",
    "print(f'{len(tbd)} genes; next locus: {tbd_locus_tag}')"
   ]
  },
  {
   "cell_type": "code",
   "execution_count": 28,
   "metadata": {
    "collapsed": true
   },
   "outputs": [],
   "source": [
    "# Get TBD genes for EcoGene but high for Eco\n",
    "report = to_df(\n",
    "    session.query(Gene.locus_id,\n",
    "                  KnowledgebaseGene.primary_name,\n",
    "                  KnowledgebaseGene.annotation_quality,\n",
    "                  Knowledgebase.name.label('knowledgebase_name'),\n",
    "                  KnowledgebaseFeature.feature_type,\n",
    "                  KnowledgebaseFeature.feature)\n",
    "    .join(KnowledgebaseGene)\n",
    "    .join(Knowledgebase)\n",
    "    .join(KnowledgebaseFeature)\n",
    "    .filter(Gene.locus_id == tbd_locus_tag)\n",
    ")"
   ]
  },
  {
   "cell_type": "code",
   "execution_count": 29,
   "metadata": {},
   "outputs": [
    {
     "data": {
      "text/plain": [
       "locus_id        b0132\n",
       "primary_name    rpnC \n",
       "Name: 0, dtype: object"
      ]
     },
     "execution_count": 29,
     "metadata": {},
     "output_type": "execute_result"
    }
   ],
   "source": [
    "report.iloc[0, 0:2]"
   ]
  },
  {
   "cell_type": "code",
   "execution_count": 30,
   "metadata": {
    "scrolled": false
   },
   "outputs": [
    {
     "data": {
      "text/html": [
       "<style  type=\"text/css\" >\n",
       "    #T_67ab73e2_e1f8_11e7_8638_a60024489901row0_col0 {\n",
       "            text-align:  left;\n",
       "        }    #T_67ab73e2_e1f8_11e7_8638_a60024489901row1_col0 {\n",
       "            text-align:  left;\n",
       "        }    #T_67ab73e2_e1f8_11e7_8638_a60024489901row2_col0 {\n",
       "            text-align:  left;\n",
       "        }    #T_67ab73e2_e1f8_11e7_8638_a60024489901row3_col0 {\n",
       "            text-align:  left;\n",
       "        }    #T_67ab73e2_e1f8_11e7_8638_a60024489901row4_col0 {\n",
       "            text-align:  left;\n",
       "        }    #T_67ab73e2_e1f8_11e7_8638_a60024489901row5_col0 {\n",
       "            text-align:  left;\n",
       "        }    #T_67ab73e2_e1f8_11e7_8638_a60024489901row6_col0 {\n",
       "            text-align:  left;\n",
       "        }    #T_67ab73e2_e1f8_11e7_8638_a60024489901row7_col0 {\n",
       "            text-align:  left;\n",
       "        }    #T_67ab73e2_e1f8_11e7_8638_a60024489901row8_col0 {\n",
       "            text-align:  left;\n",
       "        }    #T_67ab73e2_e1f8_11e7_8638_a60024489901row9_col0 {\n",
       "            text-align:  left;\n",
       "        }    #T_67ab73e2_e1f8_11e7_8638_a60024489901row10_col0 {\n",
       "            text-align:  left;\n",
       "        }    #T_67ab73e2_e1f8_11e7_8638_a60024489901row11_col0 {\n",
       "            text-align:  left;\n",
       "        }    #T_67ab73e2_e1f8_11e7_8638_a60024489901row12_col0 {\n",
       "            text-align:  left;\n",
       "        }    #T_67ab73e2_e1f8_11e7_8638_a60024489901row13_col0 {\n",
       "            text-align:  left;\n",
       "        }    #T_67ab73e2_e1f8_11e7_8638_a60024489901row14_col0 {\n",
       "            text-align:  left;\n",
       "        }    #T_67ab73e2_e1f8_11e7_8638_a60024489901row15_col0 {\n",
       "            text-align:  left;\n",
       "        }    #T_67ab73e2_e1f8_11e7_8638_a60024489901row16_col0 {\n",
       "            text-align:  left;\n",
       "        }    #T_67ab73e2_e1f8_11e7_8638_a60024489901row17_col0 {\n",
       "            text-align:  left;\n",
       "        }    #T_67ab73e2_e1f8_11e7_8638_a60024489901row18_col0 {\n",
       "            text-align:  left;\n",
       "        }</style>  \n",
       "<table id=\"T_67ab73e2_e1f8_11e7_8638_a60024489901\" > \n",
       "<thead>    <tr> \n",
       "        <th class=\"blank\" ></th> \n",
       "        <th class=\"blank level0\" ></th> \n",
       "        <th class=\"col_heading level0 col0\" >feature</th> \n",
       "    </tr>    <tr> \n",
       "        <th class=\"index_name level0\" >knowledgebase_name</th> \n",
       "        <th class=\"index_name level1\" >feature_type</th> \n",
       "        <th class=\"blank\" ></th> \n",
       "    </tr></thead> \n",
       "<tbody>    <tr> \n",
       "        <th id=\"T_67ab73e2_e1f8_11e7_8638_a60024489901level0_row0\" class=\"row_heading level0 row0\" rowspan=6>EcoCyc (high)</th> \n",
       "        <th id=\"T_67ab73e2_e1f8_11e7_8638_a60024489901level1_row0\" class=\"row_heading level1 row0\" >description</th> \n",
       "        <td id=\"T_67ab73e2_e1f8_11e7_8638_a60024489901row0_col0\" class=\"data row0 col0\" >recombination-promoting nuclease RpnC</td> \n",
       "    </tr>    <tr> \n",
       "        <th id=\"T_67ab73e2_e1f8_11e7_8638_a60024489901level1_row1\" class=\"row_heading level1 row1\" >summary_html</th> \n",
       "        <td id=\"T_67ab73e2_e1f8_11e7_8638_a60024489901row1_col0\" class=\"data row1 col0\" >SummaryRpnC is one of five proteins in E. coli that belong to the \"transposase_31\" family [Kingston17], which is distantly related to the PD-(D/E)XK nuclease superfamily [Knizewski07].Overexpression of rpnC increases RecA-independent recombination, reduces cell viability, and induces expression of the DNA damage-inducible gene dinD [Kingston17].  An insertion mutation in rpnC does not affect the ability to grow on glucose minimal medium [Merkel96].RpnC: \"recombination-promoting nuclease C\" [Kingston17]</td> \n",
       "    </tr>    <tr> \n",
       "        <th id=\"T_67ab73e2_e1f8_11e7_8638_a60024489901level1_row2\" class=\"row_heading level1 row2\" >product_type</th> \n",
       "        <td id=\"T_67ab73e2_e1f8_11e7_8638_a60024489901row2_col0\" class=\"data row2 col0\" >polypeptide</td> \n",
       "    </tr>    <tr> \n",
       "        <th id=\"T_67ab73e2_e1f8_11e7_8638_a60024489901level1_row3\" class=\"row_heading level1 row3\" >is_pseudogene</th> \n",
       "        <td id=\"T_67ab73e2_e1f8_11e7_8638_a60024489901row3_col0\" class=\"data row3 col0\" >f</td> \n",
       "    </tr>    <tr> \n",
       "        <th id=\"T_67ab73e2_e1f8_11e7_8638_a60024489901level1_row4\" class=\"row_heading level1 row4\" >is_phantom_gene</th> \n",
       "        <td id=\"T_67ab73e2_e1f8_11e7_8638_a60024489901row4_col0\" class=\"data row4 col0\" >f</td> \n",
       "    </tr>    <tr> \n",
       "        <th id=\"T_67ab73e2_e1f8_11e7_8638_a60024489901level1_row5\" class=\"row_heading level1 row5\" >evidence_html</th> \n",
       "        <td id=\"T_67ab73e2_e1f8_11e7_8638_a60024489901row5_col0\" class=\"data row5 col0\" >\n",
       "\n",
       "\n",
       "\n",
       "\n",
       "Inferred from mutant phenotype [Kingston17]\n",
       "\n",
       "</td> \n",
       "    </tr>    <tr> \n",
       "        <th id=\"T_67ab73e2_e1f8_11e7_8638_a60024489901level0_row6\" class=\"row_heading level0 row6\" rowspan=5>EcoGene (low)</th> \n",
       "        <th id=\"T_67ab73e2_e1f8_11e7_8638_a60024489901level1_row6\" class=\"row_heading level1 row6\" >protein</th> \n",
       "        <td id=\"T_67ab73e2_e1f8_11e7_8638_a60024489901row6_col0\" class=\"data row6 col0\" >transposase_31 family protein</td> \n",
       "    </tr>    <tr> \n",
       "        <th id=\"T_67ab73e2_e1f8_11e7_8638_a60024489901level1_row7\" class=\"row_heading level1 row7\" >function</th> \n",
       "        <td id=\"T_67ab73e2_e1f8_11e7_8638_a60024489901row7_col0\" class=\"data row7 col0\" >Null</td> \n",
       "    </tr>    <tr> \n",
       "        <th id=\"T_67ab73e2_e1f8_11e7_8638_a60024489901level1_row8\" class=\"row_heading level1 row8\" >description</th> \n",
       "        <td id=\"T_67ab73e2_e1f8_11e7_8638_a60024489901row8_col0\" class=\"data row8 col0\" >Transposase_31 family protein, function unknown</td> \n",
       "    </tr>    <tr> \n",
       "        <th id=\"T_67ab73e2_e1f8_11e7_8638_a60024489901level1_row9\" class=\"row_heading level1 row9\" >comments</th> \n",
       "        <td id=\"T_67ab73e2_e1f8_11e7_8638_a60024489901row9_col0\" class=\"data row9 col0\" >Although yadD was predicted to have a sigma 28 (FliA) promoter, it can not be transcribed in vitro with sigma 28 holoenzyme (Yu, 2006).</td> \n",
       "    </tr>    <tr> \n",
       "        <th id=\"T_67ab73e2_e1f8_11e7_8638_a60024489901level1_row10\" class=\"row_heading level1 row10\" >is_pseudogene</th> \n",
       "        <td id=\"T_67ab73e2_e1f8_11e7_8638_a60024489901row10_col0\" class=\"data row10 col0\" >f</td> \n",
       "    </tr>    <tr> \n",
       "        <th id=\"T_67ab73e2_e1f8_11e7_8638_a60024489901level0_row11\" class=\"row_heading level0 row11\" rowspan=6>UniProt (tbd)</th> \n",
       "        <th id=\"T_67ab73e2_e1f8_11e7_8638_a60024489901level1_row11\" class=\"row_heading level1 row11\" >upid</th> \n",
       "        <td id=\"T_67ab73e2_e1f8_11e7_8638_a60024489901row11_col0\" class=\"data row11 col0\" >P31665</td> \n",
       "    </tr>    <tr> \n",
       "        <th id=\"T_67ab73e2_e1f8_11e7_8638_a60024489901level1_row12\" class=\"row_heading level1 row12\" >protein</th> \n",
       "        <td id=\"T_67ab73e2_e1f8_11e7_8638_a60024489901row12_col0\" class=\"data row12 col0\" >Recombination-promoting nuclease RpnC (EC 3.1.21.-)</td> \n",
       "    </tr>    <tr> \n",
       "        <th id=\"T_67ab73e2_e1f8_11e7_8638_a60024489901level1_row13\" class=\"row_heading level1 row13\" >ec_number</th> \n",
       "        <td id=\"T_67ab73e2_e1f8_11e7_8638_a60024489901row13_col0\" class=\"data row13 col0\" >3.1.21.-</td> \n",
       "    </tr>    <tr> \n",
       "        <th id=\"T_67ab73e2_e1f8_11e7_8638_a60024489901level1_row14\" class=\"row_heading level1 row14\" >function</th> \n",
       "        <td id=\"T_67ab73e2_e1f8_11e7_8638_a60024489901row14_col0\" class=\"data row14 col0\" >FUNCTION: A low activity DNA endonuclease yielding 3'-hydroxyl ends (Probable). Upon expression enhances RecA-independent DNA recombination 2.9-fold, concomitantly reducing viability by 59% and inducing DNA damage as measured by induction of the SOS repair response. {ECO:0000269|PubMed:28096446}.</td> \n",
       "    </tr>    <tr> \n",
       "        <th id=\"T_67ab73e2_e1f8_11e7_8638_a60024489901level1_row15\" class=\"row_heading level1 row15\" >features</th> \n",
       "        <td id=\"T_67ab73e2_e1f8_11e7_8638_a60024489901row15_col0\" class=\"data row15 col0\" >Chain (1); Frameshift (1)</td> \n",
       "    </tr>    <tr> \n",
       "        <th id=\"T_67ab73e2_e1f8_11e7_8638_a60024489901level1_row16\" class=\"row_heading level1 row16\" >annotation_score</th> \n",
       "        <td id=\"T_67ab73e2_e1f8_11e7_8638_a60024489901row16_col0\" class=\"data row16 col0\" >3</td> \n",
       "    </tr>    <tr> \n",
       "        <th id=\"T_67ab73e2_e1f8_11e7_8638_a60024489901level0_row17\" class=\"row_heading level0 row17\" rowspan=2>RefSeq (tbd)</th> \n",
       "        <th id=\"T_67ab73e2_e1f8_11e7_8638_a60024489901level1_row17\" class=\"row_heading level1 row17\" >ec_numbers</th> \n",
       "        <td id=\"T_67ab73e2_e1f8_11e7_8638_a60024489901row17_col0\" class=\"data row17 col0\" >{}</td> \n",
       "    </tr>    <tr> \n",
       "        <th id=\"T_67ab73e2_e1f8_11e7_8638_a60024489901level1_row18\" class=\"row_heading level1 row18\" >product</th> \n",
       "        <td id=\"T_67ab73e2_e1f8_11e7_8638_a60024489901row18_col0\" class=\"data row18 col0\" >transposase_31 family protein</td> \n",
       "    </tr></tbody> \n",
       "</table> "
      ],
      "text/plain": [
       "<IPython.core.display.HTML object>"
      ]
     },
     "execution_count": 30,
     "metadata": {},
     "output_type": "execute_result"
    }
   ],
   "source": [
    "report.knowledgebase_name = report.apply(lambda row: f\"{row['knowledgebase_name']} ({row['annotation_quality']})\", axis=1)\n",
    "report = report.drop(['locus_id', 'primary_name', 'annotation_quality'], axis=1)\n",
    "report = report.set_index(['knowledgebase_name', 'feature_type'])\n",
    "s = report.style.set_properties(**{'text-align': 'left'})\n",
    "HTML(s.render())"
   ]
  },
  {
   "cell_type": "code",
   "execution_count": null,
   "metadata": {
    "collapsed": true
   },
   "outputs": [],
   "source": []
  }
 ],
 "metadata": {
  "kernelspec": {
   "display_name": "Python 3",
   "language": "python",
   "name": "python3"
  },
  "language_info": {
   "codemirror_mode": {
    "name": "ipython",
    "version": 3
   },
   "file_extension": ".py",
   "mimetype": "text/x-python",
   "name": "python",
   "nbconvert_exporter": "python",
   "pygments_lexer": "ipython3",
   "version": "3.6.3"
  }
 },
 "nbformat": 4,
 "nbformat_minor": 2
}
