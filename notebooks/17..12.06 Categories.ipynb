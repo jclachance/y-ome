{
 "cells": [
  {
   "cell_type": "code",
   "execution_count": 1,
   "metadata": {
    "collapsed": true
   },
   "outputs": [],
   "source": [
    "import json\n",
    "import pandas as pd\n",
    "from yome import Session\n",
    "from yome.models import *\n",
    "from yome.util import to_df\n",
    "import re\n",
    "from sqlalchemy.orm import aliased\n",
    "import itertools as it\n",
    "import seaborn as sns\n",
    "from IPython.display import HTML"
   ]
  },
  {
   "cell_type": "code",
   "execution_count": 2,
   "metadata": {
    "collapsed": true
   },
   "outputs": [],
   "source": [
    "pd.set_option('display.max_colwidth', -1)"
   ]
  },
  {
   "cell_type": "code",
   "execution_count": 3,
   "metadata": {},
   "outputs": [
    {
     "name": "stdout",
     "output_type": "stream",
     "text": [
      "Populating the interactive namespace from numpy and matplotlib\n"
     ]
    }
   ],
   "source": [
    "from mpl_recipes import mpl_setup\n",
    "%mpl_setup"
   ]
  },
  {
   "cell_type": "code",
   "execution_count": 4,
   "metadata": {
    "collapsed": true
   },
   "outputs": [],
   "source": [
    "session = Session()"
   ]
  },
  {
   "cell_type": "markdown",
   "metadata": {},
   "source": [
    "# Psuedogenes "
   ]
  },
  {
   "cell_type": "code",
   "execution_count": 5,
   "metadata": {
    "collapsed": true
   },
   "outputs": [],
   "source": [
    "# Genes maked pseudo in EcoGene\n",
    "ecogene_pseudo = (\n",
    "    session.query(Gene.locus_id,\n",
    "                  KnowledgebaseGene.primary_name,\n",
    "                  KnowledgebaseFeature.feature)\n",
    "    .join(KnowledgebaseGene)\n",
    "    .join(Knowledgebase)\n",
    "    .join(KnowledgebaseFeature)\n",
    "    .filter(Knowledgebase.name == 'EcoGene')\n",
    "    .filter(KnowledgebaseFeature.feature_type == 'is_pseudogene')\n",
    "    .filter(KnowledgebaseFeature.feature == 't')\n",
    ")"
   ]
  },
  {
   "cell_type": "code",
   "execution_count": 6,
   "metadata": {},
   "outputs": [
    {
     "data": {
      "text/plain": [
       "184"
      ]
     },
     "execution_count": 6,
     "metadata": {},
     "output_type": "execute_result"
    }
   ],
   "source": [
    "ecogene_pseudo.count()"
   ]
  },
  {
   "cell_type": "markdown",
   "metadata": {},
   "source": [
    "# Genes without b-number"
   ]
  },
  {
   "cell_type": "code",
   "execution_count": 7,
   "metadata": {
    "collapsed": true
   },
   "outputs": [],
   "source": [
    "# Genes b4309 pseudo in EcoGene\n",
    "no_b_number = to_df(\n",
    "    session.query(KnowledgebaseGene.primary_name,\n",
    "                  KnowledgebaseGene.annotation_quality,\n",
    "                  Knowledgebase.name.label('kb_name'))\n",
    "    .join(Knowledgebase)\n",
    "    .filter(KnowledgebaseGene.gene_id == None)\n",
    ")"
   ]
  },
  {
   "cell_type": "code",
   "execution_count": 8,
   "metadata": {},
   "outputs": [
    {
     "data": {
      "text/html": [
       "<div>\n",
       "<style>\n",
       "    .dataframe thead tr:only-child th {\n",
       "        text-align: right;\n",
       "    }\n",
       "\n",
       "    .dataframe thead th {\n",
       "        text-align: left;\n",
       "    }\n",
       "\n",
       "    .dataframe tbody tr th {\n",
       "        vertical-align: top;\n",
       "    }\n",
       "</style>\n",
       "<table border=\"1\" class=\"dataframe\">\n",
       "  <thead>\n",
       "    <tr style=\"text-align: right;\">\n",
       "      <th></th>\n",
       "      <th>primary_name</th>\n",
       "      <th>annotation_quality</th>\n",
       "    </tr>\n",
       "    <tr>\n",
       "      <th>kb_name</th>\n",
       "      <th></th>\n",
       "      <th></th>\n",
       "    </tr>\n",
       "  </thead>\n",
       "  <tbody>\n",
       "    <tr>\n",
       "      <th>EcoCyc</th>\n",
       "      <td>55</td>\n",
       "      <td>55</td>\n",
       "    </tr>\n",
       "    <tr>\n",
       "      <th>UniProt</th>\n",
       "      <td>1</td>\n",
       "      <td>1</td>\n",
       "    </tr>\n",
       "  </tbody>\n",
       "</table>\n",
       "</div>"
      ],
      "text/plain": [
       "         primary_name  annotation_quality\n",
       "kb_name                                  \n",
       "EcoCyc   55            55                \n",
       "UniProt  1             1                 "
      ]
     },
     "execution_count": 8,
     "metadata": {},
     "output_type": "execute_result"
    }
   ],
   "source": [
    "no_b_number.groupby('kb_name').agg('count')"
   ]
  },
  {
   "cell_type": "markdown",
   "metadata": {},
   "source": [
    "# Find locus tags with multiple genes"
   ]
  },
  {
   "cell_type": "code",
   "execution_count": 9,
   "metadata": {
    "collapsed": true
   },
   "outputs": [],
   "source": [
    "KnowledgebaseGene2 = aliased(KnowledgebaseGene)"
   ]
  },
  {
   "cell_type": "code",
   "execution_count": 10,
   "metadata": {
    "collapsed": true
   },
   "outputs": [],
   "source": [
    "duplicates = to_df(\n",
    "    session.query(Gene.locus_id,\n",
    "                  KnowledgebaseGene.primary_name,\n",
    "                  KnowledgebaseGene2.primary_name.label('primary_name2'),\n",
    "                  Knowledgebase.name)\n",
    "    .join(KnowledgebaseGene, KnowledgebaseGene.gene_id == Gene.id)\n",
    "    .join(KnowledgebaseGene2, KnowledgebaseGene2.gene_id == Gene.id)\n",
    "    .join(Knowledgebase, KnowledgebaseGene.knowledgebase_id == Knowledgebase.id)\n",
    "    .filter(KnowledgebaseGene2.knowledgebase_id == Knowledgebase.id)\n",
    "    .filter(KnowledgebaseGene.id != KnowledgebaseGene2.id)\n",
    ")"
   ]
  },
  {
   "cell_type": "code",
   "execution_count": 11,
   "metadata": {},
   "outputs": [
    {
     "data": {
      "text/html": [
       "<div>\n",
       "<style>\n",
       "    .dataframe thead tr:only-child th {\n",
       "        text-align: right;\n",
       "    }\n",
       "\n",
       "    .dataframe thead th {\n",
       "        text-align: left;\n",
       "    }\n",
       "\n",
       "    .dataframe tbody tr th {\n",
       "        vertical-align: top;\n",
       "    }\n",
       "</style>\n",
       "<table border=\"1\" class=\"dataframe\">\n",
       "  <thead>\n",
       "    <tr style=\"text-align: right;\">\n",
       "      <th></th>\n",
       "      <th>locus_id</th>\n",
       "      <th>primary_name</th>\n",
       "      <th>primary_name2</th>\n",
       "      <th>name</th>\n",
       "    </tr>\n",
       "  </thead>\n",
       "  <tbody>\n",
       "    <tr>\n",
       "      <th>0</th>\n",
       "      <td>b3504</td>\n",
       "      <td>yhiS_2</td>\n",
       "      <td>yhiS_1</td>\n",
       "      <td>EcoCyc</td>\n",
       "    </tr>\n",
       "    <tr>\n",
       "      <th>1</th>\n",
       "      <td>b0240</td>\n",
       "      <td>crl_1</td>\n",
       "      <td>crl_2</td>\n",
       "      <td>EcoCyc</td>\n",
       "    </tr>\n",
       "    <tr>\n",
       "      <th>2</th>\n",
       "      <td>b0240</td>\n",
       "      <td>crl_2</td>\n",
       "      <td>crl_1</td>\n",
       "      <td>EcoCyc</td>\n",
       "    </tr>\n",
       "    <tr>\n",
       "      <th>3</th>\n",
       "      <td>b3504</td>\n",
       "      <td>yhiS_1</td>\n",
       "      <td>yhiS_2</td>\n",
       "      <td>EcoCyc</td>\n",
       "    </tr>\n",
       "    <tr>\n",
       "      <th>4</th>\n",
       "      <td>b4581</td>\n",
       "      <td>ybeM</td>\n",
       "      <td>ybeH</td>\n",
       "      <td>UniProt</td>\n",
       "    </tr>\n",
       "    <tr>\n",
       "      <th>5</th>\n",
       "      <td>b4581</td>\n",
       "      <td>ybeH</td>\n",
       "      <td>ybeM</td>\n",
       "      <td>UniProt</td>\n",
       "    </tr>\n",
       "  </tbody>\n",
       "</table>\n",
       "</div>"
      ],
      "text/plain": [
       "  locus_id primary_name primary_name2     name\n",
       "0  b3504    yhiS_2       yhiS_1        EcoCyc \n",
       "1  b0240    crl_1        crl_2         EcoCyc \n",
       "2  b0240    crl_2        crl_1         EcoCyc \n",
       "3  b3504    yhiS_1       yhiS_2        EcoCyc \n",
       "4  b4581    ybeM         ybeH          UniProt\n",
       "5  b4581    ybeH         ybeM          UniProt"
      ]
     },
     "execution_count": 11,
     "metadata": {},
     "output_type": "execute_result"
    }
   ],
   "source": [
    "duplicates"
   ]
  },
  {
   "cell_type": "markdown",
   "metadata": {},
   "source": [
    "# Kbase comparison plot\n",
    "NOTE: 55 EcoCyc & 1 UniProt genes without a locus tag and 4 EcoCyc genes with duplicated locus tags are ignored in this plot"
   ]
  },
  {
   "cell_type": "code",
   "execution_count": 48,
   "metadata": {
    "collapsed": true
   },
   "outputs": [],
   "source": [
    "kbases = to_df(\n",
    "    session.query(Gene.locus_id,\n",
    "                  KnowledgebaseGene.primary_name,\n",
    "                  KnowledgebaseGene.annotation_quality,\n",
    "                  Knowledgebase.name.label('knowledgebase_name'))\n",
    "    .join(KnowledgebaseGene)\n",
    "    .join(Knowledgebase)\n",
    ")"
   ]
  },
  {
   "cell_type": "code",
   "execution_count": 63,
   "metadata": {
    "collapsed": true
   },
   "outputs": [],
   "source": [
    "# EcoCyc assay evidence should override everything, e.g. b0089 / ftsW \n",
    "ecocyc_evidence = to_df(\n",
    "    session.query(Gene.locus_id,\n",
    "                  KnowledgebaseFeature.feature)\n",
    "    .join(KnowledgebaseGene)\n",
    "    .join(Knowledgebase)\n",
    "    .join(KnowledgebaseFeature)\n",
    "    .filter(Knowledgebase.name == 'EcoCyc')\n",
    "    .filter(KnowledgebaseFeature.feature_type == 'evidence_html')\n",
    ")\n",
    "ecocyc_evidence_has_assay = ecocyc_evidence[ecocyc_evidence.feature.str.contains('assay', flags=re.IGNORECASE)]"
   ]
  },
  {
   "cell_type": "code",
   "execution_count": 51,
   "metadata": {
    "collapsed": true
   },
   "outputs": [],
   "source": [
    "def calculate_y_ome(row):\n",
    "    any_high =     any(x == 'high'     for x in row)\n",
    "    any_low =      any(x == 'low'      for x in row)\n",
    "    any_excluded = any(x == 'excluded' for x in row)\n",
    "    has_experimental_assay = row.name in ecocyc_evidence_has_assay.locus_id.values\n",
    "    \n",
    "    return 'high'     if (has_experimental_assay or \n",
    "                          (any_high     and not any_low  and not any_excluded)) \\\n",
    "      else 'low'      if ( any_low      and not any_high and not any_excluded) \\\n",
    "      else 'excluded' if ( any_excluded and not any_high) \\\n",
    "      else 'tbd'"
   ]
  },
  {
   "cell_type": "code",
   "execution_count": 53,
   "metadata": {
    "collapsed": true
   },
   "outputs": [],
   "source": [
    "# remove duplicate genes\n",
    "kbases_unstacked = kbases.set_index(['locus_id', 'knowledgebase_name'])\n",
    "kbases_unstacked = kbases_unstacked[~kbases_unstacked.index.duplicated(keep='first')]\n",
    "kbases_unstacked = kbases_unstacked.drop('primary_name', axis=1).unstack()\n",
    "kbases_unstacked.columns = kbases_unstacked.columns.droplevel(0)\n",
    "# calculate Y-ome; don't rely on ME-model\n",
    "kbases_unstacked['Y-ome'] = kbases_unstacked[kbases_unstacked.columns.drop('iJL1678b')].apply(calculate_y_ome, axis=1)"
   ]
  },
  {
   "cell_type": "code",
   "execution_count": 54,
   "metadata": {},
   "outputs": [
    {
     "data": {
      "text/plain": [
       "high        2549\n",
       "low         1498\n",
       "tbd         303 \n",
       "excluded    303 \n",
       "Name: Y-ome, dtype: int64"
      ]
     },
     "execution_count": 54,
     "metadata": {},
     "output_type": "execute_result"
    }
   ],
   "source": [
    "# Y-ome counts\n",
    "kbases_unstacked['Y-ome'].value_counts()"
   ]
  },
  {
   "cell_type": "code",
   "execution_count": 55,
   "metadata": {
    "collapsed": true
   },
   "outputs": [],
   "source": [
    "levels = {\n",
    "    'excluded': 0,\n",
    "    'tbd': 1,\n",
    "    'low': 2,\n",
    "    'high': 3,\n",
    "    None: 4\n",
    "}"
   ]
  },
  {
   "cell_type": "code",
   "execution_count": 56,
   "metadata": {
    "collapsed": true
   },
   "outputs": [],
   "source": [
    "colors = {\n",
    "    0: [ 0.85453713,  0.22957019,  0.27623218,  1.        ], # bright red\n",
    "    1: [ 0.9170408 ,  0.56061475,  0.58722664,  1.        ], # red\n",
    "    2: [ 0.57653009,  0.72175186,  0.76633449,  1.        ], # light blue green\n",
    "    3: [ 0.24715576,  0.49918708,  0.57655991,  1.        ], # dark blue green\n",
    "    4: [ 0.6,         0.6,         0.6,         1.        ], # grey\n",
    "}"
   ]
  },
  {
   "cell_type": "code",
   "execution_count": 57,
   "metadata": {},
   "outputs": [
    {
     "data": {
      "text/html": [
       "<div>\n",
       "<style>\n",
       "    .dataframe thead tr:only-child th {\n",
       "        text-align: right;\n",
       "    }\n",
       "\n",
       "    .dataframe thead th {\n",
       "        text-align: left;\n",
       "    }\n",
       "\n",
       "    .dataframe tbody tr th {\n",
       "        vertical-align: top;\n",
       "    }\n",
       "</style>\n",
       "<table border=\"1\" class=\"dataframe\">\n",
       "  <thead>\n",
       "    <tr style=\"text-align: right;\">\n",
       "      <th>knowledgebase_name</th>\n",
       "      <th>EcoCyc</th>\n",
       "      <th>EcoGene</th>\n",
       "      <th>RefSeq</th>\n",
       "      <th>UniProt</th>\n",
       "      <th>iJL1678b</th>\n",
       "      <th>Y-ome</th>\n",
       "    </tr>\n",
       "    <tr>\n",
       "      <th>locus_id</th>\n",
       "      <th></th>\n",
       "      <th></th>\n",
       "      <th></th>\n",
       "      <th></th>\n",
       "      <th></th>\n",
       "      <th></th>\n",
       "    </tr>\n",
       "  </thead>\n",
       "  <tbody>\n",
       "    <tr>\n",
       "      <th>b0229</th>\n",
       "      <td>0</td>\n",
       "      <td>0</td>\n",
       "      <td>1</td>\n",
       "      <td>2</td>\n",
       "      <td>4</td>\n",
       "      <td>0</td>\n",
       "    </tr>\n",
       "    <tr>\n",
       "      <th>b0230</th>\n",
       "      <td>0</td>\n",
       "      <td>0</td>\n",
       "      <td>1</td>\n",
       "      <td>2</td>\n",
       "      <td>4</td>\n",
       "      <td>0</td>\n",
       "    </tr>\n",
       "    <tr>\n",
       "      <th>b0235</th>\n",
       "      <td>0</td>\n",
       "      <td>0</td>\n",
       "      <td>1</td>\n",
       "      <td>2</td>\n",
       "      <td>4</td>\n",
       "      <td>0</td>\n",
       "    </tr>\n",
       "    <tr>\n",
       "      <th>b0236</th>\n",
       "      <td>0</td>\n",
       "      <td>0</td>\n",
       "      <td>1</td>\n",
       "      <td>2</td>\n",
       "      <td>4</td>\n",
       "      <td>0</td>\n",
       "    </tr>\n",
       "    <tr>\n",
       "      <th>b0263</th>\n",
       "      <td>0</td>\n",
       "      <td>0</td>\n",
       "      <td>1</td>\n",
       "      <td>2</td>\n",
       "      <td>4</td>\n",
       "      <td>0</td>\n",
       "    </tr>\n",
       "  </tbody>\n",
       "</table>\n",
       "</div>"
      ],
      "text/plain": [
       "knowledgebase_name  EcoCyc  EcoGene  RefSeq  UniProt  iJL1678b  Y-ome\n",
       "locus_id                                                             \n",
       "b0229               0       0        1       2        4         0    \n",
       "b0230               0       0        1       2        4         0    \n",
       "b0235               0       0        1       2        4         0    \n",
       "b0236               0       0        1       2        4         0    \n",
       "b0263               0       0        1       2        4         0    "
      ]
     },
     "execution_count": 57,
     "metadata": {},
     "output_type": "execute_result"
    }
   ],
   "source": [
    "knowledgebase_names = list(kbases_unstacked.columns)\n",
    "kbases_plot = kbases_unstacked.applymap(lambda x: levels[x]).sort_values(by=list(kbases_unstacked.columns))\n",
    "kbases_plot.head()"
   ]
  },
  {
   "cell_type": "code",
   "execution_count": 58,
   "metadata": {
    "collapsed": true
   },
   "outputs": [],
   "source": [
    "# create bars based on consecutive colors\n",
    "last_value = {kbase: None for kbase in knowledgebase_names}\n",
    "bars = {kbase: [] for kbase in knowledgebase_names}\n",
    "for locus_tag, row in kbases_plot.iterrows():\n",
    "    for kbase, value in row.iteritems():\n",
    "        if len(bars[kbase]) == 0 or bars[kbase][-1]['value'] != value:\n",
    "            bars[kbase].append({'value': value, 'height': 1})\n",
    "            last_value[kbase] = value\n",
    "        else:\n",
    "            bars[kbase][-1]['height'] += 1"
   ]
  },
  {
   "cell_type": "code",
   "execution_count": 59,
   "metadata": {},
   "outputs": [
    {
     "data": {
      "text/plain": [
       "[array([ 0.85453713,  0.22957019,  0.27623218,  1.        ]),\n",
       " array([ 0.9170408 ,  0.56061475,  0.58722664,  1.        ]),\n",
       " array([ 0.98157711,  0.90242499,  0.90833474,  1.        ]),\n",
       " array([ 0.95,  0.95,  0.95,  1.  ]),\n",
       " array([ 0.91661578,  0.95155452,  0.9622806 ,  1.        ]),\n",
       " array([ 0.57653009,  0.72175186,  0.76633449,  1.        ]),\n",
       " array([ 0.24715576,  0.49918708,  0.57655991,  1.        ])]"
      ]
     },
     "execution_count": 59,
     "metadata": {},
     "output_type": "execute_result"
    },
    {
     "data": {
      "image/png": "[encoded data removed]",
      "text/plain": [
       "<matplotlib.figure.Figure at 0x1128c85f8>"
      ]
     },
     "metadata": {},
     "output_type": "display_data"
    }
   ],
   "source": [
    "pal = sns.diverging_palette(10, 220, sep=80, n=7)\n",
    "sns.palplot(pal)\n",
    "pal"
   ]
  },
  {
   "cell_type": "code",
   "execution_count": 60,
   "metadata": {},
   "outputs": [
    {
     "name": "stderr",
     "output_type": "stream",
     "text": [
      "/usr/local/lib/python3.6/site-packages/matplotlib/font_manager.py:1297: UserWarning: findfont: Font family ['sans-serif'] not found. Falling back to DejaVu Sans\n",
      "  (prop.get_family(), self.defaultFamily[fontext]))\n"
     ]
    },
    {
     "data": {
      "image/png": "[encoded data removed]",
      "text/plain": [
       "<matplotlib.figure.Figure at 0x112917278>"
      ]
     },
     "metadata": {},
     "output_type": "display_data"
    }
   ],
   "source": [
    "fig, ax = plt.subplots(figsize=(11, 11))\n",
    "last_heights = [0 for _ in knowledgebase_names]\n",
    "for bar_list in it.zip_longest(*bars.values()):\n",
    "    left = [x + 0.1 for x in range(len(knowledgebase_names))]\n",
    "    height = [x['height'] if x is not None else 0 for x in bar_list]\n",
    "    bottom = last_heights\n",
    "    last_heights = [x + y for x, y in zip(height, last_heights)]\n",
    "    color = [colors[x['value']] if x is not None else 'k' for x in bar_list]\n",
    "    ax.bar(left, height, bottom=bottom, color=color, linewidth=0)\n",
    "ax.set_xlabel('Knowledgebase')\n",
    "ax.set_ylabel('Gene')\n",
    "ax.xaxis.set_ticks([x + 0.1 for x in range(len(kbases_plot.columns))])\n",
    "ax.xaxis.set_ticklabels(kbases_plot.columns)\n",
    "fig.savefig('/Users/zaking/lab/y-ome/figs/y-ome-latest.png')"
   ]
  },
  {
   "cell_type": "markdown",
   "metadata": {},
   "source": [
    "## cases to check:\n",
    "\n",
    "### High in one DB, low in another\n",
    "\n",
    "+ High in EcoCyc and low in EcoGene\n",
    "  + result: based on *caiC*, give \"high\" priority over \"low\" because EcoCyc has more up-to-date information for \"high\" cases\n",
    "+ High in UniProt and low in EcoCyc\n",
    "  + result: based on *yadI / b0129*, don't rely on EC number in UniProt; use annotation score instead\n",
    "  + result: based on *mrdB*, don't categorize \"family protein\" as poor annotation in EcoCyc\n",
    "  + result: based on *YdcE / b1461*, UniProt high should override EcoCyc because EcoCyc missed the experimental validation in the linked paper\n",
    "    + good example for the text\n",
    "  + result: based on *dgcJ / b1786*, uniprot level 5 annotation should be \"low\", because even putative functions are given this level of annotation\n",
    "    + also a good example for the text\n",
    "+ High in ME-model, low in EcoCyc\n",
    "  + result: ME-model includes putative annotations (e.g. YaaJ). Don't mark these as high\n",
    "  + TODO provide an analysis of them in the text\n",
    "+ High in EcoCyc and low in UniProt\n",
    "  + result: based on thrL; UniProt got this one wrong, should be high"
   ]
  },
  {
   "cell_type": "markdown",
   "metadata": {},
   "source": [
    "## Assertions\n",
    "The literature points to a particular answer for these genes\n",
    "\n",
    "TODO merge these with Y-ome Updates"
   ]
  },
  {
   "cell_type": "code",
   "execution_count": 69,
   "metadata": {},
   "outputs": [
    {
     "data": {
      "text/html": [
       "<div>\n",
       "<style>\n",
       "    .dataframe thead tr:only-child th {\n",
       "        text-align: right;\n",
       "    }\n",
       "\n",
       "    .dataframe thead th {\n",
       "        text-align: left;\n",
       "    }\n",
       "\n",
       "    .dataframe tbody tr th {\n",
       "        vertical-align: top;\n",
       "    }\n",
       "</style>\n",
       "<table border=\"1\" class=\"dataframe\">\n",
       "  <thead>\n",
       "    <tr style=\"text-align: right;\">\n",
       "      <th>knowledgebase_name</th>\n",
       "      <th>EcoCyc</th>\n",
       "      <th>EcoGene</th>\n",
       "      <th>RefSeq</th>\n",
       "      <th>UniProt</th>\n",
       "      <th>iJL1678b</th>\n",
       "      <th>Y-ome</th>\n",
       "    </tr>\n",
       "    <tr>\n",
       "      <th>locus_id</th>\n",
       "      <th></th>\n",
       "      <th></th>\n",
       "      <th></th>\n",
       "      <th></th>\n",
       "      <th></th>\n",
       "      <th></th>\n",
       "    </tr>\n",
       "  </thead>\n",
       "  <tbody>\n",
       "    <tr>\n",
       "      <th>b0006</th>\n",
       "      <td>tbd</td>\n",
       "      <td>tbd</td>\n",
       "      <td>tbd</td>\n",
       "      <td>low</td>\n",
       "      <td>None</td>\n",
       "      <td>low</td>\n",
       "    </tr>\n",
       "    <tr>\n",
       "      <th>b0022</th>\n",
       "      <td>tbd</td>\n",
       "      <td>tbd</td>\n",
       "      <td>tbd</td>\n",
       "      <td>low</td>\n",
       "      <td>None</td>\n",
       "      <td>low</td>\n",
       "    </tr>\n",
       "    <tr>\n",
       "      <th>b0139</th>\n",
       "      <td>excluded</td>\n",
       "      <td>low</td>\n",
       "      <td>tbd</td>\n",
       "      <td>high</td>\n",
       "      <td>None</td>\n",
       "      <td>tbd</td>\n",
       "    </tr>\n",
       "    <tr>\n",
       "      <th>b0260</th>\n",
       "      <td>high</td>\n",
       "      <td>low</td>\n",
       "      <td>tbd</td>\n",
       "      <td>low</td>\n",
       "      <td>high</td>\n",
       "      <td>tbd</td>\n",
       "    </tr>\n",
       "    <tr>\n",
       "      <th>b1074</th>\n",
       "      <td>high</td>\n",
       "      <td>tbd</td>\n",
       "      <td>tbd</td>\n",
       "      <td>low</td>\n",
       "      <td>None</td>\n",
       "      <td>tbd</td>\n",
       "    </tr>\n",
       "    <tr>\n",
       "      <th>b1461</th>\n",
       "      <td>low</td>\n",
       "      <td>tbd</td>\n",
       "      <td>high</td>\n",
       "      <td>high</td>\n",
       "      <td>None</td>\n",
       "      <td>tbd</td>\n",
       "    </tr>\n",
       "    <tr>\n",
       "      <th>b4354</th>\n",
       "      <td>low</td>\n",
       "      <td>tbd</td>\n",
       "      <td>tbd</td>\n",
       "      <td>high</td>\n",
       "      <td>None</td>\n",
       "      <td>tbd</td>\n",
       "    </tr>\n",
       "  </tbody>\n",
       "</table>\n",
       "</div>"
      ],
      "text/plain": [
       "knowledgebase_name    EcoCyc EcoGene RefSeq UniProt iJL1678b Y-ome\n",
       "locus_id                                                          \n",
       "b0006               tbd       tbd     tbd    low     None     low \n",
       "b0022               tbd       tbd     tbd    low     None     low \n",
       "b0139               excluded  low     tbd    high    None     tbd \n",
       "b0260               high      low     tbd    low     high     tbd \n",
       "b1074               high      tbd     tbd    low     None     tbd \n",
       "b1461               low       tbd     high   high    None     tbd \n",
       "b4354               low       tbd     tbd    high    None     tbd "
      ]
     },
     "execution_count": 69,
     "metadata": {},
     "output_type": "execute_result"
    }
   ],
   "source": [
    "assertions = [\n",
    "    ('b1461', 'high'), # see literature validation (correct in UniProt)\n",
    "    ('b0129', 'low'),\n",
    "    ('b1786', 'low'),\n",
    "    ('b0260', 'high'), \n",
    "    ('b0022', 'high'), # I think we know enough by this insertion element to call it \"high\"\n",
    "    ('b4354', 'high'), # new evidence in Y-ome Updates\n",
    "    ('b0022', 'high'), # see EcoCyc\n",
    "    ('b0001', 'high'), # see EcoCyc\n",
    "    ('b0020', 'high'), # see EcoCyc\n",
    "    ('b0034', 'high'), # see EcoCyc\n",
    "    ('b0037', 'high'), # see EcoCyc\n",
    "    ('b0040', 'high'), # see EcoCyc\n",
    "    ('b0006', 'read more'),\n",
    "    ('b1074', 'high'), # fix with complex info from EcoCyc\n",
    "    ('b0089', 'high'), # EcoCyc assay evidence\n",
    "    ('b0139', 'read more'),\n",
    "]\n",
    "# print an incorrect assertions\n",
    "def check_for_row(row):\n",
    "    return any(row.name == locus_tag and row['Y-ome'] != val \n",
    "               for locus_tag, val in assertions)\n",
    "kbases_unstacked[kbases_unstacked.apply(check_for_row, axis=1)]"
   ]
  },
  {
   "cell_type": "markdown",
   "metadata": {},
   "source": [
    "# Make a report for a gene"
   ]
  },
  {
   "cell_type": "code",
   "execution_count": 70,
   "metadata": {
    "collapsed": true
   },
   "outputs": [],
   "source": [
    "def report(locus_tag):\n",
    "    # Get TBD genes for EcoGene but high for Eco\n",
    "    report = to_df(\n",
    "        session.query(Gene.locus_id,\n",
    "                      KnowledgebaseGene.primary_name,\n",
    "                      KnowledgebaseGene.annotation_quality,\n",
    "                      Knowledgebase.name.label('knowledgebase_name'),\n",
    "                      KnowledgebaseFeature.feature_type,\n",
    "                      KnowledgebaseFeature.feature)\n",
    "        .join(KnowledgebaseGene)\n",
    "        .join(Knowledgebase)\n",
    "        .join(KnowledgebaseFeature)\n",
    "        .filter(Gene.locus_id == locus_tag)\n",
    "    )\n",
    "\n",
    "    print(report.iloc[0, 0:2])\n",
    "\n",
    "    report.knowledgebase_name = report.apply(lambda row: f\"{row['knowledgebase_name']} ({row['annotation_quality']})\", axis=1)\n",
    "    report = report.drop(['locus_id', 'primary_name', 'annotation_quality'], axis=1)\n",
    "    report = report.set_index(['knowledgebase_name', 'feature_type'])\n",
    "    s = report.style.set_properties(**{'text-align': 'left'})\n",
    "    return HTML(s.render())"
   ]
  },
  {
   "cell_type": "markdown",
   "metadata": {},
   "source": [
    "# TBD genes"
   ]
  },
  {
   "cell_type": "code",
   "execution_count": 71,
   "metadata": {},
   "outputs": [
    {
     "name": "stdout",
     "output_type": "stream",
     "text": [
      "298 genes; next locus: b0162\n"
     ]
    }
   ],
   "source": [
    "tbd = kbases_unstacked[(kbases_unstacked['Y-ome'] == 'tbd') & ~kbases_unstacked.index.isin([x[0] for x in assertions])]\n",
    "tbd_locus_tag = tbd.index[1]\n",
    "print(f'{len(tbd)} genes; next locus: {tbd_locus_tag}')"
   ]
  },
  {
   "cell_type": "code",
   "execution_count": 72,
   "metadata": {},
   "outputs": [
    {
     "data": {
      "text/html": [
       "<div>\n",
       "<style>\n",
       "    .dataframe thead tr:only-child th {\n",
       "        text-align: right;\n",
       "    }\n",
       "\n",
       "    .dataframe thead th {\n",
       "        text-align: left;\n",
       "    }\n",
       "\n",
       "    .dataframe tbody tr th {\n",
       "        vertical-align: top;\n",
       "    }\n",
       "</style>\n",
       "<table border=\"1\" class=\"dataframe\">\n",
       "  <thead>\n",
       "    <tr style=\"text-align: right;\">\n",
       "      <th>knowledgebase_name</th>\n",
       "      <th>EcoCyc</th>\n",
       "      <th>EcoGene</th>\n",
       "      <th>RefSeq</th>\n",
       "      <th>UniProt</th>\n",
       "      <th>iJL1678b</th>\n",
       "      <th>Y-ome</th>\n",
       "    </tr>\n",
       "    <tr>\n",
       "      <th>locus_id</th>\n",
       "      <th></th>\n",
       "      <th></th>\n",
       "      <th></th>\n",
       "      <th></th>\n",
       "      <th></th>\n",
       "      <th></th>\n",
       "    </tr>\n",
       "  </thead>\n",
       "  <tbody>\n",
       "    <tr>\n",
       "      <th>b0162</th>\n",
       "      <td>tbd</td>\n",
       "      <td>tbd</td>\n",
       "      <td>tbd</td>\n",
       "      <td>tbd</td>\n",
       "      <td>None</td>\n",
       "      <td>tbd</td>\n",
       "    </tr>\n",
       "  </tbody>\n",
       "</table>\n",
       "</div>"
      ],
      "text/plain": [
       "knowledgebase_name EcoCyc EcoGene RefSeq UniProt iJL1678b Y-ome\n",
       "locus_id                                                       \n",
       "b0162               tbd    tbd     tbd    tbd     None     tbd "
      ]
     },
     "execution_count": 72,
     "metadata": {},
     "output_type": "execute_result"
    }
   ],
   "source": [
    "kbases_unstacked[kbases_unstacked.index == tbd_locus_tag]"
   ]
  },
  {
   "cell_type": "code",
   "execution_count": 73,
   "metadata": {},
   "outputs": [
    {
     "name": "stdout",
     "output_type": "stream",
     "text": [
      "locus_id        b0162\n",
      "primary_name    cdaR \n",
      "Name: 0, dtype: object\n"
     ]
    },
    {
     "data": {
      "text/html": [
       "<style  type=\"text/css\" >\n",
       "    #T_d37b089c_e231_11e7_aff6_a60024489901row0_col0 {\n",
       "            text-align:  left;\n",
       "        }    #T_d37b089c_e231_11e7_aff6_a60024489901row1_col0 {\n",
       "            text-align:  left;\n",
       "        }    #T_d37b089c_e231_11e7_aff6_a60024489901row2_col0 {\n",
       "            text-align:  left;\n",
       "        }    #T_d37b089c_e231_11e7_aff6_a60024489901row3_col0 {\n",
       "            text-align:  left;\n",
       "        }    #T_d37b089c_e231_11e7_aff6_a60024489901row4_col0 {\n",
       "            text-align:  left;\n",
       "        }    #T_d37b089c_e231_11e7_aff6_a60024489901row5_col0 {\n",
       "            text-align:  left;\n",
       "        }    #T_d37b089c_e231_11e7_aff6_a60024489901row6_col0 {\n",
       "            text-align:  left;\n",
       "        }    #T_d37b089c_e231_11e7_aff6_a60024489901row7_col0 {\n",
       "            text-align:  left;\n",
       "        }    #T_d37b089c_e231_11e7_aff6_a60024489901row8_col0 {\n",
       "            text-align:  left;\n",
       "        }    #T_d37b089c_e231_11e7_aff6_a60024489901row9_col0 {\n",
       "            text-align:  left;\n",
       "        }    #T_d37b089c_e231_11e7_aff6_a60024489901row10_col0 {\n",
       "            text-align:  left;\n",
       "        }    #T_d37b089c_e231_11e7_aff6_a60024489901row11_col0 {\n",
       "            text-align:  left;\n",
       "        }    #T_d37b089c_e231_11e7_aff6_a60024489901row12_col0 {\n",
       "            text-align:  left;\n",
       "        }    #T_d37b089c_e231_11e7_aff6_a60024489901row13_col0 {\n",
       "            text-align:  left;\n",
       "        }    #T_d37b089c_e231_11e7_aff6_a60024489901row14_col0 {\n",
       "            text-align:  left;\n",
       "        }    #T_d37b089c_e231_11e7_aff6_a60024489901row15_col0 {\n",
       "            text-align:  left;\n",
       "        }    #T_d37b089c_e231_11e7_aff6_a60024489901row16_col0 {\n",
       "            text-align:  left;\n",
       "        }    #T_d37b089c_e231_11e7_aff6_a60024489901row17_col0 {\n",
       "            text-align:  left;\n",
       "        }    #T_d37b089c_e231_11e7_aff6_a60024489901row18_col0 {\n",
       "            text-align:  left;\n",
       "        }    #T_d37b089c_e231_11e7_aff6_a60024489901row19_col0 {\n",
       "            text-align:  left;\n",
       "        }</style>  \n",
       "<table id=\"T_d37b089c_e231_11e7_aff6_a60024489901\" > \n",
       "<thead>    <tr> \n",
       "        <th class=\"blank\" ></th> \n",
       "        <th class=\"blank level0\" ></th> \n",
       "        <th class=\"col_heading level0 col0\" >feature</th> \n",
       "    </tr>    <tr> \n",
       "        <th class=\"index_name level0\" >knowledgebase_name</th> \n",
       "        <th class=\"index_name level1\" >feature_type</th> \n",
       "        <th class=\"blank\" ></th> \n",
       "    </tr></thead> \n",
       "<tbody>    <tr> \n",
       "        <th id=\"T_d37b089c_e231_11e7_aff6_a60024489901level0_row0\" class=\"row_heading level0 row0\" rowspan=7>EcoCyc (tbd)</th> \n",
       "        <th id=\"T_d37b089c_e231_11e7_aff6_a60024489901level1_row0\" class=\"row_heading level1 row0\" >description</th> \n",
       "        <td id=\"T_d37b089c_e231_11e7_aff6_a60024489901row0_col0\" class=\"data row0 col0\" >DNA-binding transcriptional activator CdaR</td> \n",
       "    </tr>    <tr> \n",
       "        <th id=\"T_d37b089c_e231_11e7_aff6_a60024489901level1_row1\" class=\"row_heading level1 row1\" >summary_html</th> \n",
       "        <td id=\"T_d37b089c_e231_11e7_aff6_a60024489901row1_col0\" class=\"data row1 col0\" >SummaryThe \"Carbohydrate diacid regulator,\" CdaR, or \"sugar diacid regulator,\" SdaR, regulates genes involved in the uptake and metabolism of galactarate and glucarate, and it is also  autoregulated [Monterrubio00]. SdaR responds to d-galactarate and d-glucarate, and even better to d-glycerate to activate the genes it regulates [Monterrubio00]. In addition, it was found that 2-O-α-mannosyl-d-glycerate (MG) can induce the SdaR regulon [Sampaio04]. MG has been recognized as a protective osmolyte in hyperthermophylic prokaryotes and as a carbon source for Escherichia coli [Sampaio04].This protein has a helix-turn-helix motif for DNA binding in the C-terminal domain [Monterrubio00]. The exact position and sequence that SdaR binds to in DNA have not been yet determined.</td> \n",
       "    </tr>    <tr> \n",
       "        <th id=\"T_d37b089c_e231_11e7_aff6_a60024489901level1_row2\" class=\"row_heading level1 row2\" >product_type</th> \n",
       "        <td id=\"T_d37b089c_e231_11e7_aff6_a60024489901row2_col0\" class=\"data row2 col0\" >polypeptide</td> \n",
       "    </tr>    <tr> \n",
       "        <th id=\"T_d37b089c_e231_11e7_aff6_a60024489901level1_row3\" class=\"row_heading level1 row3\" >is_pseudogene</th> \n",
       "        <td id=\"T_d37b089c_e231_11e7_aff6_a60024489901row3_col0\" class=\"data row3 col0\" >f</td> \n",
       "    </tr>    <tr> \n",
       "        <th id=\"T_d37b089c_e231_11e7_aff6_a60024489901level1_row4\" class=\"row_heading level1 row4\" >is_phantom_gene</th> \n",
       "        <td id=\"T_d37b089c_e231_11e7_aff6_a60024489901row4_col0\" class=\"data row4 col0\" >f</td> \n",
       "    </tr>    <tr> \n",
       "        <th id=\"T_d37b089c_e231_11e7_aff6_a60024489901level1_row5\" class=\"row_heading level1 row5\" >evidence_html</th> \n",
       "        <td id=\"T_d37b089c_e231_11e7_aff6_a60024489901row5_col0\" class=\"data row5 col0\" >\n",
       "\n",
       "\n",
       "\n",
       "\n",
       "Gene expression analysis [Monterrubio00]Inferred by functional complementation [Monterrubio00]\n",
       "\n",
       "</td> \n",
       "    </tr>    <tr> \n",
       "        <th id=\"T_d37b089c_e231_11e7_aff6_a60024489901level1_row6\" class=\"row_heading level1 row6\" >component_html</th> \n",
       "        <td id=\"T_d37b089c_e231_11e7_aff6_a60024489901row6_col0\" class=\"data row6 col0\" ></td> \n",
       "    </tr>    <tr> \n",
       "        <th id=\"T_d37b089c_e231_11e7_aff6_a60024489901level0_row7\" class=\"row_heading level0 row7\" rowspan=5>EcoGene (tbd)</th> \n",
       "        <th id=\"T_d37b089c_e231_11e7_aff6_a60024489901level1_row7\" class=\"row_heading level1 row7\" >protein</th> \n",
       "        <td id=\"T_d37b089c_e231_11e7_aff6_a60024489901row7_col0\" class=\"data row7 col0\" >carbohydrate diacid regulon transcriptional regulator; autoregulator</td> \n",
       "    </tr>    <tr> \n",
       "        <th id=\"T_d37b089c_e231_11e7_aff6_a60024489901level1_row8\" class=\"row_heading level1 row8\" >function</th> \n",
       "        <td id=\"T_d37b089c_e231_11e7_aff6_a60024489901row8_col0\" class=\"data row8 col0\" >Regulator; Not classified</td> \n",
       "    </tr>    <tr> \n",
       "        <th id=\"T_d37b089c_e231_11e7_aff6_a60024489901level1_row9\" class=\"row_heading level1 row9\" >description</th> \n",
       "        <td id=\"T_d37b089c_e231_11e7_aff6_a60024489901row9_col0\" class=\"data row9 col0\" >Carbohydrate diacid regulon transcriptional regulator; autoregulator</td> \n",
       "    </tr>    <tr> \n",
       "        <th id=\"T_d37b089c_e231_11e7_aff6_a60024489901level1_row10\" class=\"row_heading level1 row10\" >comments</th> \n",
       "        <td id=\"T_d37b089c_e231_11e7_aff6_a60024489901row10_col0\" class=\"data row10 col0\" >Null</td> \n",
       "    </tr>    <tr> \n",
       "        <th id=\"T_d37b089c_e231_11e7_aff6_a60024489901level1_row11\" class=\"row_heading level1 row11\" >is_pseudogene</th> \n",
       "        <td id=\"T_d37b089c_e231_11e7_aff6_a60024489901row11_col0\" class=\"data row11 col0\" >f</td> \n",
       "    </tr>    <tr> \n",
       "        <th id=\"T_d37b089c_e231_11e7_aff6_a60024489901level0_row12\" class=\"row_heading level0 row12\" rowspan=5>UniProt (tbd)</th> \n",
       "        <th id=\"T_d37b089c_e231_11e7_aff6_a60024489901level1_row12\" class=\"row_heading level1 row12\" >upid</th> \n",
       "        <td id=\"T_d37b089c_e231_11e7_aff6_a60024489901row12_col0\" class=\"data row12 col0\" >P37047</td> \n",
       "    </tr>    <tr> \n",
       "        <th id=\"T_d37b089c_e231_11e7_aff6_a60024489901level1_row13\" class=\"row_heading level1 row13\" >protein</th> \n",
       "        <td id=\"T_d37b089c_e231_11e7_aff6_a60024489901row13_col0\" class=\"data row13 col0\" >Carbohydrate diacid regulator (Sugar diacid regulator)</td> \n",
       "    </tr>    <tr> \n",
       "        <th id=\"T_d37b089c_e231_11e7_aff6_a60024489901level1_row14\" class=\"row_heading level1 row14\" >function</th> \n",
       "        <td id=\"T_d37b089c_e231_11e7_aff6_a60024489901row14_col0\" class=\"data row14 col0\" >FUNCTION: Seems to regulate the expression of the operons for the enzymes involved in D-galactarate, D-glucarate and D-glycerate utilization.</td> \n",
       "    </tr>    <tr> \n",
       "        <th id=\"T_d37b089c_e231_11e7_aff6_a60024489901level1_row15\" class=\"row_heading level1 row15\" >features</th> \n",
       "        <td id=\"T_d37b089c_e231_11e7_aff6_a60024489901row15_col0\" class=\"data row15 col0\" >Chain (1); Natural variant (1)</td> \n",
       "    </tr>    <tr> \n",
       "        <th id=\"T_d37b089c_e231_11e7_aff6_a60024489901level1_row16\" class=\"row_heading level1 row16\" >annotation_score</th> \n",
       "        <td id=\"T_d37b089c_e231_11e7_aff6_a60024489901row16_col0\" class=\"data row16 col0\" >3</td> \n",
       "    </tr>    <tr> \n",
       "        <th id=\"T_d37b089c_e231_11e7_aff6_a60024489901level0_row17\" class=\"row_heading level0 row17\" rowspan=3>RefSeq (tbd)</th> \n",
       "        <th id=\"T_d37b089c_e231_11e7_aff6_a60024489901level1_row17\" class=\"row_heading level1 row17\" >ec_numbers</th> \n",
       "        <td id=\"T_d37b089c_e231_11e7_aff6_a60024489901row17_col0\" class=\"data row17 col0\" >{}</td> \n",
       "    </tr>    <tr> \n",
       "        <th id=\"T_d37b089c_e231_11e7_aff6_a60024489901level1_row18\" class=\"row_heading level1 row18\" >product</th> \n",
       "        <td id=\"T_d37b089c_e231_11e7_aff6_a60024489901row18_col0\" class=\"data row18 col0\" >carbohydrate diacid regulon transcriptional regulator; autoregulator</td> \n",
       "    </tr>    <tr> \n",
       "        <th id=\"T_d37b089c_e231_11e7_aff6_a60024489901level1_row19\" class=\"row_heading level1 row19\" >function</th> \n",
       "        <td id=\"T_d37b089c_e231_11e7_aff6_a60024489901row19_col0\" class=\"data row19 col0\" >regulator; Not classified</td> \n",
       "    </tr></tbody> \n",
       "</table> "
      ],
      "text/plain": [
       "<IPython.core.display.HTML object>"
      ]
     },
     "execution_count": 73,
     "metadata": {},
     "output_type": "execute_result"
    }
   ],
   "source": [
    "report(tbd_locus_tag)"
   ]
  },
  {
   "cell_type": "markdown",
   "metadata": {
    "collapsed": true
   },
   "source": [
    "# Genes where Y-ome disagrees with EcoCyc"
   ]
  },
  {
   "cell_type": "markdown",
   "metadata": {},
   "source": [
    "Result: After spot-checking a number of cases where EcoCyc is not in agreement with the final Y-ome:\n",
    "\n",
    "- pseudogenes called by EcoGene are just listed as poorly characterized genes in EcoCyc (OK)\n",
    "- UniProt gives annotation scores to help clarify annotation for a number of genes. These are present and annotated in EcoCyc, but the annotation level cannot be determined automatically (OK)"
   ]
  },
  {
   "cell_type": "code",
   "execution_count": 74,
   "metadata": {},
   "outputs": [],
   "source": [
    "ecocyc_diffs = kbases_unstacked[(kbases_unstacked['EcoCyc'] == 'tbd') \n",
    "                              & (kbases_unstacked['EcoCyc'] != kbases_unstacked['Y-ome'])\n",
    "                              & (kbases_unstacked['Y-ome']  != 'tbd')]"
   ]
  },
  {
   "cell_type": "code",
   "execution_count": 75,
   "metadata": {},
   "outputs": [
    {
     "name": "stdout",
     "output_type": "stream",
     "text": [
      "612 genes; next locus: b1219\n"
     ]
    }
   ],
   "source": [
    "ecocyc_diffs_locus_tag = ecocyc_diffs.index[158]\n",
    "print(f'{len(ecocyc_diffs)} genes; next locus: {ecocyc_diffs_locus_tag}')"
   ]
  },
  {
   "cell_type": "code",
   "execution_count": 29,
   "metadata": {},
   "outputs": [
    {
     "data": {
      "text/html": [
       "<div>\n",
       "<style>\n",
       "    .dataframe thead tr:only-child th {\n",
       "        text-align: right;\n",
       "    }\n",
       "\n",
       "    .dataframe thead th {\n",
       "        text-align: left;\n",
       "    }\n",
       "\n",
       "    .dataframe tbody tr th {\n",
       "        vertical-align: top;\n",
       "    }\n",
       "</style>\n",
       "<table border=\"1\" class=\"dataframe\">\n",
       "  <thead>\n",
       "    <tr style=\"text-align: right;\">\n",
       "      <th>knowledgebase_name</th>\n",
       "      <th>EcoCyc</th>\n",
       "      <th>EcoGene</th>\n",
       "      <th>RefSeq</th>\n",
       "      <th>UniProt</th>\n",
       "      <th>iJL1678b</th>\n",
       "      <th>Y-ome</th>\n",
       "    </tr>\n",
       "    <tr>\n",
       "      <th>locus_id</th>\n",
       "      <th></th>\n",
       "      <th></th>\n",
       "      <th></th>\n",
       "      <th></th>\n",
       "      <th></th>\n",
       "      <th></th>\n",
       "    </tr>\n",
       "  </thead>\n",
       "  <tbody>\n",
       "    <tr>\n",
       "      <th>b1226</th>\n",
       "      <td>tbd</td>\n",
       "      <td>tbd</td>\n",
       "      <td>high</td>\n",
       "      <td>high</td>\n",
       "      <td>high</td>\n",
       "      <td>high</td>\n",
       "    </tr>\n",
       "  </tbody>\n",
       "</table>\n",
       "</div>"
      ],
      "text/plain": [
       "knowledgebase_name EcoCyc EcoGene RefSeq UniProt iJL1678b Y-ome\n",
       "locus_id                                                       \n",
       "b1226               tbd    tbd     high   high    high     high"
      ]
     },
     "execution_count": 29,
     "metadata": {},
     "output_type": "execute_result"
    }
   ],
   "source": [
    "ecocyc_diffs[ecocyc_diffs.index == ecocyc_diffs_locus_tag]"
   ]
  },
  {
   "cell_type": "code",
   "execution_count": 30,
   "metadata": {},
   "outputs": [
    {
     "name": "stdout",
     "output_type": "stream",
     "text": [
      "locus_id        b1226\n",
      "primary_name    narJ \n",
      "Name: 0, dtype: object\n"
     ]
    },
    {
     "data": {
      "text/html": [
       "<style  type=\"text/css\" >\n",
       "    #T_cb394aba_e22f_11e7_8ad4_a60024489901row0_col0 {\n",
       "            text-align:  left;\n",
       "        }    #T_cb394aba_e22f_11e7_8ad4_a60024489901row1_col0 {\n",
       "            text-align:  left;\n",
       "        }    #T_cb394aba_e22f_11e7_8ad4_a60024489901row2_col0 {\n",
       "            text-align:  left;\n",
       "        }    #T_cb394aba_e22f_11e7_8ad4_a60024489901row3_col0 {\n",
       "            text-align:  left;\n",
       "        }    #T_cb394aba_e22f_11e7_8ad4_a60024489901row4_col0 {\n",
       "            text-align:  left;\n",
       "        }    #T_cb394aba_e22f_11e7_8ad4_a60024489901row5_col0 {\n",
       "            text-align:  left;\n",
       "        }    #T_cb394aba_e22f_11e7_8ad4_a60024489901row6_col0 {\n",
       "            text-align:  left;\n",
       "        }    #T_cb394aba_e22f_11e7_8ad4_a60024489901row7_col0 {\n",
       "            text-align:  left;\n",
       "        }    #T_cb394aba_e22f_11e7_8ad4_a60024489901row8_col0 {\n",
       "            text-align:  left;\n",
       "        }    #T_cb394aba_e22f_11e7_8ad4_a60024489901row9_col0 {\n",
       "            text-align:  left;\n",
       "        }    #T_cb394aba_e22f_11e7_8ad4_a60024489901row10_col0 {\n",
       "            text-align:  left;\n",
       "        }    #T_cb394aba_e22f_11e7_8ad4_a60024489901row11_col0 {\n",
       "            text-align:  left;\n",
       "        }    #T_cb394aba_e22f_11e7_8ad4_a60024489901row12_col0 {\n",
       "            text-align:  left;\n",
       "        }    #T_cb394aba_e22f_11e7_8ad4_a60024489901row13_col0 {\n",
       "            text-align:  left;\n",
       "        }    #T_cb394aba_e22f_11e7_8ad4_a60024489901row14_col0 {\n",
       "            text-align:  left;\n",
       "        }    #T_cb394aba_e22f_11e7_8ad4_a60024489901row15_col0 {\n",
       "            text-align:  left;\n",
       "        }    #T_cb394aba_e22f_11e7_8ad4_a60024489901row16_col0 {\n",
       "            text-align:  left;\n",
       "        }    #T_cb394aba_e22f_11e7_8ad4_a60024489901row17_col0 {\n",
       "            text-align:  left;\n",
       "        }    #T_cb394aba_e22f_11e7_8ad4_a60024489901row18_col0 {\n",
       "            text-align:  left;\n",
       "        }    #T_cb394aba_e22f_11e7_8ad4_a60024489901row19_col0 {\n",
       "            text-align:  left;\n",
       "        }</style>  \n",
       "<table id=\"T_cb394aba_e22f_11e7_8ad4_a60024489901\" > \n",
       "<thead>    <tr> \n",
       "        <th class=\"blank\" ></th> \n",
       "        <th class=\"blank level0\" ></th> \n",
       "        <th class=\"col_heading level0 col0\" >feature</th> \n",
       "    </tr>    <tr> \n",
       "        <th class=\"index_name level0\" >knowledgebase_name</th> \n",
       "        <th class=\"index_name level1\" >feature_type</th> \n",
       "        <th class=\"blank\" ></th> \n",
       "    </tr></thead> \n",
       "<tbody>    <tr> \n",
       "        <th id=\"T_cb394aba_e22f_11e7_8ad4_a60024489901level0_row0\" class=\"row_heading level0 row0\" rowspan=7>EcoCyc (tbd)</th> \n",
       "        <th id=\"T_cb394aba_e22f_11e7_8ad4_a60024489901level1_row0\" class=\"row_heading level1 row0\" >description</th> \n",
       "        <td id=\"T_cb394aba_e22f_11e7_8ad4_a60024489901row0_col0\" class=\"data row0 col0\" >nitrate reductase 1 molybdenum cofactor assembly chaperone</td> \n",
       "    </tr>    <tr> \n",
       "        <th id=\"T_cb394aba_e22f_11e7_8ad4_a60024489901level1_row1\" class=\"row_heading level1 row1\" >summary_html</th> \n",
       "        <td id=\"T_cb394aba_e22f_11e7_8ad4_a60024489901row1_col0\" class=\"data row1 col0\" >SummaryNarJ is part of the redox enzyme maturation protein (REMP) family of chaperones [Turner04b].  NarJ acts as a private chaperone during the incorporation of the molybdenum cofactor into NarG, the α subunit of nitrate reductase A [Palmer96, Liu97f, Blasco98, Vergnes04], coordinating the final assembly and cofactor acquisition of nitrate reductase A.NarJ, encoded by the third gene in the narGHJI operon, is not part of the final nitrate reductase A enzyme, but is essential for nitrate reductase activity [Sodergren88, Blasco92, Dubourdieu92].  NarJ interacts with the NarG subunit of the apoenzyme complex at two distinct sites.  One site is located at the N terminus of NarG and interferes with membrane anchoring of the complex [Vergnes06, Chan06, Zakian10], while the second site is involved in the insertion of the molybdenum cofactor, which precedes membrane anchoring [Vergnes06].  The interaction between NarJ and NarG induces a conformational change within NarJ [Zakian10].  In a narJ mutant, nitrate reductase A does not contain the MoCo cofactor [Blasco98], the FS0 iron-sulfur cluster of the NarG subunit, or the heme b cofactor [Lanciano07].Review: [Turner04b]  Additional Citations: \n",
       "[Li94c, \n",
       "Darwin96, \n",
       "Bonnefoy97]  </td> \n",
       "    </tr>    <tr> \n",
       "        <th id=\"T_cb394aba_e22f_11e7_8ad4_a60024489901level1_row2\" class=\"row_heading level1 row2\" >product_type</th> \n",
       "        <td id=\"T_cb394aba_e22f_11e7_8ad4_a60024489901row2_col0\" class=\"data row2 col0\" >polypeptide</td> \n",
       "    </tr>    <tr> \n",
       "        <th id=\"T_cb394aba_e22f_11e7_8ad4_a60024489901level1_row3\" class=\"row_heading level1 row3\" >is_pseudogene</th> \n",
       "        <td id=\"T_cb394aba_e22f_11e7_8ad4_a60024489901row3_col0\" class=\"data row3 col0\" >f</td> \n",
       "    </tr>    <tr> \n",
       "        <th id=\"T_cb394aba_e22f_11e7_8ad4_a60024489901level1_row4\" class=\"row_heading level1 row4\" >is_phantom_gene</th> \n",
       "        <td id=\"T_cb394aba_e22f_11e7_8ad4_a60024489901row4_col0\" class=\"data row4 col0\" >f</td> \n",
       "    </tr>    <tr> \n",
       "        <th id=\"T_cb394aba_e22f_11e7_8ad4_a60024489901level1_row5\" class=\"row_heading level1 row5\" >evidence_html</th> \n",
       "        <td id=\"T_cb394aba_e22f_11e7_8ad4_a60024489901row5_col0\" class=\"data row5 col0\" >\n",
       "\n",
       "\n",
       "\n",
       "\n",
       "Inferred from experiment [1]\n",
       "\n",
       "</td> \n",
       "    </tr>    <tr> \n",
       "        <th id=\"T_cb394aba_e22f_11e7_8ad4_a60024489901level1_row6\" class=\"row_heading level1 row6\" >component_html</th> \n",
       "        <td id=\"T_cb394aba_e22f_11e7_8ad4_a60024489901row6_col0\" class=\"data row6 col0\" ></td> \n",
       "    </tr>    <tr> \n",
       "        <th id=\"T_cb394aba_e22f_11e7_8ad4_a60024489901level0_row7\" class=\"row_heading level0 row7\" rowspan=5>EcoGene (tbd)</th> \n",
       "        <th id=\"T_cb394aba_e22f_11e7_8ad4_a60024489901level1_row7\" class=\"row_heading level1 row7\" >protein</th> \n",
       "        <td id=\"T_cb394aba_e22f_11e7_8ad4_a60024489901row7_col0\" class=\"data row7 col0\" >molybdenum-cofactor-assembly chaperone delta subunit of nitrate reductase 1</td> \n",
       "    </tr>    <tr> \n",
       "        <th id=\"T_cb394aba_e22f_11e7_8ad4_a60024489901level1_row8\" class=\"row_heading level1 row8\" >function</th> \n",
       "        <td id=\"T_cb394aba_e22f_11e7_8ad4_a60024489901row8_col0\" class=\"data row8 col0\" >Enzyme; Energy metabolism, carbon: Anaerobic respiration</td> \n",
       "    </tr>    <tr> \n",
       "        <th id=\"T_cb394aba_e22f_11e7_8ad4_a60024489901level1_row9\" class=\"row_heading level1 row9\" >description</th> \n",
       "        <td id=\"T_cb394aba_e22f_11e7_8ad4_a60024489901row9_col0\" class=\"data row9 col0\" >Redox enzyme maturation protein (REMP) for NarG; facilitates molybdenum insertion; binds NarG</td> \n",
       "    </tr>    <tr> \n",
       "        <th id=\"T_cb394aba_e22f_11e7_8ad4_a60024489901level1_row10\" class=\"row_heading level1 row10\" >comments</th> \n",
       "        <td id=\"T_cb394aba_e22f_11e7_8ad4_a60024489901row10_col0\" class=\"data row10 col0\" >NarJ has two NarG binding sites: one for Mo insertion and one to block membrane attachment via NarI until activation is complete. Induced by anaerobiosis plus nitrate. NarJ is essential for a Tat-dependent interaction between NarG and Mo proteins.</td> \n",
       "    </tr>    <tr> \n",
       "        <th id=\"T_cb394aba_e22f_11e7_8ad4_a60024489901level1_row11\" class=\"row_heading level1 row11\" >is_pseudogene</th> \n",
       "        <td id=\"T_cb394aba_e22f_11e7_8ad4_a60024489901row11_col0\" class=\"data row11 col0\" >f</td> \n",
       "    </tr>    <tr> \n",
       "        <th id=\"T_cb394aba_e22f_11e7_8ad4_a60024489901level0_row12\" class=\"row_heading level0 row12\" rowspan=5>UniProt (high)</th> \n",
       "        <th id=\"T_cb394aba_e22f_11e7_8ad4_a60024489901level1_row12\" class=\"row_heading level1 row12\" >upid</th> \n",
       "        <td id=\"T_cb394aba_e22f_11e7_8ad4_a60024489901row12_col0\" class=\"data row12 col0\" >P0AF26</td> \n",
       "    </tr>    <tr> \n",
       "        <th id=\"T_cb394aba_e22f_11e7_8ad4_a60024489901level1_row13\" class=\"row_heading level1 row13\" >protein</th> \n",
       "        <td id=\"T_cb394aba_e22f_11e7_8ad4_a60024489901row13_col0\" class=\"data row13 col0\" >Nitrate reductase molybdenum cofactor assembly chaperone NarJ (Redox enzyme maturation protein NarJ)</td> \n",
       "    </tr>    <tr> \n",
       "        <th id=\"T_cb394aba_e22f_11e7_8ad4_a60024489901level1_row14\" class=\"row_heading level1 row14\" >function</th> \n",
       "        <td id=\"T_cb394aba_e22f_11e7_8ad4_a60024489901row14_col0\" class=\"data row14 col0\" >FUNCTION: Chaperone required for proper molybdenum cofactor insertion and final assembly of the membrane-bound respiratory nitrate reductase 1. Required for the insertion of the molybdenum into the apo-NarG subunit, maybe by keeping NarG in an appropriate competent-open conformation for the molybdenum cofactor insertion to occur. NarJ maintains the apoNarGH complex in a soluble state. Upon insertion of the molybdenum cofactor, NarJ seems to dissociate from the activated soluble NarGH complex, before its association with the NarI subunit on the membrane. {ECO:0000269|PubMed:16286471, ECO:0000269|PubMed:1732220, ECO:0000269|PubMed:9305880, ECO:0000269|PubMed:9632249}.</td> \n",
       "    </tr>    <tr> \n",
       "        <th id=\"T_cb394aba_e22f_11e7_8ad4_a60024489901level1_row15\" class=\"row_heading level1 row15\" >features</th> \n",
       "        <td id=\"T_cb394aba_e22f_11e7_8ad4_a60024489901row15_col0\" class=\"data row15 col0\" >Chain (1)</td> \n",
       "    </tr>    <tr> \n",
       "        <th id=\"T_cb394aba_e22f_11e7_8ad4_a60024489901level1_row16\" class=\"row_heading level1 row16\" >annotation_score</th> \n",
       "        <td id=\"T_cb394aba_e22f_11e7_8ad4_a60024489901row16_col0\" class=\"data row16 col0\" >4</td> \n",
       "    </tr>    <tr> \n",
       "        <th id=\"T_cb394aba_e22f_11e7_8ad4_a60024489901level0_row17\" class=\"row_heading level0 row17\" rowspan=3>RefSeq (high)</th> \n",
       "        <th id=\"T_cb394aba_e22f_11e7_8ad4_a60024489901level1_row17\" class=\"row_heading level1 row17\" >ec_numbers</th> \n",
       "        <td id=\"T_cb394aba_e22f_11e7_8ad4_a60024489901row17_col0\" class=\"data row17 col0\" >{1.7.99.4}</td> \n",
       "    </tr>    <tr> \n",
       "        <th id=\"T_cb394aba_e22f_11e7_8ad4_a60024489901level1_row18\" class=\"row_heading level1 row18\" >product</th> \n",
       "        <td id=\"T_cb394aba_e22f_11e7_8ad4_a60024489901row18_col0\" class=\"data row18 col0\" >molybdenum-cofactor-assembly chaperone delta subunit of nitrate reductase 1</td> \n",
       "    </tr>    <tr> \n",
       "        <th id=\"T_cb394aba_e22f_11e7_8ad4_a60024489901level1_row19\" class=\"row_heading level1 row19\" >function</th> \n",
       "        <td id=\"T_cb394aba_e22f_11e7_8ad4_a60024489901row19_col0\" class=\"data row19 col0\" >enzyme; Energy metabolism, carbon: Anaerobic respiration</td> \n",
       "    </tr></tbody> \n",
       "</table> "
      ],
      "text/plain": [
       "<IPython.core.display.HTML object>"
      ]
     },
     "execution_count": 30,
     "metadata": {},
     "output_type": "execute_result"
    }
   ],
   "source": [
    "report(ecocyc_diffs_locus_tag)"
   ]
  },
  {
   "cell_type": "code",
   "execution_count": null,
   "metadata": {
    "collapsed": true
   },
   "outputs": [],
   "source": []
  },
  {
   "cell_type": "code",
   "execution_count": null,
   "metadata": {
    "collapsed": true
   },
   "outputs": [],
   "source": []
  }
 ],
 "metadata": {
  "kernelspec": {
   "display_name": "Python 3",
   "language": "python",
   "name": "python3"
  },
  "language_info": {
   "codemirror_mode": {
    "name": "ipython",
    "version": 3
   },
   "file_extension": ".py",
   "mimetype": "text/x-python",
   "name": "python",
   "nbconvert_exporter": "python",
   "pygments_lexer": "ipython3",
   "version": "3.6.3"
  }
 },
 "nbformat": 4,
 "nbformat_minor": 2
}
