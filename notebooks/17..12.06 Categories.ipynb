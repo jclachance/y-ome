{
 "cells": [
  {
   "cell_type": "code",
   "execution_count": 1,
   "metadata": {},
   "outputs": [],
   "source": [
    "import json\n",
    "import pandas as pd\n",
    "from yome import Session\n",
    "from yome.models import *\n",
    "from yome.util import to_df\n",
    "import re\n",
    "from sqlalchemy.orm import aliased\n",
    "import itertools as it\n",
    "import seaborn as sns\n",
    "from IPython.display import HTML"
   ]
  },
  {
   "cell_type": "code",
   "execution_count": 2,
   "metadata": {},
   "outputs": [],
   "source": [
    "pd.set_option('display.max_colwidth', -1)"
   ]
  },
  {
   "cell_type": "code",
   "execution_count": 3,
   "metadata": {},
   "outputs": [
    {
     "name": "stdout",
     "output_type": "stream",
     "text": [
      "Populating the interactive namespace from numpy and matplotlib\n"
     ]
    }
   ],
   "source": [
    "from mpl_recipes import mpl_setup\n",
    "%mpl_setup"
   ]
  },
  {
   "cell_type": "code",
   "execution_count": 4,
   "metadata": {},
   "outputs": [],
   "source": [
    "session = Session()"
   ]
  },
  {
   "cell_type": "markdown",
   "metadata": {},
   "source": [
    "# Psuedogenes "
   ]
  },
  {
   "cell_type": "code",
   "execution_count": 5,
   "metadata": {},
   "outputs": [],
   "source": [
    "# Genes maked pseudo in EcoGene\n",
    "ecogene_pseudo = (\n",
    "    session.query(Gene.locus_id,\n",
    "                  KnowledgebaseGene.primary_name,\n",
    "                  KnowledgebaseFeature.feature)\n",
    "    .join(KnowledgebaseGene)\n",
    "    .join(Knowledgebase)\n",
    "    .join(KnowledgebaseFeature)\n",
    "    .filter(Knowledgebase.name == 'EcoGene')\n",
    "    .filter(KnowledgebaseFeature.feature_type == 'is_pseudogene')\n",
    "    .filter(KnowledgebaseFeature.feature == 't')\n",
    ")"
   ]
  },
  {
   "cell_type": "code",
   "execution_count": 6,
   "metadata": {},
   "outputs": [
    {
     "data": {
      "text/plain": [
       "0"
      ]
     },
     "execution_count": 6,
     "metadata": {},
     "output_type": "execute_result"
    }
   ],
   "source": [
    "ecogene_pseudo.count()"
   ]
  },
  {
   "cell_type": "markdown",
   "metadata": {},
   "source": [
    "# Genes without b-number"
   ]
  },
  {
   "cell_type": "code",
   "execution_count": 46,
   "metadata": {
    "collapsed": true
   },
   "outputs": [],
   "source": [
    "# Genes b4309 pseudo in EcoGene\n",
    "no_b_number = to_df(\n",
    "    session.query(KnowledgebaseGene.primary_name,\n",
    "                  KnowledgebaseGene.annotation_quality,\n",
    "                  Knowledgebase.name.label('kb_name'))\n",
    "    .join(Knowledgebase)\n",
    "    .filter(KnowledgebaseGene.gene_id == None)\n",
    ")"
   ]
  },
  {
   "cell_type": "code",
   "execution_count": 47,
   "metadata": {},
   "outputs": [
    {
     "data": {
      "text/html": [
       "<div>\n",
       "<style>\n",
       "    .dataframe thead tr:only-child th {\n",
       "        text-align: right;\n",
       "    }\n",
       "\n",
       "    .dataframe thead th {\n",
       "        text-align: left;\n",
       "    }\n",
       "\n",
       "    .dataframe tbody tr th {\n",
       "        vertical-align: top;\n",
       "    }\n",
       "</style>\n",
       "<table border=\"1\" class=\"dataframe\">\n",
       "  <thead>\n",
       "    <tr style=\"text-align: right;\">\n",
       "      <th></th>\n",
       "      <th>primary_name</th>\n",
       "      <th>annotation_quality</th>\n",
       "    </tr>\n",
       "    <tr>\n",
       "      <th>kb_name</th>\n",
       "      <th></th>\n",
       "      <th></th>\n",
       "    </tr>\n",
       "  </thead>\n",
       "  <tbody>\n",
       "    <tr>\n",
       "      <th>EcoCyc</th>\n",
       "      <td>55</td>\n",
       "      <td>55</td>\n",
       "    </tr>\n",
       "  </tbody>\n",
       "</table>\n",
       "</div>"
      ],
      "text/plain": [
       "         primary_name  annotation_quality\n",
       "kb_name                                  \n",
       "EcoCyc             55                  55"
      ]
     },
     "execution_count": 47,
     "metadata": {},
     "output_type": "execute_result"
    }
   ],
   "source": [
    "no_b_number.groupby('kb_name').agg('count')"
   ]
  },
  {
   "cell_type": "markdown",
   "metadata": {},
   "source": [
    "# Find locus tags with multiple genes"
   ]
  },
  {
   "cell_type": "code",
   "execution_count": 41,
   "metadata": {
    "collapsed": true
   },
   "outputs": [],
   "source": [
    "KnowledgebaseGene2 = aliased(KnowledgebaseGene)"
   ]
  },
  {
   "cell_type": "code",
   "execution_count": 42,
   "metadata": {
    "collapsed": true
   },
   "outputs": [],
   "source": [
    "duplicates = to_df(\n",
    "    session.query(Gene.locus_id,\n",
    "                  KnowledgebaseGene.primary_name,\n",
    "                  KnowledgebaseGene2.primary_name.label('primary_name2'),\n",
    "                  Knowledgebase.name)\n",
    "    .join(KnowledgebaseGene, KnowledgebaseGene.gene_id == Gene.id)\n",
    "    .join(KnowledgebaseGene2, KnowledgebaseGene2.gene_id == Gene.id)\n",
    "    .join(Knowledgebase, KnowledgebaseGene.knowledgebase_id == Knowledgebase.id)\n",
    "    .filter(KnowledgebaseGene2.knowledgebase_id == Knowledgebase.id)\n",
    "    .filter(KnowledgebaseGene.id != KnowledgebaseGene2.id)\n",
    ")"
   ]
  },
  {
   "cell_type": "code",
   "execution_count": 43,
   "metadata": {},
   "outputs": [
    {
     "data": {
      "text/html": [
       "<div>\n",
       "<style>\n",
       "    .dataframe thead tr:only-child th {\n",
       "        text-align: right;\n",
       "    }\n",
       "\n",
       "    .dataframe thead th {\n",
       "        text-align: left;\n",
       "    }\n",
       "\n",
       "    .dataframe tbody tr th {\n",
       "        vertical-align: top;\n",
       "    }\n",
       "</style>\n",
       "<table border=\"1\" class=\"dataframe\">\n",
       "  <thead>\n",
       "    <tr style=\"text-align: right;\">\n",
       "      <th></th>\n",
       "      <th>locus_id</th>\n",
       "      <th>primary_name</th>\n",
       "      <th>primary_name2</th>\n",
       "      <th>name</th>\n",
       "    </tr>\n",
       "  </thead>\n",
       "  <tbody>\n",
       "    <tr>\n",
       "      <th>0</th>\n",
       "      <td>b3504</td>\n",
       "      <td>yhiS_2</td>\n",
       "      <td>yhiS_1</td>\n",
       "      <td>EcoCyc</td>\n",
       "    </tr>\n",
       "    <tr>\n",
       "      <th>1</th>\n",
       "      <td>b0240</td>\n",
       "      <td>crl_1</td>\n",
       "      <td>crl_2</td>\n",
       "      <td>EcoCyc</td>\n",
       "    </tr>\n",
       "    <tr>\n",
       "      <th>2</th>\n",
       "      <td>b0240</td>\n",
       "      <td>crl_2</td>\n",
       "      <td>crl_1</td>\n",
       "      <td>EcoCyc</td>\n",
       "    </tr>\n",
       "    <tr>\n",
       "      <th>3</th>\n",
       "      <td>b3504</td>\n",
       "      <td>yhiS_1</td>\n",
       "      <td>yhiS_2</td>\n",
       "      <td>EcoCyc</td>\n",
       "    </tr>\n",
       "  </tbody>\n",
       "</table>\n",
       "</div>"
      ],
      "text/plain": [
       "  locus_id primary_name primary_name2    name\n",
       "0    b3504       yhiS_2        yhiS_1  EcoCyc\n",
       "1    b0240        crl_1         crl_2  EcoCyc\n",
       "2    b0240        crl_2         crl_1  EcoCyc\n",
       "3    b3504       yhiS_1        yhiS_2  EcoCyc"
      ]
     },
     "execution_count": 43,
     "metadata": {},
     "output_type": "execute_result"
    }
   ],
   "source": [
    "duplicates"
   ]
  },
  {
   "cell_type": "markdown",
   "metadata": {},
   "source": [
    "# Kbase comparison plot\n",
    "NOTE: 55 EcoCyc genes without a locus tag and 4 EcoCyc genes with duplicated locud tags are ignored in this plot"
   ]
  },
  {
   "cell_type": "code",
   "execution_count": 5,
   "metadata": {},
   "outputs": [],
   "source": [
    "kbases = to_df(\n",
    "    session.query(Gene.locus_id,\n",
    "                  KnowledgebaseGene.primary_name,\n",
    "                  KnowledgebaseGene.annotation_quality,\n",
    "                  Knowledgebase.name.label('knowledgebase_name'))\n",
    "    .join(KnowledgebaseGene)\n",
    "    .join(Knowledgebase)\n",
    ")"
   ]
  },
  {
   "cell_type": "code",
   "execution_count": 6,
   "metadata": {},
   "outputs": [],
   "source": [
    "levels = {\n",
    "    'excluded': 0,\n",
    "    'tbd': 1,\n",
    "    'low': 2,\n",
    "    'high': 3,\n",
    "    None: 4\n",
    "}"
   ]
  },
  {
   "cell_type": "code",
   "execution_count": 12,
   "metadata": {},
   "outputs": [],
   "source": [
    "# remove duplicate genes\n",
    "d = kbases.set_index(['locus_id', 'knowledgebase_name'])\n",
    "d = d[~d.index.duplicated(keep='first')]\n",
    "d = d.drop('primary_name', axis=1).unstack()\n",
    "d.columns = d.columns.droplevel(0)"
   ]
  },
  {
   "cell_type": "code",
   "execution_count": 13,
   "metadata": {},
   "outputs": [],
   "source": [
    "def calculate_y_ome(row):\n",
    "    return 'high' if any(x == 'high' for x in row) else 'tbd'"
   ]
  },
  {
   "cell_type": "code",
   "execution_count": 22,
   "metadata": {},
   "outputs": [
    {
     "data": {
      "text/plain": [
       "high    2668\n",
       "tbd     1985\n",
       "Name: Y-ome, dtype: int64"
      ]
     },
     "execution_count": 22,
     "metadata": {},
     "output_type": "execute_result"
    }
   ],
   "source": [
    "# add Y-ome columns\n",
    "d['Y-ome'] = d.apply(calculate_y_ome, axis=1)\n",
    "d['Y-ome'].value_counts()"
   ]
  },
  {
   "cell_type": "code",
   "execution_count": 15,
   "metadata": {},
   "outputs": [
    {
     "data": {
      "text/html": [
       "<div>\n",
       "<style scoped>\n",
       "    .dataframe tbody tr th:only-of-type {\n",
       "        vertical-align: middle;\n",
       "    }\n",
       "\n",
       "    .dataframe tbody tr th {\n",
       "        vertical-align: top;\n",
       "    }\n",
       "\n",
       "    .dataframe thead th {\n",
       "        text-align: right;\n",
       "    }\n",
       "</style>\n",
       "<table border=\"1\" class=\"dataframe\">\n",
       "  <thead>\n",
       "    <tr style=\"text-align: right;\">\n",
       "      <th>knowledgebase_name</th>\n",
       "      <th>EcoCyc</th>\n",
       "      <th>EcoGene</th>\n",
       "      <th>RefSeq</th>\n",
       "      <th>UniProt</th>\n",
       "      <th>iJL1678b</th>\n",
       "      <th>Y-ome</th>\n",
       "    </tr>\n",
       "    <tr>\n",
       "      <th>locus_id</th>\n",
       "      <th></th>\n",
       "      <th></th>\n",
       "      <th></th>\n",
       "      <th></th>\n",
       "      <th></th>\n",
       "      <th></th>\n",
       "    </tr>\n",
       "  </thead>\n",
       "  <tbody>\n",
       "    <tr>\n",
       "      <th>b0240</th>\n",
       "      <td>0</td>\n",
       "      <td>0</td>\n",
       "      <td>1</td>\n",
       "      <td>1</td>\n",
       "      <td>4</td>\n",
       "      <td>1</td>\n",
       "    </tr>\n",
       "    <tr>\n",
       "      <th>b0229</th>\n",
       "      <td>0</td>\n",
       "      <td>0</td>\n",
       "      <td>1</td>\n",
       "      <td>2</td>\n",
       "      <td>4</td>\n",
       "      <td>1</td>\n",
       "    </tr>\n",
       "    <tr>\n",
       "      <th>b0230</th>\n",
       "      <td>0</td>\n",
       "      <td>0</td>\n",
       "      <td>1</td>\n",
       "      <td>2</td>\n",
       "      <td>4</td>\n",
       "      <td>1</td>\n",
       "    </tr>\n",
       "    <tr>\n",
       "      <th>b0235</th>\n",
       "      <td>0</td>\n",
       "      <td>0</td>\n",
       "      <td>1</td>\n",
       "      <td>2</td>\n",
       "      <td>4</td>\n",
       "      <td>1</td>\n",
       "    </tr>\n",
       "    <tr>\n",
       "      <th>b0236</th>\n",
       "      <td>0</td>\n",
       "      <td>0</td>\n",
       "      <td>1</td>\n",
       "      <td>2</td>\n",
       "      <td>4</td>\n",
       "      <td>1</td>\n",
       "    </tr>\n",
       "  </tbody>\n",
       "</table>\n",
       "</div>"
      ],
      "text/plain": [
       "knowledgebase_name  EcoCyc  EcoGene  RefSeq  UniProt  iJL1678b  Y-ome\n",
       "locus_id                                                             \n",
       "b0240               0       0        1       1        4         1    \n",
       "b0229               0       0        1       2        4         1    \n",
       "b0230               0       0        1       2        4         1    \n",
       "b0235               0       0        1       2        4         1    \n",
       "b0236               0       0        1       2        4         1    "
      ]
     },
     "execution_count": 15,
     "metadata": {},
     "output_type": "execute_result"
    }
   ],
   "source": [
    "knowledgebase_names = list(d.columns)\n",
    "dfp = d.applymap(lambda x: levels[x]).sort_values(by=list(d.columns))\n",
    "dfp.head()"
   ]
  },
  {
   "cell_type": "code",
   "execution_count": 16,
   "metadata": {},
   "outputs": [],
   "source": [
    "# create bars based on consecutive colors\n",
    "last_value = {kbase: None for kbase in knowledgebase_names}\n",
    "bars = {kbase: [] for kbase in knowledgebase_names}\n",
    "for locus_tag, row in dfp.iterrows():\n",
    "    for kbase, value in row.iteritems():\n",
    "        if len(bars[kbase]) == 0 or bars[kbase][-1]['value'] != value:\n",
    "            bars[kbase].append({'value': value, 'height': 1})\n",
    "            last_value[kbase] = value\n",
    "        else:\n",
    "            bars[kbase][-1]['height'] += 1"
   ]
  },
  {
   "cell_type": "code",
   "execution_count": 17,
   "metadata": {},
   "outputs": [],
   "source": [
    "colors = {\n",
    "    0: [ 0.85453713,  0.22957019,  0.27623218,  1.        ],\n",
    "    1: [ 0.9170408 ,  0.56061475,  0.58722664,  1.        ],\n",
    "    2: [ 0.57653009,  0.72175186,  0.76633449,  1.        ],\n",
    "    3: [ 0.24715576,  0.49918708,  0.57655991,  1.        ], \n",
    "    4: [ 0.6,         0.6,         0.6,         1.        ],\n",
    "}"
   ]
  },
  {
   "cell_type": "code",
   "execution_count": 18,
   "metadata": {},
   "outputs": [
    {
     "data": {
      "text/plain": [
       "[array([ 0.85453713,  0.22957019,  0.27623218,  1.        ]),\n",
       " array([ 0.9170408 ,  0.56061475,  0.58722664,  1.        ]),\n",
       " array([ 0.98157711,  0.90242499,  0.90833474,  1.        ]),\n",
       " array([ 0.95,  0.95,  0.95,  1.  ]),\n",
       " array([ 0.91661578,  0.95155452,  0.9622806 ,  1.        ]),\n",
       " array([ 0.57653009,  0.72175186,  0.76633449,  1.        ]),\n",
       " array([ 0.24715576,  0.49918708,  0.57655991,  1.        ])]"
      ]
     },
     "execution_count": 18,
     "metadata": {},
     "output_type": "execute_result"
    },
    {
     "data": {
      "image/png": "[encoded data removed]",
      "text/plain": [
       "<matplotlib.figure.Figure at 0x115973e80>"
      ]
     },
     "metadata": {},
     "output_type": "display_data"
    }
   ],
   "source": [
    "pal = sns.diverging_palette(10, 220, sep=80, n=7)\n",
    "sns.palplot(pal)\n",
    "pal"
   ]
  },
  {
   "cell_type": "code",
   "execution_count": 19,
   "metadata": {},
   "outputs": [
    {
     "data": {
      "text/plain": [
       "[Text(0,0,'EcoCyc'),\n",
       " Text(0,0,'EcoGene'),\n",
       " Text(0,0,'RefSeq'),\n",
       " Text(0,0,'UniProt'),\n",
       " Text(0,0,'iJL1678b'),\n",
       " Text(0,0,'Y-ome')]"
      ]
     },
     "execution_count": 19,
     "metadata": {},
     "output_type": "execute_result"
    },
    {
     "name": "stderr",
     "output_type": "stream",
     "text": [
      "/usr/local/lib/python3.6/site-packages/matplotlib/font_manager.py:1316: UserWarning: findfont: Font family ['sans-serif'] not found. Falling back to DejaVu Sans\n",
      "  (prop.get_family(), self.defaultFamily[fontext]))\n"
     ]
    },
    {
     "data": {
      "image/png": "[encoded data removed]",
      "text/plain": [
       "<matplotlib.figure.Figure at 0x1159ac780>"
      ]
     },
     "metadata": {},
     "output_type": "display_data"
    }
   ],
   "source": [
    "fig, ax = plt.subplots(figsize=(11, 11))\n",
    "last_heights = [0 for _ in knowledgebase_names]\n",
    "for bar_list in it.zip_longest(*bars.values()):\n",
    "    left = [x + 0.1 for x in range(len(knowledgebase_names))]\n",
    "    height = [x['height'] if x is not None else 0 for x in bar_list]\n",
    "    bottom = last_heights\n",
    "    last_heights = [x + y for x, y in zip(height, last_heights)]\n",
    "    color = [colors[x['value']] if x is not None else 'k' for x in bar_list]\n",
    "    ax.bar(left, height, bottom=bottom, color=color, linewidth=0)\n",
    "ax.set_xlabel('Knowledgebase')\n",
    "ax.set_ylabel('Gene')\n",
    "ax.xaxis.set_ticks([x + 0.1 for x in range(len(dfp.columns))])\n",
    "ax.xaxis.set_ticklabels(dfp.columns)"
   ]
  },
  {
   "cell_type": "markdown",
   "metadata": {
    "collapsed": true
   },
   "source": [
    "# All information for a gene"
   ]
  },
  {
   "cell_type": "code",
   "execution_count": null,
   "metadata": {
    "collapsed": true
   },
   "outputs": [],
   "source": [
    "# Get TBD genes for EcoGene but high for Eco\n",
    "report = to_df(\n",
    "    session.query(Gene.locus_id,\n",
    "                  KnowledgebaseGene.primary_name,\n",
    "                  KnowledgebaseGene.annotation_quality,\n",
    "                  Knowledgebase.name.label('knowledgebase_name'),\n",
    "                  KnowledgebaseFeature.feature_type,\n",
    "                  KnowledgebaseFeature.feature)\n",
    "    .join(KnowledgebaseGene)\n",
    "    .join(Knowledgebase)\n",
    "    .join(KnowledgebaseFeature)\n",
    "    .filter(Gene.locus_id == 'b1779')\n",
    ")"
   ]
  },
  {
   "cell_type": "code",
   "execution_count": 69,
   "metadata": {
    "collapsed": true
   },
   "outputs": [],
   "source": [
    "# Genes maked pseudo in EcoGene\n",
    "report = to_df(\n",
    "    session.query(Gene.locus_id,\n",
    "                  KnowledgebaseGene.primary_name,\n",
    "                  KnowledgebaseGene.annotation_quality,\n",
    "                  Knowledgebase.name.label('knowledgebase_name'),\n",
    "                  KnowledgebaseFeature.feature_type,\n",
    "                  KnowledgebaseFeature.feature)\n",
    "    .join(KnowledgebaseGene)\n",
    "    .join(Knowledgebase)\n",
    "    .join(KnowledgebaseFeature)\n",
    "    .filter(Gene.locus_id == 'b1779')\n",
    ")"
   ]
  },
  {
   "cell_type": "code",
   "execution_count": 70,
   "metadata": {
    "scrolled": false
   },
   "outputs": [
    {
     "data": {
      "text/html": [
       "<style  type=\"text/css\" >\n",
       "    #T_db1db52c_db6a_11e7_9db8_f40f2426b15frow0_col0 {\n",
       "            text-align:  left;\n",
       "        }    #T_db1db52c_db6a_11e7_9db8_f40f2426b15frow1_col0 {\n",
       "            text-align:  left;\n",
       "        }    #T_db1db52c_db6a_11e7_9db8_f40f2426b15frow2_col0 {\n",
       "            text-align:  left;\n",
       "        }    #T_db1db52c_db6a_11e7_9db8_f40f2426b15frow3_col0 {\n",
       "            text-align:  left;\n",
       "        }    #T_db1db52c_db6a_11e7_9db8_f40f2426b15frow4_col0 {\n",
       "            text-align:  left;\n",
       "        }    #T_db1db52c_db6a_11e7_9db8_f40f2426b15frow5_col0 {\n",
       "            text-align:  left;\n",
       "        }    #T_db1db52c_db6a_11e7_9db8_f40f2426b15frow6_col0 {\n",
       "            text-align:  left;\n",
       "        }    #T_db1db52c_db6a_11e7_9db8_f40f2426b15frow7_col0 {\n",
       "            text-align:  left;\n",
       "        }    #T_db1db52c_db6a_11e7_9db8_f40f2426b15frow8_col0 {\n",
       "            text-align:  left;\n",
       "        }    #T_db1db52c_db6a_11e7_9db8_f40f2426b15frow9_col0 {\n",
       "            text-align:  left;\n",
       "        }    #T_db1db52c_db6a_11e7_9db8_f40f2426b15frow10_col0 {\n",
       "            text-align:  left;\n",
       "        }    #T_db1db52c_db6a_11e7_9db8_f40f2426b15frow11_col0 {\n",
       "            text-align:  left;\n",
       "        }    #T_db1db52c_db6a_11e7_9db8_f40f2426b15frow12_col0 {\n",
       "            text-align:  left;\n",
       "        }    #T_db1db52c_db6a_11e7_9db8_f40f2426b15frow13_col0 {\n",
       "            text-align:  left;\n",
       "        }    #T_db1db52c_db6a_11e7_9db8_f40f2426b15frow14_col0 {\n",
       "            text-align:  left;\n",
       "        }    #T_db1db52c_db6a_11e7_9db8_f40f2426b15frow15_col0 {\n",
       "            text-align:  left;\n",
       "        }    #T_db1db52c_db6a_11e7_9db8_f40f2426b15frow16_col0 {\n",
       "            text-align:  left;\n",
       "        }    #T_db1db52c_db6a_11e7_9db8_f40f2426b15frow17_col0 {\n",
       "            text-align:  left;\n",
       "        }    #T_db1db52c_db6a_11e7_9db8_f40f2426b15frow18_col0 {\n",
       "            text-align:  left;\n",
       "        }    #T_db1db52c_db6a_11e7_9db8_f40f2426b15frow19_col0 {\n",
       "            text-align:  left;\n",
       "        }</style>  \n",
       "<table id=\"T_db1db52c_db6a_11e7_9db8_f40f2426b15f\" > \n",
       "<thead>    <tr> \n",
       "        <th class=\"blank\" ></th> \n",
       "        <th class=\"blank level0\" ></th> \n",
       "        <th class=\"col_heading level0 col0\" >feature</th> \n",
       "    </tr>    <tr> \n",
       "        <th class=\"index_name level0\" >knowledgebase_name</th> \n",
       "        <th class=\"index_name level1\" >feature_type</th> \n",
       "        <th class=\"blank\" ></th> \n",
       "    </tr></thead> \n",
       "<tbody>    <tr> \n",
       "        <th id=\"T_db1db52c_db6a_11e7_9db8_f40f2426b15flevel0_row0\" class=\"row_heading level0 row0\" rowspan=8>EcoCyc (high)</th> \n",
       "        <th id=\"T_db1db52c_db6a_11e7_9db8_f40f2426b15flevel1_row0\" class=\"row_heading level1 row0\" >description</th> \n",
       "        <td id=\"T_db1db52c_db6a_11e7_9db8_f40f2426b15frow0_col0\" class=\"data row0 col0\" >glyceraldehyde-3-phosphate dehydrogenase</td> \n",
       "    </tr>    <tr> \n",
       "        <th id=\"T_db1db52c_db6a_11e7_9db8_f40f2426b15flevel1_row1\" class=\"row_heading level1 row1\" >summary_html</th> \n",
       "        <td id=\"T_db1db52c_db6a_11e7_9db8_f40f2426b15frow1_col0\" class=\"data row1 col0\" ><div class=\"summaryText\"><h3>Summary</h3>Glyceraldehyde 3-phosphate dehydrogenase A catalyzes the reversible oxidative phosphorylation of D-glyceraldehyde-3-phosphate to 1,3-bisphospho-D-glycerate in the presence of NAD<sup>+</sup> and phosphate during glycolysis and gluconeogenesis in <i>E. coli</i>. The enzyme is also found in many other organisms and its properties have been extensively studied (see [<a href=\"/ECOLI/reference.html?type=CITATION-REFERENCE&amp;object=%5bEnzymesVolXIII%5d\" class=\"CITATION-REFERENCE\" onmouseover=\"return overlib(' &lt;strong&gt;&quot;Oxidation-Reduction, Part C.&quot;&lt;/strong&gt; The Enzymes, Vol.XIII Academic Press, New York 1976;3rd Edition.', WIDTH, 500);\" onmouseout=\"return nd();\">ENZYMESVOLXIII76</a>]).<p class=\"ecocomment\"><i>E. coli</i> is unusual in having two glyceraldehyde-3-phosphate dehydrogenase (GAPDH) activities encoded by <i>gapA</i> and <a href=\"/gene?orgid=ECOLI&amp;id=EG10368\" class=\"GENE\" onmouseover=\"return overlib(' &lt;b&gt;Gene:&lt;/b&gt;  epd    EG10368    b2927    ECK2923&lt;br&gt; &lt;b&gt;Synonyms:&lt;/b&gt; gapB, gap2&lt;br&gt; &lt;b&gt;Location:&lt;/b&gt; 3,072,672 &lt;- 3,073,691   &lt;br&gt; &lt;b&gt;Product:&lt;/b&gt; D-erythrose-4-phosphate dehydrogenase', WIDTH, 500);\" onmouseout=\"return nd();\">epd</a> (<i>gapB</i>). However, the <i>gapA</i> encoded enzyme has a highly efficient phosphorylating glyceraldehyde-3-phosphate dehydrogenase activity and a low phosphorylating erythrose-4-phosphate dehydrogenase activity, whereas the <i>epd</i> encoded enzyme has an efficient non-phosphorylating erythrose-4-phosphate dehydrogenase activity and a very low phosphorylating glyceraldehyde-3-phosphate dehydrogenase activity [<a href=\"http://www.ncbi.nlm.nih.gov/pubmed/7751290\" class=\"CITATION-REFERENCE\" onmouseover=\"return overlib(' Zhao G, Pease AJ, Bharani N, Winkler ME (1995). &lt;strong&gt;&quot;Biochemical characterization of gapB-encoded erythrose 4-phosphate dehydrogenase of Escherichia coli K-12 and its possible role in pyridoxal 5\\'-phosphate biosynthesis.&quot;&lt;/strong&gt; J Bacteriol 1995;177(10);2804-12. PMID: 7751290', WIDTH, 500);\" onmouseout=\"return nd();\">Zhao95a</a>, <a href=\"http://www.ncbi.nlm.nih.gov/pubmed/9182530\" class=\"CITATION-REFERENCE\" onmouseover=\"return overlib(' Boschi-Muller S, Azza S, Pollastro D, Corbier C, Branlant G (1997). &lt;strong&gt;&quot;Comparative enzymatic properties of GapB-encoded erythrose-4-phosphate dehydrogenase of Escherichia coli and phosphorylating glyceraldehyde-3-phosphate dehydrogenase.&quot;&lt;/strong&gt; J Biol Chem 272(24);15106-12. PMID: 9182530', WIDTH, 500);\" onmouseout=\"return nd();\">BoschiMuller97</a>]. </p><p class=\"ecocomment\">The GapA protein has a sequence that is more similar to eukaryotic sequences than to the thermophilic bacterial enzymes, and to prokaryotic enzymes in general [<a href=\"http://www.ncbi.nlm.nih.gov/pubmed/2124629\" class=\"CITATION-REFERENCE\" onmouseover=\"return overlib(' Doolittle RF, Feng DF, Anderson KL, Alberro MR (1990). &lt;strong&gt;&quot;A naturally occurring horizontal gene transfer from a eukaryote to a prokaryote.&quot;&lt;/strong&gt; J Mol Evol 1990;31(5);383-8. PMID: 2124629', WIDTH, 500);\" onmouseout=\"return nd();\">Doolittle90</a>, <a href=\"http://www.ncbi.nlm.nih.gov/pubmed/2990926\" class=\"CITATION-REFERENCE\" onmouseover=\"return overlib(' Branlant G, Branlant C (1985). &lt;strong&gt;&quot;Nucleotide sequence of the Escherichia coli gap gene. Different evolutionary behavior of the NAD+-binding domain and of the catalytic domain of D-glyceraldehyde-3-phosphate dehydrogenase.&quot;&lt;/strong&gt; Eur J Biochem 1985;150(1);61-6. PMID: 2990926', WIDTH, 500);\" onmouseout=\"return nd();\">Branlant85</a>]. The <i>gapA</i> product is required for glycolysis, while the <i>epd</i> product is not [<a href=\"http://www.ncbi.nlm.nih.gov/pubmed/9260967\" class=\"CITATION-REFERENCE\" onmouseover=\"return overlib(' Seta FD, Boschi-Muller S, Vignais ML, Branlant G (1997). &lt;strong&gt;&quot;Characterization of Escherichia coli strains with gapA and gapB genes deleted.&quot;&lt;/strong&gt; J Bacteriol 1997;179(16);5218-21. PMID: 9260967', WIDTH, 500);\" onmouseout=\"return nd();\">Seta97</a>]. Both enzymes may be involved in production of pyridoxal 5'-phosphate (PLP) [<a href=\"http://www.ncbi.nlm.nih.gov/pubmed/9696782\" class=\"CITATION-REFERENCE\" onmouseover=\"return overlib(' Yang Y, Zhao G, Man TK, Winkler ME (1998). &lt;strong&gt;&quot;Involvement of the gapA- and epd (gapB)-encoded dehydrogenases in pyridoxal 5\\'-phosphate coenzyme biosynthesis in Escherichia coli K-12.&quot;&lt;/strong&gt; J Bacteriol 1998;180(16);4294-9. PMID: 9696782', WIDTH, 500);\" onmouseout=\"return nd();\">Yang98a</a>].</p><p class=\"ecocomment\">Early studies of <i>gapA</i> mutants from <i>E. coli</i> K-10 implicated its role in glycolysis and demonstrated some of its catalytic properties [<a href=\"http://www.ncbi.nlm.nih.gov/pubmed/1097392\" class=\"CITATION-REFERENCE\" onmouseover=\"return overlib(' Hillman JD, Fraenkel DG (1975). &lt;strong&gt;&quot;Glyceraldehyde 3-phosphate dehydrogenase mutants of Escherichia coli.&quot;&lt;/strong&gt; J Bacteriol 122(3);1175-9. PMID: 1097392', WIDTH, 500);\" onmouseout=\"return nd();\">Hillman75</a>, <a href=\"http://www.ncbi.nlm.nih.gov/pubmed/89843\" class=\"CITATION-REFERENCE\" onmouseover=\"return overlib(' Hillman JD (1979). &lt;strong&gt;&quot;Mutant analysis of glyceraldehyde 3-phosphate dehydrogenase in Escherichia coli.&quot;&lt;/strong&gt; Biochem J 1979;179(1);99-107. PMID: 89843', WIDTH, 500);\" onmouseout=\"return nd();\">Hillman79</a>]. A <i>gapA</i> mutant exhibits a growth defect and also exhibits increased aggregation and lysis phenotypes that are rescued by high-salt media [<a href=\"http://www.ncbi.nlm.nih.gov/pubmed/9260967\" class=\"CITATION-REFERENCE\" onmouseover=\"return overlib(' Seta FD, Boschi-Muller S, Vignais ML, Branlant G (1997). &lt;strong&gt;&quot;Characterization of Escherichia coli strains with gapA and gapB genes deleted.&quot;&lt;/strong&gt; J Bacteriol 1997;179(16);5218-21. PMID: 9260967', WIDTH, 500);\" onmouseout=\"return nd();\">Seta97</a>].</p><p class=\"ecocomment\">Regulation of <i>gapA</i> gene expression has been studied [<a href=\"http://www.ncbi.nlm.nih.gov/pubmed/8300536\" class=\"CITATION-REFERENCE\" onmouseover=\"return overlib(' Charpentier B, Branlant C (1994). &lt;strong&gt;&quot;The Escherichia coli gapA gene is transcribed by the vegetative RNA polymerase holoenzyme E sigma 70 and by the heat shock RNA polymerase E sigma 32.&quot;&lt;/strong&gt; J Bacteriol 1994;176(3);830-9. PMID: 8300536', WIDTH, 500);\" onmouseout=\"return nd();\">Charpentier94</a>, <a href=\"http://www.ncbi.nlm.nih.gov/pubmed/9851989\" class=\"CITATION-REFERENCE\" onmouseover=\"return overlib(' Charpentier B, Bardey V, Robas N, Branlant C (1998). &lt;strong&gt;&quot;The EIIGlc protein is involved in glucose-mediated activation of Escherichia coli gapA and gapB-pgk transcription.&quot;&lt;/strong&gt; J Bacteriol 1998;180(24);6476-83. PMID: 9851989', WIDTH, 500);\" onmouseout=\"return nd();\">Charpentier98</a>, <a href=\"http://www.ncbi.nlm.nih.gov/pubmed/12672900\" class=\"CITATION-REFERENCE\" onmouseover=\"return overlib(' Riehle MM, Bennett AF, Lenski RE, Long AD (2003). &lt;strong&gt;&quot;Evolutionary changes in heat-inducible gene expression in lines of Escherichia coli adapted to high temperature.&quot;&lt;/strong&gt; Physiol Genomics 14(1);47-58. PMID: 12672900', WIDTH, 500);\" onmouseout=\"return nd();\">Riehle03</a>, <a href=\"http://www.ncbi.nlm.nih.gov/pubmed/15250823\" class=\"CITATION-REFERENCE\" onmouseover=\"return overlib(' Thouvenot B, Charpentier B, Branlant C (2004). &lt;strong&gt;&quot;The strong efficiency of the Escherichia coli gapA P1 promoter depends on a complex combination of functional determinants.&quot;&lt;/strong&gt; Biochem J 383(Pt 2);371-82. PMID: 15250823', WIDTH, 500);\" onmouseout=\"return nd();\">Thouvenot04</a>].  The regulation of the <i>fkpA</i>, <i>gapA</i>, and <i>hslT</i> genes is affected by evolution under conditions of chronic heat stress [<a href=\"http://www.ncbi.nlm.nih.gov/pubmed/12672900\" class=\"CITATION-REFERENCE\" onmouseover=\"return overlib(' Riehle MM, Bennett AF, Lenski RE, Long AD (2003). &lt;strong&gt;&quot;Evolutionary changes in heat-inducible gene expression in lines of Escherichia coli adapted to high temperature.&quot;&lt;/strong&gt; Physiol Genomics 14(1);47-58. PMID: 12672900', WIDTH, 500);\" onmouseout=\"return nd();\">Riehle03</a>].</p><p class=\"ecocomment\">The <i>E.coli</i> sequence contains several amino acids that are conserved in all GAPDHs and are postulated to be involved NAD<sup>+</sup> binding, or the catalytic mechanism [<a href=\"http://www.ncbi.nlm.nih.gov/pubmed/2990926\" class=\"CITATION-REFERENCE\" onmouseover=\"return overlib(' Branlant G, Branlant C (1985). &lt;strong&gt;&quot;Nucleotide sequence of the Escherichia coli gap gene. Different evolutionary behavior of the NAD+-binding domain and of the catalytic domain of D-glyceraldehyde-3-phosphate dehydrogenase.&quot;&lt;/strong&gt; Eur J Biochem 1985;150(1);61-6. PMID: 2990926', WIDTH, 500);\" onmouseout=\"return nd();\">Branlant85</a>, <a href=\"http://www.ncbi.nlm.nih.gov/pubmed/2659073\" class=\"CITATION-REFERENCE\" onmouseover=\"return overlib(' Soukri A, Mougin A, Corbier C, Wonacott A, Branlant C, Branlant G (1989). &lt;strong&gt;&quot;Role of the histidine 176 residue in glyceraldehyde-3-phosphate dehydrogenase as probed by site-directed mutagenesis.&quot;&lt;/strong&gt; Biochemistry 28(6);2586-92. PMID: 2659073', WIDTH, 500);\" onmouseout=\"return nd();\">Soukri89</a>].</p><p class=\"ecocomment\">The crystal structure of the wild-type enzyme in the presence of NAD<sup>+</sup> has been determined at 1.80 Å resolution and was similar to those of other GAPDHs. The crystal structure of a N313T mutant was also determined at 2.17 Å resolution [<a href=\"http://www.ncbi.nlm.nih.gov/pubmed/8636984\" class=\"CITATION-REFERENCE\" onmouseover=\"return overlib(' Duee E, Olivier-Deyris L, Fanchon E, Corbier C, Branlant G, Dideberg O (1996). &lt;strong&gt;&quot;Comparison of the structures of wild-type and a N313T mutant of Escherichia coli glyceraldehyde 3-phosphate dehydrogenases: implication for NAD binding and cooperativity.&quot;&lt;/strong&gt; J Mol Biol 257(4);814-38. PMID: 8636984', WIDTH, 500);\" onmouseout=\"return nd();\">Duee96</a>]. Several other <i>E. coli</i> GAPDH crystal structures have been reported with and without bound NAD<sup>+</sup>, and in the hemiacetal intermediate state [<a href=\"http://www.ncbi.nlm.nih.gov/pubmed/10978154\" class=\"CITATION-REFERENCE\" onmouseover=\"return overlib(' Yun M, Park CG, Kim JY, Park HW (2000). &lt;strong&gt;&quot;Structural analysis of glyceraldehyde 3-phosphate dehydrogenase from Escherichia coli: direct evidence of substrate binding and cofactor-induced conformational changes.&quot;&lt;/strong&gt; Biochemistry 39(35);10702-10. PMID: 10978154', WIDTH, 500);\" onmouseout=\"return nd();\">Yun00</a>].</p><p class=\"ecocomment\">Molecular factors responsible for the NAD<sup>+</sup> cofactor stereospecificity have been studied using site-directed mutagenesis. The enzyme is a B-specific dehydrogenase that catalyzes transfer of the <i>pro</i>-S hydrogen and binds NAD(H) in the <i>syn</i> nicotinamide orientation [<a href=\"http://www.ncbi.nlm.nih.gov/pubmed/10190977\" class=\"CITATION-REFERENCE\" onmouseover=\"return overlib(' Eyschen J, Vitoux B, Marraud M, Cung MT, Branlant G (1999). &lt;strong&gt;&quot;Engineered glycolytic glyceraldehyde-3-phosphate dehydrogenase binds the anti conformation of NAD+ nicotinamide but does not experience A-specific hydride transfer.&quot;&lt;/strong&gt; Arch Biochem Biophys 364(2);219-27. PMID: 10190977', WIDTH, 500);\" onmouseout=\"return nd();\">Eyschen99</a>]. Refolding of denatured <i>E. coli</i> GAPDH in the presence of <a href=\"/gene?orgid=ECOLI&amp;id=EG11003-MONOMER\" class=\"ENZYME\" onmouseover=\"return overlib(' &lt;b&gt;Enzyme:&lt;/b&gt; trigger factor&lt;br&gt; &lt;b&gt;Synonyms:&lt;/b&gt; Tig, chaperone protein Tig&lt;br&gt; &lt;b&gt;Evidence:&lt;/b&gt; Assay of protein purified  to homogeneity [Hesterkamp96]', WIDTH, 500);\" onmouseout=\"return nd();\">trigger factor</a> has been studied [<a href=\"http://www.ncbi.nlm.nih.gov/pubmed/10892818\" class=\"CITATION-REFERENCE\" onmouseover=\"return overlib(' Huang GC, Li ZY, Zhou JM, Fischer G (2000). &lt;strong&gt;&quot;Assisted folding of D-glyceraldehyde-3-phosphate dehydrogenase by trigger factor.&quot;&lt;/strong&gt; Protein Sci 9(6);1254-61. PMID: 10892818', WIDTH, 500);\" onmouseout=\"return nd();\">Huang00</a>].</p><p class=\"ecocomment\">ADP-ribosylated GAPDH is a secreted virulence factor in some fungi and Gram-positive pathogens, as well as in pathogenic strains of <i>E. coli</i>. Non-pathogenic <i>E. coli</i> do not secrete GAPDH [<a href=\"http://www.ncbi.nlm.nih.gov/pubmed/17449317\" class=\"CITATION-REFERENCE\" onmouseover=\"return overlib(' Egea L, Aguilera L, Gimenez R, Sorolla MA, Aguilar J, Badia J, Baldoma L (2007). &lt;strong&gt;&quot;Role of secreted glyceraldehyde-3-phosphate dehydrogenase in the infection mechanism of enterohemorrhagic and enteropathogenic Escherichia coli: interaction of the extracellular enzyme with human plasminogen and fibrinogen.&quot;&lt;/strong&gt; Int J Biochem Cell Biol 39(6);1190-203. PMID: 17449317', WIDTH, 500);\" onmouseout=\"return nd();\">Egea07</a>, <a href=\"http://www.ncbi.nlm.nih.gov/pubmed/19784925\" class=\"CITATION-REFERENCE\" onmouseover=\"return overlib(' Aguilera L, Gimenez R, Badia J, Aguilar J, Baldoma L (2009). &lt;strong&gt;&quot;NAD+-dependent post-translational modification of Escherichia coli glyceraldehyde-3-phosphate dehydrogenase.&quot;&lt;/strong&gt; Int Microbiol 12(3);187-92. PMID: 19784925', WIDTH, 500);\" onmouseout=\"return nd();\">Aguilera09</a>]. Evidence suggests that <i>E. coli</i> GAPDH is also involved in DNA repair [<a href=\"http://www.ncbi.nlm.nih.gov/pubmed/23195894\" class=\"CITATION-REFERENCE\" onmouseover=\"return overlib(' Ferreira E, Gimenez R, Aguilera L, Guzman K, Aguilar J, Badia J, Baldoma L (2013). &lt;strong&gt;&quot;Protein interaction studies point to new functions for Escherichia coli glyceraldehyde-3-phosphate dehydrogenase.&quot;&lt;/strong&gt; Res Microbiol 164(2);145-54. PMID: 23195894', WIDTH, 500);\" onmouseout=\"return nd();\">Ferreira13</a>, <a href=\"http://www.ncbi.nlm.nih.gov/pubmed/25603270\" class=\"CITATION-REFERENCE\" onmouseover=\"return overlib(' Ferreira E, Gimenez R, Canas MA, Aguilera L, Aguilar J, Badia J, Baldoma L (2015). &lt;strong&gt;&quot;Glyceraldehyde-3-phosphate dehydrogenase is required for efficient repair of cytotoxic DNA lesions in Escherichia coli.&quot;&lt;/strong&gt; Int J Biochem Cell Biol 60;202-12. PMID: 25603270', WIDTH, 500);\" onmouseout=\"return nd();\">Ferreira15</a>].</p><p class=\"ecocomment\">A series of vectors inducibly expressing paired-terminus antisense RNAs was constructed to silence central carbon metabolism in host <i>E. coli</i> K-12 MG1655. A vector that silenced <i>gapA</i> at 93% efficacy caused severe growth inhibition [<a href=\"http://www.ncbi.nlm.nih.gov/pubmed/24212579\" class=\"CITATION-REFERENCE\" onmouseover=\"return overlib(' Nakashima N, Ohno S, Yoshikawa K, Shimizu H, Tamura T (2014). &lt;strong&gt;&quot;A vector library for silencing central carbon metabolism genes with antisense RNAs in Escherichia coli.&quot;&lt;/strong&gt; Appl Environ Microbiol 80(2);564-73. PMID: 24212579', WIDTH, 500);\" onmouseout=\"return nd();\">Nakashima14</a>]. Regulating the expression of an engineered <i>E. coli</i> <i>gapA</i> through changes in temperature has been demonstrated to control glycolysis [<a href=\"http://www.ncbi.nlm.nih.gov/pubmed/22528318\" class=\"CITATION-REFERENCE\" onmouseover=\"return overlib(' Cho HS, Seo SW, Kim YM, Jung GY, Park JM (2012). &lt;strong&gt;&quot;Engineering glyceraldehyde-3-phosphate dehydrogenase for switching control of glycolysis in Escherichia coli.&quot;&lt;/strong&gt; Biotechnol Bioeng 109(10);2612-9. PMID: 22528318', WIDTH, 500);\" onmouseout=\"return nd();\">Cho12</a>]. </p><p class=\"ecoparagraph\">  <strong>Additional Citations</strong>: \n",
       "[<a href=\"http://www.ncbi.nlm.nih.gov/pubmed/16818608\" class=\"CITATION-REFERENCE\" onmouseover=\"return overlib(' Nonaka G, Blankschien M, Herman C, Gross CA, Rhodius VA (2006). &lt;strong&gt;&quot;Regulon and promoter analysis of the E. coli heat-shock factor, sigma32, reveals a multifaceted cellular response to heat stress.&quot;&lt;/strong&gt; Genes Dev 20(13);1776-89. PMID: 16818608', WIDTH, 500);\" onmouseout=\"return nd();\">Nonaka06</a>] </p> </div></td> \n",
       "    </tr>    <tr> \n",
       "        <th id=\"T_db1db52c_db6a_11e7_9db8_f40f2426b15flevel1_row2\" class=\"row_heading level1 row2\" >product_type</th> \n",
       "        <td id=\"T_db1db52c_db6a_11e7_9db8_f40f2426b15frow2_col0\" class=\"data row2 col0\" >enzyme</td> \n",
       "    </tr>    <tr> \n",
       "        <th id=\"T_db1db52c_db6a_11e7_9db8_f40f2426b15flevel1_row3\" class=\"row_heading level1 row3\" >ec_number</th> \n",
       "        <td id=\"T_db1db52c_db6a_11e7_9db8_f40f2426b15frow3_col0\" class=\"data row3 col0\" >1.2.1.12</td> \n",
       "    </tr>    <tr> \n",
       "        <th id=\"T_db1db52c_db6a_11e7_9db8_f40f2426b15flevel1_row4\" class=\"row_heading level1 row4\" >reaction_equation</th> \n",
       "        <td id=\"T_db1db52c_db6a_11e7_9db8_f40f2426b15frow4_col0\" class=\"data row4 col0\" >D-glyceraldehyde 3-phosphate + NAD+ + phosphate ⇄ 3-phospho-D-glyceroyl-phosphate + NADH + H+</td> \n",
       "    </tr>    <tr> \n",
       "        <th id=\"T_db1db52c_db6a_11e7_9db8_f40f2426b15flevel1_row5\" class=\"row_heading level1 row5\" >is_pseudogene</th> \n",
       "        <td id=\"T_db1db52c_db6a_11e7_9db8_f40f2426b15frow5_col0\" class=\"data row5 col0\" >f</td> \n",
       "    </tr>    <tr> \n",
       "        <th id=\"T_db1db52c_db6a_11e7_9db8_f40f2426b15flevel1_row6\" class=\"row_heading level1 row6\" >is_phantom_gene</th> \n",
       "        <td id=\"T_db1db52c_db6a_11e7_9db8_f40f2426b15frow6_col0\" class=\"data row6 col0\" >f</td> \n",
       "    </tr>    <tr> \n",
       "        <th id=\"T_db1db52c_db6a_11e7_9db8_f40f2426b15flevel1_row7\" class=\"row_heading level1 row7\" >evidence_html</th> \n",
       "        <td id=\"T_db1db52c_db6a_11e7_9db8_f40f2426b15frow7_col0\" class=\"data row7 col0\" >{\"<td align=\\\"LEFT\\\" valign=\\\"TOP\\\">\n",
       "<a href=\\\"javascript:void(0);\\\" onclick=\\\"return overlib(SRC,'/ECOLI/reference.html?type=EVIDENCE-GLYPH&amp;object=(GAPDH-A-ENZRXN+%2210190977:EV-EXP-IDA-PURIFIED-PROTEIN-NH:3634339293:fulcher%22)', STICKY, WIDTH, 400, HEIGHT, 400, CAPTION, 'Evidence', EXCLUSIVEOVERRIDE, EXCLUSIVE);\\\" onmouseover=\\\"return overlib('&lt;b&gt;Evidence:&lt;/b&gt; Assay of protein purified to homogeneity from its native host [Eyschen99]&lt;br&gt;[Click for more details...]', WIDTH, 449);\\\" onmouseout=\\\"return nd();\\\"><img class=\\\"ev\\\" src=\\\"/EV-EXP.gif\\\" alt=\\\"Inferred from experiment\\\" border=\\\"0\\\"></a>\n",
       "</td>\"}</td> \n",
       "    </tr>    <tr> \n",
       "        <th id=\"T_db1db52c_db6a_11e7_9db8_f40f2426b15flevel0_row8\" class=\"row_heading level0 row8\" rowspan=5>EcoGene (tbd)</th> \n",
       "        <th id=\"T_db1db52c_db6a_11e7_9db8_f40f2426b15flevel1_row8\" class=\"row_heading level1 row8\" >protein</th> \n",
       "        <td id=\"T_db1db52c_db6a_11e7_9db8_f40f2426b15frow8_col0\" class=\"data row8 col0\" >glyceraldehyde-3-phosphate dehydrogenase A</td> \n",
       "    </tr>    <tr> \n",
       "        <th id=\"T_db1db52c_db6a_11e7_9db8_f40f2426b15flevel1_row9\" class=\"row_heading level1 row9\" >function</th> \n",
       "        <td id=\"T_db1db52c_db6a_11e7_9db8_f40f2426b15frow9_col0\" class=\"data row9 col0\" >Enzyme; Energy metabolism, carbon: Glycolysis</td> \n",
       "    </tr>    <tr> \n",
       "        <th id=\"T_db1db52c_db6a_11e7_9db8_f40f2426b15flevel1_row10\" class=\"row_heading level1 row10\" >description</th> \n",
       "        <td id=\"T_db1db52c_db6a_11e7_9db8_f40f2426b15frow10_col0\" class=\"data row10 col0\" >Glyceraldehyde 3-P dehydrogenase A</td> \n",
       "    </tr>    <tr> \n",
       "        <th id=\"T_db1db52c_db6a_11e7_9db8_f40f2426b15flevel1_row11\" class=\"row_heading level1 row11\" >comments</th> \n",
       "        <td id=\"T_db1db52c_db6a_11e7_9db8_f40f2426b15frow11_col0\" class=\"data row11 col0\" >A gapA mutant is not in the Keio collection; gapA mutants were not expected to grow on the medium used to attempt to isolate them; gapA is not an essential gene (Baba, 2006). Similar to eukaryotic GAPDH. Binds TrxA (Kumar, 2004). GapA binds selenium tightly even after denaturation, possibly as a perselenide to the active site Cys150, perhaps indicative of a role in selenium transport (Lacourciere, 2002). The C-terminal lysine K331 of GapA can be modified to either N6-malonyllysine or N6-succinyllysine; 10 additional GapA lysines can be modified to N6-succinyllysine (Zhang, 2011; Peng, 2011). GapA lysines K132, K138, K184, K198, and K249 can be modifed to N6-acetyllysine (Yu, 2008; Zhang, 2009). The msrB-gapAyeaD divergent operon promoter region binds FNR and gapA-yeaD expression is activated by FNR (Federowicz, 2014).</td> \n",
       "    </tr>    <tr> \n",
       "        <th id=\"T_db1db52c_db6a_11e7_9db8_f40f2426b15flevel1_row12\" class=\"row_heading level1 row12\" >is_pseudogene</th> \n",
       "        <td id=\"T_db1db52c_db6a_11e7_9db8_f40f2426b15frow12_col0\" class=\"data row12 col0\" >f</td> \n",
       "    </tr>    <tr> \n",
       "        <th id=\"T_db1db52c_db6a_11e7_9db8_f40f2426b15flevel0_row13\" class=\"row_heading level0 row13\" rowspan=7>UniProt (high)</th> \n",
       "        <th id=\"T_db1db52c_db6a_11e7_9db8_f40f2426b15flevel1_row13\" class=\"row_heading level1 row13\" >upid</th> \n",
       "        <td id=\"T_db1db52c_db6a_11e7_9db8_f40f2426b15frow13_col0\" class=\"data row13 col0\" >P0A9B2</td> \n",
       "    </tr>    <tr> \n",
       "        <th id=\"T_db1db52c_db6a_11e7_9db8_f40f2426b15flevel1_row14\" class=\"row_heading level1 row14\" >protein</th> \n",
       "        <td id=\"T_db1db52c_db6a_11e7_9db8_f40f2426b15frow14_col0\" class=\"data row14 col0\" >Glyceraldehyde-3-phosphate dehydrogenase A (GAPDH-A) (EC 1.2.1.12) (NAD-dependent glyceraldehyde-3-phosphate dehydrogenase)</td> \n",
       "    </tr>    <tr> \n",
       "        <th id=\"T_db1db52c_db6a_11e7_9db8_f40f2426b15flevel1_row15\" class=\"row_heading level1 row15\" >ec_number</th> \n",
       "        <td id=\"T_db1db52c_db6a_11e7_9db8_f40f2426b15frow15_col0\" class=\"data row15 col0\" >1.2.1.12</td> \n",
       "    </tr>    <tr> \n",
       "        <th id=\"T_db1db52c_db6a_11e7_9db8_f40f2426b15flevel1_row16\" class=\"row_heading level1 row16\" >reaction</th> \n",
       "        <td id=\"T_db1db52c_db6a_11e7_9db8_f40f2426b15frow16_col0\" class=\"data row16 col0\" >CATALYTIC ACTIVITY: D-glyceraldehyde 3-phosphate + phosphate + NAD(+) = 3-phospho-D-glyceroyl phosphate + NADH. {ECO:0000269|PubMed:2659073}.</td> \n",
       "    </tr>    <tr> \n",
       "        <th id=\"T_db1db52c_db6a_11e7_9db8_f40f2426b15flevel1_row17\" class=\"row_heading level1 row17\" >function</th> \n",
       "        <td id=\"T_db1db52c_db6a_11e7_9db8_f40f2426b15frow17_col0\" class=\"data row17 col0\" >FUNCTION: Catalyzes the oxidative phosphorylation of glyceraldehyde 3-phosphate (G3P) to 1,3-bisphosphoglycerate (BPG) using the cofactor NAD. The first reaction step involves the formation of a hemiacetal intermediate between G3P and a cysteine residue, and this hemiacetal intermediate is then oxidized to a thioester, with concomitant reduction of NAD to NADH. The reduced NADH is then exchanged with the second NAD, and the thioester is attacked by a nucleophilic inorganic phosphate to produce BPG. {ECO:0000269|PubMed:2659073}.</td> \n",
       "    </tr>    <tr> \n",
       "        <th id=\"T_db1db52c_db6a_11e7_9db8_f40f2426b15flevel1_row18\" class=\"row_heading level1 row18\" >features</th> \n",
       "        <td id=\"T_db1db52c_db6a_11e7_9db8_f40f2426b15frow18_col0\" class=\"data row18 col0\" >Active site (1); Beta strand (19); Binding site (6); Chain (1); Helix (14); Initiator methionine (1); Modified residue (16); Mutagenesis (1); Natural variant (3); Nucleotide binding (1); Region (2); Site (1); Turn (6)</td> \n",
       "    </tr>    <tr> \n",
       "        <th id=\"T_db1db52c_db6a_11e7_9db8_f40f2426b15flevel1_row19\" class=\"row_heading level1 row19\" >annotation_score</th> \n",
       "        <td id=\"T_db1db52c_db6a_11e7_9db8_f40f2426b15frow19_col0\" class=\"data row19 col0\" >5</td> \n",
       "    </tr></tbody> \n",
       "</table> "
      ],
      "text/plain": [
       "<IPython.core.display.HTML object>"
      ]
     },
     "execution_count": 70,
     "metadata": {},
     "output_type": "execute_result"
    }
   ],
   "source": [
    "res = report[0]\n",
    "res.knowledgebase_name = b1779.apply(lambda row: f\"{row['knowledgebase_name']} ({row['annotation_quality']})\", axis=1)\n",
    "res = res.drop(['locus_id', 'primary_name', 'annotation_quality'], axis=1)\n",
    "res = res.set_index(['knowledgebase_name', 'feature_type'])\n",
    "s = res.style.set_properties(**{'text-align': 'left'})\n",
    "HTML(s.render())"
   ]
  },
  {
   "cell_type": "code",
   "execution_count": null,
   "metadata": {
    "collapsed": true
   },
   "outputs": [],
   "source": []
  }
 ],
 "metadata": {
  "kernelspec": {
   "display_name": "Python 3",
   "language": "python",
   "name": "python3"
  },
  "language_info": {
   "codemirror_mode": {
    "name": "ipython",
    "version": 3
   },
   "file_extension": ".py",
   "mimetype": "text/x-python",
   "name": "python",
   "nbconvert_exporter": "python",
   "pygments_lexer": "ipython3",
   "version": "3.6.3"
  }
 },
 "nbformat": 4,
 "nbformat_minor": 2
}
