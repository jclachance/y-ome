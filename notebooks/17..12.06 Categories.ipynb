{
 "cells": [
  {
   "cell_type": "code",
   "execution_count": 1,
   "metadata": {},
   "outputs": [],
   "source": [
    "import json\n",
    "import pandas as pd\n",
    "import numpy as np\n",
    "from yome import Session\n",
    "from yome.models import *\n",
    "from yome.util import to_df, report\n",
    "from yome.constants import colors_by_number as colors\n",
    "import re\n",
    "from sqlalchemy.orm import aliased\n",
    "import itertools as it\n",
    "import seaborn as sns"
   ]
  },
  {
   "cell_type": "code",
   "execution_count": 2,
   "metadata": {},
   "outputs": [],
   "source": [
    "pd.set_option('display.max_colwidth', -1)"
   ]
  },
  {
   "cell_type": "code",
   "execution_count": 3,
   "metadata": {},
   "outputs": [
    {
     "name": "stdout",
     "output_type": "stream",
     "text": [
      "Populating the interactive namespace from numpy and matplotlib\n"
     ]
    }
   ],
   "source": [
    "from mpl_recipes import mpl_setup\n",
    "%mpl_setup"
   ]
  },
  {
   "cell_type": "code",
   "execution_count": 4,
   "metadata": {},
   "outputs": [],
   "source": [
    "sns.set_style('ticks')"
   ]
  },
  {
   "cell_type": "code",
   "execution_count": 5,
   "metadata": {},
   "outputs": [],
   "source": [
    "session = Session()"
   ]
  },
  {
   "cell_type": "code",
   "execution_count": 27,
   "metadata": {},
   "outputs": [
    {
     "name": "stdout",
     "output_type": "stream",
     "text": [
      "locus_id        b1070\n",
      "primary_name    flgN \n",
      "Name: 0, dtype: object\n"
     ]
    },
    {
     "data": {
      "text/html": [
       "<style  type=\"text/css\" >\n",
       "    #T_d9bfe680_2d3d_11e8_a663_406c8fbb9e82row0_col0 {\n",
       "            text-align:  left;\n",
       "        }    #T_d9bfe680_2d3d_11e8_a663_406c8fbb9e82row1_col0 {\n",
       "            text-align:  left;\n",
       "        }    #T_d9bfe680_2d3d_11e8_a663_406c8fbb9e82row2_col0 {\n",
       "            text-align:  left;\n",
       "        }    #T_d9bfe680_2d3d_11e8_a663_406c8fbb9e82row3_col0 {\n",
       "            text-align:  left;\n",
       "        }    #T_d9bfe680_2d3d_11e8_a663_406c8fbb9e82row4_col0 {\n",
       "            text-align:  left;\n",
       "        }    #T_d9bfe680_2d3d_11e8_a663_406c8fbb9e82row5_col0 {\n",
       "            text-align:  left;\n",
       "        }    #T_d9bfe680_2d3d_11e8_a663_406c8fbb9e82row6_col0 {\n",
       "            text-align:  left;\n",
       "        }    #T_d9bfe680_2d3d_11e8_a663_406c8fbb9e82row7_col0 {\n",
       "            text-align:  left;\n",
       "        }    #T_d9bfe680_2d3d_11e8_a663_406c8fbb9e82row8_col0 {\n",
       "            text-align:  left;\n",
       "        }    #T_d9bfe680_2d3d_11e8_a663_406c8fbb9e82row9_col0 {\n",
       "            text-align:  left;\n",
       "        }    #T_d9bfe680_2d3d_11e8_a663_406c8fbb9e82row10_col0 {\n",
       "            text-align:  left;\n",
       "        }    #T_d9bfe680_2d3d_11e8_a663_406c8fbb9e82row11_col0 {\n",
       "            text-align:  left;\n",
       "        }    #T_d9bfe680_2d3d_11e8_a663_406c8fbb9e82row12_col0 {\n",
       "            text-align:  left;\n",
       "        }    #T_d9bfe680_2d3d_11e8_a663_406c8fbb9e82row13_col0 {\n",
       "            text-align:  left;\n",
       "        }    #T_d9bfe680_2d3d_11e8_a663_406c8fbb9e82row14_col0 {\n",
       "            text-align:  left;\n",
       "        }    #T_d9bfe680_2d3d_11e8_a663_406c8fbb9e82row15_col0 {\n",
       "            text-align:  left;\n",
       "        }    #T_d9bfe680_2d3d_11e8_a663_406c8fbb9e82row16_col0 {\n",
       "            text-align:  left;\n",
       "        }    #T_d9bfe680_2d3d_11e8_a663_406c8fbb9e82row17_col0 {\n",
       "            text-align:  left;\n",
       "        }    #T_d9bfe680_2d3d_11e8_a663_406c8fbb9e82row18_col0 {\n",
       "            text-align:  left;\n",
       "        }    #T_d9bfe680_2d3d_11e8_a663_406c8fbb9e82row19_col0 {\n",
       "            text-align:  left;\n",
       "        }</style>  \n",
       "<table id=\"T_d9bfe680_2d3d_11e8_a663_406c8fbb9e82\" > \n",
       "<thead>    <tr> \n",
       "        <th class=\"blank\" ></th> \n",
       "        <th class=\"blank level0\" ></th> \n",
       "        <th class=\"col_heading level0 col0\" >feature</th> \n",
       "    </tr>    <tr> \n",
       "        <th class=\"index_name level0\" >knowledgebase_name</th> \n",
       "        <th class=\"index_name level1\" >feature_type</th> \n",
       "        <th class=\"blank\" ></th> \n",
       "    </tr></thead> \n",
       "<tbody>    <tr> \n",
       "        <th id=\"T_d9bfe680_2d3d_11e8_a663_406c8fbb9e82level0_row0\" class=\"row_heading level0 row0\" rowspan=6>EcoCyc (tbd)</th> \n",
       "        <th id=\"T_d9bfe680_2d3d_11e8_a663_406c8fbb9e82level1_row0\" class=\"row_heading level1 row0\" >description</th> \n",
       "        <td id=\"T_d9bfe680_2d3d_11e8_a663_406c8fbb9e82row0_col0\" class=\"data row0 col0\" >flagellar biosynthesis protein FlgN</td> \n",
       "    </tr>    <tr> \n",
       "        <th id=\"T_d9bfe680_2d3d_11e8_a663_406c8fbb9e82level1_row1\" class=\"row_heading level1 row1\" >summary_html</th> \n",
       "        <td id=\"T_d9bfe680_2d3d_11e8_a663_406c8fbb9e82row1_col0\" class=\"data row1 col0\" >SummaryFliT, along with FliS and FlgN, are cytoplasmic, substrate-specific chaperones of the flagellar export system.  They share several similarities with other type III cytoplasmic chaperone family members [Kutsukake94]. Affinity blot analysis showed that FlgN binds in vitro to hook-filament junction proteins FlgK and FlgL [Fraser99a] suggesting that FlgN may act as a chaperone which aids in the export  and prevents premature aggregation of the FlgK and FlgL hook-filament junction proteins [Cleaver75]. Gel filtration chromatography indicate that FlgN exists as a homodimer in the cytosol and that these homodimers bind to monomers of FlgK and FlgL to form heterotrimeric chaperone-substrate complexes [Bennett01].  Additional Citations: \n",
       "[Macnab92]  </td> \n",
       "    </tr>    <tr> \n",
       "        <th id=\"T_d9bfe680_2d3d_11e8_a663_406c8fbb9e82level1_row2\" class=\"row_heading level1 row2\" >product_type</th> \n",
       "        <td id=\"T_d9bfe680_2d3d_11e8_a663_406c8fbb9e82row2_col0\" class=\"data row2 col0\" >polypeptide</td> \n",
       "    </tr>    <tr> \n",
       "        <th id=\"T_d9bfe680_2d3d_11e8_a663_406c8fbb9e82level1_row3\" class=\"row_heading level1 row3\" >is_pseudogene</th> \n",
       "        <td id=\"T_d9bfe680_2d3d_11e8_a663_406c8fbb9e82row3_col0\" class=\"data row3 col0\" >f</td> \n",
       "    </tr>    <tr> \n",
       "        <th id=\"T_d9bfe680_2d3d_11e8_a663_406c8fbb9e82level1_row4\" class=\"row_heading level1 row4\" >is_phantom_gene</th> \n",
       "        <td id=\"T_d9bfe680_2d3d_11e8_a663_406c8fbb9e82row4_col0\" class=\"data row4 col0\" >f</td> \n",
       "    </tr>    <tr> \n",
       "        <th id=\"T_d9bfe680_2d3d_11e8_a663_406c8fbb9e82level1_row5\" class=\"row_heading level1 row5\" >is_insertion_element</th> \n",
       "        <td id=\"T_d9bfe680_2d3d_11e8_a663_406c8fbb9e82row5_col0\" class=\"data row5 col0\" >f</td> \n",
       "    </tr>    <tr> \n",
       "        <th id=\"T_d9bfe680_2d3d_11e8_a663_406c8fbb9e82level0_row6\" class=\"row_heading level0 row6\" rowspan=5>EcoGene (tbd)</th> \n",
       "        <th id=\"T_d9bfe680_2d3d_11e8_a663_406c8fbb9e82level1_row6\" class=\"row_heading level1 row6\" >protein</th> \n",
       "        <td id=\"T_d9bfe680_2d3d_11e8_a663_406c8fbb9e82row6_col0\" class=\"data row6 col0\" >export chaperone for FlgK and FlgL</td> \n",
       "    </tr>    <tr> \n",
       "        <th id=\"T_d9bfe680_2d3d_11e8_a663_406c8fbb9e82level1_row7\" class=\"row_heading level1 row7\" >function</th> \n",
       "        <td id=\"T_d9bfe680_2d3d_11e8_a663_406c8fbb9e82row7_col0\" class=\"data row7 col0\" >Phenotype; Surface structures</td> \n",
       "    </tr>    <tr> \n",
       "        <th id=\"T_d9bfe680_2d3d_11e8_a663_406c8fbb9e82level1_row8\" class=\"row_heading level1 row8\" >description</th> \n",
       "        <td id=\"T_d9bfe680_2d3d_11e8_a663_406c8fbb9e82row8_col0\" class=\"data row8 col0\" >Initiation of flagellar filament assembly</td> \n",
       "    </tr>    <tr> \n",
       "        <th id=\"T_d9bfe680_2d3d_11e8_a663_406c8fbb9e82level1_row9\" class=\"row_heading level1 row9\" >comments</th> \n",
       "        <td id=\"T_d9bfe680_2d3d_11e8_a663_406c8fbb9e82row9_col0\" class=\"data row9 col0\" >Null</td> \n",
       "    </tr>    <tr> \n",
       "        <th id=\"T_d9bfe680_2d3d_11e8_a663_406c8fbb9e82level1_row10\" class=\"row_heading level1 row10\" >is_pseudogene</th> \n",
       "        <td id=\"T_d9bfe680_2d3d_11e8_a663_406c8fbb9e82row10_col0\" class=\"data row10 col0\" >f</td> \n",
       "    </tr>    <tr> \n",
       "        <th id=\"T_d9bfe680_2d3d_11e8_a663_406c8fbb9e82level0_row11\" class=\"row_heading level0 row11\" rowspan=5>UniProt (low)</th> \n",
       "        <th id=\"T_d9bfe680_2d3d_11e8_a663_406c8fbb9e82level1_row11\" class=\"row_heading level1 row11\" >upid</th> \n",
       "        <td id=\"T_d9bfe680_2d3d_11e8_a663_406c8fbb9e82row11_col0\" class=\"data row11 col0\" >P43533</td> \n",
       "    </tr>    <tr> \n",
       "        <th id=\"T_d9bfe680_2d3d_11e8_a663_406c8fbb9e82level1_row12\" class=\"row_heading level1 row12\" >protein</th> \n",
       "        <td id=\"T_d9bfe680_2d3d_11e8_a663_406c8fbb9e82row12_col0\" class=\"data row12 col0\" >Flagella synthesis protein FlgN</td> \n",
       "    </tr>    <tr> \n",
       "        <th id=\"T_d9bfe680_2d3d_11e8_a663_406c8fbb9e82level1_row13\" class=\"row_heading level1 row13\" >function</th> \n",
       "        <td id=\"T_d9bfe680_2d3d_11e8_a663_406c8fbb9e82row13_col0\" class=\"data row13 col0\" >FUNCTION: Required for the efficient initiation of filament assembly. {ECO:0000250}.</td> \n",
       "    </tr>    <tr> \n",
       "        <th id=\"T_d9bfe680_2d3d_11e8_a663_406c8fbb9e82level1_row14\" class=\"row_heading level1 row14\" >features</th> \n",
       "        <td id=\"T_d9bfe680_2d3d_11e8_a663_406c8fbb9e82row14_col0\" class=\"data row14 col0\" >Chain (1)</td> \n",
       "    </tr>    <tr> \n",
       "        <th id=\"T_d9bfe680_2d3d_11e8_a663_406c8fbb9e82level1_row15\" class=\"row_heading level1 row15\" >annotation_score</th> \n",
       "        <td id=\"T_d9bfe680_2d3d_11e8_a663_406c8fbb9e82row15_col0\" class=\"data row15 col0\" >2</td> \n",
       "    </tr>    <tr> \n",
       "        <th id=\"T_d9bfe680_2d3d_11e8_a663_406c8fbb9e82level0_row16\" class=\"row_heading level0 row16\" rowspan=3>RefSeq (tbd)</th> \n",
       "        <th id=\"T_d9bfe680_2d3d_11e8_a663_406c8fbb9e82level1_row16\" class=\"row_heading level1 row16\" >ec_numbers</th> \n",
       "        <td id=\"T_d9bfe680_2d3d_11e8_a663_406c8fbb9e82row16_col0\" class=\"data row16 col0\" >{}</td> \n",
       "    </tr>    <tr> \n",
       "        <th id=\"T_d9bfe680_2d3d_11e8_a663_406c8fbb9e82level1_row17\" class=\"row_heading level1 row17\" >product</th> \n",
       "        <td id=\"T_d9bfe680_2d3d_11e8_a663_406c8fbb9e82row17_col0\" class=\"data row17 col0\" >export chaperone for FlgK and FlgL</td> \n",
       "    </tr>    <tr> \n",
       "        <th id=\"T_d9bfe680_2d3d_11e8_a663_406c8fbb9e82level1_row18\" class=\"row_heading level1 row18\" >function</th> \n",
       "        <td id=\"T_d9bfe680_2d3d_11e8_a663_406c8fbb9e82row18_col0\" class=\"data row18 col0\" >phenotype; Surface structures</td> \n",
       "    </tr>    <tr> \n",
       "        <th id=\"T_d9bfe680_2d3d_11e8_a663_406c8fbb9e82level0_row19\" class=\"row_heading level0 row19\" >Y-ome (low)</th> \n",
       "        <th id=\"T_d9bfe680_2d3d_11e8_a663_406c8fbb9e82level1_row19\" class=\"row_heading level1 row19\" >nan</th> \n",
       "        <td id=\"T_d9bfe680_2d3d_11e8_a663_406c8fbb9e82row19_col0\" class=\"data row19 col0\" >nan</td> \n",
       "    </tr></tbody> \n",
       "</table> "
      ],
      "text/plain": [
       "<IPython.core.display.HTML object>"
      ]
     },
     "execution_count": 27,
     "metadata": {},
     "output_type": "execute_result"
    }
   ],
   "source": [
    "report(session, 'b1070')"
   ]
  },
  {
   "cell_type": "markdown",
   "metadata": {},
   "source": [
    "# Genes without b-number"
   ]
  },
  {
   "cell_type": "code",
   "execution_count": 7,
   "metadata": {},
   "outputs": [],
   "source": [
    "# Genes b4309 pseudo in EcoGene\n",
    "no_b_number = to_df(\n",
    "    session.query(KnowledgebaseGene.primary_name,\n",
    "                  KnowledgebaseGene.annotation_quality,\n",
    "                  Knowledgebase.name.label('kb_name'))\n",
    "    .join(Knowledgebase)\n",
    "    .filter(KnowledgebaseGene.gene_id == None)\n",
    ")"
   ]
  },
  {
   "cell_type": "code",
   "execution_count": 8,
   "metadata": {},
   "outputs": [
    {
     "data": {
      "text/html": [
       "<div>\n",
       "<style scoped>\n",
       "    .dataframe tbody tr th:only-of-type {\n",
       "        vertical-align: middle;\n",
       "    }\n",
       "\n",
       "    .dataframe tbody tr th {\n",
       "        vertical-align: top;\n",
       "    }\n",
       "\n",
       "    .dataframe thead th {\n",
       "        text-align: right;\n",
       "    }\n",
       "</style>\n",
       "<table border=\"1\" class=\"dataframe\">\n",
       "  <thead>\n",
       "    <tr style=\"text-align: right;\">\n",
       "      <th></th>\n",
       "      <th>primary_name</th>\n",
       "      <th>annotation_quality</th>\n",
       "    </tr>\n",
       "    <tr>\n",
       "      <th>kb_name</th>\n",
       "      <th></th>\n",
       "      <th></th>\n",
       "    </tr>\n",
       "  </thead>\n",
       "  <tbody>\n",
       "    <tr>\n",
       "      <th>EcoCyc</th>\n",
       "      <td>55</td>\n",
       "      <td>55</td>\n",
       "    </tr>\n",
       "    <tr>\n",
       "      <th>UniProt</th>\n",
       "      <td>1</td>\n",
       "      <td>1</td>\n",
       "    </tr>\n",
       "  </tbody>\n",
       "</table>\n",
       "</div>"
      ],
      "text/plain": [
       "         primary_name  annotation_quality\n",
       "kb_name                                  \n",
       "EcoCyc   55            55                \n",
       "UniProt  1             1                 "
      ]
     },
     "execution_count": 8,
     "metadata": {},
     "output_type": "execute_result"
    }
   ],
   "source": [
    "no_b_number.groupby('kb_name').agg('count')"
   ]
  },
  {
   "cell_type": "markdown",
   "metadata": {},
   "source": [
    "# Find locus tags with multiple genes"
   ]
  },
  {
   "cell_type": "code",
   "execution_count": 9,
   "metadata": {},
   "outputs": [],
   "source": [
    "KnowledgebaseGene2 = aliased(KnowledgebaseGene)"
   ]
  },
  {
   "cell_type": "code",
   "execution_count": 10,
   "metadata": {},
   "outputs": [],
   "source": [
    "duplicates = to_df(\n",
    "    session.query(Gene.locus_id,\n",
    "                  KnowledgebaseGene.primary_name,\n",
    "                  KnowledgebaseGene2.primary_name.label('primary_name2'),\n",
    "                  Knowledgebase.name)\n",
    "    .join(KnowledgebaseGene, KnowledgebaseGene.gene_id == Gene.id)\n",
    "    .join(KnowledgebaseGene2, KnowledgebaseGene2.gene_id == Gene.id)\n",
    "    .join(Knowledgebase, KnowledgebaseGene.knowledgebase_id == Knowledgebase.id)\n",
    "    .filter(KnowledgebaseGene2.knowledgebase_id == Knowledgebase.id)\n",
    "    .filter(KnowledgebaseGene.id != KnowledgebaseGene2.id)\n",
    ")"
   ]
  },
  {
   "cell_type": "code",
   "execution_count": 11,
   "metadata": {},
   "outputs": [
    {
     "data": {
      "text/html": [
       "<div>\n",
       "<style scoped>\n",
       "    .dataframe tbody tr th:only-of-type {\n",
       "        vertical-align: middle;\n",
       "    }\n",
       "\n",
       "    .dataframe tbody tr th {\n",
       "        vertical-align: top;\n",
       "    }\n",
       "\n",
       "    .dataframe thead th {\n",
       "        text-align: right;\n",
       "    }\n",
       "</style>\n",
       "<table border=\"1\" class=\"dataframe\">\n",
       "  <thead>\n",
       "    <tr style=\"text-align: right;\">\n",
       "      <th></th>\n",
       "      <th>locus_id</th>\n",
       "      <th>primary_name</th>\n",
       "      <th>primary_name2</th>\n",
       "      <th>name</th>\n",
       "    </tr>\n",
       "  </thead>\n",
       "  <tbody>\n",
       "    <tr>\n",
       "      <th>0</th>\n",
       "      <td>b3504</td>\n",
       "      <td>yhiS_2</td>\n",
       "      <td>yhiS_1</td>\n",
       "      <td>EcoCyc</td>\n",
       "    </tr>\n",
       "    <tr>\n",
       "      <th>1</th>\n",
       "      <td>b0240</td>\n",
       "      <td>crl_1</td>\n",
       "      <td>crl_2</td>\n",
       "      <td>EcoCyc</td>\n",
       "    </tr>\n",
       "    <tr>\n",
       "      <th>2</th>\n",
       "      <td>b0240</td>\n",
       "      <td>crl_2</td>\n",
       "      <td>crl_1</td>\n",
       "      <td>EcoCyc</td>\n",
       "    </tr>\n",
       "    <tr>\n",
       "      <th>3</th>\n",
       "      <td>b3504</td>\n",
       "      <td>yhiS_1</td>\n",
       "      <td>yhiS_2</td>\n",
       "      <td>EcoCyc</td>\n",
       "    </tr>\n",
       "    <tr>\n",
       "      <th>4</th>\n",
       "      <td>b4581</td>\n",
       "      <td>ybeM</td>\n",
       "      <td>ybeH</td>\n",
       "      <td>UniProt</td>\n",
       "    </tr>\n",
       "    <tr>\n",
       "      <th>5</th>\n",
       "      <td>b4581</td>\n",
       "      <td>ybeH</td>\n",
       "      <td>ybeM</td>\n",
       "      <td>UniProt</td>\n",
       "    </tr>\n",
       "  </tbody>\n",
       "</table>\n",
       "</div>"
      ],
      "text/plain": [
       "  locus_id primary_name primary_name2     name\n",
       "0  b3504    yhiS_2       yhiS_1        EcoCyc \n",
       "1  b0240    crl_1        crl_2         EcoCyc \n",
       "2  b0240    crl_2        crl_1         EcoCyc \n",
       "3  b3504    yhiS_1       yhiS_2        EcoCyc \n",
       "4  b4581    ybeM         ybeH          UniProt\n",
       "5  b4581    ybeH         ybeM          UniProt"
      ]
     },
     "execution_count": 11,
     "metadata": {},
     "output_type": "execute_result"
    }
   ],
   "source": [
    "duplicates"
   ]
  },
  {
   "cell_type": "markdown",
   "metadata": {},
   "source": [
    "# Kbase comparison plot\n",
    "NOTE: 55 EcoCyc & 1 UniProt genes without a locus tag and 2 EcoCyc and 1 Uniprot genes with duplicated locus tags are ignored in this plot"
   ]
  },
  {
   "cell_type": "code",
   "execution_count": 12,
   "metadata": {},
   "outputs": [],
   "source": [
    "kbases = to_df(\n",
    "    session.query(Gene.locus_id,\n",
    "                  KnowledgebaseGene.primary_name,\n",
    "                  KnowledgebaseGene.annotation_quality,\n",
    "                  Knowledgebase.name.label('knowledgebase_name'))\n",
    "    .join(KnowledgebaseGene)\n",
    "    .join(Knowledgebase)\n",
    ")"
   ]
  },
  {
   "cell_type": "code",
   "execution_count": 13,
   "metadata": {},
   "outputs": [],
   "source": [
    "# remove duplicate genes\n",
    "kbases_unstacked = kbases.set_index(['locus_id', 'knowledgebase_name'])\n",
    "kbases_unstacked = kbases_unstacked[~kbases_unstacked.index.duplicated(keep='first')]\n",
    "kbases_unstacked = kbases_unstacked.drop('primary_name', axis=1).unstack()\n",
    "kbases_unstacked.columns = kbases_unstacked.columns.droplevel(0)"
   ]
  },
  {
   "cell_type": "code",
   "execution_count": 14,
   "metadata": {},
   "outputs": [
    {
     "data": {
      "text/plain": [
       "high        2784\n",
       "low         1563\n",
       "excluded    306 \n",
       "Name: Y-ome, dtype: int64"
      ]
     },
     "execution_count": 14,
     "metadata": {},
     "output_type": "execute_result"
    }
   ],
   "source": [
    "# Y-ome counts\n",
    "kbases_unstacked['Y-ome'].value_counts()"
   ]
  },
  {
   "cell_type": "code",
   "execution_count": 15,
   "metadata": {},
   "outputs": [],
   "source": [
    "# get list of genes starting with y in EcoCyc\n",
    "# high quality EcoCyc evidence should override everything, e.g. b0089 / ftsW "
   ]
  },
  {
   "cell_type": "code",
   "execution_count": 16,
   "metadata": {},
   "outputs": [],
   "source": [
    "ecocyc_names = {x[0]: x[1] for x in (\n",
    "    session.query(Gene.locus_id,\n",
    "                  KnowledgebaseGene.primary_name)\n",
    "    .join(KnowledgebaseGene)\n",
    "    .join(Knowledgebase)\n",
    "    .filter(Knowledgebase.name == 'EcoCyc')\n",
    ").all()}"
   ]
  },
  {
   "cell_type": "code",
   "execution_count": 17,
   "metadata": {},
   "outputs": [],
   "source": [
    "def starts_y(row):\n",
    "    primary_name = ecocyc_names.get(row.name, None)\n",
    "    return 'low' if primary_name and primary_name.startswith('y') \\\n",
    "        else 'high' if primary_name \\\n",
    "        else None"
   ]
  },
  {
   "cell_type": "code",
   "execution_count": 18,
   "metadata": {},
   "outputs": [],
   "source": [
    "kbases_unstacked['Starts with \"y\"'] = kbases_unstacked.apply(starts_y, axis=1)"
   ]
  },
  {
   "cell_type": "code",
   "execution_count": 19,
   "metadata": {},
   "outputs": [],
   "source": [
    "levels = {\n",
    "    None: -1,\n",
    "    'excluded': 0,\n",
    "    'tbd': 1,\n",
    "    'low': 2,\n",
    "    'high': 3,\n",
    "}"
   ]
  },
  {
   "cell_type": "code",
   "execution_count": 20,
   "metadata": {},
   "outputs": [],
   "source": [
    "kbases_plot = kbases_unstacked.applymap(lambda x: levels[x])"
   ]
  },
  {
   "cell_type": "code",
   "execution_count": 21,
   "metadata": {},
   "outputs": [],
   "source": [
    "def make_bars(df_all, labels):\n",
    "    df = df_all[labels].sort_values(by=labels)\n",
    "    # create bars based on consecutive colors\n",
    "    last_value = {kbase: None for kbase in labels}\n",
    "    bars = {kbase: [] for kbase in labels}\n",
    "    for locus_tag, row in df.iterrows():\n",
    "        for kbase, value in row.iteritems():\n",
    "            if len(bars[kbase]) == 0 or bars[kbase][-1]['value'] != value:\n",
    "                bars[kbase].append({'value': value, 'height': 1})\n",
    "                last_value[kbase] = value\n",
    "            else:\n",
    "                bars[kbase][-1]['height'] += 1\n",
    "    return [bars[x] for x in labels]"
   ]
  },
  {
   "cell_type": "code",
   "execution_count": 22,
   "metadata": {},
   "outputs": [],
   "source": [
    "def plot_bars(bars, labels, figsize=(11, 11), text=False):\n",
    "    fig, ax = plt.subplots(figsize=figsize)\n",
    "    last_heights = [0 for _ in labels]\n",
    "    for bar_list in it.zip_longest(*bars):\n",
    "        left = [x + 0.1 for x in range(len(labels))]\n",
    "        height = [x['height'] if x is not None else 0 for x in bar_list]\n",
    "        bottom = last_heights\n",
    "        last_heights = [x + y for x, y in zip(height, last_heights)]\n",
    "        color = [colors[x['value']] if x is not None else 'k' for x in bar_list]\n",
    "        ax.bar(left, height, bottom=bottom, color=color)\n",
    "        if text:\n",
    "            for l, h, b in zip(left, height, bottom):\n",
    "                if h > 0 and h < 50:\n",
    "                    y = h / 2 + b\n",
    "                    ax.annotate(h, xy=(l + 0.15, y), xytext=(l + 0.45, y + 120),\n",
    "                                arrowprops=dict(facecolor='black', width=1, headwidth=7),\n",
    "                                verticalalignment='center',\n",
    "                                color=(0.2,0.2,0.2))\n",
    "                elif h > 50:\n",
    "                    y = h + b - (110 if h > 120 else 80 if h > 100 else 30)\n",
    "                    ax.text(l, y, str(h), horizontalalignment='center', \n",
    "                            color=(0.2,0.2,0.2))\n",
    "    ax.set_xlabel('Knowledgebase')\n",
    "    ax.set_ylabel('Gene')\n",
    "    ax.xaxis.set_ticks([x + 0.1 for x in range(len(labels))])\n",
    "    ax.xaxis.set_ticklabels(labels)\n",
    "    \n",
    "    # Hide the right and top spines\n",
    "    ax.spines['right'].set_visible(False)\n",
    "    ax.spines['top'].set_visible(False)\n",
    "\n",
    "    # Only show ticks on the left and bottom spines\n",
    "    ax.yaxis.set_ticks_position('left')\n",
    "    ax.xaxis.set_ticks_position('bottom')\n",
    "    \n",
    "    return fig, ax"
   ]
  },
  {
   "cell_type": "code",
   "execution_count": 23,
   "metadata": {},
   "outputs": [
    {
     "data": {
      "image/png": "[encoded data removed]",
      "text/plain": [
       "<matplotlib.figure.Figure at 0x10f8f6a20>"
      ]
     },
     "metadata": {},
     "output_type": "display_data"
    }
   ],
   "source": [
    "labels = ['EcoCyc', 'EcoGene', 'UniProt', 'RefSeq', 'Manual', 'Y-ome']\n",
    "kbase_bars = make_bars(kbases_plot, labels)\n",
    "fig, _ = plot_bars(kbase_bars, labels)\n",
    "fig.savefig('/Users/zaking/lab/y-ome/figs/kbase-bars.pdf')\n",
    "fig.savefig('/Users/zaking/lab/y-ome/figs/kbase-bars.png')"
   ]
  },
  {
   "cell_type": "code",
   "execution_count": 24,
   "metadata": {},
   "outputs": [
    {
     "data": {
      "image/png": "[encoded data removed]",
      "text/plain": [
       "<matplotlib.figure.Figure at 0x10fe11e10>"
      ]
     },
     "metadata": {},
     "output_type": "display_data"
    }
   ],
   "source": [
    "labels = ['Y-ome', 'iJL1678b']\n",
    "bars = make_bars(kbases_plot, labels)\n",
    "fig, _ = plot_bars(bars, labels, figsize=(3.5, 11), text=True)\n",
    "fig.savefig('/Users/zaking/lab/y-ome/figs/me-model-bars.pdf')\n",
    "fig.savefig('/Users/zaking/lab/y-ome/figs/me-model-bars.png')"
   ]
  },
  {
   "cell_type": "code",
   "execution_count": 25,
   "metadata": {},
   "outputs": [
    {
     "data": {
      "image/png": "[encoded data removed]",
      "text/plain": [
       "<matplotlib.figure.Figure at 0x10fc49a90>"
      ]
     },
     "metadata": {},
     "output_type": "display_data"
    }
   ],
   "source": [
    "labels = ['Y-ome', 'Starts with \"y\"']\n",
    "bars = make_bars(kbases_plot, labels)\n",
    "fig, _ = plot_bars(bars, labels, figsize=(3.5, 11), text=True)\n",
    "fig.savefig('/Users/zaking/lab/y-ome/figs/starts-y-bars.pdf')\n",
    "fig.savefig('/Users/zaking/lab/y-ome/figs/starts-y-bars.png')"
   ]
  },
  {
   "cell_type": "markdown",
   "metadata": {},
   "source": [
    "# cases to check:\n",
    "\n",
    "### High in one DB, low in another\n",
    "\n",
    "+ High in EcoCyc and low in EcoGene\n",
    "  + result: based on *caiC*, give \"high\" priority over \"low\" because EcoCyc has more up-to-date information for \"high\" cases\n",
    "+ High in UniProt and low in EcoCyc\n",
    "  + result: based on *yadI / b0129*, don't rely on EC number in UniProt; use annotation score instead\n",
    "  + result: based on *mrdB*, don't categorize \"family protein\" as poor annotation in EcoCyc\n",
    "  + result: based on *YdcE / b1461*, UniProt high should override EcoCyc because EcoCyc missed the experimental validation in the linked paper (good example for the text)\n",
    "  + result: based on *dgcJ / b1786*, uniprot level 5 annotation should be \"low\", because even putative functions are given this level of annotation (also a good example for the text)\n",
    "+ High in ME-model, low in EcoCyc\n",
    "  + result: ME-model includes putative annotations (e.g. YaaJ). Don't mark these as high\n",
    "  + TODO provide an analysis of them in the text\n",
    "+ High in EcoCyc and low in UniProt\n",
    "  + result: based on thrL; UniProt got this one wrong, should be high\n",
    "+ dicuss how to prefer b0240 / crl to `_1` and `_2` \n",
    "  + https://biocyc.org/gene?orgid=ECOLI&id=G0-16683\n",
    "  + https://biocyc.org/gene?orgid=ECOLI&id=G0-16684\n",
    "  + https://biocyc.org/gene?orgid=ECOLI&id=EG11092\n",
    "  + one solution: devote a paragraph to the discussin in https://biocyc.org/gene?orgid=ECOLI&id=EG11092, noting that UniProt marks this one as \"high\", and EcoCyc marks it as a pseudogene even though there is a clear function\n",
    "+ consider EcoCyc 'family protein' as a low keyword\n",
    "  + result: would only have re-categorized fepE / b0587\n",
    "\n",
    "### Other E. coli evidence tags\n",
    "\n",
    "+ \"gene expression analysis\" is promising, but a number of transcription factors in E. coli have this evidence, but do not have known conditions of binding or binding targets. E.g. yeiL / b2163 and adiY / b4116\n",
    "+ \"inferred by functional complementation\" is used with poorly characterized genes like b2952 / yggT\n",
    "+ \"binding of purified proteins\" doesn't catch anything new\n",
    "+ \"Inferred from genetic interaction\" will get b0461 wrong\n",
    "+ \"Author hypothesis\" is too vague\n",
    "+ \"inferred from mutant phenotype\" appears on lots of poorly annotated genes, e.g. dctR / b3507\n",
    "+ 'phage or prophage related' in EcoGene does not mean uncharacterized. e.g. icd / b1136\n",
    "\n",
    "### Genes where Y-ome disagrees with EcoCyc\n",
    "\n",
    "Result: After spot-checking a number of cases where EcoCyc is not in agreement with the final Y-ome:\n",
    "\n",
    "- pseudogenes called by EcoGene are just listed as poorly characterized genes in EcoCyc (OK)\n",
    "- UniProt gives annotation scores to help clarify annotation for a number of genes. These are present and annotated in EcoCyc, but the annotation level cannot be determined automatically (OK)\n",
    "\n",
    "### TODO bring in regulonDB\n"
   ]
  },
  {
   "cell_type": "markdown",
   "metadata": {},
   "source": [
    "## Assertions\n",
    "The literature points to a particular answer for these genes"
   ]
  },
  {
   "cell_type": "code",
   "execution_count": 26,
   "metadata": {},
   "outputs": [
    {
     "ename": "NameError",
     "evalue": "name 'assertions' is not defined",
     "output_type": "error",
     "traceback": [
      "\u001b[0;31m---------------------------------------------------------------------------\u001b[0m",
      "\u001b[0;31mNameError\u001b[0m                                 Traceback (most recent call last)",
      "\u001b[0;32m<ipython-input-26-a80e483298f9>\u001b[0m in \u001b[0;36m<module>\u001b[0;34m()\u001b[0m\n\u001b[0;32m----> 1\u001b[0;31m \u001b[0massertions\u001b[0m\u001b[0;34m.\u001b[0m\u001b[0mhead\u001b[0m\u001b[0;34m(\u001b[0m\u001b[0;34m)\u001b[0m\u001b[0;34m\u001b[0m\u001b[0m\n\u001b[0m",
      "\u001b[0;31mNameError\u001b[0m: name 'assertions' is not defined"
     ]
    }
   ],
   "source": [
    "assertions.head()"
   ]
  },
  {
   "cell_type": "code",
   "execution_count": null,
   "metadata": {},
   "outputs": [],
   "source": [
    "assertions = pd.read_table('../sources/manual/manual.tsv', sep='\\t', index_col='locus_tag')\n",
    "\n",
    "# these differences check out\n",
    "ok = ['b0268', 'b1695', 'b2844', 'b0240', 'b4453']\n",
    "\n",
    "# Check for any incorrect assertions\n",
    "def check_for_row(row):\n",
    "    return any(row.name == locus_tag and row['Y-ome'] != val and row['Y-ome'] != 'tbd' and val != 'read' and locus_tag not in ok\n",
    "               for locus_tag, val in assertions.annotation_quality.iteritems())\n",
    "res = kbases_unstacked[kbases_unstacked.apply(check_for_row, axis=1)]\n",
    "print(res)\n",
    "assert(len(res) == 0)"
   ]
  },
  {
   "cell_type": "code",
   "execution_count": null,
   "metadata": {},
   "outputs": [],
   "source": [
    "tbd = kbases_unstacked[(kbases_unstacked['Y-ome'] == 'tbd') & ~kbases_unstacked.index.isin(assertions.index)]\n",
    "tbd_locus_tag = tbd.index[1]\n",
    "print(f'{len(tbd)} genes; next locus: {tbd_locus_tag}')\n",
    "\n",
    "kbases_unstacked[kbases_unstacked.index == tbd_locus_tag]"
   ]
  },
  {
   "cell_type": "code",
   "execution_count": null,
   "metadata": {},
   "outputs": [],
   "source": [
    "tbd"
   ]
  },
  {
   "cell_type": "markdown",
   "metadata": {},
   "source": [
    "# check on evidence type"
   ]
  },
  {
   "cell_type": "code",
   "execution_count": null,
   "metadata": {},
   "outputs": [],
   "source": [
    "ev = to_df(\n",
    "    session.query(\n",
    "        Gene.locus_id,\n",
    "        KnowledgebaseGene.primary_name,\n",
    "        KnowledgebaseFeature.feature,\n",
    "    )\n",
    "    .join(KnowledgebaseGene)\n",
    "    .join(Knowledgebase)\n",
    "    .join(KnowledgebaseFeature)\n",
    "    .filter(Knowledgebase.name == 'EcoCyc')\n",
    "    .filter(KnowledgebaseFeature.feature_type == 'description')\n",
    "    .filter(KnowledgebaseFeature.feature.ilike('%domain-containing protein%'))\n",
    ")"
   ]
  },
  {
   "cell_type": "code",
   "execution_count": null,
   "metadata": {
    "scrolled": false
   },
   "outputs": [],
   "source": [
    "evm = ev.merge(kbases_unstacked, left_on='locus_id', right_index=True) #['Y-ome'].value_counts()\n",
    "evm[evm['Y-ome'] == 'tbd']"
   ]
  },
  {
   "cell_type": "code",
   "execution_count": null,
   "metadata": {},
   "outputs": [],
   "source": [
    "report(session, 'b0240')"
   ]
  },
  {
   "cell_type": "code",
   "execution_count": null,
   "metadata": {},
   "outputs": [],
   "source": []
  },
  {
   "cell_type": "code",
   "execution_count": null,
   "metadata": {},
   "outputs": [],
   "source": []
  }
 ],
 "metadata": {
  "kernelspec": {
   "display_name": "Python 3",
   "language": "python",
   "name": "python3"
  },
  "language_info": {
   "codemirror_mode": {
    "name": "ipython",
    "version": 3
   },
   "file_extension": ".py",
   "mimetype": "text/x-python",
   "name": "python",
   "nbconvert_exporter": "python",
   "pygments_lexer": "ipython3",
   "version": "3.6.4"
  }
 },
 "nbformat": 4,
 "nbformat_minor": 2
}
