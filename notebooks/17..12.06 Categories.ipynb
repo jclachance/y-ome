{
 "cells": [
  {
   "cell_type": "code",
   "execution_count": 50,
   "metadata": {
    "collapsed": true
   },
   "outputs": [],
   "source": [
    "import json\n",
    "import pandas as pd\n",
    "import numpy as np\n",
    "from yome import Session\n",
    "from yome.models import *\n",
    "from yome.util import to_df\n",
    "import re\n",
    "from sqlalchemy.orm import aliased\n",
    "import itertools as it\n",
    "import seaborn as sns\n",
    "from IPython.display import HTML"
   ]
  },
  {
   "cell_type": "code",
   "execution_count": 51,
   "metadata": {
    "collapsed": true
   },
   "outputs": [],
   "source": [
    "pd.set_option('display.max_colwidth', -1)"
   ]
  },
  {
   "cell_type": "code",
   "execution_count": 52,
   "metadata": {},
   "outputs": [
    {
     "name": "stdout",
     "output_type": "stream",
     "text": [
      "Populating the interactive namespace from numpy and matplotlib\n"
     ]
    }
   ],
   "source": [
    "from mpl_recipes import mpl_setup\n",
    "%mpl_setup"
   ]
  },
  {
   "cell_type": "code",
   "execution_count": 53,
   "metadata": {
    "collapsed": true
   },
   "outputs": [],
   "source": [
    "session = Session()"
   ]
  },
  {
   "cell_type": "markdown",
   "metadata": {},
   "source": [
    "# Functions"
   ]
  },
  {
   "cell_type": "code",
   "execution_count": 54,
   "metadata": {
    "collapsed": true
   },
   "outputs": [],
   "source": [
    "def report(locus_tag):\n",
    "    # Get TBD genes for EcoGene but high for Eco\n",
    "    report = to_df(\n",
    "        session.query(Gene.locus_id,\n",
    "                      KnowledgebaseGene.primary_name,\n",
    "                      KnowledgebaseGene.annotation_quality,\n",
    "                      Knowledgebase.name.label('knowledgebase_name'),\n",
    "                      KnowledgebaseFeature.feature_type,\n",
    "                      KnowledgebaseFeature.feature)\n",
    "        .join(KnowledgebaseGene)\n",
    "        .join(Knowledgebase)\n",
    "        .join(KnowledgebaseFeature)\n",
    "        .filter(Gene.locus_id == locus_tag)\n",
    "    )\n",
    "\n",
    "    print(report.iloc[0, 0:2])\n",
    "\n",
    "    report.knowledgebase_name = report.apply(lambda row: f\"{row['knowledgebase_name']} ({row['annotation_quality']})\", axis=1)\n",
    "    report = report.drop(['locus_id', 'primary_name', 'annotation_quality'], axis=1)\n",
    "    report = report.set_index(['knowledgebase_name', 'feature_type'])\n",
    "    s = report.style.set_properties(**{'text-align': 'left'})\n",
    "    return HTML(s.render())"
   ]
  },
  {
   "cell_type": "markdown",
   "metadata": {},
   "source": [
    "# Genes without b-number"
   ]
  },
  {
   "cell_type": "code",
   "execution_count": 55,
   "metadata": {
    "collapsed": true
   },
   "outputs": [],
   "source": [
    "# Genes b4309 pseudo in EcoGene\n",
    "no_b_number = to_df(\n",
    "    session.query(KnowledgebaseGene.primary_name,\n",
    "                  KnowledgebaseGene.annotation_quality,\n",
    "                  Knowledgebase.name.label('kb_name'))\n",
    "    .join(Knowledgebase)\n",
    "    .filter(KnowledgebaseGene.gene_id == None)\n",
    ")"
   ]
  },
  {
   "cell_type": "code",
   "execution_count": 56,
   "metadata": {},
   "outputs": [
    {
     "data": {
      "text/html": [
       "<div>\n",
       "<style>\n",
       "    .dataframe thead tr:only-child th {\n",
       "        text-align: right;\n",
       "    }\n",
       "\n",
       "    .dataframe thead th {\n",
       "        text-align: left;\n",
       "    }\n",
       "\n",
       "    .dataframe tbody tr th {\n",
       "        vertical-align: top;\n",
       "    }\n",
       "</style>\n",
       "<table border=\"1\" class=\"dataframe\">\n",
       "  <thead>\n",
       "    <tr style=\"text-align: right;\">\n",
       "      <th></th>\n",
       "      <th>primary_name</th>\n",
       "      <th>annotation_quality</th>\n",
       "    </tr>\n",
       "    <tr>\n",
       "      <th>kb_name</th>\n",
       "      <th></th>\n",
       "      <th></th>\n",
       "    </tr>\n",
       "  </thead>\n",
       "  <tbody>\n",
       "    <tr>\n",
       "      <th>EcoCyc</th>\n",
       "      <td>55</td>\n",
       "      <td>55</td>\n",
       "    </tr>\n",
       "    <tr>\n",
       "      <th>UniProt</th>\n",
       "      <td>1</td>\n",
       "      <td>1</td>\n",
       "    </tr>\n",
       "  </tbody>\n",
       "</table>\n",
       "</div>"
      ],
      "text/plain": [
       "         primary_name  annotation_quality\n",
       "kb_name                                  \n",
       "EcoCyc   55            55                \n",
       "UniProt  1             1                 "
      ]
     },
     "execution_count": 56,
     "metadata": {},
     "output_type": "execute_result"
    }
   ],
   "source": [
    "no_b_number.groupby('kb_name').agg('count')"
   ]
  },
  {
   "cell_type": "markdown",
   "metadata": {},
   "source": [
    "# Find locus tags with multiple genes"
   ]
  },
  {
   "cell_type": "code",
   "execution_count": 57,
   "metadata": {
    "collapsed": true
   },
   "outputs": [],
   "source": [
    "KnowledgebaseGene2 = aliased(KnowledgebaseGene)"
   ]
  },
  {
   "cell_type": "code",
   "execution_count": 58,
   "metadata": {
    "collapsed": true
   },
   "outputs": [],
   "source": [
    "duplicates = to_df(\n",
    "    session.query(Gene.locus_id,\n",
    "                  KnowledgebaseGene.primary_name,\n",
    "                  KnowledgebaseGene2.primary_name.label('primary_name2'),\n",
    "                  Knowledgebase.name)\n",
    "    .join(KnowledgebaseGene, KnowledgebaseGene.gene_id == Gene.id)\n",
    "    .join(KnowledgebaseGene2, KnowledgebaseGene2.gene_id == Gene.id)\n",
    "    .join(Knowledgebase, KnowledgebaseGene.knowledgebase_id == Knowledgebase.id)\n",
    "    .filter(KnowledgebaseGene2.knowledgebase_id == Knowledgebase.id)\n",
    "    .filter(KnowledgebaseGene.id != KnowledgebaseGene2.id)\n",
    ")"
   ]
  },
  {
   "cell_type": "code",
   "execution_count": 59,
   "metadata": {},
   "outputs": [
    {
     "data": {
      "text/html": [
       "<div>\n",
       "<style>\n",
       "    .dataframe thead tr:only-child th {\n",
       "        text-align: right;\n",
       "    }\n",
       "\n",
       "    .dataframe thead th {\n",
       "        text-align: left;\n",
       "    }\n",
       "\n",
       "    .dataframe tbody tr th {\n",
       "        vertical-align: top;\n",
       "    }\n",
       "</style>\n",
       "<table border=\"1\" class=\"dataframe\">\n",
       "  <thead>\n",
       "    <tr style=\"text-align: right;\">\n",
       "      <th></th>\n",
       "      <th>locus_id</th>\n",
       "      <th>primary_name</th>\n",
       "      <th>primary_name2</th>\n",
       "      <th>name</th>\n",
       "    </tr>\n",
       "  </thead>\n",
       "  <tbody>\n",
       "    <tr>\n",
       "      <th>0</th>\n",
       "      <td>b3504</td>\n",
       "      <td>yhiS_2</td>\n",
       "      <td>yhiS_1</td>\n",
       "      <td>EcoCyc</td>\n",
       "    </tr>\n",
       "    <tr>\n",
       "      <th>1</th>\n",
       "      <td>b0240</td>\n",
       "      <td>crl_1</td>\n",
       "      <td>crl_2</td>\n",
       "      <td>EcoCyc</td>\n",
       "    </tr>\n",
       "    <tr>\n",
       "      <th>2</th>\n",
       "      <td>b0240</td>\n",
       "      <td>crl_2</td>\n",
       "      <td>crl_1</td>\n",
       "      <td>EcoCyc</td>\n",
       "    </tr>\n",
       "    <tr>\n",
       "      <th>3</th>\n",
       "      <td>b3504</td>\n",
       "      <td>yhiS_1</td>\n",
       "      <td>yhiS_2</td>\n",
       "      <td>EcoCyc</td>\n",
       "    </tr>\n",
       "    <tr>\n",
       "      <th>4</th>\n",
       "      <td>b4581</td>\n",
       "      <td>ybeM</td>\n",
       "      <td>ybeH</td>\n",
       "      <td>UniProt</td>\n",
       "    </tr>\n",
       "    <tr>\n",
       "      <th>5</th>\n",
       "      <td>b4581</td>\n",
       "      <td>ybeH</td>\n",
       "      <td>ybeM</td>\n",
       "      <td>UniProt</td>\n",
       "    </tr>\n",
       "  </tbody>\n",
       "</table>\n",
       "</div>"
      ],
      "text/plain": [
       "  locus_id primary_name primary_name2     name\n",
       "0  b3504    yhiS_2       yhiS_1        EcoCyc \n",
       "1  b0240    crl_1        crl_2         EcoCyc \n",
       "2  b0240    crl_2        crl_1         EcoCyc \n",
       "3  b3504    yhiS_1       yhiS_2        EcoCyc \n",
       "4  b4581    ybeM         ybeH          UniProt\n",
       "5  b4581    ybeH         ybeM          UniProt"
      ]
     },
     "execution_count": 59,
     "metadata": {},
     "output_type": "execute_result"
    }
   ],
   "source": [
    "duplicates"
   ]
  },
  {
   "cell_type": "markdown",
   "metadata": {},
   "source": [
    "# Kbase comparison plot\n",
    "NOTE: 55 EcoCyc & 1 UniProt genes without a locus tag and 2 EcoCyc and 1 Uniprot genes with duplicated locus tags are ignored in this plot"
   ]
  },
  {
   "cell_type": "code",
   "execution_count": 60,
   "metadata": {
    "collapsed": true
   },
   "outputs": [],
   "source": [
    "kbases = to_df(\n",
    "    session.query(Gene.locus_id,\n",
    "                  KnowledgebaseGene.primary_name,\n",
    "                  KnowledgebaseGene.annotation_quality,\n",
    "                  Knowledgebase.name.label('knowledgebase_name'))\n",
    "    .join(KnowledgebaseGene)\n",
    "    .join(Knowledgebase)\n",
    ")"
   ]
  },
  {
   "cell_type": "code",
   "execution_count": 61,
   "metadata": {
    "collapsed": true
   },
   "outputs": [],
   "source": [
    "# high quality EcoCyc evidence should override everything, e.g. b0089 / ftsW \n",
    "ecocyc_evidence = to_df(\n",
    "    session.query(Gene.locus_id,\n",
    "                  KnowledgebaseFeature.feature)\n",
    "    .join(KnowledgebaseGene)\n",
    "    .join(Knowledgebase)\n",
    "    .join(KnowledgebaseFeature)\n",
    "    .filter(Knowledgebase.name == 'EcoCyc')\n",
    "    .filter(KnowledgebaseFeature.feature_type == 'evidence_html')\n",
    ")\n",
    "ecocyc_evidence_has_assay = ecocyc_evidence[ecocyc_evidence.feature.str.contains('assay', flags=re.IGNORECASE)\n",
    "                                            | ecocyc_evidence.feature.str.contains('reaction blocked in mutant', flags=re.IGNORECASE)\n",
    "                                            | ecocyc_evidence.feature.str.contains('traceable author statement to experimental support', flags=re.IGNORECASE)]"
   ]
  },
  {
   "cell_type": "code",
   "execution_count": 62,
   "metadata": {
    "collapsed": true
   },
   "outputs": [],
   "source": [
    "def calculate_y_ome(row):\n",
    "    any_high =     any(x == 'high'     for x in row)\n",
    "    any_low =      any(x == 'low'      for x in row)\n",
    "    any_excluded = any(x == 'excluded' for x in row)\n",
    "    # good results when EcoCyc and UniProt agree\n",
    "    ecocyc_uniprot_high = (row['EcoCyc'] == 'high' and row['UniProt'] == 'high')\n",
    "    # high quality EcoCyc evidence should override everything, e.g. b0089 / ftsW \n",
    "    has_experimental_assay = row.name in ecocyc_evidence_has_assay.locus_id.values\n",
    "    # RegulonDB should override everything\n",
    "    regulon_db_high = row['RegulonDB'] == 'high'\n",
    "    \n",
    "    return 'high'     if (has_experimental_assay or regulon_db_high or ecocyc_uniprot_high or\n",
    "                          (any_high     and not any_low  and not any_excluded)) \\\n",
    "      else 'low'      if ( any_low      and not any_high and not any_excluded) \\\n",
    "      else 'excluded' if ( any_excluded and not any_high) \\\n",
    "      else 'tbd'"
   ]
  },
  {
   "cell_type": "code",
   "execution_count": 63,
   "metadata": {
    "collapsed": true
   },
   "outputs": [],
   "source": [
    "# remove duplicate genes\n",
    "kbases_unstacked = kbases.set_index(['locus_id', 'knowledgebase_name'])\n",
    "kbases_unstacked = kbases_unstacked[~kbases_unstacked.index.duplicated(keep='first')]\n",
    "kbases_unstacked = kbases_unstacked.drop('primary_name', axis=1).unstack()\n",
    "kbases_unstacked.columns = kbases_unstacked.columns.droplevel(0)"
   ]
  },
  {
   "cell_type": "code",
   "execution_count": 64,
   "metadata": {},
   "outputs": [],
   "source": [
    "# calculate Y-ome; don't rely on ME-model\n",
    "kbases_unstacked['Y-ome'] = kbases_unstacked[kbases_unstacked.columns.drop('iJL1678b')].apply(calculate_y_ome, axis=1)"
   ]
  },
  {
   "cell_type": "code",
   "execution_count": 65,
   "metadata": {},
   "outputs": [
    {
     "data": {
      "text/plain": [
       "high        2585\n",
       "low         1522\n",
       "excluded    306 \n",
       "tbd         240 \n",
       "Name: Y-ome, dtype: int64"
      ]
     },
     "execution_count": 65,
     "metadata": {},
     "output_type": "execute_result"
    }
   ],
   "source": [
    "# Y-ome counts\n",
    "kbases_unstacked['Y-ome'].value_counts()"
   ]
  },
  {
   "cell_type": "code",
   "execution_count": 66,
   "metadata": {
    "collapsed": true
   },
   "outputs": [],
   "source": [
    "# get list of genes starting with y in EcoCyc\n",
    "# high quality EcoCyc evidence should override everything, e.g. b0089 / ftsW "
   ]
  },
  {
   "cell_type": "code",
   "execution_count": 67,
   "metadata": {
    "collapsed": true
   },
   "outputs": [],
   "source": [
    "ecocyc_names = {x[0]: x[1] for x in (\n",
    "    session.query(Gene.locus_id,\n",
    "                  KnowledgebaseGene.primary_name)\n",
    "    .join(KnowledgebaseGene)\n",
    "    .join(Knowledgebase)\n",
    "    .filter(Knowledgebase.name == 'EcoCyc')\n",
    ").all()}"
   ]
  },
  {
   "cell_type": "code",
   "execution_count": 68,
   "metadata": {
    "collapsed": true
   },
   "outputs": [],
   "source": [
    "def starts_y(row):\n",
    "    primary_name = ecocyc_names.get(row.name, None)\n",
    "    return 'low' if primary_name and primary_name.startswith('y') \\\n",
    "        else 'high' if primary_name \\\n",
    "        else 'excluded'"
   ]
  },
  {
   "cell_type": "code",
   "execution_count": 69,
   "metadata": {},
   "outputs": [],
   "source": [
    "kbases_unstacked['starts_y'] = kbases_unstacked.apply(starts_y, axis=1)"
   ]
  },
  {
   "cell_type": "code",
   "execution_count": 70,
   "metadata": {
    "collapsed": true
   },
   "outputs": [],
   "source": [
    "levels = {\n",
    "    'excluded': 0,\n",
    "    'tbd': 1,\n",
    "    'low': 2,\n",
    "    'high': 3,\n",
    "    None: 4\n",
    "}"
   ]
  },
  {
   "cell_type": "code",
   "execution_count": 71,
   "metadata": {
    "collapsed": true
   },
   "outputs": [],
   "source": [
    "colors = {\n",
    "    0: [ 0.85453713,  0.22957019,  0.27623218,  1.        ], # bright red\n",
    "    1: [ 0.9170408 ,  0.56061475,  0.58722664,  1.        ], # red\n",
    "    2: [ 0.57653009,  0.72175186,  0.76633449,  1.        ], # light blue green\n",
    "    3: [ 0.24715576,  0.49918708,  0.57655991,  1.        ], # dark blue green\n",
    "    4: [ 0.6,         0.6,         0.6,         1.        ], # grey\n",
    "}\n",
    "# pal = sns.diverging_palette(10, 220, sep=80, n=7)\n",
    "# sns.palplot(pal)\n",
    "# pal"
   ]
  },
  {
   "cell_type": "code",
   "execution_count": 72,
   "metadata": {},
   "outputs": [],
   "source": [
    "knowledgebase_names = list(kbases_unstacked.columns)\n",
    "kbases_plot = kbases_unstacked.applymap(lambda x: levels[x]).sort_values(by=list(kbases_unstacked.columns))"
   ]
  },
  {
   "cell_type": "code",
   "execution_count": 73,
   "metadata": {
    "collapsed": true
   },
   "outputs": [],
   "source": [
    "# create bars based on consecutive colors\n",
    "last_value = {kbase: None for kbase in knowledgebase_names}\n",
    "bars = {kbase: [] for kbase in knowledgebase_names}\n",
    "for locus_tag, row in kbases_plot.iterrows():\n",
    "    for kbase, value in row.iteritems():\n",
    "        if len(bars[kbase]) == 0 or bars[kbase][-1]['value'] != value:\n",
    "            bars[kbase].append({'value': value, 'height': 1})\n",
    "            last_value[kbase] = value\n",
    "        else:\n",
    "            bars[kbase][-1]['height'] += 1"
   ]
  },
  {
   "cell_type": "code",
   "execution_count": 74,
   "metadata": {},
   "outputs": [
    {
     "name": "stderr",
     "output_type": "stream",
     "text": [
      "/usr/local/lib/python3.6/site-packages/matplotlib/font_manager.py:1297: UserWarning: findfont: Font family ['sans-serif'] not found. Falling back to DejaVu Sans\n",
      "  (prop.get_family(), self.defaultFamily[fontext]))\n"
     ]
    },
    {
     "data": {
      "image/png": "[encoded data removed]",
      "text/plain": [
       "<matplotlib.figure.Figure at 0x10bd0c518>"
      ]
     },
     "metadata": {},
     "output_type": "display_data"
    }
   ],
   "source": [
    "fig, ax = plt.subplots(figsize=(11, 11))\n",
    "last_heights = [0 for _ in knowledgebase_names]\n",
    "for bar_list in it.zip_longest(*bars.values()):\n",
    "    left = [x + 0.1 for x in range(len(knowledgebase_names))]\n",
    "    height = [x['height'] if x is not None else 0 for x in bar_list]\n",
    "    bottom = last_heights\n",
    "    last_heights = [x + y for x, y in zip(height, last_heights)]\n",
    "    color = [colors[x['value']] if x is not None else 'k' for x in bar_list]\n",
    "    ax.bar(left, height, bottom=bottom, color=color, linewidth=0)\n",
    "ax.set_xlabel('Knowledgebase')\n",
    "ax.set_ylabel('Gene')\n",
    "ax.xaxis.set_ticks([x + 0.1 for x in range(len(kbases_plot.columns))])\n",
    "ax.xaxis.set_ticklabels(kbases_plot.columns)\n",
    "fig.savefig('/Users/zaking/lab/y-ome/figs/y-ome-latest.png')"
   ]
  },
  {
   "cell_type": "markdown",
   "metadata": {},
   "source": [
    "# cases to check:\n",
    "\n",
    "### High in one DB, low in another\n",
    "\n",
    "+ High in EcoCyc and low in EcoGene\n",
    "  + result: based on *caiC*, give \"high\" priority over \"low\" because EcoCyc has more up-to-date information for \"high\" cases\n",
    "+ High in UniProt and low in EcoCyc\n",
    "  + result: based on *yadI / b0129*, don't rely on EC number in UniProt; use annotation score instead\n",
    "  + result: based on *mrdB*, don't categorize \"family protein\" as poor annotation in EcoCyc\n",
    "  + result: based on *YdcE / b1461*, UniProt high should override EcoCyc because EcoCyc missed the experimental validation in the linked paper (good example for the text)\n",
    "  + result: based on *dgcJ / b1786*, uniprot level 5 annotation should be \"low\", because even putative functions are given this level of annotation (also a good example for the text)\n",
    "+ High in ME-model, low in EcoCyc\n",
    "  + result: ME-model includes putative annotations (e.g. YaaJ). Don't mark these as high\n",
    "  + TODO provide an analysis of them in the text\n",
    "+ High in EcoCyc and low in UniProt\n",
    "  + result: based on thrL; UniProt got this one wrong, should be high\n",
    "+ dicuss how to prefer b0240 / crl to `_1` and `_2` \n",
    "  + https://biocyc.org/gene?orgid=ECOLI&id=G0-16683\n",
    "  + https://biocyc.org/gene?orgid=ECOLI&id=G0-16684\n",
    "  + https://biocyc.org/gene?orgid=ECOLI&id=EG11092\n",
    "  + one solution: devote a paragraph to the discussin in https://biocyc.org/gene?orgid=ECOLI&id=EG11092, noting that UniProt marks this one as \"high\", and EcoCyc marks it as a pseudogene even though there is a clear function\n",
    "+ consider EcoCyc 'family protein' as a low keyword\n",
    "  + result: would only have re-categorized fepE / b0587\n",
    "\n",
    "### Other E. coli evidence tags\n",
    "\n",
    "+ \"gene expression analysis\" is promising, but a number of transcription factors in E. coli have this evidence, but do not have known conditions of binding or binding targets. E.g. yeiL / b2163 and adiY / b4116\n",
    "+ \"inferred by functional complementation\" is used with poorly characterized genes like b2952 / yggT\n",
    "+ \"binding of purified proteins\" doesn't catch anything new\n",
    "+ \"Inferred from genetic interaction\" will get b0461 wrong\n",
    "+ \"Author hypothesis\" is too vague\n",
    "+ \"inferred from mutant phenotype\" appears on lots of poorly annotated genes, e.g. dctR / b3507\n",
    "+ 'phage or prophage related' in EcoGene does not mean uncharacterized. e.g. icd / b1136\n",
    "\n",
    "### Genes where Y-ome disagrees with EcoCyc\n",
    "\n",
    "Result: After spot-checking a number of cases where EcoCyc is not in agreement with the final Y-ome:\n",
    "\n",
    "- pseudogenes called by EcoGene are just listed as poorly characterized genes in EcoCyc (OK)\n",
    "- UniProt gives annotation scores to help clarify annotation for a number of genes. These are present and annotated in EcoCyc, but the annotation level cannot be determined automatically (OK)\n",
    "\n",
    "### TODO bring in regulonDB\n"
   ]
  },
  {
   "cell_type": "markdown",
   "metadata": {},
   "source": [
    "## Assertions\n",
    "The literature points to a particular answer for these genes"
   ]
  },
  {
   "cell_type": "code",
   "execution_count": 200,
   "metadata": {},
   "outputs": [
    {
     "name": "stdout",
     "output_type": "stream",
     "text": [
      "Empty DataFrame\n",
      "Columns: [EcoCyc, EcoGene, RefSeq, RegulonDB, UniProt, iJL1678b, Y-ome, starts_y]\n",
      "Index: []\n"
     ]
    }
   ],
   "source": [
    "assertions = pd.read_table('../sources/manual/manual.tsv', sep='\\t', index_col='locus_tag')\n",
    "\n",
    "# Check for any incorrect assertions\n",
    "def check_for_row(row):\n",
    "    return any(row.name == locus_tag and row['Y-ome'] != val and row['Y-ome'] != 'tbd' and val != 'read'\n",
    "               for locus_tag, val in assertions.new_qual.iteritems())\n",
    "res = kbases_unstacked[kbases_unstacked.apply(check_for_row, axis=1)]\n",
    "print(res)\n",
    "assert(len(res) == 0)"
   ]
  },
  {
   "cell_type": "code",
   "execution_count": 201,
   "metadata": {},
   "outputs": [
    {
     "name": "stdout",
     "output_type": "stream",
     "text": [
      "157 genes; next locus: b1968\n"
     ]
    },
    {
     "data": {
      "text/html": [
       "<div>\n",
       "<style>\n",
       "    .dataframe thead tr:only-child th {\n",
       "        text-align: right;\n",
       "    }\n",
       "\n",
       "    .dataframe thead th {\n",
       "        text-align: left;\n",
       "    }\n",
       "\n",
       "    .dataframe tbody tr th {\n",
       "        vertical-align: top;\n",
       "    }\n",
       "</style>\n",
       "<table border=\"1\" class=\"dataframe\">\n",
       "  <thead>\n",
       "    <tr style=\"text-align: right;\">\n",
       "      <th>knowledgebase_name</th>\n",
       "      <th>EcoCyc</th>\n",
       "      <th>EcoGene</th>\n",
       "      <th>RefSeq</th>\n",
       "      <th>RegulonDB</th>\n",
       "      <th>UniProt</th>\n",
       "      <th>iJL1678b</th>\n",
       "      <th>Y-ome</th>\n",
       "      <th>starts_y</th>\n",
       "    </tr>\n",
       "    <tr>\n",
       "      <th>locus_id</th>\n",
       "      <th></th>\n",
       "      <th></th>\n",
       "      <th></th>\n",
       "      <th></th>\n",
       "      <th></th>\n",
       "      <th></th>\n",
       "      <th></th>\n",
       "      <th></th>\n",
       "    </tr>\n",
       "  </thead>\n",
       "  <tbody>\n",
       "    <tr>\n",
       "      <th>b1968</th>\n",
       "      <td>high</td>\n",
       "      <td>low</td>\n",
       "      <td>tbd</td>\n",
       "      <td>None</td>\n",
       "      <td>tbd</td>\n",
       "      <td>None</td>\n",
       "      <td>tbd</td>\n",
       "      <td>high</td>\n",
       "    </tr>\n",
       "  </tbody>\n",
       "</table>\n",
       "</div>"
      ],
      "text/plain": [
       "knowledgebase_name EcoCyc EcoGene RefSeq RegulonDB UniProt iJL1678b Y-ome  \\\n",
       "locus_id                                                                    \n",
       "b1968               high   low     tbd    None      tbd     None     tbd    \n",
       "\n",
       "knowledgebase_name starts_y  \n",
       "locus_id                     \n",
       "b1968               high     "
      ]
     },
     "execution_count": 201,
     "metadata": {},
     "output_type": "execute_result"
    }
   ],
   "source": [
    "tbd = kbases_unstacked[(kbases_unstacked['Y-ome'] == 'tbd') & ~kbases_unstacked.index.isin(assertions.index)]\n",
    "tbd_locus_tag = tbd.index[1]\n",
    "print(f'{len(tbd)} genes; next locus: {tbd_locus_tag}')\n",
    "\n",
    "kbases_unstacked[kbases_unstacked.index == tbd_locus_tag]"
   ]
  },
  {
   "cell_type": "code",
   "execution_count": 202,
   "metadata": {},
   "outputs": [
    {
     "name": "stdout",
     "output_type": "stream",
     "text": [
      "locus_id        b1968\n",
      "primary_name    hprS \n",
      "Name: 0, dtype: object\n"
     ]
    },
    {
     "data": {
      "text/html": [
       "<style  type=\"text/css\" >\n",
       "    #T_85ea9b46_ebf8_11e7_9974_a60024489901row0_col0 {\n",
       "            text-align:  left;\n",
       "        }    #T_85ea9b46_ebf8_11e7_9974_a60024489901row1_col0 {\n",
       "            text-align:  left;\n",
       "        }    #T_85ea9b46_ebf8_11e7_9974_a60024489901row2_col0 {\n",
       "            text-align:  left;\n",
       "        }    #T_85ea9b46_ebf8_11e7_9974_a60024489901row3_col0 {\n",
       "            text-align:  left;\n",
       "        }    #T_85ea9b46_ebf8_11e7_9974_a60024489901row4_col0 {\n",
       "            text-align:  left;\n",
       "        }    #T_85ea9b46_ebf8_11e7_9974_a60024489901row5_col0 {\n",
       "            text-align:  left;\n",
       "        }    #T_85ea9b46_ebf8_11e7_9974_a60024489901row6_col0 {\n",
       "            text-align:  left;\n",
       "        }    #T_85ea9b46_ebf8_11e7_9974_a60024489901row7_col0 {\n",
       "            text-align:  left;\n",
       "        }    #T_85ea9b46_ebf8_11e7_9974_a60024489901row8_col0 {\n",
       "            text-align:  left;\n",
       "        }    #T_85ea9b46_ebf8_11e7_9974_a60024489901row9_col0 {\n",
       "            text-align:  left;\n",
       "        }    #T_85ea9b46_ebf8_11e7_9974_a60024489901row10_col0 {\n",
       "            text-align:  left;\n",
       "        }    #T_85ea9b46_ebf8_11e7_9974_a60024489901row11_col0 {\n",
       "            text-align:  left;\n",
       "        }    #T_85ea9b46_ebf8_11e7_9974_a60024489901row12_col0 {\n",
       "            text-align:  left;\n",
       "        }    #T_85ea9b46_ebf8_11e7_9974_a60024489901row13_col0 {\n",
       "            text-align:  left;\n",
       "        }    #T_85ea9b46_ebf8_11e7_9974_a60024489901row14_col0 {\n",
       "            text-align:  left;\n",
       "        }    #T_85ea9b46_ebf8_11e7_9974_a60024489901row15_col0 {\n",
       "            text-align:  left;\n",
       "        }    #T_85ea9b46_ebf8_11e7_9974_a60024489901row16_col0 {\n",
       "            text-align:  left;\n",
       "        }    #T_85ea9b46_ebf8_11e7_9974_a60024489901row17_col0 {\n",
       "            text-align:  left;\n",
       "        }    #T_85ea9b46_ebf8_11e7_9974_a60024489901row18_col0 {\n",
       "            text-align:  left;\n",
       "        }    #T_85ea9b46_ebf8_11e7_9974_a60024489901row19_col0 {\n",
       "            text-align:  left;\n",
       "        }    #T_85ea9b46_ebf8_11e7_9974_a60024489901row20_col0 {\n",
       "            text-align:  left;\n",
       "        }</style>  \n",
       "<table id=\"T_85ea9b46_ebf8_11e7_9974_a60024489901\" > \n",
       "<thead>    <tr> \n",
       "        <th class=\"blank\" ></th> \n",
       "        <th class=\"blank level0\" ></th> \n",
       "        <th class=\"col_heading level0 col0\" >feature</th> \n",
       "    </tr>    <tr> \n",
       "        <th class=\"index_name level0\" >knowledgebase_name</th> \n",
       "        <th class=\"index_name level1\" >feature_type</th> \n",
       "        <th class=\"blank\" ></th> \n",
       "    </tr></thead> \n",
       "<tbody>    <tr> \n",
       "        <th id=\"T_85ea9b46_ebf8_11e7_9974_a60024489901level0_row0\" class=\"row_heading level0 row0\" rowspan=6>EcoCyc (high)</th> \n",
       "        <th id=\"T_85ea9b46_ebf8_11e7_9974_a60024489901level1_row0\" class=\"row_heading level1 row0\" >description</th> \n",
       "        <td id=\"T_85ea9b46_ebf8_11e7_9974_a60024489901row0_col0\" class=\"data row0 col0\" >sensory histidine kinase HprS</td> \n",
       "    </tr>    <tr> \n",
       "        <th id=\"T_85ea9b46_ebf8_11e7_9974_a60024489901level1_row1\" class=\"row_heading level1 row1\" >summary_html</th> \n",
       "        <td id=\"T_85ea9b46_ebf8_11e7_9974_a60024489901row1_col0\" class=\"data row1 col0\" >SummaryHprS is the sensory histidine kinase of the HprSR two component system involved in the stress response to hydrogen peroxide; the response regulator HprR is a transcription factor which regulates several target genes (cyoA, cusC, hiu) implicated in the production of reactive oxygen species [Urano15, Urano17].HprS senses H2O2 by an unknown mechanism; mutation of a cysteine residue located in the second transmembrane domain of HprS (C165A) results in a decreased response to H2O2 (detected by monitoring HprS-dependent hiuH transcription) suggesting that HprS may sense the redox state of the membrane [Urano17]  The purified cytoplasmic histidine kinase domain of HprS has autocatalytic self-phosphorylation activity in vitro; a small amount of trans-phosphorylation of HprR and non-cognate response regulators is also observed [Yamamoto05a].HprS is predicted to be an inner membrane protein with two transmembrane domains; topology analysis suggests the C-terminus is located in the cytoplasm [Daley05].hprS transcription is increased by copper in a CusR-dependent manner [Yamamoto05].A functional HprSR two-component system is required for the induced synthesis of a periplasmic methionine sulfoxide reductase, MsrP, in response to hypochlorous acid exposure [Gennaris15].  Additional Citations: \n",
       "[ParadisBleau14, \n",
       "Zhou03b]  </td> \n",
       "    </tr>    <tr> \n",
       "        <th id=\"T_85ea9b46_ebf8_11e7_9974_a60024489901level1_row2\" class=\"row_heading level1 row2\" >product_type</th> \n",
       "        <td id=\"T_85ea9b46_ebf8_11e7_9974_a60024489901row2_col0\" class=\"data row2 col0\" >polypeptide</td> \n",
       "    </tr>    <tr> \n",
       "        <th id=\"T_85ea9b46_ebf8_11e7_9974_a60024489901level1_row3\" class=\"row_heading level1 row3\" >reaction_equation</th> \n",
       "        <td id=\"T_85ea9b46_ebf8_11e7_9974_a60024489901row3_col0\" class=\"data row3 col0\" >HprS + ATP  →  HprS-P + ADP</td> \n",
       "    </tr>    <tr> \n",
       "        <th id=\"T_85ea9b46_ebf8_11e7_9974_a60024489901level1_row4\" class=\"row_heading level1 row4\" >is_pseudogene</th> \n",
       "        <td id=\"T_85ea9b46_ebf8_11e7_9974_a60024489901row4_col0\" class=\"data row4 col0\" >f</td> \n",
       "    </tr>    <tr> \n",
       "        <th id=\"T_85ea9b46_ebf8_11e7_9974_a60024489901level1_row5\" class=\"row_heading level1 row5\" >is_phantom_gene</th> \n",
       "        <td id=\"T_85ea9b46_ebf8_11e7_9974_a60024489901row5_col0\" class=\"data row5 col0\" >f</td> \n",
       "    </tr>    <tr> \n",
       "        <th id=\"T_85ea9b46_ebf8_11e7_9974_a60024489901level0_row6\" class=\"row_heading level0 row6\" rowspan=5>EcoGene (low)</th> \n",
       "        <th id=\"T_85ea9b46_ebf8_11e7_9974_a60024489901level1_row6\" class=\"row_heading level1 row6\" >protein</th> \n",
       "        <td id=\"T_85ea9b46_ebf8_11e7_9974_a60024489901row6_col0\" class=\"data row6 col0\" >putative sensory kinase in two-component regulatory system with YedW</td> \n",
       "    </tr>    <tr> \n",
       "        <th id=\"T_85ea9b46_ebf8_11e7_9974_a60024489901level1_row7\" class=\"row_heading level1 row7\" >function</th> \n",
       "        <td id=\"T_85ea9b46_ebf8_11e7_9974_a60024489901row7_col0\" class=\"data row7 col0\" >Putative regulator; Not classified</td> \n",
       "    </tr>    <tr> \n",
       "        <th id=\"T_85ea9b46_ebf8_11e7_9974_a60024489901level1_row8\" class=\"row_heading level1 row8\" >description</th> \n",
       "        <td id=\"T_85ea9b46_ebf8_11e7_9974_a60024489901row8_col0\" class=\"data row8 col0\" >Predicted histidine protein kinase sensor, function unknown</td> \n",
       "    </tr>    <tr> \n",
       "        <th id=\"T_85ea9b46_ebf8_11e7_9974_a60024489901level1_row9\" class=\"row_heading level1 row9\" >comments</th> \n",
       "        <td id=\"T_85ea9b46_ebf8_11e7_9974_a60024489901row9_col0\" class=\"data row9 col0\" >Part of putative two-component regulator system with response regulator YedW</td> \n",
       "    </tr>    <tr> \n",
       "        <th id=\"T_85ea9b46_ebf8_11e7_9974_a60024489901level1_row10\" class=\"row_heading level1 row10\" >is_pseudogene</th> \n",
       "        <td id=\"T_85ea9b46_ebf8_11e7_9974_a60024489901row10_col0\" class=\"data row10 col0\" >f</td> \n",
       "    </tr>    <tr> \n",
       "        <th id=\"T_85ea9b46_ebf8_11e7_9974_a60024489901level0_row11\" class=\"row_heading level0 row11\" rowspan=7>UniProt (tbd)</th> \n",
       "        <th id=\"T_85ea9b46_ebf8_11e7_9974_a60024489901level1_row11\" class=\"row_heading level1 row11\" >upid</th> \n",
       "        <td id=\"T_85ea9b46_ebf8_11e7_9974_a60024489901row11_col0\" class=\"data row11 col0\" >P76339</td> \n",
       "    </tr>    <tr> \n",
       "        <th id=\"T_85ea9b46_ebf8_11e7_9974_a60024489901level1_row12\" class=\"row_heading level1 row12\" >protein</th> \n",
       "        <td id=\"T_85ea9b46_ebf8_11e7_9974_a60024489901row12_col0\" class=\"data row12 col0\" >Probable sensor-like histidine kinase YedV (EC 2.7.13.3)</td> \n",
       "    </tr>    <tr> \n",
       "        <th id=\"T_85ea9b46_ebf8_11e7_9974_a60024489901level1_row13\" class=\"row_heading level1 row13\" >ec_number</th> \n",
       "        <td id=\"T_85ea9b46_ebf8_11e7_9974_a60024489901row13_col0\" class=\"data row13 col0\" >2.7.13.3</td> \n",
       "    </tr>    <tr> \n",
       "        <th id=\"T_85ea9b46_ebf8_11e7_9974_a60024489901level1_row14\" class=\"row_heading level1 row14\" >reaction</th> \n",
       "        <td id=\"T_85ea9b46_ebf8_11e7_9974_a60024489901row14_col0\" class=\"data row14 col0\" >CATALYTIC ACTIVITY: ATP + protein L-histidine = ADP + protein N-phospho-L-histidine.</td> \n",
       "    </tr>    <tr> \n",
       "        <th id=\"T_85ea9b46_ebf8_11e7_9974_a60024489901level1_row15\" class=\"row_heading level1 row15\" >function</th> \n",
       "        <td id=\"T_85ea9b46_ebf8_11e7_9974_a60024489901row15_col0\" class=\"data row15 col0\" >FUNCTION: Probable member of a two-component regulatory system YedW/YedV. Activates YedW by phosphorylation. {ECO:0000269|PubMed:15522865}.</td> \n",
       "    </tr>    <tr> \n",
       "        <th id=\"T_85ea9b46_ebf8_11e7_9974_a60024489901level1_row16\" class=\"row_heading level1 row16\" >features</th> \n",
       "        <td id=\"T_85ea9b46_ebf8_11e7_9974_a60024489901row16_col0\" class=\"data row16 col0\" >Chain (1); Domain (2); Modified residue (1); Topological domain (3); Transmembrane (2)</td> \n",
       "    </tr>    <tr> \n",
       "        <th id=\"T_85ea9b46_ebf8_11e7_9974_a60024489901level1_row17\" class=\"row_heading level1 row17\" >annotation_score</th> \n",
       "        <td id=\"T_85ea9b46_ebf8_11e7_9974_a60024489901row17_col0\" class=\"data row17 col0\" >4</td> \n",
       "    </tr>    <tr> \n",
       "        <th id=\"T_85ea9b46_ebf8_11e7_9974_a60024489901level0_row18\" class=\"row_heading level0 row18\" rowspan=3>RefSeq (tbd)</th> \n",
       "        <th id=\"T_85ea9b46_ebf8_11e7_9974_a60024489901level1_row18\" class=\"row_heading level1 row18\" >ec_numbers</th> \n",
       "        <td id=\"T_85ea9b46_ebf8_11e7_9974_a60024489901row18_col0\" class=\"data row18 col0\" >{}</td> \n",
       "    </tr>    <tr> \n",
       "        <th id=\"T_85ea9b46_ebf8_11e7_9974_a60024489901level1_row19\" class=\"row_heading level1 row19\" >product</th> \n",
       "        <td id=\"T_85ea9b46_ebf8_11e7_9974_a60024489901row19_col0\" class=\"data row19 col0\" >putative sensory kinase in two-component regulatory system with YedW</td> \n",
       "    </tr>    <tr> \n",
       "        <th id=\"T_85ea9b46_ebf8_11e7_9974_a60024489901level1_row20\" class=\"row_heading level1 row20\" >function</th> \n",
       "        <td id=\"T_85ea9b46_ebf8_11e7_9974_a60024489901row20_col0\" class=\"data row20 col0\" >putative regulator; Not classified</td> \n",
       "    </tr></tbody> \n",
       "</table> "
      ],
      "text/plain": [
       "<IPython.core.display.HTML object>"
      ]
     },
     "execution_count": 202,
     "metadata": {},
     "output_type": "execute_result"
    }
   ],
   "source": [
    "report(tbd_locus_tag)"
   ]
  },
  {
   "cell_type": "markdown",
   "metadata": {
    "collapsed": true
   },
   "source": [
    "# check on evidence type"
   ]
  },
  {
   "cell_type": "code",
   "execution_count": 80,
   "metadata": {
    "collapsed": true
   },
   "outputs": [],
   "source": [
    "ev = to_df(\n",
    "    session.query(\n",
    "        Gene.locus_id,\n",
    "        KnowledgebaseGene.primary_name,\n",
    "        KnowledgebaseFeature.feature,\n",
    "    )\n",
    "    .join(KnowledgebaseGene)\n",
    "    .join(Knowledgebase)\n",
    "    .join(KnowledgebaseFeature)\n",
    "    .filter(Knowledgebase.name == 'EcoCyc')\n",
    "    .filter(KnowledgebaseFeature.feature_type == 'description')\n",
    "    .filter(KnowledgebaseFeature.feature.ilike('%domain-containing protein%'))\n",
    ")"
   ]
  },
  {
   "cell_type": "code",
   "execution_count": 81,
   "metadata": {
    "scrolled": false
   },
   "outputs": [
    {
     "data": {
      "text/html": [
       "<div>\n",
       "<style>\n",
       "    .dataframe thead tr:only-child th {\n",
       "        text-align: right;\n",
       "    }\n",
       "\n",
       "    .dataframe thead th {\n",
       "        text-align: left;\n",
       "    }\n",
       "\n",
       "    .dataframe tbody tr th {\n",
       "        vertical-align: top;\n",
       "    }\n",
       "</style>\n",
       "<table border=\"1\" class=\"dataframe\">\n",
       "  <thead>\n",
       "    <tr style=\"text-align: right;\">\n",
       "      <th></th>\n",
       "      <th>locus_id</th>\n",
       "      <th>primary_name</th>\n",
       "      <th>feature</th>\n",
       "      <th>EcoCyc</th>\n",
       "      <th>EcoGene</th>\n",
       "      <th>RefSeq</th>\n",
       "      <th>RegulonDB</th>\n",
       "      <th>UniProt</th>\n",
       "      <th>iJL1678b</th>\n",
       "      <th>Y-ome</th>\n",
       "      <th>starts_y</th>\n",
       "    </tr>\n",
       "  </thead>\n",
       "  <tbody>\n",
       "    <tr>\n",
       "      <th>39</th>\n",
       "      <td>b1088</td>\n",
       "      <td>yceD</td>\n",
       "      <td>DUF177 domain-containing protein YceD</td>\n",
       "      <td>tbd</td>\n",
       "      <td>tbd</td>\n",
       "      <td>tbd</td>\n",
       "      <td>None</td>\n",
       "      <td>tbd</td>\n",
       "      <td>None</td>\n",
       "      <td>tbd</td>\n",
       "      <td>low</td>\n",
       "    </tr>\n",
       "    <tr>\n",
       "      <th>145</th>\n",
       "      <td>b2144</td>\n",
       "      <td>sanA</td>\n",
       "      <td>DUF218 domain-containing protein SanA</td>\n",
       "      <td>tbd</td>\n",
       "      <td>tbd</td>\n",
       "      <td>tbd</td>\n",
       "      <td>None</td>\n",
       "      <td>tbd</td>\n",
       "      <td>None</td>\n",
       "      <td>tbd</td>\n",
       "      <td>high</td>\n",
       "    </tr>\n",
       "    <tr>\n",
       "      <th>150</th>\n",
       "      <td>b3362</td>\n",
       "      <td>yhfG</td>\n",
       "      <td>DUF2559 domain-containing protein YhfG</td>\n",
       "      <td>high</td>\n",
       "      <td>low</td>\n",
       "      <td>tbd</td>\n",
       "      <td>None</td>\n",
       "      <td>low</td>\n",
       "      <td>None</td>\n",
       "      <td>tbd</td>\n",
       "      <td>low</td>\n",
       "    </tr>\n",
       "  </tbody>\n",
       "</table>\n",
       "</div>"
      ],
      "text/plain": [
       "    locus_id primary_name                                 feature EcoCyc  \\\n",
       "39   b1088    yceD         DUF177 domain-containing protein YceD   tbd     \n",
       "145  b2144    sanA         DUF218 domain-containing protein SanA   tbd     \n",
       "150  b3362    yhfG         DUF2559 domain-containing protein YhfG  high    \n",
       "\n",
       "    EcoGene RefSeq RegulonDB UniProt iJL1678b Y-ome starts_y  \n",
       "39   tbd     tbd    None      tbd     None     tbd   low      \n",
       "145  tbd     tbd    None      tbd     None     tbd   high     \n",
       "150  low     tbd    None      low     None     tbd   low      "
      ]
     },
     "execution_count": 81,
     "metadata": {},
     "output_type": "execute_result"
    }
   ],
   "source": [
    "evm = ev.merge(kbases_unstacked, left_on='locus_id', right_index=True) #['Y-ome'].value_counts()\n",
    "evm[evm['Y-ome'] == 'tbd']"
   ]
  },
  {
   "cell_type": "code",
   "execution_count": 82,
   "metadata": {},
   "outputs": [
    {
     "name": "stdout",
     "output_type": "stream",
     "text": [
      "locus_id        b3361\n",
      "primary_name    fic  \n",
      "Name: 0, dtype: object\n"
     ]
    },
    {
     "data": {
      "text/html": [
       "<style  type=\"text/css\" >\n",
       "    #T_5be89bbe_ebf5_11e7_8c7d_a60024489901row0_col0 {\n",
       "            text-align:  left;\n",
       "        }    #T_5be89bbe_ebf5_11e7_8c7d_a60024489901row1_col0 {\n",
       "            text-align:  left;\n",
       "        }    #T_5be89bbe_ebf5_11e7_8c7d_a60024489901row2_col0 {\n",
       "            text-align:  left;\n",
       "        }    #T_5be89bbe_ebf5_11e7_8c7d_a60024489901row3_col0 {\n",
       "            text-align:  left;\n",
       "        }    #T_5be89bbe_ebf5_11e7_8c7d_a60024489901row4_col0 {\n",
       "            text-align:  left;\n",
       "        }    #T_5be89bbe_ebf5_11e7_8c7d_a60024489901row5_col0 {\n",
       "            text-align:  left;\n",
       "        }    #T_5be89bbe_ebf5_11e7_8c7d_a60024489901row6_col0 {\n",
       "            text-align:  left;\n",
       "        }    #T_5be89bbe_ebf5_11e7_8c7d_a60024489901row7_col0 {\n",
       "            text-align:  left;\n",
       "        }    #T_5be89bbe_ebf5_11e7_8c7d_a60024489901row8_col0 {\n",
       "            text-align:  left;\n",
       "        }    #T_5be89bbe_ebf5_11e7_8c7d_a60024489901row9_col0 {\n",
       "            text-align:  left;\n",
       "        }    #T_5be89bbe_ebf5_11e7_8c7d_a60024489901row10_col0 {\n",
       "            text-align:  left;\n",
       "        }    #T_5be89bbe_ebf5_11e7_8c7d_a60024489901row11_col0 {\n",
       "            text-align:  left;\n",
       "        }    #T_5be89bbe_ebf5_11e7_8c7d_a60024489901row12_col0 {\n",
       "            text-align:  left;\n",
       "        }    #T_5be89bbe_ebf5_11e7_8c7d_a60024489901row13_col0 {\n",
       "            text-align:  left;\n",
       "        }    #T_5be89bbe_ebf5_11e7_8c7d_a60024489901row14_col0 {\n",
       "            text-align:  left;\n",
       "        }    #T_5be89bbe_ebf5_11e7_8c7d_a60024489901row15_col0 {\n",
       "            text-align:  left;\n",
       "        }    #T_5be89bbe_ebf5_11e7_8c7d_a60024489901row16_col0 {\n",
       "            text-align:  left;\n",
       "        }    #T_5be89bbe_ebf5_11e7_8c7d_a60024489901row17_col0 {\n",
       "            text-align:  left;\n",
       "        }    #T_5be89bbe_ebf5_11e7_8c7d_a60024489901row18_col0 {\n",
       "            text-align:  left;\n",
       "        }    #T_5be89bbe_ebf5_11e7_8c7d_a60024489901row19_col0 {\n",
       "            text-align:  left;\n",
       "        }    #T_5be89bbe_ebf5_11e7_8c7d_a60024489901row20_col0 {\n",
       "            text-align:  left;\n",
       "        }</style>  \n",
       "<table id=\"T_5be89bbe_ebf5_11e7_8c7d_a60024489901\" > \n",
       "<thead>    <tr> \n",
       "        <th class=\"blank\" ></th> \n",
       "        <th class=\"blank level0\" ></th> \n",
       "        <th class=\"col_heading level0 col0\" >feature</th> \n",
       "    </tr>    <tr> \n",
       "        <th class=\"index_name level0\" >knowledgebase_name</th> \n",
       "        <th class=\"index_name level1\" >feature_type</th> \n",
       "        <th class=\"blank\" ></th> \n",
       "    </tr></thead> \n",
       "<tbody>    <tr> \n",
       "        <th id=\"T_5be89bbe_ebf5_11e7_8c7d_a60024489901level0_row0\" class=\"row_heading level0 row0\" rowspan=7>EcoCyc (tbd)</th> \n",
       "        <th id=\"T_5be89bbe_ebf5_11e7_8c7d_a60024489901level1_row0\" class=\"row_heading level1 row0\" >description</th> \n",
       "        <td id=\"T_5be89bbe_ebf5_11e7_8c7d_a60024489901row0_col0\" class=\"data row0 col0\" >putative adenosine monophosphate—protein transferase Fic</td> \n",
       "    </tr>    <tr> \n",
       "        <th id=\"T_5be89bbe_ebf5_11e7_8c7d_a60024489901level1_row1\" class=\"row_heading level1 row1\" >summary_html</th> \n",
       "        <td id=\"T_5be89bbe_ebf5_11e7_8c7d_a60024489901row1_col0\" class=\"data row1 col0\" >SummaryThe Fic protein is the founding member of a widespread family of proteins.  It is related to the phage P1 toxin Doc [Anantharaman03] and contains a sequence motif required for AMPylation activity in related proteins [Kinch09].  A small protein encoded upstream of Fic is homologous to the cognate antitoxins [Harms15].  However, the E. coli Fic belongs to a set of enterobacterial FicT homologs with an altered FIC domain signature motif, where a hydrophobic residue is substituted for a conserved arginine residue that is involved in ATP binding in the FicT proteins with AMP transferase activity [Harms15, Stanger16].  Unlike other FicT proteins, expression of the wild-type E. coli protein does not cause a detectable growth defect [Harms15].Crystal structures of the Fic-FicA complex have been solved.  Combined with phylogenetic analysis, the crystal structures show a conserved potential ligand-binding pocket; the ligand awaits identification [Stanger16].A strain containing the fic-1 allele, which encodes a G55R change [Kawamukai89], exhibits heat-sensitive CRP-dependent cell filamentation in the presence of cAMP [Utsumi82].  Filamentation of the fic-1 mutant is associated with production of a 40 kD membrane protein [Utsumi83], and the phenotype can be rescued by NaCl [Kawamukai88] or by folate [Komano91].  The mutation does not appear to affect the structure of the protein [Stanger16].A fic null mutant exhibits a PAB (p-aminobenzoate) or folate requirement at high growth temperatures [Komano91].  Unlike the fic-1 point mutant, a null mutant does not exhibit heat-sensitive, cAMP-induced filamentation [Kawamukai88]. fic is transcribed at stationary phase by RpoS (σS)-containing RNA polymerase holoenzyme [Tanaka93, Utsumi93, Tanaka95, Utsumi95, Miksch95, Hiratsu95].Fic: \"filamentation induced by cAMP\" [Utsumi82](FicT: \"FIC domain toxin\" [Harms15])Review: [Roy15]  Additional Citations: \n",
       "[Tran90, \n",
       "Tran91, \n",
       "Checroun04]  </td> \n",
       "    </tr>    <tr> \n",
       "        <th id=\"T_5be89bbe_ebf5_11e7_8c7d_a60024489901level1_row2\" class=\"row_heading level1 row2\" >product_type</th> \n",
       "        <td id=\"T_5be89bbe_ebf5_11e7_8c7d_a60024489901row2_col0\" class=\"data row2 col0\" >polypeptide</td> \n",
       "    </tr>    <tr> \n",
       "        <th id=\"T_5be89bbe_ebf5_11e7_8c7d_a60024489901level1_row3\" class=\"row_heading level1 row3\" >is_pseudogene</th> \n",
       "        <td id=\"T_5be89bbe_ebf5_11e7_8c7d_a60024489901row3_col0\" class=\"data row3 col0\" >f</td> \n",
       "    </tr>    <tr> \n",
       "        <th id=\"T_5be89bbe_ebf5_11e7_8c7d_a60024489901level1_row4\" class=\"row_heading level1 row4\" >is_phantom_gene</th> \n",
       "        <td id=\"T_5be89bbe_ebf5_11e7_8c7d_a60024489901row4_col0\" class=\"data row4 col0\" >f</td> \n",
       "    </tr>    <tr> \n",
       "        <th id=\"T_5be89bbe_ebf5_11e7_8c7d_a60024489901level1_row5\" class=\"row_heading level1 row5\" >evidence_html</th> \n",
       "        <td id=\"T_5be89bbe_ebf5_11e7_8c7d_a60024489901row5_col0\" class=\"data row5 col0\" >\n",
       "\n",
       "\n",
       "\n",
       "\n",
       "Inferred from mutant phenotype [Komano91]\n",
       "\n",
       "</td> \n",
       "    </tr>    <tr> \n",
       "        <th id=\"T_5be89bbe_ebf5_11e7_8c7d_a60024489901level1_row6\" class=\"row_heading level1 row6\" >component_html</th> \n",
       "        <td id=\"T_5be89bbe_ebf5_11e7_8c7d_a60024489901row6_col0\" class=\"data row6 col0\" >FicT-FicA complex  (summary available):[Fic][YhfG]</td> \n",
       "    </tr>    <tr> \n",
       "        <th id=\"T_5be89bbe_ebf5_11e7_8c7d_a60024489901level0_row7\" class=\"row_heading level0 row7\" rowspan=5>EcoGene (low)</th> \n",
       "        <th id=\"T_5be89bbe_ebf5_11e7_8c7d_a60024489901level1_row7\" class=\"row_heading level1 row7\" >protein</th> \n",
       "        <td id=\"T_5be89bbe_ebf5_11e7_8c7d_a60024489901row7_col0\" class=\"data row7 col0\" >stationary phase-induced protein, putative toxin</td> \n",
       "    </tr>    <tr> \n",
       "        <th id=\"T_5be89bbe_ebf5_11e7_8c7d_a60024489901level1_row8\" class=\"row_heading level1 row8\" >function</th> \n",
       "        <td id=\"T_5be89bbe_ebf5_11e7_8c7d_a60024489901row8_col0\" class=\"data row8 col0\" >Null</td> \n",
       "    </tr>    <tr> \n",
       "        <th id=\"T_5be89bbe_ebf5_11e7_8c7d_a60024489901level1_row9\" class=\"row_heading level1 row9\" >description</th> \n",
       "        <td id=\"T_5be89bbe_ebf5_11e7_8c7d_a60024489901row9_col0\" class=\"data row9 col0\" >Stationary phase-induced protein, putative toxin</td> \n",
       "    </tr>    <tr> \n",
       "        <th id=\"T_5be89bbe_ebf5_11e7_8c7d_a60024489901level1_row10\" class=\"row_heading level1 row10\" >comments</th> \n",
       "        <td id=\"T_5be89bbe_ebf5_11e7_8c7d_a60024489901row10_col0\" class=\"data row10 col0\" >A G55R Fic mutant forms cAMP-induced filaments at elevated temperatures (Utsumi, 1982). The B. schoenbuchensis YhfG homolog antitoxin VhpA binds to and inhibits the adenylyltransferase toxin VhpT that is homologous to Fic (Engel, 2012). Fic/YhfG may constitute a toxin/antitoxin pair (Yamaguchi, 2011). Fic is related to the phage P1 protein kinase toxin Doc (Pfam PF02661) and contains a variant Fido domain (HxFx[D/E]GSGLxxR) that could have either protein kinase or adenosine monophosphate-protein transferase activity (Kinch, 2009; Engel, 2012; Castro-Roa, 2013). fic is RpoS-regulated during stationary phase (Tanaka, 1993; Utsumi, 1993; Tanaka, 1995; Utsumi, 1995; Miksch, 1995). Although Fic was reported to be similar to FtsA, this similarity is not obvious and is not statistically significant (Kawamukai, 1989). OtherPDB (B. schoenbuchensis): 3SHG. OtherPDB (H. somnus): 3N3V. otherPDB (V. parahaemolyticus): 3LET.</td> \n",
       "    </tr>    <tr> \n",
       "        <th id=\"T_5be89bbe_ebf5_11e7_8c7d_a60024489901level1_row11\" class=\"row_heading level1 row11\" >is_pseudogene</th> \n",
       "        <td id=\"T_5be89bbe_ebf5_11e7_8c7d_a60024489901row11_col0\" class=\"data row11 col0\" >f</td> \n",
       "    </tr>    <tr> \n",
       "        <th id=\"T_5be89bbe_ebf5_11e7_8c7d_a60024489901level0_row12\" class=\"row_heading level0 row12\" rowspan=7>UniProt (low)</th> \n",
       "        <th id=\"T_5be89bbe_ebf5_11e7_8c7d_a60024489901level1_row12\" class=\"row_heading level1 row12\" >upid</th> \n",
       "        <td id=\"T_5be89bbe_ebf5_11e7_8c7d_a60024489901row12_col0\" class=\"data row12 col0\" >P20605</td> \n",
       "    </tr>    <tr> \n",
       "        <th id=\"T_5be89bbe_ebf5_11e7_8c7d_a60024489901level1_row13\" class=\"row_heading level1 row13\" >protein</th> \n",
       "        <td id=\"T_5be89bbe_ebf5_11e7_8c7d_a60024489901row13_col0\" class=\"data row13 col0\" >Probable adenosine monophosphate-protein transferase fic (EC 2.7.7.n1) (Cell filamentation protein fic)</td> \n",
       "    </tr>    <tr> \n",
       "        <th id=\"T_5be89bbe_ebf5_11e7_8c7d_a60024489901level1_row14\" class=\"row_heading level1 row14\" >ec_number</th> \n",
       "        <td id=\"T_5be89bbe_ebf5_11e7_8c7d_a60024489901row14_col0\" class=\"data row14 col0\" >2.7.7.n1</td> \n",
       "    </tr>    <tr> \n",
       "        <th id=\"T_5be89bbe_ebf5_11e7_8c7d_a60024489901level1_row15\" class=\"row_heading level1 row15\" >reaction</th> \n",
       "        <td id=\"T_5be89bbe_ebf5_11e7_8c7d_a60024489901row15_col0\" class=\"data row15 col0\" >CATALYTIC ACTIVITY: ATP + [protein]-L-tyrosine = diphosphate + [protein]-O(4)-(5'-adenylyl)-L-tyrosine.; CATALYTIC ACTIVITY: ATP + [protein]-L-threonine = diphosphate + [protein]-O(4)-(5'-adenylyl)-L-threonine.</td> \n",
       "    </tr>    <tr> \n",
       "        <th id=\"T_5be89bbe_ebf5_11e7_8c7d_a60024489901level1_row16\" class=\"row_heading level1 row16\" >function</th> \n",
       "        <td id=\"T_5be89bbe_ebf5_11e7_8c7d_a60024489901row16_col0\" class=\"data row16 col0\" >FUNCTION: Probable adenylyltransferase that mediates the addition of adenosine 5'-monophosphate (AMP) to specific residues of target proteins (By similarity). Involved in cell filamentation induced by cyclic AMP. May have some role in cell division. {ECO:0000250}.</td> \n",
       "    </tr>    <tr> \n",
       "        <th id=\"T_5be89bbe_ebf5_11e7_8c7d_a60024489901level1_row17\" class=\"row_heading level1 row17\" >features</th> \n",
       "        <td id=\"T_5be89bbe_ebf5_11e7_8c7d_a60024489901row17_col0\" class=\"data row17 col0\" >Beta strand (4); Binding site (2); Chain (1); Domain (1); Helix (9); Mutagenesis (1); Nucleotide binding (2); Sequence conflict (2); Turn (2)</td> \n",
       "    </tr>    <tr> \n",
       "        <th id=\"T_5be89bbe_ebf5_11e7_8c7d_a60024489901level1_row18\" class=\"row_heading level1 row18\" >annotation_score</th> \n",
       "        <td id=\"T_5be89bbe_ebf5_11e7_8c7d_a60024489901row18_col0\" class=\"data row18 col0\" >3</td> \n",
       "    </tr>    <tr> \n",
       "        <th id=\"T_5be89bbe_ebf5_11e7_8c7d_a60024489901level0_row19\" class=\"row_heading level0 row19\" rowspan=2>RefSeq (tbd)</th> \n",
       "        <th id=\"T_5be89bbe_ebf5_11e7_8c7d_a60024489901level1_row19\" class=\"row_heading level1 row19\" >ec_numbers</th> \n",
       "        <td id=\"T_5be89bbe_ebf5_11e7_8c7d_a60024489901row19_col0\" class=\"data row19 col0\" >{}</td> \n",
       "    </tr>    <tr> \n",
       "        <th id=\"T_5be89bbe_ebf5_11e7_8c7d_a60024489901level1_row20\" class=\"row_heading level1 row20\" >product</th> \n",
       "        <td id=\"T_5be89bbe_ebf5_11e7_8c7d_a60024489901row20_col0\" class=\"data row20 col0\" >stationary phase-induced protein, putative toxin</td> \n",
       "    </tr></tbody> \n",
       "</table> "
      ],
      "text/plain": [
       "<IPython.core.display.HTML object>"
      ]
     },
     "execution_count": 82,
     "metadata": {},
     "output_type": "execute_result"
    }
   ],
   "source": [
    "report('b3361')"
   ]
  },
  {
   "cell_type": "code",
   "execution_count": null,
   "metadata": {
    "collapsed": true
   },
   "outputs": [],
   "source": []
  }
 ],
 "metadata": {
  "kernelspec": {
   "display_name": "Python 3",
   "language": "python",
   "name": "python3"
  },
  "language_info": {
   "codemirror_mode": {
    "name": "ipython",
    "version": 3
   },
   "file_extension": ".py",
   "mimetype": "text/x-python",
   "name": "python",
   "nbconvert_exporter": "python",
   "pygments_lexer": "ipython3",
   "version": "3.6.3"
  }
 },
 "nbformat": 4,
 "nbformat_minor": 2
}
