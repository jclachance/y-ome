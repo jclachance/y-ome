{
 "cells": [
  {
   "cell_type": "code",
   "execution_count": 1,
   "metadata": {
    "ExecuteTime": {
     "end_time": "2017-06-05T21:09:50.284984",
     "start_time": "2017-06-05T21:09:50.054889"
    }
   },
   "outputs": [],
   "source": [
    "import seaborn as sns\n",
    "import pandas as pd\n",
    "\n",
    "from yome import Session\n",
    "from yome.models import *\n",
    "from yome.util import to_df, report, scale_color, mpl_setup\n",
    "from yome.constants import colors, hatches_by_number"
   ]
  },
  {
   "cell_type": "code",
   "execution_count": 2,
   "metadata": {},
   "outputs": [
    {
     "name": "stdout",
     "output_type": "stream",
     "text": [
      "Populating the interactive namespace from numpy and matplotlib\n"
     ]
    }
   ],
   "source": [
    "%mpl_setup"
   ]
  },
  {
   "cell_type": "code",
   "execution_count": 3,
   "metadata": {
    "ExecuteTime": {
     "end_time": "2017-06-05T21:09:50.418202",
     "start_time": "2017-06-05T21:09:50.416453"
    }
   },
   "outputs": [],
   "source": [
    "sns.set_style('ticks')"
   ]
  },
  {
   "cell_type": "code",
   "execution_count": 4,
   "metadata": {},
   "outputs": [],
   "source": [
    "session = Session()"
   ]
  },
  {
   "cell_type": "code",
   "execution_count": 5,
   "metadata": {},
   "outputs": [],
   "source": [
    "# Import Y-ome\n",
    "y_ome_genes = to_df(\n",
    "    session.query(Gene.locus_id,\n",
    "                  KnowledgebaseGene.annotation_quality)\n",
    "    .join(KnowledgebaseGene)\n",
    "    .join(Knowledgebase)\n",
    "    .filter(Knowledgebase.name == 'Y-ome')\n",
    ")"
   ]
  },
  {
   "cell_type": "code",
   "execution_count": 6,
   "metadata": {
    "ExecuteTime": {
     "end_time": "2017-06-05T21:10:58.618646",
     "start_time": "2017-06-05T21:10:56.433598"
    }
   },
   "outputs": [],
   "source": [
    "# Import RNA -seq\n",
    "rna_raw = pd.read_csv('../data/SBRG_RNASeq_processed.tsv', sep='\\t')"
   ]
  },
  {
   "cell_type": "code",
   "execution_count": 7,
   "metadata": {
    "ExecuteTime": {
     "end_time": "2017-06-05T21:10:58.618646",
     "start_time": "2017-06-05T21:10:56.433598"
    }
   },
   "outputs": [],
   "source": [
    "# Merge the RNA-seq data with the y-ome\n",
    "rna = rna_raw.merge(y_ome_genes, left_on='bnum', right_on='locus_id', how ='inner')"
   ]
  },
  {
   "cell_type": "code",
   "execution_count": 8,
   "metadata": {},
   "outputs": [
    {
     "data": {
      "text/html": [
       "<div>\n",
       "<style scoped>\n",
       "    .dataframe tbody tr th:only-of-type {\n",
       "        vertical-align: middle;\n",
       "    }\n",
       "\n",
       "    .dataframe tbody tr th {\n",
       "        vertical-align: top;\n",
       "    }\n",
       "\n",
       "    .dataframe thead th {\n",
       "        text-align: right;\n",
       "    }\n",
       "</style>\n",
       "<table border=\"1\" class=\"dataframe\">\n",
       "  <thead>\n",
       "    <tr style=\"text-align: right;\">\n",
       "      <th></th>\n",
       "      <th>bnum</th>\n",
       "      <th>baseMean</th>\n",
       "      <th>log2FoldChange</th>\n",
       "      <th>lfcSE</th>\n",
       "      <th>stat</th>\n",
       "      <th>pvalue</th>\n",
       "      <th>padj</th>\n",
       "      <th>cond</th>\n",
       "      <th>locus_id</th>\n",
       "      <th>annotation_quality</th>\n",
       "    </tr>\n",
       "  </thead>\n",
       "  <tbody>\n",
       "    <tr>\n",
       "      <th>0</th>\n",
       "      <td>b0001</td>\n",
       "      <td>1047.687992</td>\n",
       "      <td>-3.652575</td>\n",
       "      <td>0.603298</td>\n",
       "      <td>-6.054348</td>\n",
       "      <td>1.409876e-09</td>\n",
       "      <td>2.749259e-08</td>\n",
       "      <td>ac_9_92_3</td>\n",
       "      <td>b0001</td>\n",
       "      <td>high</td>\n",
       "    </tr>\n",
       "    <tr>\n",
       "      <th>1</th>\n",
       "      <td>b0002</td>\n",
       "      <td>14422.752314</td>\n",
       "      <td>-2.015212</td>\n",
       "      <td>0.190491</td>\n",
       "      <td>-10.579023</td>\n",
       "      <td>3.728270e-26</td>\n",
       "      <td>2.780504e-24</td>\n",
       "      <td>ac_9_92_3</td>\n",
       "      <td>b0002</td>\n",
       "      <td>high</td>\n",
       "    </tr>\n",
       "    <tr>\n",
       "      <th>2</th>\n",
       "      <td>b0003</td>\n",
       "      <td>3692.141252</td>\n",
       "      <td>-1.784765</td>\n",
       "      <td>0.230583</td>\n",
       "      <td>-7.740244</td>\n",
       "      <td>9.922642e-15</td>\n",
       "      <td>3.321351e-13</td>\n",
       "      <td>ac_9_92_3</td>\n",
       "      <td>b0003</td>\n",
       "      <td>high</td>\n",
       "    </tr>\n",
       "    <tr>\n",
       "      <th>3</th>\n",
       "      <td>b0004</td>\n",
       "      <td>4989.691791</td>\n",
       "      <td>-1.796228</td>\n",
       "      <td>0.191637</td>\n",
       "      <td>-9.373078</td>\n",
       "      <td>7.044721e-21</td>\n",
       "      <td>3.839373e-19</td>\n",
       "      <td>ac_9_92_3</td>\n",
       "      <td>b0004</td>\n",
       "      <td>high</td>\n",
       "    </tr>\n",
       "    <tr>\n",
       "      <th>4</th>\n",
       "      <td>b0005</td>\n",
       "      <td>202.942087</td>\n",
       "      <td>-1.632011</td>\n",
       "      <td>0.542319</td>\n",
       "      <td>-3.009317</td>\n",
       "      <td>2.618354e-03</td>\n",
       "      <td>1.466485e-02</td>\n",
       "      <td>ac_9_92_3</td>\n",
       "      <td>b0005</td>\n",
       "      <td>low</td>\n",
       "    </tr>\n",
       "  </tbody>\n",
       "</table>\n",
       "</div>"
      ],
      "text/plain": [
       "    bnum      baseMean  log2FoldChange     lfcSE       stat        pvalue  \\\n",
       "0  b0001   1047.687992       -3.652575  0.603298  -6.054348  1.409876e-09   \n",
       "1  b0002  14422.752314       -2.015212  0.190491 -10.579023  3.728270e-26   \n",
       "2  b0003   3692.141252       -1.784765  0.230583  -7.740244  9.922642e-15   \n",
       "3  b0004   4989.691791       -1.796228  0.191637  -9.373078  7.044721e-21   \n",
       "4  b0005    202.942087       -1.632011  0.542319  -3.009317  2.618354e-03   \n",
       "\n",
       "           padj       cond locus_id annotation_quality  \n",
       "0  2.749259e-08  ac_9_92_3    b0001               high  \n",
       "1  2.780504e-24  ac_9_92_3    b0002               high  \n",
       "2  3.321351e-13  ac_9_92_3    b0003               high  \n",
       "3  3.839373e-19  ac_9_92_3    b0004               high  \n",
       "4  1.466485e-02  ac_9_92_3    b0005                low  "
      ]
     },
     "execution_count": 8,
     "metadata": {},
     "output_type": "execute_result"
    }
   ],
   "source": [
    "rna.head()"
   ]
  },
  {
   "cell_type": "code",
   "execution_count": 9,
   "metadata": {
    "ExecuteTime": {
     "end_time": "2017-06-05T23:33:11.028514",
     "start_time": "2017-06-05T23:33:10.438490"
    }
   },
   "outputs": [
    {
     "data": {
      "image/png": "[encoded data removed]",
      "text/plain": [
       "<matplotlib.figure.Figure at 0x1076ebeb8>"
      ]
     },
     "metadata": {},
     "output_type": "display_data"
    }
   ],
   "source": [
    "MAX = rna.baseMean.max()\n",
    "bins = 10 ** np.linspace(0, np.log10(MAX), 30)\n",
    "\n",
    "fig, ax = plt.subplots(ncols=1, figsize=(10, 5))\n",
    "fig.tight_layout()\n",
    "fig.subplots_adjust(wspace=0.3)\n",
    "high = rna[rna.annotation_quality == 'high'].baseMean\n",
    "low = rna[rna.annotation_quality == 'low'].baseMean\n",
    "excluded = rna[rna.annotation_quality == 'excluded'].baseMean\n",
    "ax.set_xscale('log')\n",
    "ax.hist(\n",
    "    high,\n",
    "    bins=bins,\n",
    "#     histtype='step', \n",
    "    color=colors['blue'], \n",
    "    hatch=hatches_by_number[3],\n",
    "    edgecolor=scale_color(colors['blue'], 1.1),\n",
    "    label='Well annotated',\n",
    "        #linewidth=3,  linestyle=':'\n",
    ")\n",
    "ax.hist(\n",
    "    low,\n",
    "    bins=bins,\n",
    "    #histtype='step',\n",
    "    color=colors['green'],\n",
    "    edgecolor=scale_color(colors['green'], 1.1),\n",
    "    hatch=hatches_by_number[2],\n",
    "    label='Y-ome', \n",
    "#         linewidth=3, linestyle='--'\n",
    "    alpha=0.9,\n",
    ")\n",
    "ax.hist(\n",
    "    excluded,\n",
    "    bins=bins,\n",
    "#     histtype='step',\n",
    "    color=colors['red'],\n",
    "#         linewidth=3,\n",
    "    label = 'Excluded',\n",
    "#     linestyle='-'\n",
    "#     alpha=0.7,\n",
    ")\n",
    "ax.set_ylabel('Count')\n",
    "ax.set_xlabel('Normalized Expression (FPKM)', labelpad=15)\n",
    "# hide top and right axes\n",
    "ax.spines['right'].set_visible(False)\n",
    "ax.spines['top'].set_visible(False)\n",
    "ax.yaxis.set_ticks_position('left')\n",
    "ax.xaxis.set_ticks_position('bottom')\n",
    "ax.yaxis.set_ticklabels([])\n",
    "plt.legend(loc='upper right')\n",
    "fig.savefig('/Users/zaking/lab/y-ome/figs/expression.pdf')\n",
    "fig.savefig('/Users/zaking/lab/y-ome/figs/expression.png')"
   ]
  },
  {
   "cell_type": "code",
   "execution_count": null,
   "metadata": {},
   "outputs": [],
   "source": []
  }
 ],
 "metadata": {
  "kernelspec": {
   "display_name": "Python 3",
   "language": "python",
   "name": "python3"
  },
  "language_info": {
   "codemirror_mode": {
    "name": "ipython",
    "version": 3
   },
   "file_extension": ".py",
   "mimetype": "text/x-python",
   "name": "python",
   "nbconvert_exporter": "python",
   "pygments_lexer": "ipython3",
   "version": "3.6.4"
  },
  "toc": {
   "colors": {
    "hover_highlight": "#DAA520",
    "running_highlight": "#FF0000",
    "selected_highlight": "#FFD700"
   },
   "moveMenuLeft": true,
   "nav_menu": {
    "height": "12px",
    "width": "252px"
   },
   "navigate_menu": true,
   "number_sections": true,
   "sideBar": true,
   "threshold": 4,
   "toc_cell": false,
   "toc_section_display": "block",
   "toc_window_display": false
  }
 },
 "nbformat": 4,
 "nbformat_minor": 2
}
