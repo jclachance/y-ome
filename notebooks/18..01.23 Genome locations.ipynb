{
 "cells": [
  {
   "cell_type": "code",
   "execution_count": 42,
   "metadata": {},
   "outputs": [],
   "source": [
    "import pandas as pd\n",
    "from yome import Session\n",
    "from yome.models import *\n",
    "from yome.util import to_df, report\n",
    "from yome.constants import colors\n",
    "import re\n",
    "from sqlalchemy import or_, and_\n",
    "from sqlalchemy.orm import aliased\n",
    "import seaborn as sns\n",
    "from Bio import SeqIO\n",
    "import numpy as np\n",
    "from tqdm import tqdm\n",
    "import scipy.stats"
   ]
  },
  {
   "cell_type": "code",
   "execution_count": 2,
   "metadata": {},
   "outputs": [
    {
     "name": "stdout",
     "output_type": "stream",
     "text": [
      "Populating the interactive namespace from numpy and matplotlib\n"
     ]
    }
   ],
   "source": [
    "from mpl_recipes import mpl_setup\n",
    "%mpl_setup"
   ]
  },
  {
   "cell_type": "code",
   "execution_count": 3,
   "metadata": {},
   "outputs": [],
   "source": [
    "session = Session()"
   ]
  },
  {
   "cell_type": "code",
   "execution_count": 26,
   "metadata": {},
   "outputs": [],
   "source": [
    "sns.set_style('ticks')"
   ]
  },
  {
   "cell_type": "code",
   "execution_count": 4,
   "metadata": {},
   "outputs": [],
   "source": [
    "# get y-ome list\n",
    "yome = to_df(\n",
    "    session.query(\n",
    "        Gene.locus_id,\n",
    "        KnowledgebaseGene.annotation_quality\n",
    "    )\n",
    "    .join(KnowledgebaseGene)\n",
    "    .join(Knowledgebase)\n",
    "    .filter(Knowledgebase.name == 'Y-ome')\n",
    ")"
   ]
  },
  {
   "cell_type": "code",
   "execution_count": 6,
   "metadata": {},
   "outputs": [],
   "source": [
    "def _get_qual(feat, name, get_first=False):\n",
    "    \"\"\"Get a non-null attribute from the feature.\"\"\"\n",
    "    try:\n",
    "        qual = feat.qualifiers[name]\n",
    "    except KeyError:\n",
    "        if get_first:\n",
    "            return None\n",
    "        else:\n",
    "            return []\n",
    "\n",
    "    def nonempty_str(s):\n",
    "        s = s.strip()\n",
    "        return None if s == '' else s\n",
    "\n",
    "    if get_first:\n",
    "        return nonempty_str(qual[0])\n",
    "    else:\n",
    "        return [y for y in (nonempty_str(x) for x in qual)\n",
    "                if y is not None]"
   ]
  },
  {
   "cell_type": "code",
   "execution_count": 10,
   "metadata": {},
   "outputs": [],
   "source": [
    "# Load genbank file\n",
    "gb_file = SeqIO.read('../data/NC_000913.3.gb', 'gb')\n",
    "locs = {}\n",
    "for feature in gb_file.features:\n",
    "    # only read in CDSs\n",
    "    if feature.type != 'CDS':\n",
    "        continue\n",
    "\n",
    "    locus_tag = _get_qual(feature, 'locus_tag', True)\n",
    "    locs[locus_tag] = int(feature.location.start)"
   ]
  },
  {
   "cell_type": "code",
   "execution_count": 24,
   "metadata": {},
   "outputs": [],
   "source": [
    "starts = yome.merge(pd.DataFrame({'locus_id': k, 'start': v} for k, v in locs.items()))"
   ]
  },
  {
   "cell_type": "code",
   "execution_count": null,
   "metadata": {},
   "outputs": [],
   "source": [
    "# based on https://stackoverflow.com/questions/28839246/scipy-gaussian-kde-and-circular-data\n",
    "\n",
    "def vonmises_pdf(x, mu, kappa):\n",
    "    return np.exp(kappa * np.cos(x - mu)) / (2. * np.pi * scipy.special.i0(kappa))\n",
    "\n",
    "def vonmises_fft_kde(data, kappa, n_bins):\n",
    "    bins = np.linspace(-np.pi, np.pi, n_bins + 1, endpoint=True)\n",
    "    hist_n, bin_edges = np.histogram(data, bins=bins)\n",
    "    bin_centers = np.mean([bin_edges[1:], bin_edges[:-1]], axis=0)\n",
    "    kernel = vonmises_pdf(\n",
    "        x=bin_centers,\n",
    "        mu=0,\n",
    "        kappa=kappa\n",
    "    )\n",
    "    kde = np.fft.fftshift(np.fft.irfft(np.fft.rfft(kernel) * np.fft.rfft(hist_n)))\n",
    "    kde /= np.trapz(kde, x=bin_centers)\n",
    "    return bin_centers, kde"
   ]
  },
  {
   "cell_type": "code",
   "execution_count": 145,
   "metadata": {},
   "outputs": [
    {
     "data": {
      "image/png": "[encoded data removed]",
      "text/plain": [
       "<matplotlib.figure.Figure at 0x1252dff28>"
      ]
     },
     "metadata": {},
     "output_type": "display_data"
    }
   ],
   "source": [
    "fig, ax = plt.subplots(figsize=(12,3))\n",
    "fig.tight_layout()\n",
    "for ann, label, color in [('high', 'Well-annotated', 'dark blue green'), ('low', 'Y-ome', 'light blue green')]:\n",
    "    data = starts[starts.annotation_quality == ann].loc[:, 'start']\n",
    "    max_val = max(data)\n",
    "    normalized = (data * 2 * np.pi / max_val) - np.pi\n",
    "    bins, kde = vonmises_fft_kde(data=normalized.values, kappa=10, n_bins=100)\n",
    "    final_bins = (bins + np.pi) * max_val / (2 * np.pi) / 1000\n",
    "    ax.plot(final_bins, kde, label=label, color=colors[color])\n",
    "fig.legend(loc='lower center', bbox_to_anchor=(.5, 0.3))\n",
    "# hide top and right axes\n",
    "ax.spines['right'].set_visible(False)\n",
    "ax.spines['top'].set_visible(False)\n",
    "ax.yaxis.set_ticks_position('left')\n",
    "ax.xaxis.set_ticks_position('bottom')\n",
    "ax.yaxis.set_ticklabels([])\n",
    "ax.set_ylim(bottom=0)\n",
    "ax.set_ylabel('Gene density')\n",
    "ax.set_xlabel('Chromosome position (kbp)')\n",
    "fig.savefig('/Users/zaking/lab/y-ome/gene-location.pdf')\n",
    "fig.savefig('/Users/zaking/lab/y-ome/gene-location.png')"
   ]
  },
  {
   "cell_type": "code",
   "execution_count": null,
   "metadata": {},
   "outputs": [],
   "source": []
  }
 ],
 "metadata": {
  "kernelspec": {
   "display_name": "Python 3",
   "language": "python",
   "name": "python3"
  },
  "language_info": {
   "codemirror_mode": {
    "name": "ipython",
    "version": 3
   },
   "file_extension": ".py",
   "mimetype": "text/x-python",
   "name": "python",
   "nbconvert_exporter": "python",
   "pygments_lexer": "ipython3",
   "version": "3.6.3"
  }
 },
 "nbformat": 4,
 "nbformat_minor": 2
}
