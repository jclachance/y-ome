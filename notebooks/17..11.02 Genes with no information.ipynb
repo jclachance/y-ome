{
 "cells": [
  {
   "cell_type": "code",
   "execution_count": 1,
   "metadata": {
    "collapsed": true
   },
   "outputs": [],
   "source": [
    "import json\n",
    "import pandas as pd\n",
    "from yome import Session\n",
    "from yome.models import *\n",
    "from yome.util import to_df\n",
    "import re"
   ]
  },
  {
   "cell_type": "code",
   "execution_count": 2,
   "metadata": {
    "collapsed": true
   },
   "outputs": [],
   "source": [
    "from sqlalchemy import exists\n",
    "from sqlalchemy.orm import aliased"
   ]
  },
  {
   "cell_type": "markdown",
   "metadata": {},
   "source": [
    "# Look for genes that have absolutely no information\n",
    "\n",
    "starting with EcoCyc phrase \"No information about this\""
   ]
  },
  {
   "cell_type": "code",
   "execution_count": 3,
   "metadata": {},
   "outputs": [
    {
     "ename": "FileNotFoundError",
     "evalue": "[Errno 2] No such file or directory: '../ecocyc/results.json'",
     "output_type": "error",
     "traceback": [
      "\u001b[0;31m---------------------------------------------------------------------------\u001b[0m",
      "\u001b[0;31mFileNotFoundError\u001b[0m                         Traceback (most recent call last)",
      "\u001b[0;32m<ipython-input-3-13aefae54ec8>\u001b[0m in \u001b[0;36m<module>\u001b[0;34m()\u001b[0m\n\u001b[0;32m----> 1\u001b[0;31m \u001b[0;32mwith\u001b[0m \u001b[0mopen\u001b[0m\u001b[0;34m(\u001b[0m\u001b[0;34m'../ecocyc/results.json'\u001b[0m\u001b[0;34m)\u001b[0m \u001b[0;32mas\u001b[0m \u001b[0mf\u001b[0m\u001b[0;34m:\u001b[0m\u001b[0;34m\u001b[0m\u001b[0m\n\u001b[0m\u001b[1;32m      2\u001b[0m     \u001b[0mresults\u001b[0m \u001b[0;34m=\u001b[0m \u001b[0mjson\u001b[0m\u001b[0;34m.\u001b[0m\u001b[0mload\u001b[0m\u001b[0;34m(\u001b[0m\u001b[0mf\u001b[0m\u001b[0;34m)\u001b[0m\u001b[0;34m\u001b[0m\u001b[0m\n\u001b[1;32m      3\u001b[0m \u001b[0mdf\u001b[0m \u001b[0;34m=\u001b[0m \u001b[0mpd\u001b[0m\u001b[0;34m.\u001b[0m\u001b[0mDataFrame\u001b[0m\u001b[0;34m(\u001b[0m\u001b[0mresults\u001b[0m\u001b[0;34m)\u001b[0m\u001b[0;34m\u001b[0m\u001b[0m\n",
      "\u001b[0;31mFileNotFoundError\u001b[0m: [Errno 2] No such file or directory: '../ecocyc/results.json'"
     ]
    }
   ],
   "source": [
    "with open('../ecocyc/results.json') as f:\n",
    "    results = json.load(f)\n",
    "df = pd.DataFrame(results)"
   ]
  },
  {
   "cell_type": "code",
   "execution_count": null,
   "metadata": {
    "collapsed": true
   },
   "outputs": [],
   "source": [
    "session = Session()\n",
    "\n",
    "# aliases\n",
    "KnowledgebaseGene2 = aliased(KnowledgebaseGene)\n",
    "Knowledgebase2 = aliased(Knowledgebase)\n",
    "KnowledgebaseFeature2 = aliased(KnowledgebaseFeature)\n",
    "\n",
    "# Genes with no info in EcoCyc\n",
    "no_info = (\n",
    "    session.query(Gene.locus_id.label('gene_locus_id'), \n",
    "                  KnowledgebaseGene.id.label('knowledgebase_gene_id'), \n",
    "                  Knowledgebase, \n",
    "                  KnowledgebaseFeature.feature)\n",
    "    .join(KnowledgebaseGene)\n",
    "    .join(Knowledgebase)\n",
    "    .join(KnowledgebaseFeature)\n",
    "    .filter(Knowledgebase.name == 'EcoCyc')\n",
    "    .filter(KnowledgebaseFeature.feature_type == 'summary_html')\n",
    "    .filter(KnowledgebaseFeature.feature.like('%No information about this%'))\n",
    ")\n",
    "# Make a subquery\n",
    "no_info_sub = no_info.subquery('no_info_sub')\n",
    "\n",
    "# Genes that do not start with y in EcoCyc and have no information\n",
    "no_info_not_start_y = (\n",
    "    no_info.filter(~KnowledgebaseGene.primary_name.like('y%'))\n",
    ")\n",
    "\n",
    "# Genes with no info in EcoCyc that are ranked \"high\" in another db\n",
    "no_info_and_high = (\n",
    "    session.query(Gene.locus_id,\n",
    "                  KnowledgebaseGene.id,\n",
    "                  KnowledgebaseGene2.annotation_quality,\n",
    "                  Knowledgebase2.name)\n",
    "    .filter(Gene.locus_id == no_info_sub.c.gene_locus_id)\n",
    "    .filter(KnowledgebaseGene.id == no_info_sub.c.knowledgebase_gene_id)\n",
    "    .join(KnowledgebaseGene2, KnowledgebaseGene2.gene_id == Gene.id)\n",
    "    .join(Knowledgebase2, Knowledgebase2.id == KnowledgebaseGene2.knowledgebase_id)\n",
    "    .filter(KnowledgebaseGene2.annotation_quality != 'low')\n",
    "    .distinct(KnowledgebaseGene.id)\n",
    ")\n",
    "\n",
    "# Genes with no info in EcoCyc that are not ranked \"high\" in another db\n",
    "no_info_and_not_high = (\n",
    "    no_info\n",
    "    .filter(\n",
    "        ~session.query(KnowledgebaseGene2, Knowledgebase2)\n",
    "        .filter(KnowledgebaseGene2.gene_id == Gene.id)\n",
    "        .join(Knowledgebase2, Knowledgebase2.id == KnowledgebaseGene2.knowledgebase_id)\n",
    "        .filter(KnowledgebaseGene2.annotation_quality != 'low')\n",
    "        .filter(Knowledgebase2.name != 'EcoCyc')\n",
    "        .exists()\n",
    "    )\n",
    ")\n",
    "\n",
    "# Examples of no_info_and_not_high\n",
    "no_info_and_not_high_examples = (\n",
    "    session.query(Gene.locus_id,\n",
    "                  KnowledgebaseGene.id,\n",
    "                  KnowledgebaseGene2.primary_name,\n",
    "                  KnowledgebaseGene2.annotation_quality,\n",
    "                  Knowledgebase2.name,\n",
    "                  KnowledgebaseFeature2.feature)\n",
    "    .filter(Gene.locus_id == no_info_sub.c.gene_locus_id)\n",
    "    .filter(KnowledgebaseGene.id == no_info_sub.c.knowledgebase_gene_id)\n",
    "    .join(KnowledgebaseGene2, KnowledgebaseGene2.gene_id == Gene.id)\n",
    "    .join(Knowledgebase2, Knowledgebase2.id == KnowledgebaseGene2.knowledgebase_id)\n",
    "    .join(KnowledgebaseFeature2, KnowledgebaseFeature2.knowledgebase_gene_id == KnowledgebaseGene2.id)\n",
    "    .filter(KnowledgebaseGene2.annotation_quality == 'low')\n",
    "    .filter(Knowledgebase2.name != 'EcoCyc')\n",
    "    .filter(Knowledgebase2.name != 'Y-ome')\n",
    ")\n",
    "\n",
    "session.close()"
   ]
  },
  {
   "cell_type": "code",
   "execution_count": null,
   "metadata": {},
   "outputs": [],
   "source": [
    "no_info.count(), no_info_not_start_y.count(), no_info_and_high.count(), no_info_and_not_high.count()"
   ]
  },
  {
   "cell_type": "code",
   "execution_count": null,
   "metadata": {
    "collapsed": true
   },
   "outputs": [],
   "source": [
    "df = to_df(no_info_and_not_high_examples, ['locus_id', 'ig1', 'name', 'annotation_quality', 'kbase', 'feature']).drop('ig1', axis=1)"
   ]
  },
  {
   "cell_type": "markdown",
   "metadata": {},
   "source": [
    "## Filter out phrases for other databases"
   ]
  },
  {
   "cell_type": "code",
   "execution_count": null,
   "metadata": {
    "collapsed": true
   },
   "outputs": [],
   "source": [
    "phrases = [\n",
    "    ('EcoGene', r'.* family protein$'),\n",
    "    ('EcoGene', r'.* family\\.?$'),\n",
    "    ('EcoGene', r'Null'),\n",
    "    ('EcoGene', r'Putative enzyme; Not classified'),\n",
    "    ('EcoGene', r'Phenotype; Not classified'),\n",
    "    ('EcoGene', r'Putative factor; Not classified'),\n",
    "    ('EcoGene', r'.*uncharacterized protein.*'),\n",
    "    ('EcoGene', r'.*pseudogene.*'),\n",
    "    ('EcoGene', r'.*function unknown.*'),\n",
    "    ('EcoGene', r'.*Phage or Prophage Related.*'),\n",
    "    ('UniProt', r'^$'),\n",
    "    ('UniProt', r'Chain \\(1\\)'),\n",
    "    ('UniProt', r'^\\d\\.0$'),\n",
    "    ('UniProt', r'^Putative uncharacterized'),\n",
    "    ('UniProt', r'^Putative protein'),\n",
    "    ('UniProt', r'^Uncharacterized protein'),\n",
    "    ('UniProt', r'^Protein .{4}$'),\n",
    "    ('UniProt', r'^UPF\\d{4} Protein .{4}$'),\n",
    "    ('UniProt', r'FUNCTION: Not yet known\\.'),\n",
    "]\n",
    "df_filtered = df\n",
    "for kbase, reg in phrases:\n",
    "    df_filtered = df_filtered[~((df_filtered.kbase == kbase) & df_filtered.feature.str.match(reg, flags=re.IGNORECASE))]"
   ]
  },
  {
   "cell_type": "code",
   "execution_count": null,
   "metadata": {
    "collapsed": true
   },
   "outputs": [],
   "source": [
    "df_filtered.to_csv('no-ecocyc-info-other-db-annotations.tsv', sep='\\t')"
   ]
  },
  {
   "cell_type": "code",
   "execution_count": null,
   "metadata": {
    "collapsed": true
   },
   "outputs": [],
   "source": [
    "# Find no info genes that are not in the filtered list\n",
    "session = Session()\n",
    "no_info_not_in_filtered = (\n",
    "    no_info\n",
    "    .filter(Gene.locus_id.notin_(df_filtered.loc[:, 'locus_id']))\n",
    ")\n",
    "session.close()"
   ]
  },
  {
   "cell_type": "code",
   "execution_count": null,
   "metadata": {
    "collapsed": true
   },
   "outputs": [],
   "source": [
    "# double check numbers add up\n",
    "assert(no_info.count() == no_info_not_in_filtered.count() + len(df_filtered.locus_id.unique()))"
   ]
  },
  {
   "cell_type": "markdown",
   "metadata": {},
   "source": [
    "## These are the genes that really have no hints at all:"
   ]
  },
  {
   "cell_type": "code",
   "execution_count": null,
   "metadata": {},
   "outputs": [],
   "source": [
    "no_info_not_in_filtered.count()"
   ]
  },
  {
   "cell_type": "markdown",
   "metadata": {},
   "source": [
    "## Save a list of these with primary names"
   ]
  },
  {
   "cell_type": "code",
   "execution_count": null,
   "metadata": {
    "collapsed": true
   },
   "outputs": [],
   "source": [
    "session = Session()\n",
    "primary_names = {x[0]: x[1] for x in (\n",
    "    session.query(Gene.locus_id, KnowledgebaseGene.primary_name)\n",
    "    .join(KnowledgebaseGene)\n",
    "    .distinct(Gene.id)\n",
    "    .all()\n",
    ")}\n",
    "session.close()\n",
    "def get_primary_name(b_num):\n",
    "    return primary_names[b_num]"
   ]
  },
  {
   "cell_type": "code",
   "execution_count": null,
   "metadata": {
    "collapsed": true
   },
   "outputs": [],
   "source": [
    "no_info_not_in_filtered_names = to_df(no_info_not_in_filtered, cols=['locus_id'])\n",
    "no_info_not_in_filtered_names.loc[:, 'name'] = no_info_not_in_filtered_names.locus_id.map(get_primary_name)"
   ]
  },
  {
   "cell_type": "code",
   "execution_count": null,
   "metadata": {
    "collapsed": true
   },
   "outputs": [],
   "source": [
    "no_info_not_in_filtered_names.to_csv('no_info_not_in_filtered_names.tsv', sep='\\t')"
   ]
  },
  {
   "cell_type": "code",
   "execution_count": null,
   "metadata": {
    "collapsed": true
   },
   "outputs": [],
   "source": []
  }
 ],
 "metadata": {
  "kernelspec": {
   "display_name": "Python 3",
   "language": "python",
   "name": "python3"
  },
  "language_info": {
   "codemirror_mode": {
    "name": "ipython",
    "version": 3
   },
   "file_extension": ".py",
   "mimetype": "text/x-python",
   "name": "python",
   "nbconvert_exporter": "python",
   "pygments_lexer": "ipython3",
   "version": "3.6.3"
  }
 },
 "nbformat": 4,
 "nbformat_minor": 2
}
