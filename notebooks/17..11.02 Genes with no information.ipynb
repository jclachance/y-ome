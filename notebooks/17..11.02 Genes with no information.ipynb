{
 "cells": [
  {
   "cell_type": "code",
   "execution_count": 70,
   "metadata": {},
   "outputs": [],
   "source": [
    "import json\n",
    "import pandas as pd\n",
    "from yome import Session\n",
    "from yome.models import *\n",
    "from yome.util import to_df, report\n",
    "import re"
   ]
  },
  {
   "cell_type": "code",
   "execution_count": 71,
   "metadata": {
    "collapsed": true
   },
   "outputs": [],
   "source": [
    "from sqlalchemy import exists\n",
    "from sqlalchemy.orm import aliased"
   ]
  },
  {
   "cell_type": "markdown",
   "metadata": {},
   "source": [
    "# Look for genes that have absolutely no information"
   ]
  },
  {
   "cell_type": "code",
   "execution_count": null,
   "metadata": {},
   "outputs": [],
   "source": [
    "session = Session()\n",
    "\n",
    "# aliases\n",
    "KnowledgebaseGene2 = aliased(KnowledgebaseGene)\n",
    "Knowledgebase2 = aliased(Knowledgebase)\n",
    "KnowledgebaseFeature2 = aliased(KnowledgebaseFeature)\n",
    "\n",
    "# Genes with no info in EcoCyc\n",
    "no_info = (\n",
    "    session.query(Gene.locus_id.label('gene_locus_id'), \n",
    "                  KnowledgebaseGene.id.label('knowledgebase_gene_id'), \n",
    "                  Knowledgebase, \n",
    "                  KnowledgebaseFeature.feature)\n",
    "    .join(KnowledgebaseGene)\n",
    "    .join(Knowledgebase)\n",
    "    .join(KnowledgebaseFeature)\n",
    "    .filter(Knowledgebase.name == 'EcoCyc')\n",
    "    .filter(KnowledgebaseFeature.feature_type == 'summary_html')\n",
    "    .filter(KnowledgebaseFeature.feature.like('%No information about this%'))\n",
    ")\n",
    "# Make a subquery\n",
    "no_info_sub = no_info.subquery('no_info_sub')\n",
    "\n",
    "# Genes that do not start with y in EcoCyc and have no information\n",
    "no_info_not_start_y = (\n",
    "    no_info.filter(~KnowledgebaseGene.primary_name.like('y%'))\n",
    ")\n",
    "\n",
    "# Genes with no info in EcoCyc that are not ranked \"high\" in another db\n",
    "no_info_and_not_high = (\n",
    "    no_info\n",
    "    .filter(\n",
    "        ~session.query(KnowledgebaseGene2, Knowledgebase2)\n",
    "        .filter(KnowledgebaseGene2.gene_id == Gene.id)\n",
    "        .join(Knowledgebase2, Knowledgebase2.id == KnowledgebaseGene2.knowledgebase_id)\n",
    "        .filter(KnowledgebaseGene2.annotation_quality == 'high')\n",
    "        .exists()\n",
    "    )\n",
    ")\n",
    "\n",
    "# Genes with no info in EcoCyc that are ranked \"high\" in another db\n",
    "no_info_and_high = (\n",
    "    no_info\n",
    "    .filter(\n",
    "        session.query(KnowledgebaseGene2, Knowledgebase2)\n",
    "        .filter(KnowledgebaseGene2.gene_id == Gene.id)\n",
    "        .join(Knowledgebase2, Knowledgebase2.id == KnowledgebaseGene2.knowledgebase_id)\n",
    "        .filter(KnowledgebaseGene2.annotation_quality == 'high')\n",
    "        .exists()\n",
    "    )\n",
    ")\n",
    "\n",
    "# Examples of no_info_and_not_high\n",
    "no_info_and_not_high_examples = (\n",
    "    session.query(Gene.locus_id,\n",
    "                  KnowledgebaseGene.id,\n",
    "                  KnowledgebaseGene2.primary_name,\n",
    "                  KnowledgebaseGene2.annotation_quality,\n",
    "                  Knowledgebase2.name,\n",
    "                  KnowledgebaseFeature2.feature_type,\n",
    "                  KnowledgebaseFeature2.feature)\n",
    "    .filter(Gene.locus_id == no_info_sub.c.gene_locus_id)\n",
    "    .filter(KnowledgebaseGene.id == no_info_sub.c.knowledgebase_gene_id)\n",
    "    .join(KnowledgebaseGene2, KnowledgebaseGene2.gene_id == Gene.id)\n",
    "    .join(Knowledgebase2, Knowledgebase2.id == KnowledgebaseGene2.knowledgebase_id)\n",
    "    .join(KnowledgebaseFeature2, KnowledgebaseFeature2.knowledgebase_gene_id == KnowledgebaseGene2.id)\n",
    "    .filter(Knowledgebase2.name != 'EcoCyc')\n",
    "    .filter(Knowledgebase2.name != 'Y-ome')\n",
    ")\n",
    "\n",
    "session.close()"
   ]
  },
  {
   "cell_type": "code",
   "execution_count": null,
   "metadata": {},
   "outputs": [],
   "source": [
    "no_info.count(), no_info_not_start_y.count(), no_info_and_not_high.count(), no_info_and_high.count(), no_info_and_not_high_examples.count()"
   ]
  },
  {
   "cell_type": "code",
   "execution_count": null,
   "metadata": {},
   "outputs": [],
   "source": [
    "df = to_df(no_info_and_not_high_examples, ['locus_tag', 'ig1', 'name', 'annotation_quality', 'kbase', 'feature_type', 'feature']).drop('ig1', axis=1)"
   ]
  },
  {
   "cell_type": "code",
   "execution_count": null,
   "metadata": {},
   "outputs": [],
   "source": [
    "df[df.locus_tag == 'b1811']"
   ]
  },
  {
   "cell_type": "markdown",
   "metadata": {},
   "source": [
    "## Filter out phrases for other databases"
   ]
  },
  {
   "cell_type": "code",
   "execution_count": null,
   "metadata": {},
   "outputs": [],
   "source": [
    "# TODO This doesn't capture cases like b1811 EcoGene and UniProt don't even have features to check\n",
    "\n",
    "phrases = [\n",
    "    ('EcoGene', r'.* family protein$'),\n",
    "    ('EcoGene', r'.* family\\.?$'),\n",
    "    ('EcoGene', r'Null'),\n",
    "    ('EcoGene', r'Putative enzyme; Not classified'),\n",
    "    ('EcoGene', r'Phenotype; Not classified'),\n",
    "    ('EcoGene', r'Putative factor; Not classified'),\n",
    "    ('EcoGene', r'.*uncharacterized protein.*'),\n",
    "    ('EcoGene', r'.*pseudogene.*'),\n",
    "    ('EcoGene', r'.*function unknown.*'),\n",
    "    ('EcoGene', r'.*Phage or Prophage Related.*'),\n",
    "    ('EcoGene', r'^t|f$'),\n",
    "    ('EcoGene', r'Orf; Not classified'),\n",
    "    ('UniProt', r'^$'),\n",
    "    ('UniProt', r'Chain \\(1\\)'),\n",
    "    ('UniProt', r'^\\d\\.0$'),\n",
    "    ('UniProt', r'^\\d$'),\n",
    "    ('UniProt', r'^Putative uncharacterized'),\n",
    "    ('UniProt', r'^Putative protein'),\n",
    "    ('UniProt', r'^Uncharacterized protein'),\n",
    "    ('UniProt', r'^Protein .{4}$'),\n",
    "    ('UniProt', r'^UPF\\d{4} Protein .{4}$'),\n",
    "    ('UniProt', r'FUNCTION: Not yet known\\.'),\n",
    "    ('UniProt', r'^t|f$'),\n",
    "    ('RefSeq', r' family protein$'),\n",
    "    ('RefSeq', r'^{}$'),\n",
    "    ('RefSeq', r'^t|f$'),\n",
    "    ('RefSeq', r'uncharacterized protein'),\n",
    "    ('RefSeq', r'putative enzyme; Not classified'),\n",
    "    ('RefSeq', r'putative regulator; Not classified'),\n",
    "    ('RefSeq', r'orf; Not classified'),\n",
    "    ('RefSeq', r'putative factor; Not classified'),\n",
    "]\n",
    "ignore_feature_types = [\n",
    "    ('UniProt', 'upid')\n",
    "]\n",
    "df_filtered = df\n",
    "for kbase, reg in phrases:\n",
    "    df_filtered = df_filtered[~((df_filtered.kbase == kbase) & df_filtered.feature.str.contains(reg, flags=re.IGNORECASE))]\n",
    "for kbase, feature_type in ignore_feature_types:\n",
    "    df_filtered = df_filtered[~((df_filtered.kbase == kbase) & (df_filtered.feature_type == feature_type))]"
   ]
  },
  {
   "cell_type": "code",
   "execution_count": null,
   "metadata": {
    "collapsed": true
   },
   "outputs": [],
   "source": [
    "# df_filtered.to_csv('no-ecocyc-info-other-db-annotations.tsv', sep='\\t')"
   ]
  },
  {
   "cell_type": "code",
   "execution_count": null,
   "metadata": {},
   "outputs": [],
   "source": [
    "# Find no info genes that are not in the filtered list\n",
    "session = Session()\n",
    "no_info_not_in_filtered = (\n",
    "    no_info\n",
    "    .filter(Gene.locus_id.notin_(df_filtered.loc[:, 'locus_tag']))\n",
    ")\n",
    "session.close()"
   ]
  },
  {
   "cell_type": "code",
   "execution_count": null,
   "metadata": {},
   "outputs": [],
   "source": [
    "# double check numbers add up\n",
    "assert(no_info.count() == no_info_not_in_filtered.count() + len(df_filtered.locus_tag.unique()))"
   ]
  },
  {
   "cell_type": "markdown",
   "metadata": {},
   "source": [
    "## These are the genes that really have no hints at all:"
   ]
  },
  {
   "cell_type": "code",
   "execution_count": null,
   "metadata": {},
   "outputs": [],
   "source": [
    "no_info_not_in_filtered.count()"
   ]
  },
  {
   "cell_type": "markdown",
   "metadata": {},
   "source": [
    "## Save a list of these with primary names"
   ]
  },
  {
   "cell_type": "code",
   "execution_count": null,
   "metadata": {
    "collapsed": true
   },
   "outputs": [],
   "source": [
    "session = Session()\n",
    "primary_names = {x[0]: x[1] for x in (\n",
    "    session.query(Gene.locus_id, KnowledgebaseGene.primary_name)\n",
    "    .join(KnowledgebaseGene)\n",
    "    .distinct(Gene.id)\n",
    "    .all()\n",
    ")}\n",
    "session.close()\n",
    "def get_primary_name(b_num):\n",
    "    return primary_names[b_num]"
   ]
  },
  {
   "cell_type": "code",
   "execution_count": null,
   "metadata": {
    "collapsed": true
   },
   "outputs": [],
   "source": [
    "no_info_not_in_filtered_names = to_df(no_info_not_in_filtered, cols=['locus_tag'])\n",
    "no_info_not_in_filtered_names.loc[:, 'name'] = no_info_not_in_filtered_names.locus_tag.map(get_primary_name)"
   ]
  },
  {
   "cell_type": "code",
   "execution_count": null,
   "metadata": {
    "collapsed": true
   },
   "outputs": [],
   "source": [
    "# no_info_not_in_filtered_names.to_csv('no-info-not-in-filtered-names.tsv', sep='\\t')"
   ]
  },
  {
   "cell_type": "code",
   "execution_count": null,
   "metadata": {},
   "outputs": [],
   "source": [
    "no_info_not_in_filtered_names[no_info_not_in_filtered_names.locus_tag == 'b1811']"
   ]
  },
  {
   "cell_type": "code",
   "execution_count": null,
   "metadata": {
    "collapsed": true
   },
   "outputs": [],
   "source": []
  }
 ],
 "metadata": {
  "kernelspec": {
   "display_name": "Python 3",
   "language": "python",
   "name": "python3"
  },
  "language_info": {
   "codemirror_mode": {
    "name": "ipython",
    "version": 3
   },
   "file_extension": ".py",
   "mimetype": "text/x-python",
   "name": "python",
   "nbconvert_exporter": "python",
   "pygments_lexer": "ipython3",
   "version": "3.6.3"
  }
 },
 "nbformat": 4,
 "nbformat_minor": 2
}
